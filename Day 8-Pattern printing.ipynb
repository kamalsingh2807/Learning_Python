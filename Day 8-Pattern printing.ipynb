{
 "cells": [
  {
   "cell_type": "markdown",
   "metadata": {},
   "source": [
    "# Pattern"
   ]
  },
  {
   "cell_type": "code",
   "execution_count": 2,
   "metadata": {},
   "outputs": [
    {
     "name": "stdout",
     "output_type": "stream",
     "text": [
      "* * * * * \n",
      "* * * * * \n",
      "* * * * * \n",
      "* * * * * \n",
      "* * * * * \n"
     ]
    }
   ],
   "source": [
    "#ex1: \n",
    "\n",
    "for i in range(1,6):\n",
    "    for j in range(1,6):\n",
    "        print('*',end=' ')\n",
    "    print()"
   ]
  },
  {
   "cell_type": "code",
   "execution_count": 3,
   "metadata": {},
   "outputs": [
    {
     "name": "stdout",
     "output_type": "stream",
     "text": [
      "1 1 1 1 1 \n",
      "2 2 2 2 2 \n",
      "3 3 3 3 3 \n",
      "4 4 4 4 4 \n",
      "5 5 5 5 5 \n"
     ]
    }
   ],
   "source": [
    "#ex2:\n",
    "\n",
    "for i in range(1,6):\n",
    "    for j in range(1,6):\n",
    "        print(i,end=' ')\n",
    "    print()"
   ]
  },
  {
   "cell_type": "code",
   "execution_count": 4,
   "metadata": {},
   "outputs": [
    {
     "name": "stdout",
     "output_type": "stream",
     "text": [
      "1 2 3 4 5 \n",
      "1 2 3 4 5 \n",
      "1 2 3 4 5 \n",
      "1 2 3 4 5 \n",
      "1 2 3 4 5 \n"
     ]
    }
   ],
   "source": [
    "#ex3: \n",
    "\n",
    "for i in range(1,6):\n",
    "    for j in range(1,6):\n",
    "        print(j,end=' ')\n",
    "    print()"
   ]
  },
  {
   "cell_type": "code",
   "execution_count": 22,
   "metadata": {},
   "outputs": [
    {
     "name": "stdout",
     "output_type": "stream",
     "text": [
      "A A A A A \n",
      "B B B B B \n",
      "C C C C C \n",
      "D D D D D \n",
      "E E E E E \n",
      "\n",
      "A A A A A \n",
      "B B B B B \n",
      "C C C C C \n",
      "D D D D D \n",
      "E E E E E \n"
     ]
    }
   ],
   "source": [
    "#ex 4\n",
    "\n",
    "lst=['A','B','C','D','E']\n",
    "for i in lst:\n",
    "    for j in lst:\n",
    "        print(i,end=' ')\n",
    "    print()\n",
    "\n",
    "    \n",
    "print()\n",
    "#another way\n",
    "\n",
    "for i in range(65,70):\n",
    "    for j in range(65,70):\n",
    "        print(chr(i),end=' ')\n",
    "    print()"
   ]
  },
  {
   "cell_type": "code",
   "execution_count": 6,
   "metadata": {},
   "outputs": [
    {
     "name": "stdout",
     "output_type": "stream",
     "text": [
      "A B C D E \n",
      "A B C D E \n",
      "A B C D E \n",
      "A B C D E \n",
      "A B C D E \n"
     ]
    }
   ],
   "source": [
    "#ex 5\n",
    "\n",
    "lst=['A','B','C','D','E']\n",
    "for i in lst:\n",
    "    for j in lst:\n",
    "        print(j,end=' ')\n",
    "    print()"
   ]
  },
  {
   "cell_type": "code",
   "execution_count": 7,
   "metadata": {},
   "outputs": [
    {
     "name": "stdout",
     "output_type": "stream",
     "text": [
      "5 5 5 5 5 \n",
      "4 4 4 4 4 \n",
      "3 3 3 3 3 \n",
      "2 2 2 2 2 \n",
      "1 1 1 1 1 \n"
     ]
    }
   ],
   "source": [
    "#ex6: \n",
    "\n",
    "for i in range(5,0,-1):\n",
    "    for j in range(1,6):\n",
    "        print(i,end=' ')\n",
    "    print()\n",
    "        "
   ]
  },
  {
   "cell_type": "code",
   "execution_count": 8,
   "metadata": {},
   "outputs": [
    {
     "name": "stdout",
     "output_type": "stream",
     "text": [
      "1 2 3 4 5 \n",
      "1 2 3 4 5 \n",
      "1 2 3 4 5 \n",
      "1 2 3 4 5 \n",
      "1 2 3 4 5 \n"
     ]
    }
   ],
   "source": [
    "#ex7: \n",
    "\n",
    "for i in range(5,0,-1):\n",
    "    for j in range(1,6):\n",
    "        print(j,end=' ')\n",
    "    print()\n",
    "        "
   ]
  },
  {
   "cell_type": "code",
   "execution_count": 9,
   "metadata": {},
   "outputs": [
    {
     "name": "stdout",
     "output_type": "stream",
     "text": [
      "E E E E E \n",
      "D D D D D \n",
      "C C C C C \n",
      "B B B B B \n",
      "A A A A A \n"
     ]
    }
   ],
   "source": [
    "#ex8: \n",
    "\n",
    "lst=['E','D','C','B','A']\n",
    "for i in lst:\n",
    "    for j in lst:\n",
    "        print(i,end=' ')\n",
    "    print()"
   ]
  },
  {
   "cell_type": "code",
   "execution_count": 11,
   "metadata": {},
   "outputs": [
    {
     "name": "stdout",
     "output_type": "stream",
     "text": [
      "E D C B A \n",
      "E D C B A \n",
      "E D C B A \n",
      "E D C B A \n",
      "E D C B A \n"
     ]
    }
   ],
   "source": [
    "#ex9: \n",
    "\n",
    "lst=['E','D','C','B','A']\n",
    "for i in lst:\n",
    "    for j in lst:\n",
    "        print(j,end=' ')\n",
    "    print()"
   ]
  },
  {
   "cell_type": "code",
   "execution_count": 12,
   "metadata": {},
   "outputs": [
    {
     "name": "stdout",
     "output_type": "stream",
     "text": [
      "* \n",
      "* * \n",
      "* * * \n",
      "* * * * \n",
      "* * * * * \n"
     ]
    }
   ],
   "source": [
    "#ex10: \n",
    "\n",
    "for i in range(1,6):\n",
    "    for j in range(1,i+1):\n",
    "        print('*',end=' ')\n",
    "    print()"
   ]
  },
  {
   "cell_type": "code",
   "execution_count": 13,
   "metadata": {},
   "outputs": [
    {
     "name": "stdout",
     "output_type": "stream",
     "text": [
      "1 \n",
      "2 2 \n",
      "3 3 3 \n",
      "4 4 4 4 \n",
      "5 5 5 5 5 \n"
     ]
    }
   ],
   "source": [
    "#ex11: \n",
    "\n",
    "for i in range(1,6):\n",
    "    for j in range(1,i+1):\n",
    "        print(i,end=' ')\n",
    "    print()"
   ]
  },
  {
   "cell_type": "code",
   "execution_count": 14,
   "metadata": {},
   "outputs": [
    {
     "name": "stdout",
     "output_type": "stream",
     "text": [
      "1 \n",
      "1 2 \n",
      "1 2 3 \n",
      "1 2 3 4 \n",
      "1 2 3 4 5 \n"
     ]
    }
   ],
   "source": [
    "#ex12:\n",
    "\n",
    "for i in range(1,6):\n",
    "    for j in range(1,i+1):\n",
    "        print(j,end=' ')\n",
    "    print()"
   ]
  },
  {
   "cell_type": "code",
   "execution_count": 20,
   "metadata": {},
   "outputs": [
    {
     "name": "stdout",
     "output_type": "stream",
     "text": [
      "A \n",
      "B B \n",
      "C C C \n",
      "D D D D \n",
      "E E E E E \n",
      "A \n",
      "B B \n",
      "C C C \n",
      "D D D D \n",
      "E E E E E \n"
     ]
    }
   ],
   "source": [
    "#ex13\n",
    "\n",
    "lst=['A','B','C','D','E']\n",
    "for i in lst:\n",
    "    for j in range(1,lst.index(i)+2):\n",
    "        print(i,end=' ')\n",
    "    print()\n",
    "    \n",
    "#another way: \n",
    "\n",
    "for i in range(65,70):\n",
    "    for j in range(65,i+1):\n",
    "        print(chr(i),end=' ')\n",
    "    print()"
   ]
  },
  {
   "cell_type": "code",
   "execution_count": 23,
   "metadata": {},
   "outputs": [
    {
     "name": "stdout",
     "output_type": "stream",
     "text": [
      "A \n",
      "A B \n",
      "A B C \n",
      "A B C D \n",
      "A B C D E \n"
     ]
    }
   ],
   "source": [
    "#ex14 : \n",
    "\n",
    "for i in range(65,70):\n",
    "    for j in range(65,i+1):\n",
    "        print(chr(j),end=' ')\n",
    "    print()"
   ]
  },
  {
   "cell_type": "code",
   "execution_count": 27,
   "metadata": {},
   "outputs": [
    {
     "name": "stdout",
     "output_type": "stream",
     "text": [
      "* * * * * \n",
      "* * * * \n",
      "* * * \n",
      "* * \n",
      "* \n"
     ]
    }
   ],
   "source": [
    "#ex15 :\n",
    "\n",
    "for i in range(1,6):\n",
    "    for j in range(6,i,-1): #try to use the previous loop variable in an efficient way\n",
    "        print('*',end=' ')\n",
    "    print()"
   ]
  },
  {
   "cell_type": "code",
   "execution_count": 28,
   "metadata": {},
   "outputs": [
    {
     "name": "stdout",
     "output_type": "stream",
     "text": [
      "1 1 1 1 1 \n",
      "2 2 2 2 \n",
      "3 3 3 \n",
      "4 4 \n",
      "5 \n"
     ]
    }
   ],
   "source": [
    "#ex16: \n",
    "\n",
    "for i in range(1,6):\n",
    "    for j in range(6,i,-1):\n",
    "        print(i,end=' ')\n",
    "    print()"
   ]
  },
  {
   "cell_type": "code",
   "execution_count": 31,
   "metadata": {},
   "outputs": [
    {
     "name": "stdout",
     "output_type": "stream",
     "text": [
      "1 2 3 4 5 \n",
      "1 2 3 4 \n",
      "1 2 3 \n",
      "1 2 \n",
      "1 \n"
     ]
    }
   ],
   "source": [
    "#ex17:\n",
    "\n",
    "for i in range(6,1,-1):\n",
    "    for j in range(1,i):\n",
    "        print(j,end=' ')\n",
    "    print()"
   ]
  },
  {
   "cell_type": "code",
   "execution_count": 30,
   "metadata": {},
   "outputs": [
    {
     "name": "stdout",
     "output_type": "stream",
     "text": [
      "5 4 3 2 1 \n",
      "5 4 3 2 \n",
      "5 4 3 \n",
      "5 4 \n",
      "5 \n"
     ]
    }
   ],
   "source": [
    "#ex18: \n",
    "\n",
    "for i in range(1,6):\n",
    "    for j in range(5,i-1,-1):\n",
    "        print(j,end=' ')\n",
    "    print()"
   ]
  },
  {
   "cell_type": "code",
   "execution_count": 32,
   "metadata": {},
   "outputs": [
    {
     "name": "stdout",
     "output_type": "stream",
     "text": [
      "A A A A A \n",
      "B B B B \n",
      "C C C \n",
      "D D \n",
      "E \n"
     ]
    }
   ],
   "source": [
    "#ex19: \n",
    "\n",
    "for i in range(65,70):\n",
    "    for j in range(70,i,-1):\n",
    "        print(chr(i),end=' ')\n",
    "    print()"
   ]
  },
  {
   "cell_type": "code",
   "execution_count": 34,
   "metadata": {},
   "outputs": [
    {
     "name": "stdout",
     "output_type": "stream",
     "text": [
      "A B C D E \n",
      "A B C D \n",
      "A B C \n",
      "A B \n",
      "A \n"
     ]
    }
   ],
   "source": [
    "#ex20:\n",
    "\n",
    "for i in range(70,65,-1):\n",
    "    for j in range(65,i):\n",
    "        print(chr(j),end=' ')\n",
    "    print()"
   ]
  },
  {
   "cell_type": "code",
   "execution_count": 36,
   "metadata": {},
   "outputs": [
    {
     "name": "stdout",
     "output_type": "stream",
     "text": [
      "E D C B A \n",
      "E D C B \n",
      "E D C \n",
      "E D \n",
      "E \n"
     ]
    }
   ],
   "source": [
    "#ex21: \n",
    "\n",
    "for i in range(65,70):\n",
    "    for j in range(69,i-1,-1):\n",
    "        print(chr(j),end=' ')\n",
    "    print()"
   ]
  },
  {
   "cell_type": "code",
   "execution_count": 40,
   "metadata": {},
   "outputs": [
    {
     "name": "stdout",
     "output_type": "stream",
     "text": [
      "5 5 5 5 5 \n",
      "4 4 4 4 \n",
      "3 3 3 \n",
      "2 2 \n",
      "1 \n"
     ]
    }
   ],
   "source": [
    "#ex22: \n",
    "\n",
    "for i in range(5,0,-1):\n",
    "    for j in range(0,i):\n",
    "        print(i,end=' ')\n",
    "    print()"
   ]
  },
  {
   "cell_type": "code",
   "execution_count": 41,
   "metadata": {},
   "outputs": [
    {
     "name": "stdout",
     "output_type": "stream",
     "text": [
      "5 4 3 2 1 \n",
      "5 4 3 2 \n",
      "5 4 3 \n",
      "5 4 \n",
      "5 \n"
     ]
    }
   ],
   "source": [
    "#ex23: \n",
    "\n",
    "for i in range(1,6):\n",
    "    for j in range(5,i-1,-1):\n",
    "        print(j,end=' ')\n",
    "    print()"
   ]
  },
  {
   "cell_type": "code",
   "execution_count": 48,
   "metadata": {},
   "outputs": [
    {
     "name": "stdout",
     "output_type": "stream",
     "text": [
      "E E E E E \n",
      "D D D D \n",
      "C C C \n",
      "B B \n",
      "A \n"
     ]
    }
   ],
   "source": [
    "#ex24: \n",
    "\n",
    "for i in range(69,64,-1):\n",
    "    for j in range(64,i):\n",
    "        print(chr(i),end=' ')\n",
    "    print()"
   ]
  },
  {
   "cell_type": "code",
   "execution_count": 49,
   "metadata": {},
   "outputs": [
    {
     "name": "stdout",
     "output_type": "stream",
     "text": [
      "E D C B A \n",
      "E D C B \n",
      "E D C \n",
      "E D \n",
      "E \n"
     ]
    }
   ],
   "source": [
    "#ex25 :\n",
    "\n",
    "for i in range(65,70):\n",
    "    for j in range(69,i-1,-1): \n",
    "        print(chr(j),end=' ')\n",
    "    print()"
   ]
  },
  {
   "cell_type": "code",
   "execution_count": 53,
   "metadata": {},
   "outputs": [
    {
     "name": "stdout",
     "output_type": "stream",
     "text": [
      "        * \n",
      "      * * \n",
      "    * * * \n",
      "  * * * * \n",
      "* * * * * \n"
     ]
    }
   ],
   "source": [
    "#ex26: \n",
    "\n",
    "for i in range(1,6):\n",
    "    for j in range(5,0,-1):\n",
    "        if i>=j:\n",
    "            print('*',end=' ')\n",
    "        else:\n",
    "            print(' ',end=' ')\n",
    "    print()"
   ]
  },
  {
   "cell_type": "code",
   "execution_count": 54,
   "metadata": {},
   "outputs": [
    {
     "name": "stdout",
     "output_type": "stream",
     "text": [
      "        1 \n",
      "      2 2 \n",
      "    3 3 3 \n",
      "  4 4 4 4 \n",
      "5 5 5 5 5 \n"
     ]
    }
   ],
   "source": [
    "#ex27: \n",
    "\n",
    "for i in range(1,6):\n",
    "    for j in range(5,0,-1):\n",
    "        if i>=j:\n",
    "            print(i,end=' ')\n",
    "        else:\n",
    "            print(' ',end=' ')\n",
    "    print()"
   ]
  },
  {
   "cell_type": "code",
   "execution_count": 55,
   "metadata": {},
   "outputs": [
    {
     "name": "stdout",
     "output_type": "stream",
     "text": [
      "        1 \n",
      "      2 1 \n",
      "    3 2 1 \n",
      "  4 3 2 1 \n",
      "5 4 3 2 1 \n"
     ]
    }
   ],
   "source": [
    "#ex-28: \n",
    "\n",
    "for i in range(1,6):\n",
    "    for j in range(5,0,-1):\n",
    "        if i>=j:\n",
    "            print(j,end=' ')\n",
    "        else:\n",
    "            print(' ',end=' ')\n",
    "    print()"
   ]
  },
  {
   "cell_type": "code",
   "execution_count": 64,
   "metadata": {},
   "outputs": [
    {
     "name": "stdout",
     "output_type": "stream",
     "text": [
      "        1 \n",
      "      1 2 \n",
      "    1 2 3 \n",
      "  1 2 3 4 \n",
      "1 2 3 4 5 \n"
     ]
    }
   ],
   "source": [
    "#ex-29\n",
    "\n",
    "for i in range(1,6):\n",
    "    for j in range(5,0,-1):\n",
    "        if i>=j:\n",
    "            print((i-j)+1,end=' ')\n",
    "        else:\n",
    "            print(' ',end=' ')\n",
    "    print()"
   ]
  },
  {
   "cell_type": "code",
   "execution_count": 65,
   "metadata": {},
   "outputs": [
    {
     "name": "stdout",
     "output_type": "stream",
     "text": [
      "        A \n",
      "      B B \n",
      "    C C C \n",
      "  D D D D \n",
      "E E E E E \n"
     ]
    }
   ],
   "source": [
    "#ex30: \n",
    "\n",
    "for i in range(65,70):\n",
    "    for j in range(69,64,-1):\n",
    "        if i>=j:\n",
    "            print(chr(i),end=' ')\n",
    "        else:\n",
    "            print(chr(32),end=' ')\n",
    "    print()"
   ]
  },
  {
   "cell_type": "code",
   "execution_count": 66,
   "metadata": {},
   "outputs": [
    {
     "name": "stdout",
     "output_type": "stream",
     "text": [
      "        A \n",
      "      B A \n",
      "    C B A \n",
      "  D C B A \n",
      "E D C B A \n"
     ]
    }
   ],
   "source": [
    "#ex31: \n",
    "\n",
    "for i in range(65,70):\n",
    "    for j in range(69,64,-1):\n",
    "        if i>=j:\n",
    "            print(chr(j),end=' ')\n",
    "        else:\n",
    "            print(chr(32),end=' ')\n",
    "    print()"
   ]
  },
  {
   "cell_type": "code",
   "execution_count": 72,
   "metadata": {},
   "outputs": [
    {
     "name": "stdout",
     "output_type": "stream",
     "text": [
      "        A \n",
      "      A B \n",
      "    A B C \n",
      "  A B C D \n",
      "A B C D E \n"
     ]
    }
   ],
   "source": [
    "#ex32: \n",
    "\n",
    "for i in range(65,70):\n",
    "    for j in range(69,64,-1):\n",
    "        if i>=j:\n",
    "            ch=i-j+65\n",
    "            print(chr(ch),end=' ')\n",
    "        else:\n",
    "            print(chr(32),end=' ')\n",
    "    print()"
   ]
  },
  {
   "cell_type": "code",
   "execution_count": 3,
   "metadata": {},
   "outputs": [
    {
     "name": "stdout",
     "output_type": "stream",
     "text": [
      "* * * * * \n",
      "  * * * * \n",
      "    * * * \n",
      "      * * \n",
      "        * \n"
     ]
    }
   ],
   "source": [
    "#ex33: \n",
    "\n",
    "for i in range(1,6):\n",
    "    for j in range(1,6):\n",
    "        if i<=j:\n",
    "            print('*',end=' ')\n",
    "        else:\n",
    "            print(' ',end=' ')\n",
    "    print()"
   ]
  },
  {
   "cell_type": "code",
   "execution_count": 8,
   "metadata": {},
   "outputs": [
    {
     "name": "stdout",
     "output_type": "stream",
     "text": [
      "5 5 5 5 5 \n",
      "  4 4 4 4 \n",
      "    3 3 3 \n",
      "      2 2 \n",
      "        1 \n"
     ]
    }
   ],
   "source": [
    "#ex34: \n",
    "\n",
    "for i in range(5,0,-1):\n",
    "    for j in range(5,0,-1):\n",
    "        if i>=j:\n",
    "            print(i,end=' ')\n",
    "        else:\n",
    "            print(' ',end=' ')\n",
    "    print()"
   ]
  },
  {
   "cell_type": "code",
   "execution_count": 9,
   "metadata": {},
   "outputs": [
    {
     "name": "stdout",
     "output_type": "stream",
     "text": [
      "1 2 3 4 5 \n",
      "  2 3 4 5 \n",
      "    3 4 5 \n",
      "      4 5 \n",
      "        5 \n"
     ]
    }
   ],
   "source": [
    "#ex35: \n",
    "\n",
    "for i in range(1,6):\n",
    "    for j in range(1,6):\n",
    "        if i<=j:\n",
    "            print(j,end=' ')\n",
    "        else:\n",
    "            print(' ',end=' ')\n",
    "    print()"
   ]
  },
  {
   "cell_type": "code",
   "execution_count": 11,
   "metadata": {},
   "outputs": [
    {
     "name": "stdout",
     "output_type": "stream",
     "text": [
      "E E E E E \n",
      "  D D D D \n",
      "    C C C \n",
      "      B B \n",
      "        A \n"
     ]
    }
   ],
   "source": [
    "#ex36: \n",
    "\n",
    "for i in range(69,64,-1):\n",
    "    for j in range(69,64,-1):\n",
    "        if i>=j:\n",
    "            print(chr(i),end=' ')\n",
    "        else:\n",
    "            print(chr(32),end=' ')\n",
    "    print()"
   ]
  },
  {
   "cell_type": "code",
   "execution_count": 13,
   "metadata": {},
   "outputs": [
    {
     "name": "stdout",
     "output_type": "stream",
     "text": [
      "A B C D E \n",
      "  B C D E \n",
      "    C D E \n",
      "      D E \n",
      "        E \n"
     ]
    }
   ],
   "source": [
    "#ex37: \n",
    "\n",
    "for i in range(65,70):\n",
    "    for j in range(65,70):\n",
    "        if i<=j:\n",
    "            print(chr(j),end=' ')\n",
    "        else:\n",
    "            print(' ',end=' ')\n",
    "    print()"
   ]
  },
  {
   "cell_type": "code",
   "execution_count": 14,
   "metadata": {},
   "outputs": [
    {
     "name": "stdout",
     "output_type": "stream",
     "text": [
      "        *       \n",
      "      * * *         \n",
      "    * * * * *           \n",
      "  * * * * * * *             \n",
      "* * * * * * * * *               \n",
      "        * \n",
      "      * * * \n",
      "    * * * * * \n",
      "  * * * * * * * \n",
      "* * * * * * * * * \n"
     ]
    }
   ],
   "source": [
    "#ex38: \n",
    "                                \n",
    "for i in range(0,5): \n",
    "    for j in range(4,-4,-1):\n",
    "        if (i==j):\n",
    "            for k in range(i,(-i-1),-1):\n",
    "                print('*',end=' ')\n",
    "        else:\n",
    "            print(' ',end=' ')\n",
    "    print()\n",
    "    \n",
    "    \n",
    "#another way: using concept of space printing and asterik printng\n",
    "\n",
    "count=1\n",
    "for i in range(1,6):\n",
    "    for j in range(5,i,-1):\n",
    "        print(' ',end=' ')\n",
    "    for k in range(1,count+1):\n",
    "        print('*',end=' ')\n",
    "    count+=2\n",
    "    print()\n"
   ]
  },
  {
   "cell_type": "code",
   "execution_count": 15,
   "metadata": {},
   "outputs": [
    {
     "name": "stdout",
     "output_type": "stream",
     "text": [
      "enter number of rows: 5\n",
      "        *       \n",
      "      * * *         \n",
      "    * * * * *           \n",
      "  * * * * * * *             \n",
      "* * * * * * * * *               \n",
      "enter number of rows: 6\n",
      "          * \n",
      "        * * * \n",
      "      * * * * * \n",
      "    * * * * * * * \n",
      "  * * * * * * * * * \n",
      "* * * * * * * * * * * \n"
     ]
    }
   ],
   "source": [
    "#above program in general way: \n",
    "\n",
    "n=int(input(\"enter number of rows: \"))\n",
    "for i in range(0,n):\n",
    "    for j in range(n-1,-(n-1),-1):\n",
    "        if i==j:\n",
    "            for k in range(i,-(i+1),-1):\n",
    "                print('*',end=' ')\n",
    "        else:\n",
    "            print(' ',end=' ')\n",
    "    print()\n",
    "    \n",
    "    \n",
    "#another way: \n",
    "\n",
    "n=int(input(\"enter number of rows: \"))\n",
    "count=1\n",
    "for i in range(1,n+1):\n",
    "    for j in range(n,i,-1):\n",
    "        print(' ',end=' ')\n",
    "    for k in range(1,count+1):\n",
    "        print('*',end=' ')\n",
    "    count+=2\n",
    "    print()\n"
   ]
  },
  {
   "cell_type": "code",
   "execution_count": 23,
   "metadata": {},
   "outputs": [
    {
     "name": "stdout",
     "output_type": "stream",
     "text": [
      "        1 \n",
      "      2 2 2 \n",
      "    3 3 3 3 3 \n",
      "  4 4 4 4 4 4 4 \n",
      "5 5 5 5 5 5 5 5 5 \n"
     ]
    }
   ],
   "source": [
    "#ex39:\n",
    "\n",
    "count=1\n",
    "for i in range(1,6):\n",
    "    for j in range(5,i,-1):\n",
    "        print(' ',end=' ')\n",
    "    for k in range(1,count+1):\n",
    "        print(i,end=' ')\n",
    "    count+=2\n",
    "    print()"
   ]
  },
  {
   "cell_type": "code",
   "execution_count": 22,
   "metadata": {},
   "outputs": [
    {
     "name": "stdout",
     "output_type": "stream",
     "text": [
      "        1 \n",
      "      3 3 3 \n",
      "    5 5 5 5 5 \n",
      "  7 7 7 7 7 7 7 \n",
      "9 9 9 9 9 9 9 9 9 \n"
     ]
    }
   ],
   "source": [
    "#ex 40: \n",
    "\n",
    "count=1\n",
    "for i in range(1,6):\n",
    "    for j in range(5,i,-1):\n",
    "        print(' ',end=' ')\n",
    "    for k in range(1,count+1):\n",
    "        print(count,end=' ')\n",
    "    count+=2\n",
    "    print()"
   ]
  },
  {
   "cell_type": "code",
   "execution_count": 24,
   "metadata": {},
   "outputs": [
    {
     "name": "stdout",
     "output_type": "stream",
     "text": [
      "        A \n",
      "      B B B \n",
      "    C C C C C \n",
      "  D D D D D D D \n",
      "E E E E E E E E E \n"
     ]
    }
   ],
   "source": [
    "#41: \n",
    "\n",
    "count=1\n",
    "for i in range(65,70):\n",
    "    for j in range(69,i,-1):\n",
    "        print(chr(32),end=' ')\n",
    "    for k in range(1,count+1):\n",
    "        print(chr(i),end=' ')\n",
    "    count+=2\n",
    "    print()"
   ]
  },
  {
   "cell_type": "code",
   "execution_count": 30,
   "metadata": {},
   "outputs": [
    {
     "name": "stdout",
     "output_type": "stream",
     "text": [
      "        A \n",
      "      C C C \n",
      "    E E E E E \n",
      "  G G G G G G G \n",
      "I I I I I I I I I \n"
     ]
    }
   ],
   "source": [
    "#42: \n",
    "\n",
    "count=1\n",
    "for i in range(63,72,2):\n",
    "    for j in range(71,i,-2):\n",
    "        print(chr(32),end=' ')\n",
    "    for k in range(1,count+1):\n",
    "        print(chr(i+2),end=' ')\n",
    "    count+=2\n",
    "    print()"
   ]
  },
  {
   "cell_type": "code",
   "execution_count": 34,
   "metadata": {},
   "outputs": [
    {
     "name": "stdout",
     "output_type": "stream",
     "text": [
      "        1 \n",
      "      1 2 3 \n",
      "    1 2 3 4 5 \n",
      "  1 2 3 4 5 6 7 \n",
      "1 2 3 4 5 6 7 8 9 \n"
     ]
    }
   ],
   "source": [
    "#ex43: \n",
    "count=1\n",
    "for i in range(1,6):\n",
    "    for j in range(5,i,-1):\n",
    "        print(' ',end=' ')\n",
    "    for k in range(1,count+1):\n",
    "        print(k,end=' ')\n",
    "    count+=2\n",
    "    print()\n",
    "    "
   ]
  },
  {
   "cell_type": "code",
   "execution_count": 38,
   "metadata": {},
   "outputs": [
    {
     "name": "stdout",
     "output_type": "stream",
     "text": [
      "        1 \n",
      "      3 2 1 \n",
      "    5 4 3 2 1 \n",
      "  7 6 5 4 3 2 1 \n",
      "9 8 7 6 5 4 3 2 1 \n"
     ]
    }
   ],
   "source": [
    "#ex44 : \n",
    "\n",
    "count=1\n",
    "for i in range(1,6):\n",
    "    for j in range(5,i,-1):\n",
    "        print(' ',end=' ')\n",
    "    for k in range(count,0,-1):\n",
    "        print(k,end=' ')\n",
    "    count+=2\n",
    "    print()"
   ]
  },
  {
   "cell_type": "code",
   "execution_count": 43,
   "metadata": {},
   "outputs": [
    {
     "name": "stdout",
     "output_type": "stream",
     "text": [
      "        A \n",
      "      A B C \n",
      "    A B C D E \n",
      "  A B C D E F G \n",
      "A B C D E F G H I \n"
     ]
    }
   ],
   "source": [
    "#ex45 :\n",
    "\n",
    "count=65\n",
    "for i in range(65,70):\n",
    "    for j in range(69,i,-1):\n",
    "        print(' ',end=' ')\n",
    "    for k in range(65,count+1):\n",
    "        print(chr(k),end=' ')\n",
    "    count+=2\n",
    "    print()"
   ]
  },
  {
   "cell_type": "code",
   "execution_count": 45,
   "metadata": {},
   "outputs": [
    {
     "name": "stdout",
     "output_type": "stream",
     "text": [
      "        A \n",
      "      C B A \n",
      "    E D C B A \n",
      "  G F E D C B A \n",
      "I H G F E D C B A \n"
     ]
    }
   ],
   "source": [
    "#ex46 :\n",
    "\n",
    "count=65\n",
    "for i in range(65,70):\n",
    "    for j in range(69,i,-1):\n",
    "        print(' ',end=' ')\n",
    "    for k in range(count,64,-1):\n",
    "        print(chr(k),end=' ')\n",
    "    count+=2\n",
    "    print()"
   ]
  },
  {
   "cell_type": "code",
   "execution_count": 47,
   "metadata": {},
   "outputs": [
    {
     "name": "stdout",
     "output_type": "stream",
     "text": [
      "          0 \n",
      "        1 0 1 \n",
      "      2 1 0 1 2 \n",
      "    3 2 1 0 1 2 3 \n",
      "  4 3 2 1 0 1 2 3 4 \n"
     ]
    }
   ],
   "source": [
    "#ex47 :\n",
    "\n",
    "count=1\n",
    "for i in range(0,5):\n",
    "    for j in range(5,i,-1):\n",
    "        print(' ',end=' ')\n",
    "    for k in range(-i,i+1):\n",
    "        print(abs(k),end=' ')\n",
    "    count+=2\n",
    "    print()"
   ]
  },
  {
   "cell_type": "code",
   "execution_count": 10,
   "metadata": {},
   "outputs": [
    {
     "name": "stdout",
     "output_type": "stream",
     "text": [
      "        A \n",
      "      B A B \n",
      "    C B A B C \n",
      "  D C B A B C D \n",
      "E D C B A B C D E \n"
     ]
    }
   ],
   "source": [
    "#ex48 :\n",
    "\n",
    "count=65\n",
    "for i in range(65,70):\n",
    "    for j in range(69,i,-1):\n",
    "        print(' ',end=' ')\n",
    "    for k in range(-i+65,(i+1)-65):\n",
    "        print(chr(abs(k)+65),end=' ')\n",
    "    count+=2\n",
    "    print()\n",
    "        "
   ]
  },
  {
   "cell_type": "code",
   "execution_count": 1,
   "metadata": {},
   "outputs": [
    {
     "name": "stdout",
     "output_type": "stream",
     "text": [
      "      1 \n",
      "    1 2 1 \n",
      "  1 2 3 2 1 \n",
      "1 2 3 4 3 2 1 \n"
     ]
    }
   ],
   "source": [
    "#ex49 :\n",
    "\n",
    "for i in range(1,5):\n",
    "    for j in range(4,i,-1):\n",
    "        print(' ',end=' ')\n",
    "    for k in range(-(i-1),i):\n",
    "        print(i-abs(k),end=' ')\n",
    "    print()"
   ]
  },
  {
   "cell_type": "code",
   "execution_count": 4,
   "metadata": {},
   "outputs": [
    {
     "name": "stdout",
     "output_type": "stream",
     "text": [
      "        A \n",
      "      A B A \n",
      "    A B C B A \n",
      "  A B C D C B A \n",
      "A B C D E D C B A \n"
     ]
    }
   ],
   "source": [
    "#ex50\n",
    "\n",
    "for i in range(1,6):\n",
    "    for j in range(5,i,-1):\n",
    "        print(' ',end=' ')\n",
    "    for k in range(-(i-1),i):\n",
    "        ch=i-abs(k)+64\n",
    "        print(chr(ch),end=' ')\n",
    "    print()"
   ]
  },
  {
   "cell_type": "code",
   "execution_count": 10,
   "metadata": {},
   "outputs": [
    {
     "name": "stdout",
     "output_type": "stream",
     "text": [
      "* * * * * * * \n",
      "  * * * * * \n",
      "    * * * \n",
      "      * \n"
     ]
    }
   ],
   "source": [
    "#ex51\n",
    "\n",
    "count=7\n",
    "for i in range(1,5):\n",
    "    for j in range(i-1):\n",
    "        print(' ',end=' ')\n",
    "    for k in range(0,count):\n",
    "        print('*',end=' ')\n",
    "    count-=2\n",
    "    print()"
   ]
  },
  {
   "cell_type": "code",
   "execution_count": 16,
   "metadata": {},
   "outputs": [
    {
     "name": "stdout",
     "output_type": "stream",
     "text": [
      "4 4 4 4 4 4 4 \n",
      "  3 3 3 3 3 \n",
      "    2 2 2 \n",
      "      1 \n"
     ]
    }
   ],
   "source": [
    "#ex52\n",
    "count=7\n",
    "for i in range(4,0,-1):\n",
    "    for j in range(0,(4-i)):\n",
    "        print(' ',end=' ')\n",
    "    for k in range(0,count):\n",
    "        print(i,end=' ')\n",
    "    count-=2\n",
    "    print()"
   ]
  },
  {
   "cell_type": "code",
   "execution_count": 17,
   "metadata": {},
   "outputs": [
    {
     "name": "stdout",
     "output_type": "stream",
     "text": [
      "7 7 7 7 7 7 7 \n",
      "  5 5 5 5 5 \n",
      "    3 3 3 \n",
      "      1 \n"
     ]
    }
   ],
   "source": [
    "#ex53\n",
    "count=7\n",
    "for i in range(4,0,-1):\n",
    "    for j in range(0,(4-i)):\n",
    "        print(' ',end=' ')\n",
    "    for k in range(0,count):\n",
    "        print(count,end=' ')\n",
    "    count-=2\n",
    "    print()"
   ]
  },
  {
   "cell_type": "code",
   "execution_count": 19,
   "metadata": {},
   "outputs": [
    {
     "name": "stdout",
     "output_type": "stream",
     "text": [
      "1 2 3 4 5 6 7 \n",
      "  1 2 3 4 5 \n",
      "    1 2 3 \n",
      "      1 \n"
     ]
    }
   ],
   "source": [
    "#ex54\n",
    "count=7\n",
    "for i in range(4,0,-1):\n",
    "    for j in range(0,(4-i)):\n",
    "        print(' ',end=' ')\n",
    "    for k in range(1,count+1):\n",
    "        print(k,end=' ')\n",
    "    count-=2\n",
    "    print()"
   ]
  },
  {
   "cell_type": "code",
   "execution_count": 21,
   "metadata": {},
   "outputs": [
    {
     "name": "stdout",
     "output_type": "stream",
     "text": [
      "D D D D D D D \n",
      "  C C C C C \n",
      "    B B B \n",
      "      A \n"
     ]
    }
   ],
   "source": [
    "#ex55\n",
    "\n",
    "count=7\n",
    "for i in range(4,0,-1):\n",
    "    for j in range(0,(4-i)):\n",
    "        print(' ',end=' ')\n",
    "    for k in range(0,count):\n",
    "        ch=64+i\n",
    "        print(chr(ch),end=' ')\n",
    "    count-=2\n",
    "    print()"
   ]
  },
  {
   "cell_type": "code",
   "execution_count": 22,
   "metadata": {},
   "outputs": [
    {
     "name": "stdout",
     "output_type": "stream",
     "text": [
      "G G G G G G G \n",
      "  E E E E E \n",
      "    C C C \n",
      "      A \n"
     ]
    }
   ],
   "source": [
    "#ex56\n",
    "\n",
    "count=7\n",
    "for i in range(4,0,-1):\n",
    "    for j in range(0,(4-i)):\n",
    "        print(' ',end=' ')\n",
    "    for k in range(0,count):\n",
    "        ch=64+count\n",
    "        print(chr(ch),end=' ')\n",
    "    count-=2\n",
    "    print()"
   ]
  },
  {
   "cell_type": "code",
   "execution_count": 23,
   "metadata": {},
   "outputs": [
    {
     "name": "stdout",
     "output_type": "stream",
     "text": [
      "A B C D E F G \n",
      "  A B C D E \n",
      "    A B C \n",
      "      A \n"
     ]
    }
   ],
   "source": [
    "#ex57\n",
    "\n",
    "count=7\n",
    "for i in range(4,0,-1):\n",
    "    for j in range(0,(4-i)):\n",
    "        print(' ',end=' ')\n",
    "    for k  in range(0,count):\n",
    "        ch=65+k\n",
    "        print(chr(ch),end=' ')\n",
    "    count-=2\n",
    "    print()"
   ]
  },
  {
   "cell_type": "code",
   "execution_count": 7,
   "metadata": {},
   "outputs": [
    {
     "name": "stdout",
     "output_type": "stream",
     "text": [
      "Enter nsize: 7\n",
      "* \n",
      "* * \n",
      "* * * \n",
      "* * * * \n",
      "* * * * * \n",
      "* * * * * * \n",
      "* * * * * * * \n",
      "* * * * * * * * \n",
      "* * * * * * * \n",
      "* * * * * * \n",
      "* * * * * \n",
      "* * * * \n",
      "* * * \n",
      "* * \n",
      "* \n"
     ]
    }
   ],
   "source": [
    "#ex58\n",
    "\n",
    "n=int(input('Enter nsize: '))\n",
    "for  i in range(-n,n+1):\n",
    "    for j in range(n,(abs(i)-1),-1):\n",
    "        print('*',end=' ')        \n",
    "    print()"
   ]
  },
  {
   "cell_type": "code",
   "execution_count": 13,
   "metadata": {},
   "outputs": [
    {
     "name": "stdout",
     "output_type": "stream",
     "text": [
      "enter size: 3\n",
      "3 \n",
      "2 3 \n",
      "1 2 3 \n",
      "0 1 2 3 \n",
      "1 2 3 \n",
      "2 3 \n",
      "3 \n"
     ]
    }
   ],
   "source": [
    "#ex59 :\n",
    "\n",
    "n=int(input('enter size: '))\n",
    "for i in range(-n,n+1):\n",
    "    for j in range(abs(i),n+1):\n",
    "        print((j),end=' ')\n",
    "    print()"
   ]
  },
  {
   "cell_type": "code",
   "execution_count": 14,
   "metadata": {},
   "outputs": [
    {
     "name": "stdout",
     "output_type": "stream",
     "text": [
      "enter size: 4\n",
      "\n",
      "D \n",
      "D C \n",
      "D C B \n",
      "D C B A \n",
      "D C B \n",
      "D C \n",
      "D \n",
      "\n"
     ]
    }
   ],
   "source": [
    "#ex60 :\n",
    "n=int(input('enter size: '))\n",
    "for i in range(-n,n+1):\n",
    "    for j in range(n,abs(i),-1):\n",
    "        print(chr(j+64),end=' ')\n",
    "    print()"
   ]
  },
  {
   "cell_type": "code",
   "execution_count": 15,
   "metadata": {},
   "outputs": [
    {
     "name": "stdout",
     "output_type": "stream",
     "text": [
      "Enter the string: 4\n",
      "        * \n",
      "      * * \n",
      "    * * * \n",
      "  * * * * \n",
      "* * * * * \n",
      "  * * * * \n",
      "    * * * \n",
      "      * * \n",
      "        * \n"
     ]
    }
   ],
   "source": [
    "#ex61 : \n",
    "\n",
    "n=int(input('Enter the string: '))\n",
    "for i in range(-n,n+1):\n",
    "    for j in range(0,abs(i)):\n",
    "        print(' ',end=' ')\n",
    "    for k in range(n,(abs(i)-1),-1):\n",
    "        print('*',end=' ')\n",
    "    print()"
   ]
  },
  {
   "cell_type": "code",
   "execution_count": 17,
   "metadata": {},
   "outputs": [
    {
     "name": "stdout",
     "output_type": "stream",
     "text": [
      "Enter the size: 4\n",
      "        4 \n",
      "      4 3 \n",
      "    4 3 2 \n",
      "  4 3 2 1 \n",
      "4 3 2 1 0 \n",
      "  4 3 2 1 \n",
      "    4 3 2 \n",
      "      4 3 \n",
      "        4 \n"
     ]
    }
   ],
   "source": [
    "#ex62 : \n",
    "\n",
    "n=int(input('Enter the size: '))\n",
    "for i in range(-n,n+1):\n",
    "    for j in range(0,abs(i)):\n",
    "        print(' ',end=' ')\n",
    "    for k  in range(n,abs(i)-1,-1):\n",
    "        print(k,end=' ')\n",
    "    print()"
   ]
  },
  {
   "cell_type": "code",
   "execution_count": 19,
   "metadata": {},
   "outputs": [
    {
     "name": "stdout",
     "output_type": "stream",
     "text": [
      "Enter the size: 3\n",
      "      3  \n",
      "    2 3  \n",
      "  1 2 3  \n",
      "0 1 2 3  \n",
      "  1 2 3  \n",
      "    2 3  \n",
      "      3  \n"
     ]
    }
   ],
   "source": [
    "#ex63 : \n",
    "\n",
    "n=int(input('Enter the size: '))\n",
    "for i in range(-n,n+1):\n",
    "    for j in range(0,abs(i)):\n",
    "        print(' ',end=' ')\n",
    "    for k in range(abs(i),n+1):\n",
    "        print(k,end=' ')\n",
    "    print(' ')"
   ]
  },
  {
   "cell_type": "code",
   "execution_count": 22,
   "metadata": {},
   "outputs": [
    {
     "name": "stdout",
     "output_type": "stream",
     "text": [
      "Enter the size: 3\n",
      "      D \n",
      "    C D \n",
      "  B C D \n",
      "A B C D \n",
      "  B C D \n",
      "    C D \n",
      "      D \n"
     ]
    }
   ],
   "source": [
    "#ex64\n",
    "\n",
    "n=int(input('Enter the size: '))\n",
    "for i in range(-n,n+1):\n",
    "    for j in range(0,abs(i)):\n",
    "        print(' ',end=' ')\n",
    "    for k in range(abs(i),n+1):\n",
    "        print(chr(65+k),end=' ')\n",
    "    print()"
   ]
  },
  {
   "cell_type": "code",
   "execution_count": 25,
   "metadata": {},
   "outputs": [
    {
     "name": "stdout",
     "output_type": "stream",
     "text": [
      "Enter the size: 3\n",
      "      D \n",
      "    D C \n",
      "  D C B \n",
      "D C B A \n",
      "  D C B \n",
      "    D C \n",
      "      D \n"
     ]
    }
   ],
   "source": [
    "#ex65\n",
    "n= int(input('Enter the size: '))\n",
    "for i in range(-n,n+1):\n",
    "    for j in range(0,abs(i)):\n",
    "        print(' ',end=' ')\n",
    "    for k in range(n,abs(i)-1,-1):\n",
    "        print(chr(65+k),end=' ')\n",
    "    print()        "
   ]
  },
  {
   "cell_type": "code",
   "execution_count": null,
   "metadata": {},
   "outputs": [],
   "source": []
  }
 ],
 "metadata": {
  "kernelspec": {
   "display_name": "Python 3",
   "language": "python",
   "name": "python3"
  },
  "language_info": {
   "codemirror_mode": {
    "name": "ipython",
    "version": 3
   },
   "file_extension": ".py",
   "mimetype": "text/x-python",
   "name": "python",
   "nbconvert_exporter": "python",
   "pygments_lexer": "ipython3",
   "version": "3.7.4"
  }
 },
 "nbformat": 4,
 "nbformat_minor": 2
}
