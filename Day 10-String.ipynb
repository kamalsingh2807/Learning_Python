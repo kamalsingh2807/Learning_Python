{
 "cells": [
  {
   "cell_type": "markdown",
   "metadata": {},
   "source": [
    "# String\n",
    "\n",
    "String is a collection of group of elements.\n",
    "\n",
    "> ' str ' is used to represent string data type.\n",
    "\n",
    "As string comprises of character, there is not seperate dataype present for character botr string and character are treated same. In python, charcters are also substring.\n",
    "\n",
    "In string characters are enclosed between single quotes( ' ' ) or double quotes ( \" \" ), both are considered same."
   ]
  },
  {
   "cell_type": "markdown",
   "metadata": {},
   "source": [
    "### String creation\n",
    "\n",
    "This is done by assigning group of characters enclosed within single or double quotes to a variable."
   ]
  },
  {
   "cell_type": "code",
   "execution_count": 1,
   "metadata": {},
   "outputs": [
    {
     "name": "stdout",
     "output_type": "stream",
     "text": [
      "Hello! Welcome to python\n"
     ]
    }
   ],
   "source": [
    "s1='Hello! Welcome to python'\n",
    "print(s1)"
   ]
  },
  {
   "cell_type": "code",
   "execution_count": 2,
   "metadata": {},
   "outputs": [
    {
     "name": "stdout",
     "output_type": "stream",
     "text": [
      "<class 'str'>\n"
     ]
    }
   ],
   "source": [
    "print(type(s1))"
   ]
  },
  {
   "cell_type": "code",
   "execution_count": 3,
   "metadata": {},
   "outputs": [
    {
     "name": "stdout",
     "output_type": "stream",
     "text": [
      "Hello! Welcome to python\n"
     ]
    }
   ],
   "source": [
    "s2=\"Hello! Welcome to python\"\n",
    "print(s2)"
   ]
  },
  {
   "cell_type": "markdown",
   "metadata": {},
   "source": [
    "We can use triple single quotes ot single double quotes when group of characters spans to multiple lines."
   ]
  },
  {
   "cell_type": "code",
   "execution_count": 4,
   "metadata": {},
   "outputs": [
    {
     "name": "stdout",
     "output_type": "stream",
     "text": [
      "Hello!! Welcome \n",
      "to python world\n"
     ]
    }
   ],
   "source": [
    "s3='''Hello!! Welcome \n",
    "to python world'''\n",
    "print(s3)"
   ]
  },
  {
   "cell_type": "code",
   "execution_count": 5,
   "metadata": {},
   "outputs": [
    {
     "name": "stdout",
     "output_type": "stream",
     "text": [
      "Hello!! Welcome \n",
      "to python world\n"
     ]
    }
   ],
   "source": [
    "s4=\"\"\"Hello!! Welcome \n",
    "to python world\"\"\"\n",
    "print(s4)"
   ]
  },
  {
   "cell_type": "markdown",
   "metadata": {},
   "source": [
    "We can display quotation on a substring inside a string by using different type of quotes for inner and outer strings\n",
    "\n"
   ]
  },
  {
   "cell_type": "code",
   "execution_count": 6,
   "metadata": {},
   "outputs": [
    {
     "name": "stdout",
     "output_type": "stream",
     "text": [
      "Hello! This is 'String' chapter\n"
     ]
    }
   ],
   "source": [
    "st1=\"Hello! This is 'String' chapter\"\n",
    "print(st1)"
   ]
  },
  {
   "cell_type": "code",
   "execution_count": 7,
   "metadata": {},
   "outputs": [
    {
     "name": "stdout",
     "output_type": "stream",
     "text": [
      "hello this is \"String\" chapter\n"
     ]
    }
   ],
   "source": [
    "st2='hello this is \"String\" chapter'\n",
    "print(st2)"
   ]
  },
  {
   "cell_type": "code",
   "execution_count": 8,
   "metadata": {},
   "outputs": [
    {
     "name": "stdout",
     "output_type": "stream",
     "text": [
      "using \"\\n\":  \n",
      " Hello\n",
      "kamal\n",
      "singh\n",
      "using '\\t' Hello\tkamal\tsingh\n"
     ]
    }
   ],
   "source": [
    "#using escape characters\n",
    "s='Hello\\nkamal\\nsingh'\n",
    "print(r'using \"\\n\": ','\\n',s)\n",
    "s='Hello\\tkamal\\tsingh'\n",
    "print(r\"using '\\t'\",s)"
   ]
  },
  {
   "cell_type": "code",
   "execution_count": 9,
   "metadata": {},
   "outputs": [
    {
     "name": "stdout",
     "output_type": "stream",
     "text": [
      "Welcome \\t kamal \\n Singh\n"
     ]
    }
   ],
   "source": [
    "#nullifying the effect of escape charaters\n",
    "s=r\"Welcome \\t kamal \\n Singh\"\n",
    "print(s) "
   ]
  },
  {
   "cell_type": "code",
   "execution_count": 10,
   "metadata": {},
   "outputs": [
    {
     "name": "stdout",
     "output_type": "stream",
     "text": [
      "कोर  पैथ।न\n"
     ]
    }
   ],
   "source": [
    "#creating string with unicode\n",
    "s_uni=u'\\u0915\\u094b\\u0930  \\u092a\\u0948\\u0925\\u0964\\u0928'\n",
    "print(s_uni)"
   ]
  },
  {
   "cell_type": "code",
   "execution_count": 11,
   "metadata": {},
   "outputs": [
    {
     "data": {
      "text/plain": [
       "11"
      ]
     },
     "execution_count": 11,
     "metadata": {},
     "output_type": "execute_result"
    }
   ],
   "source": [
    "#length of string\n",
    "s='Core pyhton'\n",
    "len(s)"
   ]
  },
  {
   "cell_type": "code",
   "execution_count": 114,
   "metadata": {},
   "outputs": [
    {
     "name": "stdout",
     "output_type": "stream",
     "text": [
      "C\n",
      "O\n",
      "R\n",
      "E\n",
      " \n",
      "P\n",
      "Y\n",
      "T\n",
      "H\n",
      "O\n",
      "N\n"
     ]
    }
   ],
   "source": [
    "#iterating elements of string\n",
    "for i in s:\n",
    "    print(i)"
   ]
  },
  {
   "cell_type": "markdown",
   "metadata": {},
   "source": [
    "### Indexing in String\n",
    "\n",
    "Indexing in pyhton starts from 0 to (len(string)-1).\n",
    "\n",
    "In reverse direction(right to left), indexing starts from -1."
   ]
  },
  {
   "cell_type": "code",
   "execution_count": 12,
   "metadata": {},
   "outputs": [
    {
     "name": "stdout",
     "output_type": "stream",
     "text": [
      "C\n",
      "e\n",
      " \n",
      "n\n",
      "P\n"
     ]
    }
   ],
   "source": [
    "s='Core Python'\n",
    "print(s[0])\n",
    "print(s[3])\n",
    "print(s[4])\n",
    "print(s[-1])\n",
    "print(s[-6])"
   ]
  },
  {
   "cell_type": "code",
   "execution_count": 13,
   "metadata": {},
   "outputs": [
    {
     "name": "stdout",
     "output_type": "stream",
     "text": [
      "s[0]:  C\n",
      "s[1]:  o\n",
      "s[2]:  r\n",
      "s[3]:  e\n",
      "s[4]:   \n",
      "s[5]:  P\n",
      "s[6]:  y\n",
      "s[7]:  t\n",
      "s[8]:  h\n",
      "s[9]:  o\n",
      "s[10]:  n\n",
      "total Elements:  11\n"
     ]
    }
   ],
   "source": [
    "#accesing each character of string with loop using indexing\n",
    "for i in range(0,len(s)):\n",
    "    print('s[{}]: '.format(i),s[i])\n",
    "print('total Elements: ',len(s))"
   ]
  },
  {
   "cell_type": "code",
   "execution_count": 18,
   "metadata": {},
   "outputs": [
    {
     "name": "stdout",
     "output_type": "stream",
     "text": [
      "n o h t y P   e r o C "
     ]
    }
   ],
   "source": [
    "#printing charcaters in reverse order with loop\n",
    "i=1\n",
    "while i<=len(s):\n",
    "    print(s[-i],end=' ')\n",
    "    i=i+1"
   ]
  },
  {
   "cell_type": "markdown",
   "metadata": {},
   "source": [
    "> space is also considered as a character in python"
   ]
  },
  {
   "cell_type": "markdown",
   "metadata": {},
   "source": [
    " "
   ]
  },
  {
   "cell_type": "markdown",
   "metadata": {},
   "source": [
    "### Slicing in pyhton\n",
    "\n",
    "Slicing means extracting a part of piece of the string.\n",
    "\n",
    "FORMAT: \n",
    "\n",
    "> string_name [ start : stop : stepsize]\n",
    "\n",
    "By default start is 0 and stop is len(string)-1 and if we do not dive step size it gets value 1. All three are alterable."
   ]
  },
  {
   "cell_type": "code",
   "execution_count": 19,
   "metadata": {},
   "outputs": [],
   "source": [
    "s='CORE PYTHON'"
   ]
  },
  {
   "cell_type": "code",
   "execution_count": 21,
   "metadata": {},
   "outputs": [
    {
     "data": {
      "text/plain": [
       "'CORE PYTHON'"
      ]
     },
     "execution_count": 21,
     "metadata": {},
     "output_type": "execute_result"
    }
   ],
   "source": [
    "s[::]"
   ]
  },
  {
   "cell_type": "code",
   "execution_count": 22,
   "metadata": {},
   "outputs": [
    {
     "data": {
      "text/plain": [
       "'CR YHN'"
      ]
     },
     "execution_count": 22,
     "metadata": {},
     "output_type": "execute_result"
    }
   ],
   "source": [
    "s[::2]"
   ]
  },
  {
   "cell_type": "code",
   "execution_count": 25,
   "metadata": {},
   "outputs": [
    {
     "data": {
      "text/plain": [
       "'CORE P'"
      ]
     },
     "execution_count": 25,
     "metadata": {},
     "output_type": "execute_result"
    }
   ],
   "source": [
    "s[:6:] #start=0,stop=6"
   ]
  },
  {
   "cell_type": "code",
   "execution_count": 27,
   "metadata": {},
   "outputs": [
    {
     "data": {
      "text/plain": [
       "'ORE P'"
      ]
     },
     "execution_count": 27,
     "metadata": {},
     "output_type": "execute_result"
    }
   ],
   "source": [
    "s[1:6] #index 0 value ignored"
   ]
  },
  {
   "cell_type": "code",
   "execution_count": 28,
   "metadata": {},
   "outputs": [
    {
     "data": {
      "text/plain": [
       "'OEPT'"
      ]
     },
     "execution_count": 28,
     "metadata": {},
     "output_type": "execute_result"
    }
   ],
   "source": [
    "s[1:8:2] #printing values skipping one element between"
   ]
  },
  {
   "cell_type": "code",
   "execution_count": 29,
   "metadata": {},
   "outputs": [
    {
     "data": {
      "text/plain": [
       "''"
      ]
     },
     "execution_count": 29,
     "metadata": {},
     "output_type": "execute_result"
    }
   ],
   "source": [
    "s[8:1:1]"
   ]
  },
  {
   "cell_type": "code",
   "execution_count": 30,
   "metadata": {},
   "outputs": [
    {
     "data": {
      "text/plain": [
       "'NOHTYP EROC'"
      ]
     },
     "execution_count": 30,
     "metadata": {},
     "output_type": "execute_result"
    }
   ],
   "source": [
    "s[::-1] #reversing using negetive stepsize"
   ]
  },
  {
   "cell_type": "code",
   "execution_count": 31,
   "metadata": {},
   "outputs": [
    {
     "data": {
      "text/plain": [
       "'TYP ER'"
      ]
     },
     "execution_count": 31,
     "metadata": {},
     "output_type": "execute_result"
    }
   ],
   "source": [
    "s[7:1:-1]"
   ]
  },
  {
   "cell_type": "code",
   "execution_count": 36,
   "metadata": {},
   "outputs": [
    {
     "data": {
      "text/plain": [
       "'HY R'"
      ]
     },
     "execution_count": 36,
     "metadata": {},
     "output_type": "execute_result"
    }
   ],
   "source": [
    "s[8:1:-2]"
   ]
  },
  {
   "cell_type": "code",
   "execution_count": 38,
   "metadata": {},
   "outputs": [
    {
     "data": {
      "text/plain": [
       "'TPE'"
      ]
     },
     "execution_count": 38,
     "metadata": {},
     "output_type": "execute_result"
    }
   ],
   "source": [
    "s[7:1:-2]"
   ]
  },
  {
   "cell_type": "code",
   "execution_count": 40,
   "metadata": {},
   "outputs": [
    {
     "data": {
      "text/plain": [
       "'THO'"
      ]
     },
     "execution_count": 40,
     "metadata": {},
     "output_type": "execute_result"
    }
   ],
   "source": [
    "s[-4:-1] #start=-4 stop=-1 index values"
   ]
  },
  {
   "cell_type": "code",
   "execution_count": 41,
   "metadata": {},
   "outputs": [
    {
     "data": {
      "text/plain": [
       "'PYTHON'"
      ]
     },
     "execution_count": 41,
     "metadata": {},
     "output_type": "execute_result"
    }
   ],
   "source": [
    "s[-6::]"
   ]
  },
  {
   "cell_type": "code",
   "execution_count": 43,
   "metadata": {},
   "outputs": [
    {
     "data": {
      "text/plain": [
       "'NOHT'"
      ]
     },
     "execution_count": 43,
     "metadata": {},
     "output_type": "execute_result"
    }
   ],
   "source": [
    "s[-1:-5:-1]"
   ]
  },
  {
   "cell_type": "code",
   "execution_count": 44,
   "metadata": {},
   "outputs": [
    {
     "data": {
      "text/plain": [
       "'NOHTYP EROC'"
      ]
     },
     "execution_count": 44,
     "metadata": {},
     "output_type": "execute_result"
    }
   ],
   "source": [
    "s[-1::-1]"
   ]
  },
  {
   "cell_type": "markdown",
   "metadata": {},
   "source": [
    " "
   ]
  },
  {
   "cell_type": "code",
   "execution_count": 45,
   "metadata": {},
   "outputs": [
    {
     "name": "stdout",
     "output_type": "stream",
     "text": [
      "kamlakamlakamlakamla\n"
     ]
    }
   ],
   "source": [
    "#Repeating String\n",
    "\n",
    "samp='kamla'\n",
    "print(samp*4)"
   ]
  },
  {
   "cell_type": "code",
   "execution_count": 46,
   "metadata": {},
   "outputs": [
    {
     "name": "stdout",
     "output_type": "stream",
     "text": [
      "kamalsingh\n"
     ]
    }
   ],
   "source": [
    "#concatenation of strings\n",
    "\n",
    "samp='kamal'\n",
    "print(samp+'singh')"
   ]
  },
  {
   "cell_type": "code",
   "execution_count": 48,
   "metadata": {},
   "outputs": [
    {
     "ename": "TypeError",
     "evalue": "can only concatenate str (not \"int\") to str",
     "output_type": "error",
     "traceback": [
      "\u001b[1;31m---------------------------------------------------------------------------\u001b[0m",
      "\u001b[1;31mTypeError\u001b[0m                                 Traceback (most recent call last)",
      "\u001b[1;32m<ipython-input-48-61a9b8575633>\u001b[0m in \u001b[0;36m<module>\u001b[1;34m\u001b[0m\n\u001b[1;32m----> 1\u001b[1;33m \u001b[0msamp\u001b[0m\u001b[1;33m+\u001b[0m\u001b[1;36m36\u001b[0m \u001b[1;31m#for concatenation same data type object is required.\u001b[0m\u001b[1;33m\u001b[0m\u001b[1;33m\u001b[0m\u001b[0m\n\u001b[0m",
      "\u001b[1;31mTypeError\u001b[0m: can only concatenate str (not \"int\") to str"
     ]
    }
   ],
   "source": [
    "samp+36 #for concatenation same data type object is required."
   ]
  },
  {
   "cell_type": "markdown",
   "metadata": {},
   "source": [
    "## Strings are Immutable: \n",
    "\n",
    "String is an immuatble object as we cannot perform any changes to the content. To change we have to typecast the string object to a mutable object.\n",
    "\n",
    "There are two reasons why strings are made muatble: \n",
    "\n",
    "#### 1. Performance\n",
    "\n",
    "As strings are immutable so a fixed memory space is allocated at the creation time for its elements,hence it takes compiler to allocate less memmory and acces the elements in less time,conseqquently increasing the performance.\n",
    "\n",
    "#### 2.Security\n",
    "\n",
    "If we make changes to the string,itwill create a new identity or the memory location of the object,hence signifies that data has been altered in the original data. It is useful in data transportations from one app to another without any modifications."
   ]
  },
  {
   "cell_type": "markdown",
   "metadata": {},
   "source": [
    "> If we try to modify the elements of the string we will get a TYPEERROR error."
   ]
  },
  {
   "cell_type": "code",
   "execution_count": 27,
   "metadata": {},
   "outputs": [
    {
     "name": "stdout",
     "output_type": "stream",
     "text": [
      "hello\n"
     ]
    },
    {
     "ename": "TypeError",
     "evalue": "'str' object does not support item assignment",
     "output_type": "error",
     "traceback": [
      "\u001b[1;31m---------------------------------------------------------------------------\u001b[0m",
      "\u001b[1;31mTypeError\u001b[0m                                 Traceback (most recent call last)",
      "\u001b[1;32m<ipython-input-27-e2865004f9f8>\u001b[0m in \u001b[0;36m<module>\u001b[1;34m\u001b[0m\n\u001b[0;32m      1\u001b[0m \u001b[0msamp_str\u001b[0m\u001b[1;33m=\u001b[0m\u001b[1;34m'hello'\u001b[0m\u001b[1;33m\u001b[0m\u001b[1;33m\u001b[0m\u001b[0m\n\u001b[0;32m      2\u001b[0m \u001b[0mprint\u001b[0m\u001b[1;33m(\u001b[0m\u001b[0msamp_str\u001b[0m\u001b[1;33m)\u001b[0m\u001b[1;33m\u001b[0m\u001b[1;33m\u001b[0m\u001b[0m\n\u001b[1;32m----> 3\u001b[1;33m \u001b[0msamp_str\u001b[0m\u001b[1;33m[\u001b[0m\u001b[1;36m0\u001b[0m\u001b[1;33m]\u001b[0m\u001b[1;33m=\u001b[0m\u001b[1;34m'k'\u001b[0m\u001b[1;33m\u001b[0m\u001b[1;33m\u001b[0m\u001b[0m\n\u001b[0m",
      "\u001b[1;31mTypeError\u001b[0m: 'str' object does not support item assignment"
     ]
    }
   ],
   "source": [
    "samp_str='hello'\n",
    "print(samp_str)\n",
    "samp_str[0]='k'"
   ]
  },
  {
   "cell_type": "code",
   "execution_count": 30,
   "metadata": {},
   "outputs": [
    {
     "name": "stdout",
     "output_type": "stream",
     "text": [
      "Hello\n",
      "kamal\n",
      "1767112769968\n",
      "1767109590960\n",
      "Hello\n",
      "1767112769968\n",
      "Hello\n",
      "1767112769968\n"
     ]
    }
   ],
   "source": [
    "#changing references\n",
    "\n",
    "s1='Hello'\n",
    "s2='kamal'\n",
    "print(s1)\n",
    "print(s2)\n",
    "print(id(s1))\n",
    "print(id(s2))\n",
    "s2=s1 #we are referencing 'hello' with s1 as well as s2 \n",
    "#object 'kamal' is left untoched and is eliminated by garcage collector\n",
    "print(s1)\n",
    "print(id(s1))\n",
    "print(s2)\n",
    "print(id(s2))"
   ]
  },
  {
   "cell_type": "markdown",
   "metadata": {},
   "source": [
    "### checking membership\n",
    "\n",
    "We can check if a subsring or a character is present inside a string or not using ' in ' and ' not in ' operator.\n",
    "\n",
    "' in ' returns True if the given substring is found inside the main string,otherwise false. 'not in' operator id converse of 'in' operator.\n",
    "\n",
    "> ' in ' and ' not in ' make case senstive comparisons."
   ]
  },
  {
   "cell_type": "code",
   "execution_count": 31,
   "metadata": {},
   "outputs": [
    {
     "name": "stdout",
     "output_type": "stream",
     "text": [
      "Enter the main string: kkkka\n",
      "enter the substring: a\n",
      "a is present in kkkka\n"
     ]
    }
   ],
   "source": [
    "string=input('Enter the main string: ')\n",
    "subs=input('enter the substring: ')\n",
    "if subs in string:\n",
    "    print(subs,'is present in',string)\n",
    "else: \n",
    "    print(subs,'is not present in',string)"
   ]
  },
  {
   "cell_type": "code",
   "execution_count": null,
   "metadata": {},
   "outputs": [],
   "source": []
  },
  {
   "cell_type": "code",
   "execution_count": 93,
   "metadata": {},
   "outputs": [
    {
     "name": "stdout",
     "output_type": "stream",
     "text": [
      "False\n",
      "True\n"
     ]
    }
   ],
   "source": [
    "#checkign for case senstivity\n",
    "\n",
    "print('core' in 'CORE PYHTON')\n",
    "print('CORE' in 'CORE PYTHON')"
   ]
  },
  {
   "cell_type": "markdown",
   "metadata": {},
   "source": [
    "### Comapring Strings\n",
    "\n",
    "We can use relatonal operators like < , > , <= , >= , == , != to compare two strings.\n",
    "\n",
    "They return boolean values after comparison.\n",
    "\n",
    "case senstive comaprsions are made using relational operators.\n",
    "\n",
    "Python compiler compares them form english dictionary,which comes first in dictionary has lower value,which comes later attains higher value."
   ]
  },
  {
   "cell_type": "code",
   "execution_count": 94,
   "metadata": {},
   "outputs": [
    {
     "name": "stdout",
     "output_type": "stream",
     "text": [
      "not same\n"
     ]
    }
   ],
   "source": [
    "s1='boy'\n",
    "s2='bose'\n",
    "if s1==s2:\n",
    "    print('same')\n",
    "else:\n",
    "    print('not same')"
   ]
  },
  {
   "cell_type": "code",
   "execution_count": 95,
   "metadata": {},
   "outputs": [
    {
     "name": "stdout",
     "output_type": "stream",
     "text": [
      "not same\n"
     ]
    }
   ],
   "source": [
    "s1='boy'\n",
    "s2='BOY'\n",
    "if s1==s2:\n",
    "    print('same')\n",
    "else:\n",
    "    print('not same')"
   ]
  },
  {
   "cell_type": "code",
   "execution_count": 96,
   "metadata": {},
   "outputs": [
    {
     "name": "stdout",
     "output_type": "stream",
     "text": [
      "apple comes first than joker\n"
     ]
    }
   ],
   "source": [
    "s1='apple'\n",
    "s2='joker'\n",
    "if s1<s2:\n",
    "    print(s1,'comes first than',s2)\n",
    "else:\n",
    "    print(s2,'comes first than',s2)"
   ]
  },
  {
   "cell_type": "code",
   "execution_count": 97,
   "metadata": {},
   "outputs": [
    {
     "name": "stdout",
     "output_type": "stream",
     "text": [
      "True\n"
     ]
    }
   ],
   "source": [
    "s1='boy'\n",
    "s2='BOY'\n",
    "if s1>s2:\n",
    "    print('True')\n",
    "else:\n",
    "    print('False')"
   ]
  },
  {
   "cell_type": "markdown",
   "metadata": {},
   "source": [
    " "
   ]
  },
  {
   "cell_type": "markdown",
   "metadata": {},
   "source": [
    "### Removing spaces from string(INTR): \n",
    "\n",
    "Space becomes problematic when comapring two strings. as: \n"
   ]
  },
  {
   "cell_type": "code",
   "execution_count": 98,
   "metadata": {},
   "outputs": [
    {
     "data": {
      "text/plain": [
       "False"
      ]
     },
     "execution_count": 98,
     "metadata": {},
     "output_type": "execute_result"
    }
   ],
   "source": [
    "'remote '=='remote'"
   ]
  },
  {
   "cell_type": "markdown",
   "metadata": {},
   "source": [
    "The space in the first remote led to returning False. So this problem is removed using rstrip( ), lstrip( ), strip( ) mehtods.These methods are generally used to remove any character or substring.\n",
    "\n",
    "By default these methods methods take ' '(space) charcater as argument.\n",
    "\n",
    "> rstrip ( ) : removes spaces which are on right side of the string\n",
    "\n",
    "> lstrip ( ) : removes spaces which are on left side of the string\n",
    "\n",
    "> strip ( ): removes spaces from both side of the string.\n",
    "\n",
    "This method do not strip spaces in the middle of the string."
   ]
  },
  {
   "cell_type": "code",
   "execution_count": 99,
   "metadata": {},
   "outputs": [
    {
     "data": {
      "text/plain": [
       "'  & Kamal Singh %  '"
      ]
     },
     "execution_count": 99,
     "metadata": {},
     "output_type": "execute_result"
    }
   ],
   "source": [
    "name='  & Kamal Singh %  ' #there are spaces present\n",
    "name"
   ]
  },
  {
   "cell_type": "code",
   "execution_count": 100,
   "metadata": {},
   "outputs": [],
   "source": [
    "name=name.rstrip()"
   ]
  },
  {
   "cell_type": "code",
   "execution_count": 101,
   "metadata": {},
   "outputs": [
    {
     "data": {
      "text/plain": [
       "'  & Kamal Singh %'"
      ]
     },
     "execution_count": 101,
     "metadata": {},
     "output_type": "execute_result"
    }
   ],
   "source": [
    "name"
   ]
  },
  {
   "cell_type": "code",
   "execution_count": 102,
   "metadata": {},
   "outputs": [
    {
     "data": {
      "text/plain": [
       "'& Kamal Singh %'"
      ]
     },
     "execution_count": 102,
     "metadata": {},
     "output_type": "execute_result"
    }
   ],
   "source": [
    "name=name.lstrip()\n",
    "name"
   ]
  },
  {
   "cell_type": "markdown",
   "metadata": {},
   "source": [
    "> we can also strip any character or string.\n"
   ]
  },
  {
   "cell_type": "code",
   "execution_count": 103,
   "metadata": {},
   "outputs": [
    {
     "name": "stdout",
     "output_type": "stream",
     "text": [
      " Kamal Singh %\n"
     ]
    }
   ],
   "source": [
    "name=name.lstrip(name[0])\n",
    "print(name) # & removed"
   ]
  },
  {
   "cell_type": "code",
   "execution_count": 104,
   "metadata": {},
   "outputs": [
    {
     "data": {
      "text/plain": [
       "' Kamal Singh '"
      ]
     },
     "execution_count": 104,
     "metadata": {},
     "output_type": "execute_result"
    }
   ],
   "source": [
    "name=name.rstrip('%')\n",
    "name"
   ]
  },
  {
   "cell_type": "code",
   "execution_count": 105,
   "metadata": {},
   "outputs": [
    {
     "data": {
      "text/plain": [
       "'Kamal Singh'"
      ]
     },
     "execution_count": 105,
     "metadata": {},
     "output_type": "execute_result"
    }
   ],
   "source": [
    "#removing spaces from both side\n",
    "name=name.strip()\n",
    "name"
   ]
  },
  {
   "cell_type": "markdown",
   "metadata": {},
   "source": [
    "### Finding substring\n",
    "\n",
    "find( ), rfind( ), index( ), rindex( ) methods returns the location of first occurence of substring inside the main string.\n",
    "\n",
    "FORMAT: \n",
    "\n",
    "> main_string.find( substring , begining , ending )\n",
    "\n",
    "by default begning=0 and ending=len(main_string)-1.This format is same for all four methods.\n",
    "\n",
    "> find ( ) : returns index of first occurence of the substring, returns -1 when substring is not found in main_string.\n",
    "\n",
    "> rfind ( ) : finds index of first occurence of the substring from backward direction ( right to left ). Also returns -1 if substring not found.\n",
    "\n",
    "> index ( ) :  returns index of first occurence of the substring, returns ' Value Error ' exception when substring is not found in main_string.\n",
    "\n",
    "> rindex ( ) :  returns index of first occurence of the substring from backward direction ( right to left ), returns ' Value Error ' exception when substring is not found in main_string."
   ]
  },
  {
   "cell_type": "code",
   "execution_count": 108,
   "metadata": {},
   "outputs": [
    {
     "name": "stdout",
     "output_type": "stream",
     "text": [
      "Enter the main String: \n",
      "Enter the sub string: \n",
      "element found at position 1\n"
     ]
    }
   ],
   "source": [
    "# find()\n",
    "\n",
    "main_string=input('Enter the main String: ')\n",
    "sub_string=input('Enter the sub string: ')\n",
    "pos=main_string.find(sub_string)\n",
    "if pos!=-1:\n",
    "    print('element found at position',pos+1)\n",
    "else:\n",
    "    print('element not found')"
   ]
  },
  {
   "cell_type": "code",
   "execution_count": 109,
   "metadata": {},
   "outputs": [
    {
     "name": "stdout",
     "output_type": "stream",
     "text": [
      "Enter the main String: kamal singh\n",
      "Enter the sub string: a\n",
      "element found at position 4\n"
     ]
    }
   ],
   "source": [
    "#rfind()\n",
    "main_string=input('Enter the main String: ')\n",
    "sub_string=input('Enter the sub string: ')\n",
    "pos=main_string.rfind(sub_string)\n",
    "if pos!=-1:\n",
    "    print('element found at position',pos+1)\n",
    "else:\n",
    "    print('element not found')"
   ]
  },
  {
   "cell_type": "code",
   "execution_count": 112,
   "metadata": {
    "scrolled": true
   },
   "outputs": [
    {
     "name": "stdout",
     "output_type": "stream",
     "text": [
      "Enter the main String: kkk\n",
      "Enter the sub string: j\n",
      "element not found\n"
     ]
    }
   ],
   "source": [
    "#index()\n",
    "\n",
    "main_string=input('Enter the main String: ')\n",
    "sub_string=input('Enter the sub string: ')\n",
    "try:\n",
    "    pos=main_string.index(sub_string)\n",
    "except ValueError: \n",
    "    print('element not found')\n",
    "else:\n",
    "    print('element found at position',pos+1)"
   ]
  },
  {
   "cell_type": "markdown",
   "metadata": {},
   "source": [
    "These methods only return first occurennces but if we want to find inde of all occurennces we have to create our own logic."
   ]
  },
  {
   "cell_type": "code",
   "execution_count": 9,
   "metadata": {},
   "outputs": [
    {
     "name": "stdout",
     "output_type": "stream",
     "text": [
      "Enter the main String: kmal\n",
      "Enter the sub string: a\n",
      "Element found at position 3\n"
     ]
    },
    {
     "ename": "ValueError",
     "evalue": "substring not found",
     "output_type": "error",
     "traceback": [
      "\u001b[1;31m---------------------------------------------------------------------------\u001b[0m",
      "\u001b[1;31mValueError\u001b[0m                                Traceback (most recent call last)",
      "\u001b[1;32m<ipython-input-9-99a692e6c136>\u001b[0m in \u001b[0;36m<module>\u001b[1;34m\u001b[0m\n\u001b[0;32m      7\u001b[0m \u001b[0mi\u001b[0m\u001b[1;33m=\u001b[0m\u001b[1;36m0\u001b[0m\u001b[1;33m\u001b[0m\u001b[1;33m\u001b[0m\u001b[0m\n\u001b[0;32m      8\u001b[0m \u001b[1;32mwhile\u001b[0m \u001b[0mi\u001b[0m\u001b[1;33m<\u001b[0m\u001b[0mn\u001b[0m\u001b[1;33m:\u001b[0m\u001b[1;33m\u001b[0m\u001b[1;33m\u001b[0m\u001b[0m\n\u001b[1;32m----> 9\u001b[1;33m     \u001b[0mpos\u001b[0m\u001b[1;33m=\u001b[0m\u001b[0mmain_string\u001b[0m\u001b[1;33m.\u001b[0m\u001b[0mindex\u001b[0m\u001b[1;33m(\u001b[0m\u001b[0msub_string\u001b[0m\u001b[1;33m,\u001b[0m\u001b[0mi\u001b[0m\u001b[1;33m,\u001b[0m\u001b[0mn\u001b[0m\u001b[1;33m)\u001b[0m\u001b[1;33m\u001b[0m\u001b[1;33m\u001b[0m\u001b[0m\n\u001b[0m\u001b[0;32m     10\u001b[0m     \u001b[1;32mif\u001b[0m \u001b[0mpos\u001b[0m\u001b[1;33m!=\u001b[0m\u001b[1;33m-\u001b[0m\u001b[1;36m1\u001b[0m\u001b[1;33m:\u001b[0m\u001b[1;33m\u001b[0m\u001b[1;33m\u001b[0m\u001b[0m\n\u001b[0;32m     11\u001b[0m         \u001b[0mprint\u001b[0m\u001b[1;33m(\u001b[0m\u001b[1;34m'Element found at position'\u001b[0m\u001b[1;33m,\u001b[0m\u001b[0mpos\u001b[0m\u001b[1;33m+\u001b[0m\u001b[1;36m1\u001b[0m\u001b[1;33m)\u001b[0m\u001b[1;33m\u001b[0m\u001b[1;33m\u001b[0m\u001b[0m\n",
      "\u001b[1;31mValueError\u001b[0m: substring not found"
     ]
    }
   ],
   "source": [
    "#Logic 1:\n",
    "\n",
    "main_string=input('Enter the main String: ')\n",
    "sub_string=input('Enter the sub string: ')\n",
    "flag=False\n",
    "n=len(main_string)\n",
    "i=0\n",
    "while i<n:\n",
    "    pos=main_string.find(sub_string,i,n) \n",
    "    if pos!=-1:\n",
    "        print('Element found at position',pos+1)\n",
    "        i=pos+1  #logic\n",
    "        flag=True\n",
    "    else:\n",
    "        i=i+1\n",
    "if flag==False:\n",
    "    print('Element not found')"
   ]
  },
  {
   "cell_type": "code",
   "execution_count": 7,
   "metadata": {},
   "outputs": [
    {
     "name": "stdout",
     "output_type": "stream",
     "text": [
      "Enter the main String: \n",
      "Enter the sub string: \n",
      "element found at position:  1\n"
     ]
    }
   ],
   "source": [
    "#Logic 2:\n",
    "\n",
    "main_string=input('Enter the main String: ')\n",
    "sub_string=input('Enter the sub string: ')\n",
    "flag=False\n",
    "n=len(main_string)\n",
    "pos=-1\n",
    "while True:\n",
    "    pos=main_string.find(sub_string,pos+1,n)  #pos+1\n",
    "    if pos==-1:\n",
    "        break\n",
    "    print('element found at position: ',pos+1)\n",
    "    flag=True\n",
    "if flag==False:\n",
    "    print('element not found')"
   ]
  },
  {
   "cell_type": "code",
   "execution_count": 16,
   "metadata": {},
   "outputs": [
    {
     "ename": "SyntaxError",
     "evalue": "invalid syntax (<ipython-input-16-e1527edd819c>, line 17)",
     "output_type": "error",
     "traceback": [
      "\u001b[1;36m  File \u001b[1;32m\"<ipython-input-16-e1527edd819c>\"\u001b[1;36m, line \u001b[1;32m17\u001b[0m\n\u001b[1;33m    if except ValueError:\u001b[0m\n\u001b[1;37m     ^\u001b[0m\n\u001b[1;31mSyntaxError\u001b[0m\u001b[1;31m:\u001b[0m invalid syntax\n"
     ]
    }
   ],
   "source": [
    "#logic 1 with index() function\n",
    "#to be confirmed: \n",
    "\n",
    "\n",
    "main_string=input('Enter the main String: ')\n",
    "sub_string=input('Enter the sub string: ')\n",
    "flag=False\n",
    "n=len(main_string)\n",
    "i=0\n",
    "try:\n",
    "    while i<n:\n",
    "        pos=main_string.find(sub_string,i,n) \n",
    "        if pos!=-1:\n",
    "            print('Element found at position',pos+1)\n",
    "            i=pos+1  #logic\n",
    "            flag=True\n",
    "        else:\n",
    "            i=i+1\n",
    "\n",
    "except ValueError:\n",
    "    print('value not found')\n"
   ]
  },
  {
   "cell_type": "code",
   "execution_count": 21,
   "metadata": {},
   "outputs": [
    {
     "name": "stdout",
     "output_type": "stream",
     "text": [
      "Enter the main String: kamal\n",
      "Enter the sub string: a\n",
      "'a' has occured 2 times in kamal\n"
     ]
    }
   ],
   "source": [
    "#count():  this method returns the number of occurences of the substirng in the mainstring.\n",
    "\n",
    "#FORMAT:  main_string.count(sub_string)\n",
    "\n",
    "main_string=input('Enter the main String: ')\n",
    "sub_string=input('Enter the sub string: ')\n",
    "n=main_string.count(sub_string)\n",
    "print('\\'%s\\' has occured %d times in %s'%(sub_string,n,main_string))\n",
    "\n"
   ]
  },
  {
   "cell_type": "code",
   "execution_count": 23,
   "metadata": {},
   "outputs": [
    {
     "name": "stdout",
     "output_type": "stream",
     "text": [
      "Enter the main String: kamal\n",
      "Enter the sub string: a\n",
      "'a' has occured 1 times in kamal\n"
     ]
    }
   ],
   "source": [
    "#we can limit the range of search by: \n",
    "\n",
    "#   main_string.count(sub_string,beginning,end)\n",
    "\n",
    "\n",
    "main_string=input('Enter the main String: ')\n",
    "sub_string=input('Enter the sub string: ')\n",
    "n=main_string.count(sub_string,2,len(main_string)) #beg=2, end= lenght of string\n",
    "print('\\'%s\\' has occured %d times in %s'%(sub_string,n,main_string))\n"
   ]
  },
  {
   "cell_type": "markdown",
   "metadata": {},
   "source": [
    " ### replace( ) function \n",
    " \n",
    " this method is used to replace a substring present in a string with another string. Return a copy with all occurrences of substring old replaced by new.\n",
    "\n",
    "  count attribute\n",
    "    Maximum number of occurrences to replace.\n",
    "    -1 (the default value) means replace all occurrences.\n",
    "\n",
    "If the optional argument count is given, only the first count occurrences are replaced.\n",
    " \n",
    " FORMAT: \n",
    " \n",
    " > main_string.replace( old , new , count=-1 )\n",
    " \n",
    " It doesn't makes any changes to the original string."
   ]
  },
  {
   "cell_type": "code",
   "execution_count": 35,
   "metadata": {},
   "outputs": [
    {
     "name": "stdout",
     "output_type": "stream",
     "text": [
      "it is a bike\n",
      "it is a car\n"
     ]
    }
   ],
   "source": [
    "string='it is a car'\n",
    "print(string.replace('car','bike'))\n",
    "print(string) #no change in original string"
   ]
  },
  {
   "cell_type": "markdown",
   "metadata": {},
   "source": [
    "### Splitting and Joining String\n",
    "\n",
    "#### split( ) function\n",
    "\n",
    " split() method return a list of the words in the string, using sep as the delimiter string. String is broken into pieces using seperator.\n",
    " \n",
    " FORMAT: \n",
    " \n",
    " > string.split( sep=None, maxsplit=-1 )\n",
    " \n",
    " sep (sepeartor)\n",
    "  The delimiter according which to split the string. By default it is None. Seperator can be any charcater or string\n",
    "  \n",
    " maxsplit\n",
    "  Maximum number of splits to do.\n",
    "  -1 (the default value) means no limit."
   ]
  },
  {
   "cell_type": "code",
   "execution_count": 37,
   "metadata": {},
   "outputs": [
    {
     "name": "stdout",
     "output_type": "stream",
     "text": [
      "['one', 'two', 'three', 'four']\n",
      "one two three four\n"
     ]
    }
   ],
   "source": [
    "string='one two three four'\n",
    "print(string.split(' '))"
   ]
  },
  {
   "cell_type": "markdown",
   "metadata": {},
   "source": [
    " "
   ]
  },
  {
   "cell_type": "markdown",
   "metadata": {},
   "source": [
    "#### join( ) function\n",
    "\n",
    "join( ) method is used when we want to concatenate a group(iterable object) of strings to one single string line.\n",
    "\n",
    "FORMAT: \n",
    "\n",
    "> sep.join( iterable )\n",
    "\n",
    "    sep- seperator by which we want to join those strings\n",
    "    iterable: group of string\n",
    "The result is returned as a new string.\n"
   ]
  },
  {
   "cell_type": "code",
   "execution_count": 40,
   "metadata": {},
   "outputs": [
    {
     "name": "stdout",
     "output_type": "stream",
     "text": [
      "enter the character: -\n",
      "couliflower-brinjal-egg\n"
     ]
    }
   ],
   "source": [
    "vegies=['couliflower','brinjal','egg',]\n",
    "sep=input('enter the character: ')\n",
    "print(sep.join(vegies))"
   ]
  },
  {
   "cell_type": "markdown",
   "metadata": {},
   "source": [
    "### NOTE: \n",
    "\n",
    "> To make changes in the element of the string we can use split() and join() method\n"
   ]
  },
  {
   "cell_type": "code",
   "execution_count": 48,
   "metadata": {},
   "outputs": [
    {
     "name": "stdout",
     "output_type": "stream",
     "text": [
      "['H', 'e', 'l', 'l', 'o']\n",
      "kello\n"
     ]
    }
   ],
   "source": [
    "#example\n",
    "\n",
    "samp='Hello'\n",
    "lst=list(samp)\n",
    "print(lst)\n",
    "lst[0]='k'\n",
    "samp=''.join(lst)\n",
    "print(samp)"
   ]
  },
  {
   "cell_type": "markdown",
   "metadata": {},
   "source": [
    ">  we can also insert a string in between the string defining the index where we want to enter the string"
   ]
  },
  {
   "cell_type": "code",
   "execution_count": 64,
   "metadata": {},
   "outputs": [
    {
     "name": "stdout",
     "output_type": "stream",
     "text": [
      "old string: Its a summer\n",
      "enter the psoition: 4\n",
      "enter the substring to be added: shiny\n",
      "['I', 't', 's', ' ', 'a', 's', 'h', 'i', 'n', 'y', ' ']\n",
      "['I', 't', 's', ' ', 'a', 's', 'h', 'i', 'n', 'y', ' ', ' ', 's', 'u', 'm', 'm', 'e', 'r']\n",
      "updated string:  Its ashiny  summer\n"
     ]
    }
   ],
   "source": [
    "string='Its a summer'\n",
    "print('old string:',string)\n",
    "n=int(input('enter the psoition: '))\n",
    "str1=[]\n",
    "for i in range(n+1):\n",
    "    str1.append(string[i])\n",
    "sub=input('enter the substring to be added: ')\n",
    "str1.extend(sub+' ')\n",
    "print(str1)\n",
    "for i in range(n+1,len(string)):\n",
    "    str1.append(string[i])\n",
    "print(str1)\n",
    "string=''.join(str1)\n",
    "print('updated string: ',string)"
   ]
  },
  {
   "cell_type": "markdown",
   "metadata": {},
   "source": [
    " "
   ]
  },
  {
   "cell_type": "markdown",
   "metadata": {},
   "source": [
    "### Changing cases of the String: \n",
    "\n",
    "Thare are 4 methods present in the string which cas change the cases of the string.\n",
    "\n",
    ">string.upper(): Return a copy of the string converted to uppercase.\n",
    "    \n",
    ">string.lower(): Return a copy of the string converted to lowercase.\n",
    "    \n",
    ">string.swapcase(): Convert uppercase characters to lowercase and lowercase characters to uppercase.\n",
    "    \n",
    ">string.title(): return a string scuch that first elmenet of each word in the string gets updated in upper case\n",
    "\n",
    "\n",
    "        makes no changes to original string."
   ]
  },
  {
   "cell_type": "code",
   "execution_count": 66,
   "metadata": {},
   "outputs": [
    {
     "name": "stdout",
     "output_type": "stream",
     "text": [
      "heLLo kaMal! how aRE yOu\n",
      "string.upper() HELLO KAMAL! HOW ARE YOU\n",
      "string.lower() hello kamal! how are you\n",
      "string.swapcase() HEllO KAmAL! HOW Are YoU\n",
      "string.title() Hello Kamal! How Are You\n",
      "heLLo kaMal! how aRE yOu\n"
     ]
    }
   ],
   "source": [
    "string='heLLo kaMal! how aRE yOu'\n",
    "print(string)\n",
    "print('string.upper()',string.upper())\n",
    "print('string.lower()',string.lower())\n",
    "print('string.swapcase()',string.swapcase())\n",
    "print('string.title()',string.title())"
   ]
  },
  {
   "cell_type": "code",
   "execution_count": 70,
   "metadata": {},
   "outputs": [
    {
     "name": "stdout",
     "output_type": "stream",
     "text": [
      "heLLo kaMal! how aRE yOu\n",
      "False\n",
      "True\n",
      "False\n"
     ]
    }
   ],
   "source": [
    "#startswith( ) method: returns True if the main string is starting with specified substring,otherwise False\n",
    "#FORMAT: main_string.startswith(substring)\n",
    "\n",
    "#this method is case senstive\n",
    "\n",
    "print(string)\n",
    "print(string.startswith('hello'))\n",
    "\n",
    "print('Hello'.startswith('H'))\n",
    "print('Hello'.startswith('h'))"
   ]
  },
  {
   "cell_type": "code",
   "execution_count": 72,
   "metadata": {},
   "outputs": [
    {
     "name": "stdout",
     "output_type": "stream",
     "text": [
      "heLLo kaMal! how aRE yOu\n",
      "True\n",
      "True\n",
      "False\n"
     ]
    }
   ],
   "source": [
    "#endsswith( ) method: returns True if the main string is ending with specified substring,otherwise False\n",
    "#FORMAT: main_string.endswith(substring)\n",
    "\n",
    "#this method is case senstive\n",
    "\n",
    "print(string)\n",
    "print(string.endswith('yOu'))\n",
    "\n",
    "print('Hello'.endswith('o'))\n",
    "print('Hello'.endswith('O'))"
   ]
  },
  {
   "cell_type": "markdown",
   "metadata": {},
   "source": [
    "### Sorting in string\n",
    "\n",
    "We use sort( ) and sorted( ) to sort the group of strings in alphabetical order.\n",
    "\n",
    "#### sort( )\n",
    "\n",
    "> (group of string).sort(*, key=None, reverse=False): \n",
    "\n",
    "this method makes changes in the original group order\n",
    "    \n",
    "    reverse=false means ascending order\n",
    "    reverse=True means descending order"
   ]
  },
  {
   "cell_type": "code",
   "execution_count": 76,
   "metadata": {},
   "outputs": [
    {
     "name": "stdout",
     "output_type": "stream",
     "text": [
      "['four', 'one', 'three', 'two']\n"
     ]
    }
   ],
   "source": [
    "str_list=['one','two','three','four']\n",
    "str_list.sort()\n",
    "print(str_list)"
   ]
  },
  {
   "cell_type": "markdown",
   "metadata": {},
   "source": [
    "#### sorted( )\n",
    "\n",
    "Return a new list containing all items from the iterable in ascending order.\n",
    "\n",
    "> sorted(iterable, /, *, key=None, reverse=False)\n"
   ]
  },
  {
   "cell_type": "code",
   "execution_count": 79,
   "metadata": {},
   "outputs": [
    {
     "data": {
      "text/plain": [
       "['four', 'one', 'three', 'two']"
      ]
     },
     "execution_count": 79,
     "metadata": {},
     "output_type": "execute_result"
    }
   ],
   "source": [
    "sorted(str_list)"
   ]
  },
  {
   "cell_type": "markdown",
   "metadata": {},
   "source": [
    "### Searching in String\n",
    "\n",
    "Searching for a  substring inside a string is done by iterating the string,if found return the appropriate result."
   ]
  },
  {
   "cell_type": "markdown",
   "metadata": {},
   "source": [
    " "
   ]
  },
  {
   "cell_type": "markdown",
   "metadata": {},
   "source": [
    " "
   ]
  },
  {
   "cell_type": "markdown",
   "metadata": {},
   "source": [
    "### In-Built Functions of String"
   ]
  },
  {
   "cell_type": "code",
   "execution_count": 91,
   "metadata": {},
   "outputs": [],
   "source": [
    "sample='my name is Kamal Singh'\n"
   ]
  },
  {
   "cell_type": "code",
   "execution_count": 92,
   "metadata": {},
   "outputs": [
    {
     "data": {
      "text/plain": [
       "'My name is kamal singh'"
      ]
     },
     "execution_count": 92,
     "metadata": {},
     "output_type": "execute_result"
    }
   ],
   "source": [
    "sample.capitalize()\n",
    "#capitalie first letter of each word in the string"
   ]
  },
  {
   "cell_type": "code",
   "execution_count": 93,
   "metadata": {},
   "outputs": [
    {
     "data": {
      "text/plain": [
       "'my name is kamal singh'"
      ]
     },
     "execution_count": 93,
     "metadata": {},
     "output_type": "execute_result"
    }
   ],
   "source": [
    "sample.casefold()\n",
    "#Return a version of the string suitable for caseless comparisons(meaning make sthe original string to only small case.)"
   ]
  },
  {
   "cell_type": "code",
   "execution_count": 94,
   "metadata": {},
   "outputs": [
    {
     "data": {
      "text/plain": [
       "'         my name is Kamal Singh         '"
      ]
     },
     "execution_count": 94,
     "metadata": {},
     "output_type": "execute_result"
    }
   ],
   "source": [
    "sample.center(40)\n",
    "#puts the string into center accoridng to the width given OR Return a centered string of length of given argumented width"
   ]
  },
  {
   "cell_type": "code",
   "execution_count": 97,
   "metadata": {},
   "outputs": [
    {
     "data": {
      "text/plain": [
       "1"
      ]
     },
     "execution_count": 97,
     "metadata": {},
     "output_type": "execute_result"
    }
   ],
   "source": [
    "sample.count('a')\n",
    "#counts number of occurences of the given substring in the main_string\n",
    "\n",
    "sample.count('a',4,11) #we can limit the search using beg and end argument values"
   ]
  },
  {
   "cell_type": "code",
   "execution_count": 117,
   "metadata": {},
   "outputs": [
    {
     "name": "stdout",
     "output_type": "stream",
     "text": [
      "b'my name is Kamal Singh'\n",
      "b'm\\x00y\\x00 \\x00n\\x00a\\x00m\\x00e\\x00 \\x00i\\x00s\\x00 \\x00K\\x00a\\x00m\\x00a\\x00l\\x00 \\x00S\\x00i\\x00n\\x00g\\x00h\\x00'\n"
     ]
    },
    {
     "name": "stderr",
     "output_type": "stream",
     "text": [
      "C:\\Users\\Kamal Singh\\Anaconda3\\lib\\site-packages\\ipykernel_launcher.py:6: DeprecationWarning: unicode_internal codec has been deprecated\n",
      "  \n",
      "C:\\Users\\Kamal Singh\\Anaconda3\\lib\\site-packages\\ipykernel_launcher.py:9: DeprecationWarning: unicode_internal codec has been deprecated\n",
      "  if __name__ == '__main__':\n"
     ]
    }
   ],
   "source": [
    "print(sample.encode(encoding='utf-8'))\n",
    "\n",
    "#Encode the string using the codec registered for encoding.\n",
    "#encoding is argument that takes type of encoding\n",
    "\n",
    "print(sample.encode(encoding='unicode_internal'))\n",
    "\n",
    "\n",
    "str00=sample.encode(encoding='unicode_internal')"
   ]
  },
  {
   "cell_type": "markdown",
   "metadata": {},
   "source": [
    " "
   ]
  },
  {
   "cell_type": "code",
   "execution_count": 119,
   "metadata": {},
   "outputs": [
    {
     "name": "stderr",
     "output_type": "stream",
     "text": [
      "C:\\Users\\Kamal Singh\\Anaconda3\\lib\\site-packages\\ipykernel_launcher.py:3: DeprecationWarning: unicode_internal codec has been deprecated\n",
      "  This is separate from the ipykernel package so we can avoid doing imports until\n"
     ]
    },
    {
     "data": {
      "text/plain": [
       "'my name is Kamal Singh'"
      ]
     },
     "execution_count": 119,
     "metadata": {},
     "output_type": "execute_result"
    }
   ],
   "source": [
    "#decode\n",
    "\n",
    "str00.decode('unicode_internal')"
   ]
  },
  {
   "cell_type": "markdown",
   "metadata": {},
   "source": [
    " "
   ]
  },
  {
   "cell_type": "code",
   "execution_count": 122,
   "metadata": {},
   "outputs": [
    {
     "name": "stdout",
     "output_type": "stream",
     "text": [
      "False\n",
      "True\n"
     ]
    }
   ],
   "source": [
    "print(sample.endswith('kamal'))\n",
    "\n",
    "#returns True if the main_string ends with the given string,otherwise false\n",
    "\n",
    "print(sample.startswith('my'))\n",
    "\n",
    "#returns True if the main_string starts with the given substring,otherise False\n",
    "\n",
    "#both are case senstive\n",
    "\n"
   ]
  },
  {
   "cell_type": "code",
   "execution_count": 133,
   "metadata": {},
   "outputs": [
    {
     "name": "stdout",
     "output_type": "stream",
     "text": [
      "my name is       kamal singh  #bydefault 8\n",
      "my name is   kamal singh  #for tabsize=3\n",
      "my name is                               kamal singh  #for tabsize=40\n"
     ]
    }
   ],
   "source": [
    "print('my name is \\t kamal singh  #bydefault 8'.expandtabs())\n",
    "\n",
    "#Return a copy where all tab characters are expanded using spaces means puts spaces of length tabsize in place of \\t\n",
    "#bydefault tab size is 8\n",
    "\n",
    "print('my name is \\t kamal singh  #for tabsize=3'.expandtabs(tabsize=3))\n",
    "\n",
    "print('my name is \\t kamal singh  #for tabsize=40'.expandtabs(tabsize=40))\n",
    "\n",
    "#it mainly expands  or contracts the tab"
   ]
  },
  {
   "cell_type": "code",
   "execution_count": 143,
   "metadata": {},
   "outputs": [
    {
     "name": "stdout",
     "output_type": "stream",
     "text": [
      "hello               \n",
      "               hello\n"
     ]
    }
   ],
   "source": [
    "print('hello'.ljust(20))\n",
    "\n",
    "#Return a left-justified string of length width means alligns the string on left\n",
    "\n",
    "print('hello'.rjust(20,))\n",
    "\n",
    "##Return a right-justified string of length width means alligns the string on right"
   ]
  },
  {
   "cell_type": "code",
   "execution_count": null,
   "metadata": {},
   "outputs": [],
   "source": [
    "# maketrans() : The string maketrans() method returns a mapping table for translation usable for translate() method.\n",
    "\n",
    "#It is a static method that creates a one to one mapping of a character to its translation/replacement.\n",
    "\n",
    "\n",
    "\n",
    "'hello'.maketrans()"
   ]
  },
  {
   "cell_type": "code",
   "execution_count": 1,
   "metadata": {},
   "outputs": [
    {
     "ename": "NameError",
     "evalue": "name 'sample' is not defined",
     "output_type": "error",
     "traceback": [
      "\u001b[1;31m---------------------------------------------------------------------------\u001b[0m",
      "\u001b[1;31mNameError\u001b[0m                                 Traceback (most recent call last)",
      "\u001b[1;32m<ipython-input-1-b58e72df33b4>\u001b[0m in \u001b[0;36m<module>\u001b[1;34m\u001b[0m\n\u001b[0;32m      9\u001b[0m \u001b[0msecondString\u001b[0m \u001b[1;33m=\u001b[0m \u001b[1;34m\"kamal\"\u001b[0m\u001b[1;33m\u001b[0m\u001b[1;33m\u001b[0m\u001b[0m\n\u001b[0;32m     10\u001b[0m \u001b[0mthirdString\u001b[0m \u001b[1;33m=\u001b[0m \u001b[1;34m\"singh\"\u001b[0m\u001b[1;33m\u001b[0m\u001b[1;33m\u001b[0m\u001b[0m\n\u001b[1;32m---> 11\u001b[1;33m \u001b[0msample\u001b[0m\u001b[1;33m.\u001b[0m\u001b[0mtranslate\u001b[0m\u001b[1;33m(\u001b[0m\u001b[1;33m)\u001b[0m\u001b[1;33m\u001b[0m\u001b[1;33m\u001b[0m\u001b[0m\n\u001b[0m",
      "\u001b[1;31mNameError\u001b[0m: name 'sample' is not defined"
     ]
    }
   ],
   "source": [
    "9#translate method:  Replace each character in the string using the given translation table.\n",
    "\n",
    "#table\n",
    "#   Translation table, which must be a mapping of Unicode ordinals to\n",
    "#   Unicode ordinals, strings, or None.\n",
    "\n",
    "# first string\n",
    "firstString = \"agam\"\n",
    "secondString = \"kamal\"\n",
    "thirdString = \"singh\"\n",
    "sample.translate()"
   ]
  },
  {
   "cell_type": "markdown",
   "metadata": {},
   "source": [
    "### String testing methods"
   ]
  },
  {
   "cell_type": "code",
   "execution_count": 2,
   "metadata": {},
   "outputs": [],
   "source": [
    "string='kamal1282'"
   ]
  },
  {
   "cell_type": "code",
   "execution_count": 8,
   "metadata": {},
   "outputs": [
    {
     "name": "stdout",
     "output_type": "stream",
     "text": [
      "True\n",
      "True\n",
      "True\n"
     ]
    }
   ],
   "source": [
    "#isalnum()\n",
    "#Returns True if all characters in the string are alphanumeric,otherwise false\n",
    "\n",
    "print(string.isalnum()) \n",
    "\n",
    "print('kk'.isalnum())  #it works for only alphabet also\n",
    "\n",
    "print('22'.isalnum())  #it works for only numeric also"
   ]
  },
  {
   "cell_type": "code",
   "execution_count": 13,
   "metadata": {},
   "outputs": [
    {
     "name": "stdout",
     "output_type": "stream",
     "text": [
      "False\n",
      "False\n",
      "True\n"
     ]
    }
   ],
   "source": [
    "#isdecimal()\n",
    "#Returns True if all characters in the string are decimals,otherise False\n",
    "\n",
    "\n",
    "print(string.isdecimal())\n",
    "\n",
    "print('11.683'.isdecimal()) # . is not decimal\n",
    "\n",
    "print('11'.isdecimal())"
   ]
  },
  {
   "cell_type": "code",
   "execution_count": 11,
   "metadata": {},
   "outputs": [
    {
     "name": "stdout",
     "output_type": "stream",
     "text": [
      "False\n",
      "True\n",
      "False\n"
     ]
    }
   ],
   "source": [
    "#isalpha()--Returns True if all characters in the string are in the alphabet\n",
    "\n",
    "print(string.isalpha())\n",
    "print('hello'.isalpha())\n",
    "print('121'.isalpha())"
   ]
  },
  {
   "cell_type": "code",
   "execution_count": 14,
   "metadata": {},
   "outputs": [
    {
     "name": "stdout",
     "output_type": "stream",
     "text": [
      "True\n",
      "True\n"
     ]
    }
   ],
   "source": [
    "#isidentifier()`\tReturns True if the string is an identifier\n",
    "\n",
    "print(string.isidentifier())\n",
    "print('udubd'.isidentifier())"
   ]
  },
  {
   "cell_type": "code",
   "execution_count": 16,
   "metadata": {},
   "outputs": [
    {
     "name": "stdout",
     "output_type": "stream",
     "text": [
      "True\n",
      "False\n"
     ]
    }
   ],
   "source": [
    "#istitle() \tReturns True if the string follows the rules of a title i.e. first letter of each word should be capital\n",
    "\n",
    "print('Hello Kamal'.istitle())\n",
    "print('hello kamal'.istitle())\n"
   ]
  },
  {
   "cell_type": "code",
   "execution_count": 17,
   "metadata": {},
   "outputs": [],
   "source": [
    "#islower() checks if all elements are in lowercase\n",
    "\n",
    "#isupper() checks if all elements are in uppercase\n",
    "\n",
    "#isspace() Returns True if all characters in the string are whitespaces"
   ]
  },
  {
   "cell_type": "code",
   "execution_count": 19,
   "metadata": {},
   "outputs": [
    {
     "name": "stdout",
     "output_type": "stream",
     "text": [
      "False\n",
      "False\n",
      "True\n"
     ]
    }
   ],
   "source": [
    "#isdigit()\tReturns True if all characters in the string are digits\n",
    "\n",
    "print(string.isdigit())\n",
    "\n",
    "print('11.683'.isdigit()) # . is not digit\n",
    "\n",
    "print('11'.isdigit())"
   ]
  },
  {
   "cell_type": "code",
   "execution_count": null,
   "metadata": {},
   "outputs": [],
   "source": []
  }
 ],
 "metadata": {
  "kernelspec": {
   "display_name": "Python 3",
   "language": "python",
   "name": "python3"
  },
  "language_info": {
   "codemirror_mode": {
    "name": "ipython",
    "version": 3
   },
   "file_extension": ".py",
   "mimetype": "text/x-python",
   "name": "python",
   "nbconvert_exporter": "python",
   "pygments_lexer": "ipython3",
   "version": "3.7.4"
  }
 },
 "nbformat": 4,
 "nbformat_minor": 2
}
