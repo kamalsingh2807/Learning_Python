{
 "cells": [
  {
   "cell_type": "markdown",
   "metadata": {},
   "source": [
    "# Polymorphism\n",
    "\n",
    "**Poly**: *many* **morphism**: *many* , used to show that something exhibits many forms. E.g.: Flour can be converted to Bread,Burger,Roti. So in case of programming, variable, objects adn methods also exhibit the same nature of having different forms. Variable can point to several kinds of objects, and objects may  take different behaviours with different context, or methods( a single )  may perform multiple tasks. This is called polymorphism. \n",
    "\n",
    ">> Python has Built-In Polymorphism\n",
    "\n",
    "In pyhton, type of the variable is implicitly defined internally and it points the m/m location of the data irrespective of the type of data. Means, :\n",
    "* Pyhton type system is *dynamic* hence we need not to define datatype, it is implicitly defined based on the context.\n",
    "* Python type system is *strong* as we can check type of any variable using type() function\n",
    "\n",
    "### Duck Typing Philosphy in Python\n",
    "Consider an example where we have two classes Duck and Human both having talk() method which is invoked by call_talk() method."
   ]
  },
  {
   "cell_type": "code",
   "execution_count": 20,
   "metadata": {},
   "outputs": [
    {
     "name": "stdout",
     "output_type": "stream",
     "text": [
      "Quack Quack!!\n",
      "Hello Hii!!\n"
     ]
    }
   ],
   "source": [
    "#Duck_class\n",
    "class Duck:\n",
    "    def talk(self):\n",
    "        print('Quack Quack!!')\n",
    "#Human_Class\n",
    "class Human:\n",
    "    def talk(self):\n",
    "        print('Hello Hii!!')\n",
    "# call_talk() method which invokes talk() method\n",
    "def call_talk(obj):  #this method doesn't bothers about the object being passed.\n",
    "    obj.talk()\n",
    "\n",
    "#creating instances\n",
    "d=Duck()\n",
    "h=Human()\n",
    "#calling call_talk method and passing the object\n",
    "# depending upon the object being passed to call_talk, talk() method of that class is executed\n",
    "call_talk(d)  #wtih duck class object\n",
    "call_talk(h)  #with human class object"
   ]
  },
  {
   "cell_type": "markdown",
   "metadata": {},
   "source": [
    "> Above code is an example of Ducktyping"
   ]
  },
  {
   "cell_type": "markdown",
   "metadata": {},
   "source": [
    "abowe in call_talk() method we didn't mention the object type being passed, we only pass a variable obj and with that obj it calls the talk() method, whatever we pass during call_talk() method, at runtime obj refers to the class instance passed.\n",
    "\n",
    "During runtime the method asscociated with the class instance is executed. If it is found that the method doesnot belongs to any that object, an error called *Attribute Error* occurs.\n",
    "\n",
    "Below we also observe that *the behaviour of the talk() method changes depending on the object type*"
   ]
  },
  {
   "cell_type": "code",
   "execution_count": 21,
   "metadata": {},
   "outputs": [
    {
     "name": "stdout",
     "output_type": "stream",
     "text": [
      "Hello Hii!!\n",
      "Quack Quack!!\n"
     ]
    },
    {
     "ename": "AttributeError",
     "evalue": "'Dog' object has no attribute 'talk'",
     "output_type": "error",
     "traceback": [
      "\u001b[1;31m---------------------------------------------------------------------------\u001b[0m",
      "\u001b[1;31mAttributeError\u001b[0m                            Traceback (most recent call last)",
      "\u001b[1;32m<ipython-input-21-bd5bafd09e3f>\u001b[0m in \u001b[0;36m<module>\u001b[1;34m\u001b[0m\n\u001b[0;32m     17\u001b[0m \u001b[0mh\u001b[0m\u001b[1;33m.\u001b[0m\u001b[0mtalk\u001b[0m\u001b[1;33m(\u001b[0m\u001b[1;33m)\u001b[0m\u001b[1;33m\u001b[0m\u001b[1;33m\u001b[0m\u001b[0m\n\u001b[0;32m     18\u001b[0m \u001b[0md\u001b[0m\u001b[1;33m.\u001b[0m\u001b[0mtalk\u001b[0m\u001b[1;33m(\u001b[0m\u001b[1;33m)\u001b[0m\u001b[1;33m\u001b[0m\u001b[1;33m\u001b[0m\u001b[0m\n\u001b[1;32m---> 19\u001b[1;33m \u001b[0mx\u001b[0m\u001b[1;33m.\u001b[0m\u001b[0mtalk\u001b[0m\u001b[1;33m(\u001b[0m\u001b[1;33m)\u001b[0m\u001b[1;33m\u001b[0m\u001b[1;33m\u001b[0m\u001b[0m\n\u001b[0m\u001b[0;32m     20\u001b[0m \u001b[1;31m#we get attribute error\u001b[0m\u001b[1;33m\u001b[0m\u001b[1;33m\u001b[0m\u001b[1;33m\u001b[0m\u001b[0m\n",
      "\u001b[1;31mAttributeError\u001b[0m: 'Dog' object has no attribute 'talk'"
     ]
    }
   ],
   "source": [
    "class Duck:\n",
    "    def talk(self):\n",
    "        print('Quack Quack!!')\n",
    "class Human:\n",
    "    def talk(self):\n",
    "        print('Hello Hii!!')\n",
    "class Dog:\n",
    "    def bark(self):\n",
    "        print('Bow, Wow!!')\n",
    "def call_talk(obj):\n",
    "    obj.talk()\n",
    "d=Duck()\n",
    "h=Human()\n",
    "x=Dog()\n",
    "\n",
    "#Calling Functions\n",
    "h.talk()\n",
    "d.talk()\n",
    "x.talk()\n",
    "#we get attribute error"
   ]
  },
  {
   "cell_type": "markdown",
   "metadata": {},
   "source": [
    "To overcome this problem, we use **hasattr()** which checks whether the object passed to call_talk() has the method being invoked or not.\n",
    "\n",
    "                    hasattr( object, attribute )\n",
    "attribute cn be variable or method. If the attribute is found related to the instance it returns True, otherwise False.\n"
   ]
  },
  {
   "cell_type": "code",
   "execution_count": 22,
   "metadata": {},
   "outputs": [
    {
     "name": "stdout",
     "output_type": "stream",
     "text": [
      "Hello Hii!!\n",
      "Quack Quack!!\n",
      "Bow, Wow!!\n"
     ]
    }
   ],
   "source": [
    "class Duck:\n",
    "    def talk(self):\n",
    "        print('Quack Quack!!')\n",
    "class Human:\n",
    "    def talk(self):\n",
    "        print('Hello Hii!!')\n",
    "class Dog:\n",
    "    def bark(self):\n",
    "        print('Bow, Wow!!')\n",
    "def call_talk(obj):\n",
    "    if hasattr(obj,'talk'):\n",
    "        obj.talk()\n",
    "    elif hasattr(obj,'bark'):\n",
    "        obj.bark()\n",
    "    else:\n",
    "        print('Invalid Object Request')\n",
    "    \n",
    "#instance creation\n",
    "d=Duck()\n",
    "h=Human()\n",
    "x=Dog()\n",
    "\n",
    "#Calling Functions\n",
    "h.talk()\n",
    "d.talk()\n",
    "x.bark()\n",
    "#we get attribute error"
   ]
  },
  {
   "cell_type": "markdown",
   "metadata": {},
   "source": [
    "## Operator Overloading\n",
    "When an operator can perform different additional actions other than what it is meant for, then it is called Operator Overloading.\n",
    "\n",
    "Taking example of '+' operator, it can add numbers, concatenates stirngs, and adds lists, which is executed calling `__add__()` function internally, and it is overriden according to the object passed as `a.__add__(b)`\n",
    "        \n",
    "    But '+' operator cannot add functions, we cannot add data of the objects directly as follows: \n",
    "    "
   ]
  },
  {
   "cell_type": "code",
   "execution_count": 23,
   "metadata": {},
   "outputs": [
    {
     "ename": "TypeError",
     "evalue": "unsupported operand type(s) for +: 'BookX' and 'BookY'",
     "output_type": "error",
     "traceback": [
      "\u001b[1;31m---------------------------------------------------------------------------\u001b[0m",
      "\u001b[1;31mTypeError\u001b[0m                                 Traceback (most recent call last)",
      "\u001b[1;32m<ipython-input-23-0601a7b36bae>\u001b[0m in \u001b[0;36m<module>\u001b[1;34m\u001b[0m\n\u001b[0;32m      7\u001b[0m \u001b[0mb1\u001b[0m\u001b[1;33m=\u001b[0m\u001b[0mBookX\u001b[0m\u001b[1;33m(\u001b[0m\u001b[1;36m100\u001b[0m\u001b[1;33m)\u001b[0m\u001b[1;33m\u001b[0m\u001b[1;33m\u001b[0m\u001b[0m\n\u001b[0;32m      8\u001b[0m \u001b[0mb2\u001b[0m\u001b[1;33m=\u001b[0m\u001b[0mBookY\u001b[0m\u001b[1;33m(\u001b[0m\u001b[1;36m150\u001b[0m\u001b[1;33m)\u001b[0m\u001b[1;33m\u001b[0m\u001b[1;33m\u001b[0m\u001b[0m\n\u001b[1;32m----> 9\u001b[1;33m \u001b[0mprint\u001b[0m\u001b[1;33m(\u001b[0m\u001b[0mb1\u001b[0m\u001b[1;33m+\u001b[0m\u001b[0mb2\u001b[0m\u001b[1;33m)\u001b[0m\u001b[1;33m\u001b[0m\u001b[1;33m\u001b[0m\u001b[0m\n\u001b[0m",
      "\u001b[1;31mTypeError\u001b[0m: unsupported operand type(s) for +: 'BookX' and 'BookY'"
     ]
    }
   ],
   "source": [
    "class BookX:\n",
    "    def __init__(self,pages):\n",
    "        self.pages=pages\n",
    "class BookY:\n",
    "    def __init__(self,pages):\n",
    "        self.pages=pages\n",
    "b1=BookX(100)\n",
    "b2=BookY(150)\n",
    "print(b1+b2)"
   ]
  },
  {
   "cell_type": "markdown",
   "metadata": {},
   "source": [
    "    Above we are using '+\" operator  but internally a.__add__(b) function is executing we need to override it \"explicitly\"\n",
    "    to add the objects data members, as\n",
    "                def __add__(self,other):\n",
    "                    return self.a + self.b\n",
    "where self.a reprsents numeric value of first class and other.b represents numeric value of second class.\n",
    "\n",
    "> **IMPORTANT**: The overriden `__add__()` function should be wriiten in first class"
   ]
  },
  {
   "cell_type": "code",
   "execution_count": 24,
   "metadata": {},
   "outputs": [
    {
     "name": "stdout",
     "output_type": "stream",
     "text": [
      "250\n"
     ]
    }
   ],
   "source": [
    "#overriding add() function\n",
    "class BookX:\n",
    "    def __init__(self,pages):\n",
    "        self.pages=pages\n",
    "    #overriding add\n",
    "    def __add__(self,other):\n",
    "        return self.pages+other.pages\n",
    "class BookY:\n",
    "    def __init__(self,pages):\n",
    "        self.pages=pages\n",
    "b1=BookX(100)\n",
    "b2=BookY(150)\n",
    "print(b1+b2)"
   ]
  },
  {
   "cell_type": "markdown",
   "metadata": {},
   "source": [
    " There are very different Operators which are overriden by overriding the internal built-in functions of them. These methods are also called *magic methods*"
   ]
  },
  {
   "cell_type": "markdown",
   "metadata": {},
   "source": [
    "1. '+' : `object.__add__(self,other)`\n",
    "2. ' - ' : `object.__sub__(self,other)`\n",
    "3. ' * ' : `object.__mul__(self,other)`\n",
    "4. ' / ' : `object.__div__(self,other)`\n",
    "5. ' // ' : `object.__floordiv__(self,other)`\n",
    "6. ' % ' : `object.__mod__(self,other)`\n",
    "7. ' ** ' : `object.__pow__(self,other[,module])`\n",
    "8. ' += ' : `object.__iadd__(self,other)`\n",
    "9. ' = ' : `object.__isub__(self,other)`\n",
    "10. ' *= ' : `object.__imul__(self,other)`\n",
    "11. ' /= ' : `object.__idiv__(self,other)`\n",
    "12. ' //= ' : `object.__ifloordiv__(self,other)`\n",
    "13. ' %= ' : `object.__imod__(self,other)`\n",
    "14. ' **= ' : `object.__ipow__(self,other)`\n",
    "15. ' < ' : `object.__gt__(self,other)`\n",
    "16. ' <= ' : `object.__ge__(self,other)`\n",
    "17. ' > ' : `object.__lt__(self,other)`\n",
    "18. ' >= ' : `object.__le__(self,other)`\n",
    "19. ' == ' : `object.__eq__(self,other)`\n",
    "20. ' != ' : `object.__ne__(self,other)`\n"
   ]
  },
  {
   "cell_type": "markdown",
   "metadata": {},
   "source": [
    "## Method Overloading\n",
    "If a method is written such that it can perform more than one task, it is called method overloading. for example a method sum() takes two arguments as well as three arguments to add all those, represents method overloading. Language like java supports method overloading.\n",
    "> **Pyhton DOESN'T supports Method Overloading**\n",
    "\n",
    "We can achieve method overloading by writing same method with several Parameters. The method perform operation depending on the parameter being passed. in the method call, in turn we achieve polymorphism"
   ]
  },
  {
   "cell_type": "code",
   "execution_count": 25,
   "metadata": {},
   "outputs": [
    {
     "name": "stdout",
     "output_type": "stream",
     "text": [
      "Sum:  52\n",
      "Sum 26\n"
     ]
    }
   ],
   "source": [
    "#method overloading\n",
    "class sample:\n",
    "    def sum(self,a=None,b=None,c=None):\n",
    "        if a!=None and b!=None and c!=None:\n",
    "            print('Sum: ',a+b+c)\n",
    "        elif a!=None and b!=None:\n",
    "            print('Sum', a+b)\n",
    "sam=sample()\n",
    "sam.sum(10,7,35)\n",
    "sam.sum(14,12)"
   ]
  },
  {
   "cell_type": "markdown",
   "metadata": {},
   "source": [
    "## Method Overriding\n",
    "Method Overriding is done as when same method performs different actions based on the object it is called upon."
   ]
  },
  {
   "cell_type": "code",
   "execution_count": 19,
   "metadata": {},
   "outputs": [
    {
     "name": "stdout",
     "output_type": "stream",
     "text": [
      "area of Square:  100\n",
      "Area of circle:  314.1592653589793\n"
     ]
    }
   ],
   "source": [
    "import math\n",
    "class Square:\n",
    "    def area(self,x):\n",
    "        print('area of Square: ',x*x)\n",
    "class Circle(Square):\n",
    "    def area(self,x):\n",
    "        print('Area of circle: ',math.pi*x*x)\n",
    "c=Circle()\n",
    "s=Square()\n",
    "s.area(10)\n",
    "c.area(10)"
   ]
  },
  {
   "cell_type": "code",
   "execution_count": null,
   "metadata": {},
   "outputs": [],
   "source": []
  }
 ],
 "metadata": {
  "kernelspec": {
   "display_name": "Python 3",
   "language": "python",
   "name": "python3"
  },
  "language_info": {
   "codemirror_mode": {
    "name": "ipython",
    "version": 3
   },
   "file_extension": ".py",
   "mimetype": "text/x-python",
   "name": "python",
   "nbconvert_exporter": "python",
   "pygments_lexer": "ipython3",
   "version": "3.7.4"
  }
 },
 "nbformat": 4,
 "nbformat_minor": 2
}
