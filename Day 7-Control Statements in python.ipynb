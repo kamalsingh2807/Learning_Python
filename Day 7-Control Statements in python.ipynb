{
 "cells": [
  {
   "cell_type": "markdown",
   "metadata": {},
   "source": [
    "# Control Statemnts"
   ]
  },
  {
   "cell_type": "markdown",
   "metadata": {},
   "source": [
    "Control statements control the flow of excecution of the statements.\n",
    "\n",
    "These are used to create critical programs in pyhton.\n",
    "\n",
    "these are used when we want to repeat some statements gaian n again, or we want to jump from one statement to another,etc.\n",
    "\n",
    "Types of control statements in python are as follows: "
   ]
  },
  {
   "cell_type": "markdown",
   "metadata": {},
   "source": [
    "## 1.'if' statemnet"
   ]
  },
  {
   "cell_type": "markdown",
   "metadata": {},
   "source": [
    "This statement is used to execute one or more statement depending upon whether a condition is True or not.\n",
    "\n",
    "> if condition:\n",
    "\n",
    "            statenents\n",
    "            \n",
    "first condition is checked, if True the statements after colon are excecuted,otherwise no statement is executed."
   ]
  },
  {
   "cell_type": "code",
   "execution_count": 1,
   "metadata": {},
   "outputs": [
    {
     "name": "stdout",
     "output_type": "stream",
     "text": [
      "number is 1\n"
     ]
    }
   ],
   "source": [
    "# ex1\n",
    "num=1\n",
    "if num==1:\n",
    "    print('number is 1')"
   ]
  },
  {
   "cell_type": "markdown",
   "metadata": {},
   "source": [
    "##### imp.\n",
    "in pyhton collection of statements is called 'suite' and it can contain allm types of code.\n",
    "\n",
    "in place of condition, every non-zero value or any expresion resulting other than zero is considered as True in python."
   ]
  },
  {
   "cell_type": "markdown",
   "metadata": {},
   "source": [
    "## 2. 'if..else' statement"
   ]
  },
  {
   "cell_type": "markdown",
   "metadata": {},
   "source": [
    "this statement executes a set of statements if a condition is true,otherwise other set of statements are executed.\n",
    "\n",
    "> if condition:\n",
    "            \n",
    "            suite1\n",
    ">  else:\n",
    "\n",
    "            suite2"
   ]
  },
  {
   "cell_type": "code",
   "execution_count": 2,
   "metadata": {},
   "outputs": [
    {
     "name": "stdout",
     "output_type": "stream",
     "text": [
      "negetive number\n"
     ]
    }
   ],
   "source": [
    "# ex\n",
    "num=-7\n",
    "if num>0:\n",
    "    print('positive number')\n",
    "else:\n",
    "    print('negetive number')"
   ]
  },
  {
   "cell_type": "code",
   "execution_count": 3,
   "metadata": {},
   "outputs": [
    {
     "name": "stdout",
     "output_type": "stream",
     "text": [
      "hey kamal\n"
     ]
    }
   ],
   "source": [
    "#ex\n",
    "x=10\n",
    "if x:  #here x is a non zero value hence iin erpretor takes it as a true value.\n",
    "    print('hey kamal')\n",
    "else:\n",
    "    print('bye kamal')"
   ]
  },
  {
   "cell_type": "code",
   "execution_count": 4,
   "metadata": {},
   "outputs": [
    {
     "name": "stdout",
     "output_type": "stream",
     "text": [
      "bye\n"
     ]
    }
   ],
   "source": [
    "#ex\n",
    "if 3>8:  #this condition results false hence 'bye' is printed.\n",
    "    print('hii')\n",
    "else:\n",
    "    print('bye')"
   ]
  },
  {
   "cell_type": "markdown",
   "metadata": {},
   "source": [
    "## 3. 'if..elif..else' statement"
   ]
  },
  {
   "cell_type": "markdown",
   "metadata": {},
   "source": [
    "This statement is useful when we hasve multiple condition cases.\n",
    "\n",
    "> if condition1 :\n",
    "\n",
    "            suite1\n",
    "> elif condition2 :\n",
    "\n",
    "            suite2\n",
    "> elif condition3 :\n",
    "\n",
    "            suite3\n",
    "> else:\n",
    "\n",
    "            suite4\n",
    "        \n",
    "Coming from top if the compiler enconters any cindition which evaluates to True,then it is accepted and all the following conditions are drpped off.\n",
    "\n",
    "else part executes when all the above condition fails to evaluate True."
   ]
  },
  {
   "cell_type": "code",
   "execution_count": null,
   "metadata": {},
   "outputs": [],
   "source": [
    "# ex \n",
    "num=int(input('Enter the number: '))\n",
    "if num==0:\n",
    "    print('zero')\n",
    "elif num>0:\n",
    "    print('positive')\n",
    "else:\n",
    "    print('negetive')"
   ]
  },
  {
   "cell_type": "code",
   "execution_count": null,
   "metadata": {},
   "outputs": [],
   "source": [
    "#this above coden can be written with another form with '1 space indentation'\n",
    "\n",
    "num=int(input('Enter the number: '))\n",
    "if num==0: print('zero')\n",
    "elif num>0: print('positive')\n",
    "else: print('negetive')"
   ]
  },
  {
   "cell_type": "code",
   "execution_count": null,
   "metadata": {},
   "outputs": [],
   "source": [
    "#ex\n",
    "\n",
    "num=eval(input('Enter the number: '))\n",
    "if num==0:\n",
    "    print('zero')\n",
    "elif num>0:\n",
    "    if type(num)==int:\n",
    "        print('positive integer')\n",
    "    elif type(num)==float:\n",
    "        print('positive float')\n",
    "elif x<0:\n",
    "    if type(num)==int:\n",
    "        print('negetive integer')\n",
    "    elif type(num)==float:\n",
    "        print('negetive float')"
   ]
  },
  {
   "cell_type": "markdown",
   "metadata": {},
   "source": [
    "if an ' if ' statment encounters after elif with samr indentation,ot will be executed irrespective of elif."
   ]
  },
  {
   "cell_type": "markdown",
   "metadata": {},
   "source": [
    "### NOTE: \n",
    "\n",
    ">Switch statement is not present in python"
   ]
  },
  {
   "cell_type": "markdown",
   "metadata": {},
   "source": [
    " "
   ]
  },
  {
   "cell_type": "markdown",
   "metadata": {},
   "source": [
    "## 4. 'while' loop"
   ]
  },
  {
   "cell_type": "markdown",
   "metadata": {},
   "source": [
    "This statement is useful to execute a set of statements multiple times dependent on condition whether it evaluates to  True or False\n",
    "\n",
    "> while condition :\n",
    "    \n",
    "            statements..\n",
    "        \n",
    "First contdition is checked and then statments are evaluated.\n",
    "\n",
    "As long as condition evaluates to True,loop continuous and executes the statments after colon(:) again and again."
   ]
  },
  {
   "cell_type": "markdown",
   "metadata": {},
   "source": [
    "#### NOTE: \n",
    "> updation statment is required in while loop"
   ]
  },
  {
   "cell_type": "code",
   "execution_count": null,
   "metadata": {},
   "outputs": [],
   "source": [
    "#ex - printing numbers from 1 to 10\n",
    "\n",
    "n=1   #initialization\n",
    "while n<=10:   #condition\n",
    "    print(n)  #statement\n",
    "    n=n+1  #updation\n",
    "print('end of loop')  #last message out of loop    "
   ]
  },
  {
   "cell_type": "code",
   "execution_count": null,
   "metadata": {},
   "outputs": [],
   "source": [
    "#ex taking ub and lb from user and print even and odd numbers between them\n",
    "\n",
    "lb,ub=[int(x) for x in input('Enter lower bound and upper bound: ').split(',')]\n",
    "lst_eve=[]\n",
    "lst_odd=[]\n",
    "i=lb\n",
    "while i<=ub:\n",
    "    if i%2==0:\n",
    "        lst_eve.append(i)\n",
    "    else:\n",
    "        lst_odd.append(i)\n",
    "    i=i+1\n",
    "print(\"Even Numbers: \",lst_eve)\n",
    "print(\"Odd numbers: \",lst_odd)\n"
   ]
  },
  {
   "cell_type": "code",
   "execution_count": null,
   "metadata": {},
   "outputs": [],
   "source": [
    "#ex- checking if number is prime or not\n",
    "\n",
    "x=int(input('Enter the number: '))\n",
    "if x==1 or x==2:\n",
    "    print('prime')\n",
    "else:\n",
    "    i=2\n",
    "    while i<x:\n",
    "        if x%i==0:\n",
    "            flag=1\n",
    "            break\n",
    "        i=i+1\n",
    "    if flag==1:\n",
    "        print('Not prime')\n",
    "    else:\n",
    "        print('prime')"
   ]
  },
  {
   "cell_type": "markdown",
   "metadata": {},
   "source": [
    "  "
   ]
  },
  {
   "cell_type": "markdown",
   "metadata": {},
   "source": [
    "## 5. 'for' loop"
   ]
  },
  {
   "cell_type": "markdown",
   "metadata": {},
   "source": [
    "The 'for' loop is useful to iterate over iterable objects(viz. lists,tuples,dictionary,range,string) and other iterable objects.\n",
    "\n",
    "iterating over an object is called Traversal.\n",
    "\n",
    "loop continues till the last element of the iterable object.\n",
    "\n",
    "indentation seperates body of the loop with rest of the code.\n",
    "\n",
    "> Statement in the for loop body executes repeatedly depending on the no. of elements in a sequence.\n",
    "\n",
    "FORMAT: \n",
    "\n",
    "> for var in sequence: \n",
    "\n",
    "                suite--\n",
    "\n",
    "elements of sequence are assigned to 'var' variable after for one by one, and the membership operator 'in' checks that if the element is present in the sequence or not. if the 'in' operator returns True the loop suite executes. "
   ]
  },
  {
   "cell_type": "code",
   "execution_count": null,
   "metadata": {},
   "outputs": [],
   "source": [
    "#traversing a string object:\n",
    "\n",
    "str1='hello'\n",
    "for  ch in str1: #one by one each character of str1 is passed to ch and the loop continues till last element of str1\n",
    "    print(ch)"
   ]
  },
  {
   "cell_type": "markdown",
   "metadata": {},
   "source": [
    "#### range() function"
   ]
  },
  {
   "cell_type": "markdown",
   "metadata": {},
   "source": [
    "range(n) function returns integer numbers from 0 to n-1.\n",
    "\n",
    "range function can also be used with upper bound(ub),lower bound(lb) and step-size as\n",
    "\n",
    "> range(lb,ub,step-size)\n",
    "\n",
    "by default stepsize is 1 and lb is 0\n",
    "\n",
    "#### Note: \n",
    "> range() function always return integer values\n"
   ]
  },
  {
   "cell_type": "code",
   "execution_count": null,
   "metadata": {},
   "outputs": [],
   "source": [
    "#for loop form with range() function"
   ]
  },
  {
   "cell_type": "code",
   "execution_count": null,
   "metadata": {},
   "outputs": [],
   "source": [
    "#ex\n",
    "for i in range(10):\n",
    "    print(i,end=' ')"
   ]
  },
  {
   "cell_type": "code",
   "execution_count": null,
   "metadata": {},
   "outputs": [],
   "source": [
    "#ex- range using lb,ub\n",
    "for i in range(50,100):#prints elements from 50 t0 99\n",
    "    print(i,end=',')"
   ]
  },
  {
   "cell_type": "code",
   "execution_count": null,
   "metadata": {},
   "outputs": [],
   "source": [
    "#ex- range using lb,ub,step-size\n",
    "for i in range(50,100,2):\n",
    "    print(i,end=' ')"
   ]
  },
  {
   "cell_type": "code",
   "execution_count": null,
   "metadata": {},
   "outputs": [],
   "source": [
    "#ex- printing numbers in reverse order\n",
    "for i in range(10,0,-1):\n",
    "    print(i,end=' ')"
   ]
  },
  {
   "cell_type": "code",
   "execution_count": null,
   "metadata": {},
   "outputs": [],
   "source": [
    "#ex- iterating list\n",
    "lst=[2,3.67,'Kamal',2-1j]\n",
    "for i in lst:\n",
    "    print(i)"
   ]
  },
  {
   "cell_type": "code",
   "execution_count": null,
   "metadata": {},
   "outputs": [],
   "source": [
    "#ex- traversing list  and finding sum\n",
    "lst=[1,2,3,4,5,6]\n",
    "sum=0\n",
    "for i in lst:\n",
    "    print(i,end=' ')\n",
    "    sum+=i\n",
    "print('\\nSum: ',sum)    "
   ]
  },
  {
   "cell_type": "code",
   "execution_count": null,
   "metadata": {},
   "outputs": [],
   "source": [
    "#ex- traversing tuples and finding sum\n",
    "tup=(1,2.3,8,9.3)\n",
    "sum=0\n",
    "for i in tup:\n",
    "    print(i,end=' ')\n",
    "    sum+=i\n",
    "print('\\nSum: ',sum)"
   ]
  },
  {
   "cell_type": "code",
   "execution_count": null,
   "metadata": {},
   "outputs": [],
   "source": [
    "#ex- teversing dictionary\n",
    "dic={'one':'kamal','two':'gagan','three':'pranav','four':'anubhav'}\n",
    "for i in dic:\n",
    "    print(i,\":\",dic[i])\n"
   ]
  },
  {
   "cell_type": "markdown",
   "metadata": {},
   "source": [
    " "
   ]
  },
  {
   "cell_type": "markdown",
   "metadata": {},
   "source": [
    "### Infinite Loops"
   ]
  },
  {
   "cell_type": "markdown",
   "metadata": {},
   "source": [
    "without using proper updation statemnt,loop can lead to no termination condition.\n",
    "\n",
    "providing True in while loop without any condition that leads  to no termination condition.\n"
   ]
  },
  {
   "cell_type": "code",
   "execution_count": null,
   "metadata": {},
   "outputs": [],
   "source": [
    "#ex: \n",
    "'''\n",
    "i=1\n",
    "while i<10:\n",
    "    print(i)  \n",
    "            # no updation statement\n",
    "'''"
   ]
  },
  {
   "cell_type": "code",
   "execution_count": null,
   "metadata": {},
   "outputs": [],
   "source": [
    "#ex: \n",
    "'''\n",
    "while True:  #loop continues to infinity\n",
    "        print('Hii')\n",
    "'''"
   ]
  },
  {
   "cell_type": "markdown",
   "metadata": {},
   "source": [
    " "
   ]
  },
  {
   "cell_type": "markdown",
   "metadata": {},
   "source": [
    "## Nested Loop (loop inside loop)"
   ]
  },
  {
   "cell_type": "markdown",
   "metadata": {},
   "source": [
    "when we write a loop inside a loop it is called nested loop.\n",
    "\n",
    "FORMAT:\n",
    ">  for  i  in  x :\n",
    "\n",
    "            for j in range:\n",
    "            \n",
    "                    print(i,j)\n",
    "                    \n",
    "first outer loop executes once,and inner loops executes y times.Again outer loop executes once then inner loop executes y times,and this goes on x times."
   ]
  },
  {
   "cell_type": "code",
   "execution_count": null,
   "metadata": {},
   "outputs": [],
   "source": [
    "#ex: \n",
    "for i in range(3):\n",
    "    for j in range(4):\n",
    "        print((i,j),end=' ')\n",
    "    print('\\n')    "
   ]
  },
  {
   "cell_type": "code",
   "execution_count": null,
   "metadata": {},
   "outputs": [],
   "source": [
    "#ex: printing pattern\n",
    "for i in range(10):\n",
    "    for j in range(1,i+1):\n",
    "        print('*',end=' ')\n",
    "    print()"
   ]
  },
  {
   "cell_type": "code",
   "execution_count": null,
   "metadata": {},
   "outputs": [],
   "source": [
    "#ex printing tables upto 10\n",
    "for i in range(1,11):\n",
    "    for j in range(1,11):\n",
    "        print('{:8}'.format(i*j),end=' ')\n",
    "    print()"
   ]
  },
  {
   "cell_type": "markdown",
   "metadata": {},
   "source": [
    "printing different pattern with for loops in seperate file: \n",
    "    \n",
    "Link: "
   ]
  },
  {
   "cell_type": "markdown",
   "metadata": {},
   "source": [
    " "
   ]
  },
  {
   "cell_type": "markdown",
   "metadata": {},
   "source": [
    "## 6. 'break' statement"
   ]
  },
  {
   "cell_type": "markdown",
   "metadata": {},
   "source": [
    "used in a loop to come out of the loop depending on a condition.\n",
    "\n",
    "whenever a 'break' statement is encountered interpreter jumps out of the loop and processes the next statements which are out of loop."
   ]
  },
  {
   "cell_type": "code",
   "execution_count": 4,
   "metadata": {},
   "outputs": [
    {
     "name": "stdout",
     "output_type": "stream",
     "text": [
      "1\n",
      "2\n",
      "3\n",
      "4\n",
      "5\n"
     ]
    }
   ],
   "source": [
    "#ex-\n",
    "for i in range(1,11):\n",
    "    if i>5:\n",
    "        break #condition satisfies,interpretor comes out of loop\n",
    "    print(i)"
   ]
  },
  {
   "cell_type": "code",
   "execution_count": 13,
   "metadata": {},
   "outputs": [
    {
     "name": "stdout",
     "output_type": "stream",
     "text": [
      "10\n",
      "9\n",
      "8\n",
      "7\n",
      "6\n"
     ]
    }
   ],
   "source": [
    "#ex:\n",
    "i=10\n",
    "while i>0:\n",
    "    if i==5:\n",
    "        break\n",
    "    print(i)\n",
    "    i=i-1"
   ]
  },
  {
   "cell_type": "code",
   "execution_count": 10,
   "metadata": {},
   "outputs": [
    {
     "name": "stdout",
     "output_type": "stream",
     "text": [
      "\n",
      "(1, 0) (1, 1) (1, 2) \n",
      "\n",
      "(3, 0) (3, 1) (3, 2) \n"
     ]
    }
   ],
   "source": [
    "#ex break in multiple loop: \n",
    "\n",
    "for i in range(4):\n",
    "    for j in range(3):\n",
    "        if(i%2==0 and j%2==0):\n",
    "            break\n",
    "        print((i,j),end=' ')\n",
    "    print()"
   ]
  },
  {
   "cell_type": "markdown",
   "metadata": {},
   "source": [
    "#### Note: \n",
    "> in case of multiple loops,whenever breaks encounters it only comes out of the current loop to the predecessor loop(or current outer loop)"
   ]
  },
  {
   "cell_type": "markdown",
   "metadata": {},
   "source": [
    " "
   ]
  },
  {
   "cell_type": "markdown",
   "metadata": {},
   "source": [
    "## 7.  'continue' statement"
   ]
  },
  {
   "cell_type": "markdown",
   "metadata": {},
   "source": [
    "Whenever a continue statement is encountered the subsequent statements are not executed and the cursor goes to the top of the loop."
   ]
  },
  {
   "cell_type": "code",
   "execution_count": 15,
   "metadata": {},
   "outputs": [
    {
     "name": "stdout",
     "output_type": "stream",
     "text": [
      "10\n",
      "8\n",
      "7\n",
      "5\n",
      "4\n",
      "2\n",
      "1\n"
     ]
    }
   ],
   "source": [
    "#ex: \n",
    "for i in range(10,0,-1):\n",
    "    if(i%3==0):\n",
    "        continue #skips the elemnts which are divisible by 3 and doesn't prints them.\n",
    "    print(i)"
   ]
  },
  {
   "cell_type": "code",
   "execution_count": 1,
   "metadata": {},
   "outputs": [
    {
     "name": "stdout",
     "output_type": "stream",
     "text": [
      "1\n",
      "3\n",
      "5\n",
      "7\n",
      "9\n"
     ]
    }
   ],
   "source": [
    "#ex\n",
    "i=0\n",
    "while i!=10:\n",
    "    i=i+1\n",
    "    if (i*i)%2==0:\n",
    "        continue\n",
    "    print(i)\n",
    "    "
   ]
  },
  {
   "cell_type": "code",
   "execution_count": 3,
   "metadata": {},
   "outputs": [
    {
     "name": "stdout",
     "output_type": "stream",
     "text": [
      "(1, 2) (1, 3) \n",
      "(2, 3) \n",
      "(3, 2) \n"
     ]
    }
   ],
   "source": [
    "#ex: continue statement in multiple loops\n",
    "\n",
    "for i in range(1,4):\n",
    "    for j in range(1,4):\n",
    "        if(i%j==0):\n",
    "            continue\n",
    "        print((i,j),end=' ')\n",
    "    print()"
   ]
  },
  {
   "cell_type": "markdown",
   "metadata": {},
   "source": [
    "#### Note: \n",
    "> Whenever continue statemnt occurs in an inner loop,it skips the following statements in the current loop and goes to the top of current loop."
   ]
  },
  {
   "cell_type": "markdown",
   "metadata": {},
   "source": [
    " "
   ]
  },
  {
   "cell_type": "markdown",
   "metadata": {},
   "source": [
    "## 8.The 'else suite'"
   ]
  },
  {
   "cell_type": "markdown",
   "metadata": {},
   "source": [
    "It is used with for and while loop\n",
    "\n",
    "#### Note: \n",
    "            The else suite always be executed irrespective of the statements in the loop are executed or notfor i \n",
    "            \n",
    "FORMAT: \n",
    ">  for var in sequence:\n",
    "            \n",
    "                statements..\n",
    "       else:\n",
    "                statements\n",
    "          \n",
    ">  while condition:\n",
    "            \n",
    "                statements..\n",
    "       else:\n",
    "                statements..\n",
    "        "
   ]
  },
  {
   "cell_type": "code",
   "execution_count": null,
   "metadata": {},
   "outputs": [],
   "source": [
    "#ex: with for loop\n",
    "for i in range(5):\n",
    "    print('Yes')\n",
    "else:\n",
    "    print('end of loop')"
   ]
  },
  {
   "cell_type": "code",
   "execution_count": 1,
   "metadata": {},
   "outputs": [
    {
     "name": "stdout",
     "output_type": "stream",
     "text": [
      "Yes\n",
      "Yes\n",
      "Yes\n",
      "Yes\n",
      "Yes\n",
      "No\n"
     ]
    }
   ],
   "source": [
    "#ex: with while loop\n",
    "i=0\n",
    "while i<5:\n",
    "    print('Yes')\n",
    "    i=i+1\n",
    "else:\n",
    "    print('No')"
   ]
  },
  {
   "cell_type": "code",
   "execution_count": 6,
   "metadata": {},
   "outputs": [
    {
     "name": "stdout",
     "output_type": "stream",
     "text": [
      "enter the element to search for: 4\n",
      "element found\n"
     ]
    }
   ],
   "source": [
    "#ex- else suite with break statement\n",
    "group1=[1,2,3,4,5]\n",
    "num=int(input('enter the element to search for: '))\n",
    "for i in group1:\n",
    "    if(i==num):\n",
    "        print('element found')\n",
    "        break\n",
    "else:\n",
    "    print('element not found')"
   ]
  },
  {
   "cell_type": "code",
   "execution_count": 8,
   "metadata": {},
   "outputs": [
    {
     "name": "stdout",
     "output_type": "stream",
     "text": [
      "enter the element to search for: 55\n",
      "element not found\n"
     ]
    }
   ],
   "source": [
    "#ex: else suite with continue statement\n",
    "group1=[1,2,3,4,5,6,7,8,9,10]\n",
    "num=int(input('enter the element to search for: '))\n",
    "for i in group1:\n",
    "    if(i==num):\n",
    "        print('element found')\n",
    "        continue\n",
    "else:\n",
    "    print('element not found')"
   ]
  },
  {
   "cell_type": "markdown",
   "metadata": {},
   "source": [
    "#### Note:\n",
    "> whenever 'break' statement encounter in a loop which has else suite,then else suite will not be executed. Whereas in case of continue,else suite executes irrespective of continue statement"
   ]
  },
  {
   "cell_type": "markdown",
   "metadata": {},
   "source": [
    " "
   ]
  },
  {
   "cell_type": "markdown",
   "metadata": {},
   "source": [
    "## 9. 'pass' statement"
   ]
  },
  {
   "cell_type": "markdown",
   "metadata": {},
   "source": [
    "It is used with 'if' statement or inside a loop to represent no operation.\n",
    "\n",
    "used when we need a statement syntactically but don't want to do any operation.\n"
   ]
  },
  {
   "cell_type": "code",
   "execution_count": 10,
   "metadata": {},
   "outputs": [
    {
     "name": "stdout",
     "output_type": "stream",
     "text": [
      "-4\n",
      "-5\n",
      "-6\n",
      "-7\n"
     ]
    }
   ],
   "source": [
    "#ex: extracting negetive elements using passs\n",
    "num=[1,2,3,-4,-5,-6,-7,8,9]\n",
    "for i in num:\n",
    "    if i>0:\n",
    "        pass\n",
    "    else:\n",
    "        print(i)"
   ]
  },
  {
   "cell_type": "markdown",
   "metadata": {},
   "source": [
    " "
   ]
  },
  {
   "cell_type": "markdown",
   "metadata": {},
   "source": [
    "## 10. 'assert' statement"
   ]
  },
  {
   "cell_type": "markdown",
   "metadata": {},
   "source": [
    "useful to check whether a condition is fulfilled ot not.\n",
    "\n",
    "FORMAT: \n",
    "> assert , condition , message\n",
    "\n",
    "message is not compulsary."
   ]
  },
  {
   "cell_type": "code",
   "execution_count": 12,
   "metadata": {},
   "outputs": [
    {
     "name": "stdout",
     "output_type": "stream",
     "text": [
      "Enter the number: -3\n",
      "Wrong input entered\n"
     ]
    }
   ],
   "source": [
    "#ex: \n",
    "x=int(input('Enter the number: ')) \n",
    "try: #we used try..except to avoid AssertionError exception\n",
    "    assert x>0\n",
    "    print('You entered: ',x)\n",
    "except:\n",
    "    print('Wrong input entered')"
   ]
  },
  {
   "cell_type": "markdown",
   "metadata": {},
   "source": [
    " "
   ]
  },
  {
   "cell_type": "markdown",
   "metadata": {},
   "source": [
    "## 11. 'return' statement"
   ]
  },
  {
   "cell_type": "markdown",
   "metadata": {},
   "source": [
    "This statement is used inside a function to return result from a function to the calling place.\n",
    "\n",
    "> return ( expression )\n",
    "\n",
    "If a function doesn't returns any value, no need to use return statement."
   ]
  },
  {
   "cell_type": "code",
   "execution_count": null,
   "metadata": {},
   "outputs": [],
   "source": [
    "#more details about return in function module!"
   ]
  }
 ],
 "metadata": {
  "kernelspec": {
   "display_name": "Python 3",
   "language": "python",
   "name": "python3"
  },
  "language_info": {
   "codemirror_mode": {
    "name": "ipython",
    "version": 3
   },
   "file_extension": ".py",
   "mimetype": "text/x-python",
   "name": "python",
   "nbconvert_exporter": "python",
   "pygments_lexer": "ipython3",
   "version": "3.7.4"
  }
 },
 "nbformat": 4,
 "nbformat_minor": 2
}
