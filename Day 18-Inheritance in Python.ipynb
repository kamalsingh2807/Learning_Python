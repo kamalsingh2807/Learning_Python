{
 "cells": [
  {
   "cell_type": "markdown",
   "metadata": {},
   "source": [
    "# Inheritance\n",
    "In simple words, Inheritance is deriving new classss from existing class such that new classs inherits all the attributes and methods of the existing class. Existing class whose members are inherited is called **Base Class** or **Super Class** and newly created class is called **sub Class** or **Derived Class**. \n",
    "\n",
    "All the members of super class is available to the base class and can be accessed using instance of base class.\n",
    "\n",
    ">FORMAT\n",
    "\n",
    "                    class <Sub_class>( <Super_class> )\n",
    "above syntax means subclass hs been derived from superclass and it can access all the members of Superclass\n",
    "\n",
    "#### Advantage: \n",
    "* Easy code development\n",
    "* less code utilizaion\n",
    "* increases productivity\n",
    "* code reusibility\n",
    "\n",
    "#### Necessacity of Inheritance\n",
    "It came into action when programmer wants to use the features of existing class without writting code from scratch.\n",
    "\n"
   ]
  },
  {
   "cell_type": "markdown",
   "metadata": {},
   "source": [
    "> Object class is the super class of every class."
   ]
  },
  {
   "cell_type": "code",
   "execution_count": 3,
   "metadata": {},
   "outputs": [],
   "source": [
    "class Teacher:\n",
    "    def setid(self,id):\n",
    "        self.id=id\n",
    "    def setname(self,name):\n",
    "        self.name=name\n",
    "    def setad(self,ad):\n",
    "        self.ad=ad\n",
    "    def setsal(self,sal):\n",
    "        self.sal=sal\n",
    "    def getid(self):\n",
    "        return self.id\n",
    "    def getname(self):\n",
    "        return self.name\n",
    "    def getad(self):\n",
    "        return self.ad\n",
    "    def getsal(self):\n",
    "        return self.sal"
   ]
  },
  {
   "cell_type": "code",
   "execution_count": 7,
   "metadata": {},
   "outputs": [],
   "source": [
    "class Student(Teacher):   #Student inheriting Teacher class and student instance used to access the methods of without defining\n",
    "    #in the student class\n",
    "    def setmarks(self,marks):\n",
    "        self.marks=marks\n",
    "    def getmarks(self):\n",
    "        return self.marks\n"
   ]
  },
  {
   "cell_type": "code",
   "execution_count": 10,
   "metadata": {},
   "outputs": [
    {
     "name": "stdout",
     "output_type": "stream",
     "text": [
      "12\n",
      "Sringar\n",
      "Balipur\n",
      "275\n"
     ]
    }
   ],
   "source": [
    "#now we apply inheritance and acces methods and data\n",
    "s=Student()\n",
    "#accesing members of teacher with student instance\n",
    "s.setid(12)\n",
    "s.setname('Sringar')\n",
    "s.setad('Balipur')\n",
    "s.setmarks(275)\n",
    "#printing data\n",
    "print(s.getid())\n",
    "print(s.getname())\n",
    "print(s.getad())\n",
    "print(s.getmarks())\n",
    "\n",
    "\n",
    "#we can see we processed data form methods of teacher class using instance of student class."
   ]
  },
  {
   "cell_type": "markdown",
   "metadata": {},
   "source": [
    "    When an onject of Sub_class is created it contains the copy of the Super_class, we do not create the object of Superclass but still the copy of it is available to Sub_class.\n",
    "    \n",
    "**NOTE**:  All the members of Super_class as well as the members of Sub_class is present in the Sub_Class object \n",
    "\n",
    "           In inheritance, we only create sub_class object to access members of both sub_class and super_class but if we create only object of superclass we only get access to super class object.\n",
    "           \n",
    "## Constructors in Inheritance\n",
    "The constructer of super_class is by default available to sub_class and if we create the object of sub_class instance variable of super_class gets initialized.( if no overiding of constructor is done )\n",
    "\n",
    "    Like variables and methods, constructer of superclass is available to subclass object by default.\n"
   ]
  },
  {
   "cell_type": "code",
   "execution_count": 3,
   "metadata": {},
   "outputs": [
    {
     "name": "stdout",
     "output_type": "stream",
     "text": [
      "Father Property:  80000\n"
     ]
    }
   ],
   "source": [
    "class Father:        #super_class\n",
    "    def __init__(self):\n",
    "        self.prop=80000\n",
    "    def display(self):\n",
    "        print('Father Property: ',self.prop)\n",
    "class Son(Father):    #subclass\n",
    "    pass\n",
    "s=Son()    #instance variable prop of Father class is initialized using constructer\n",
    "s.display()     #method of father class accessed using son instance"
   ]
  },
  {
   "cell_type": "markdown",
   "metadata": {},
   "source": [
    "When Sub_class contains constructer then constructer of the super_class is not available to the sub_class object, means sub_class constructer replaces the super_class constructer, and this is called **Constructer Overloading** "
   ]
  },
  {
   "cell_type": "code",
   "execution_count": 4,
   "metadata": {},
   "outputs": [
    {
     "name": "stdout",
     "output_type": "stream",
     "text": [
      "Father Property:  20000\n"
     ]
    }
   ],
   "source": [
    "class Father:        #super_class\n",
    "    def __init__(self):\n",
    "        self.prop=80000\n",
    "    def display(self):\n",
    "        print('Father Property: ',self.prop)\n",
    "class Son(Father):    #subclass\n",
    "    def __init__(self):\n",
    "        self.prop=20000\n",
    "s=Son()\n",
    "s.display()\n",
    "\n",
    "#here we see that constructer of son class replaces the constructer of father class and prop is initialized with 20000 and\n",
    "#hence there is no method to display pop in Son so father Display() function is executed."
   ]
  },
  {
   "cell_type": "markdown",
   "metadata": {},
   "source": [
    "When we write a method with exactly same name as that of super class method,it will override the cuper class method.This is called **Method Overloading**\n",
    "\n",
    "Overriding should be done when the programmer wants to modify the existing behaviour of a constructer or method in his subclass"
   ]
  },
  {
   "cell_type": "code",
   "execution_count": 12,
   "metadata": {},
   "outputs": [
    {
     "name": "stdout",
     "output_type": "stream",
     "text": [
      "<class '__main__.Son'>\n",
      "Son Property:  20000\n"
     ]
    }
   ],
   "source": [
    "class Father:        #super_class\n",
    "    def __init__(self):\n",
    "        self.prop=80000\n",
    "    def display(self):\n",
    "        print('Father Property: ',self.prop)\n",
    "class Son(Father):    #subclass\n",
    "    def __init__(self):\n",
    "        self.prop=20000\n",
    "    def display(self):\n",
    "        print('Son Property: ',self.prop)\n",
    "s=Son()\n",
    "print(type(s))\n",
    "s.display()\n",
    "\n",
    "#constror and method of both sub_class is used"
   ]
  },
  {
   "cell_type": "markdown",
   "metadata": {},
   "source": [
    "Now to access the methods and constructer of super_class we use **super()** method which is a built-in method used to call the super_class methods and constructor and contains the history of the super class methods.\n",
    "\n",
    "**IMP** : \n",
    "> We call the super_class constructer using super() method form inside the sub_class constructor\n",
    "\n",
    "Some calling formats: \n",
    "\n",
    "    super().__init__()   #calling superclass constructor\n",
    "    super().__init__(parameters)  #calling super_class constructor with arguments\n",
    "    super().method()   #calling super class methods.\n",
    "    \n",
    "When there is a  constructor with parameters in super_class then we have to create the constructor of the sub_class such that it contains arguments of sub_class as well as for super_class, which later on passed to the super_class contructor call inside sub_class constructor"
   ]
  },
  {
   "cell_type": "code",
   "execution_count": 20,
   "metadata": {},
   "outputs": [
    {
     "name": "stdout",
     "output_type": "stream",
     "text": [
      "Enter Father's Property: 2\n",
      "Enter Son Property: 3\n",
      "Father\"s Sal:  2.0\n",
      "Total Property:  5.0\n"
     ]
    }
   ],
   "source": [
    "class Father:\n",
    "    def __init__(self,fprop):\n",
    "        self.fprop=fprop\n",
    "    def display(self):\n",
    "        print('Father\"s Sal: ',self.fprop)\n",
    "class Son(Father):\n",
    "    def __init__(self,sprop=0,fprop=0):\n",
    "        super().__init__(fprop)\n",
    "        self.sprop=sprop\n",
    "    def display(self):\n",
    "        super().display()  #we can access method of superclass in method of Son only\n",
    "        print('Total Property: ',self.sprop+self.fprop)\n",
    "f=float(input(\"Enter Father's Property: \"))\n",
    "s=float(input(\"Enter Son Property: \"))\n",
    "s=Son(s,f)\n",
    "s.display()\n",
    "\n"
   ]
  },
  {
   "cell_type": "code",
   "execution_count": 3,
   "metadata": {},
   "outputs": [
    {
     "name": "stdout",
     "output_type": "stream",
     "text": [
      "Area of Square: 25\n",
      "Area of Rectangle: 15\n"
     ]
    }
   ],
   "source": [
    "#rectangle is drived from square\n",
    "class Square:\n",
    "    def __init__(self,x):\n",
    "        self.x=x\n",
    "    def area(self):\n",
    "        print('Area of Square:',(self.x)**2)\n",
    "class Rect(Square):\n",
    "    def __init__(self,x,y=0):\n",
    "        super().__init__(x)\n",
    "        self.y=y\n",
    "    def area(self):\n",
    "        if(self.y==0):\n",
    "            super().area()\n",
    "        else:\n",
    "            print('Area of Rectangle:',(self.x*self.y))\n",
    "s=Rect(5)\n",
    "s.area()\n",
    "r=Rect(5,3)\n",
    "r.area()\n",
    "\n",
    "            "
   ]
  },
  {
   "cell_type": "markdown",
   "metadata": {},
   "source": [
    "## Types of Inheritance\n",
    "\n",
    "1. *Single Inheritance*: Deriving one or more subclasses from a single base class is called Single Inheritance. In this we have only one base class but there can be **n** number of sub class. \n",
    "\n",
    ">> Instance members and class members of superclass both are accessible by sub_class.\n"
   ]
  },
  {
   "cell_type": "code",
   "execution_count": 5,
   "metadata": {},
   "outputs": [
    {
     "name": "stdout",
     "output_type": "stream",
     "text": [
      "30000000\n",
      "40000000\n"
     ]
    }
   ],
   "source": [
    "#single Inheritance\n",
    "class Bank(object):\n",
    "    cash=10000000\n",
    "    @classmethod\n",
    "    def avail_cash(cls):\n",
    "        print(cls.cash)  #cls is necessary to access class variables\n",
    "    \n",
    "class AndhraBank(Bank):\n",
    "    cash=20000000\n",
    "    @classmethod\n",
    "    def avail_cash(cls):\n",
    "        print(cls.cash+Bank.cash)  #cls.cash-> current bank cash  and  Bank.cash-> Bank class cash\n",
    "\n",
    "class StateBank(Bank):\n",
    "    cash=30000000\n",
    "    @classmethod\n",
    "    def avail_cash(cls):\n",
    "        print(cls.cash+Bank.cash)\n",
    "\n",
    "ab=AndhraBank()\n",
    "ab.avail_cash()\n",
    "sb=StateBank()\n",
    "sb.avail_cash()\n",
    "    "
   ]
  },
  {
   "cell_type": "markdown",
   "metadata": {},
   "source": [
    "2. *Multiple Inheritance*: Deriving sub_class from multiple( or more than one ) base classes is called multiple inheritance. In this there can be more than one base class and may be more than one subclasses.\n",
    "\n",
    "        class Sub_class(BaseClass1,BaseClass2.....BaseClass(n))\n",
    "        \n",
    "e.g. child inheriting features of Parents"
   ]
  },
  {
   "cell_type": "code",
   "execution_count": 7,
   "metadata": {},
   "outputs": [
    {
     "name": "stdout",
     "output_type": "stream",
     "text": [
      "Height is 6'0 ft\n",
      "Color is Brown\n"
     ]
    }
   ],
   "source": [
    "#multiple inheritance\n",
    "class Father:\n",
    "    def height(self):\n",
    "        print(\"Height is 6'0 ft\")\n",
    "class Mother:\n",
    "    def color(self):\n",
    "        print('Color is Brown')\n",
    "class child(Father,Mother):\n",
    "    pass\n",
    "ch=child()\n",
    "ch.height()\n",
    "ch.color()"
   ]
  },
  {
   "cell_type": "markdown",
   "metadata": {},
   "source": [
    "#### Problems in Multiple Inheritance\n",
    "If we have two multiple base classes and one sub class that inherits both the base classes and it consists of constructor,then it becomes it difficult to choose which constructor to execute. In this problem, it first execute the constructor which is on the left of the tree.\n",
    "\n",
    "\n",
    "\n",
    "\n",
    "\n",
    "          class C(A,B)  \n",
    "in this case First constructor of C is executed, then constructor of A( on left side )  is executed."
   ]
  },
  {
   "cell_type": "code",
   "execution_count": 8,
   "metadata": {},
   "outputs": [
    {
     "name": "stdout",
     "output_type": "stream",
     "text": [
      "c\n",
      "a\n"
     ]
    }
   ],
   "source": [
    "#ex1\n",
    "class A(object):\n",
    "    def __init__(self):\n",
    "        self.a='a'\n",
    "        print(self.a)\n",
    "class B(object):\n",
    "    def __init__(self):\n",
    "        self.b='b'\n",
    "        print(self.b)\n",
    "class C(A,B):\n",
    "    def __init__(self):\n",
    "        self.c='c'\n",
    "        print(self.c)\n",
    "        super().__init__()\n",
    "ob=C()"
   ]
  },
  {
   "cell_type": "code",
   "execution_count": 9,
   "metadata": {},
   "outputs": [
    {
     "name": "stdout",
     "output_type": "stream",
     "text": [
      "c\n",
      "b\n"
     ]
    }
   ],
   "source": [
    "# for C(B,A)\n",
    "\n",
    "class A(object):\n",
    "    def __init__(self):\n",
    "        self.a='a'\n",
    "        print(self.a)\n",
    "class B(object):\n",
    "    def __init__(self):\n",
    "        self.b='b'\n",
    "        print(self.b)\n",
    "class C(B,A):\n",
    "    def __init__(self):\n",
    "        self.c='c'\n",
    "        print(self.c)\n",
    "        super().__init__()\n",
    "ob=C()\n",
    "\n",
    "#we get this output because B is at the Left side."
   ]
  },
  {
   "cell_type": "markdown",
   "metadata": {},
   "source": [
    "If we want to get the constructors of both the base classes to execute we define  super().__init__()  in every classes. \n",
    "\n",
    "In this the compiler first executes the child class constructor, then it executes its its super class' constructor which is on the left side, then form A it calls its parent constructor and it goes to its parent class 'object' class but object class has no constructor so it comes back to B( as class A has been traversed so we execute B)  then B's constructor is executed."
   ]
  },
  {
   "cell_type": "code",
   "execution_count": 12,
   "metadata": {},
   "outputs": [
    {
     "name": "stdout",
     "output_type": "stream",
     "text": [
      "c\n",
      "a\n",
      "b\n"
     ]
    }
   ],
   "source": [
    "class A(object):\n",
    "    def __init__(self):\n",
    "        self.a='a'\n",
    "        print(self.a)\n",
    "        super().__init__()\n",
    "class B(object):\n",
    "    def __init__(self):\n",
    "        self.b='b'\n",
    "        print(self.b)\n",
    "        super().__init__()\n",
    "class C(A,B):\n",
    "    def __init__(self):\n",
    "        self.c='c'\n",
    "        print(self.c)\n",
    "        super().__init__()\n",
    "ob=C()"
   ]
  },
  {
   "cell_type": "markdown",
   "metadata": {},
   "source": [
    "This Processing above is based on MRO( Method Resolution Order ) in multiple inheritance scenario where any specified attribute or method is searched first in the current class. If not found, the search continues into parent class in depth-first from left-to-right fashion without searching the same class twice.\n",
    "\n",
    "MRO is based on three principles: \n",
    "\n",
    "1. Search for subclass first then going to the super class.\n",
    "2. When a class is inherited from several classes, it searches in the order from left to right in base classes.\n",
    "3. it will not visit any class more than once.\n",
    "\n",
    "we use ' classname.mro() ' method to get the structural way of inheritance in any multiple inheritance system which used MRO which returns the sequrnce of execution of classes."
   ]
  },
  {
   "cell_type": "code",
   "execution_count": 17,
   "metadata": {},
   "outputs": [
    {
     "name": "stdout",
     "output_type": "stream",
     "text": [
      "P\n",
      "X\n",
      "A\n",
      "Y\n",
      "B\n",
      "C\n",
      "[<class '__main__.P'>, <class '__main__.X'>, <class '__main__.A'>, <class '__main__.Y'>, <class '__main__.B'>, <class '__main__.C'>, <class 'object'>]\n"
     ]
    }
   ],
   "source": [
    "#example\n",
    "\n",
    "class A(object):\n",
    "    def __init__(self):\n",
    "        self.a='A'\n",
    "        print(self.a)\n",
    "        super().__init__()\n",
    "class B(object):\n",
    "    def __init__(self):\n",
    "        self.b='B'\n",
    "        print(self.b)\n",
    "        super().__init__()\n",
    "class C(object):\n",
    "    def __init__(self):\n",
    "        self.c='C'\n",
    "        print(self.c)\n",
    "        super().__init__()\n",
    "class X(A,B):\n",
    "    def __init__(self):\n",
    "        self.x='X'\n",
    "        print(self.x)\n",
    "        super().__init__()\n",
    "class Y(B,C):\n",
    "    def __init__(self):\n",
    "        self.y='Y'\n",
    "        print(self.y)\n",
    "        super().__init__()\n",
    "class P(X,Y,C):\n",
    "    def __init__(self):\n",
    "        self.p='P'\n",
    "        print(self.p)\n",
    "        super().__init__()        \n",
    "p=P()\n",
    "print(P.mro())  # mro() works with classname only"
   ]
  },
  {
   "cell_type": "code",
   "execution_count": null,
   "metadata": {},
   "outputs": [],
   "source": []
  }
 ],
 "metadata": {
  "kernelspec": {
   "display_name": "Python 3",
   "language": "python",
   "name": "python3"
  },
  "language_info": {
   "codemirror_mode": {
    "name": "ipython",
    "version": 3
   },
   "file_extension": ".py",
   "mimetype": "text/x-python",
   "name": "python",
   "nbconvert_exporter": "python",
   "pygments_lexer": "ipython3",
   "version": "3.7.4"
  }
 },
 "nbformat": 4,
 "nbformat_minor": 2
}
