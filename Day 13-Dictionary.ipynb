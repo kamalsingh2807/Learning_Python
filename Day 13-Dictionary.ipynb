{
 "cells": [
  {
   "cell_type": "markdown",
   "metadata": {},
   "source": [
    "# Dictionary\n",
    "\n",
    "Dictionary represents a dataobject in which each element is present as a ' KEY-VALUE ' pair. It is a kind of mapping collection like hash tables.\n",
    "\n",
    "Dictionary is a mapping collection in which data is present in a kind of key-value pair where first part is 'key' and second part is 'value' which is mapped by a unique key.\n",
    "\n",
    "> Each element in a dictionary is key:value pair which are seperated bu colon and are enclosed within curly braces.\n",
    "\n",
    ">In dictionary , order is not maintained i.e. the order in which is entered into it and the order in which it is stored is different.\n",
    "\n",
    "Dictionaries are widely used in mapping.\n"
   ]
  },
  {
   "cell_type": "code",
   "execution_count": 1,
   "metadata": {},
   "outputs": [
    {
     "name": "stdout",
     "output_type": "stream",
     "text": [
      "{}\n",
      "<class 'dict'>\n"
     ]
    }
   ],
   "source": [
    "#dictionary creation\n",
    "\n",
    "d={}       #empty dictionary\n",
    "print(d)\n",
    "print(type(d))"
   ]
  },
  {
   "cell_type": "code",
   "execution_count": 3,
   "metadata": {},
   "outputs": [
    {
     "name": "stdout",
     "output_type": "stream",
     "text": [
      "{4}\n",
      "<class 'set'>\n"
     ]
    }
   ],
   "source": [
    "#but\n",
    "\n",
    "d={4}\n",
    "print(d)\n",
    "print(type(d))"
   ]
  },
  {
   "cell_type": "markdown",
   "metadata": {},
   "source": [
    "we can see empty {} defines no element and is considered as Dictionary but when a single element is present there, it changes to set\n",
    "\n",
    "> set single unique elements but dictionary contains key value pair data\n",
    "\n",
    ">We can have heterogeneous key and values data inside dictionary\n"
   ]
  },
  {
   "cell_type": "code",
   "execution_count": 20,
   "metadata": {},
   "outputs": [
    {
     "name": "stdout",
     "output_type": "stream",
     "text": [
      "{'Name': 'kamal', 'age': 23, 'salary': 1203463}\n"
     ]
    }
   ],
   "source": [
    "d_samp={'Name':'kamal','age':23,'salary':1203463}\n",
    "print(d_samp)"
   ]
  },
  {
   "cell_type": "markdown",
   "metadata": {},
   "source": [
    "### Aceesing elements\n",
    "There is no indexing is followed in dictionary.\n",
    ">The values of the dictionary are accesed using the key mapped with that particular value."
   ]
  },
  {
   "cell_type": "code",
   "execution_count": 6,
   "metadata": {},
   "outputs": [
    {
     "data": {
      "text/plain": [
       "'kamal'"
      ]
     },
     "execution_count": 6,
     "metadata": {},
     "output_type": "execute_result"
    }
   ],
   "source": [
    "d_samp['Name']"
   ]
  },
  {
   "cell_type": "code",
   "execution_count": 12,
   "metadata": {},
   "outputs": [
    {
     "data": {
      "text/plain": [
       "23"
      ]
     },
     "execution_count": 12,
     "metadata": {},
     "output_type": "execute_result"
    }
   ],
   "source": [
    "d_samp['age']"
   ]
  },
  {
   "cell_type": "code",
   "execution_count": 13,
   "metadata": {},
   "outputs": [
    {
     "data": {
      "text/plain": [
       "1203463"
      ]
     },
     "execution_count": 13,
     "metadata": {},
     "output_type": "execute_result"
    }
   ],
   "source": [
    "d_samp['salary']"
   ]
  },
  {
   "cell_type": "code",
   "execution_count": 7,
   "metadata": {},
   "outputs": [
    {
     "ename": "KeyError",
     "evalue": "'name'",
     "output_type": "error",
     "traceback": [
      "\u001b[1;31m---------------------------------------------------------------------------\u001b[0m",
      "\u001b[1;31mKeyError\u001b[0m                                  Traceback (most recent call last)",
      "\u001b[1;32m<ipython-input-7-cf414bd87634>\u001b[0m in \u001b[0;36m<module>\u001b[1;34m\u001b[0m\n\u001b[1;32m----> 1\u001b[1;33m \u001b[0md_samp\u001b[0m\u001b[1;33m[\u001b[0m\u001b[1;34m'name'\u001b[0m\u001b[1;33m]\u001b[0m\u001b[1;33m\u001b[0m\u001b[1;33m\u001b[0m\u001b[0m\n\u001b[0m",
      "\u001b[1;31mKeyError\u001b[0m: 'name'"
     ]
    }
   ],
   "source": [
    "#keys are case senstive\n",
    "d_samp['name']"
   ]
  },
  {
   "cell_type": "markdown",
   "metadata": {},
   "source": [
    "> no concatenation and repitition operation is allowed in dictionary.\n"
   ]
  },
  {
   "cell_type": "code",
   "execution_count": 14,
   "metadata": {},
   "outputs": [
    {
     "data": {
      "text/plain": [
       "3"
      ]
     },
     "execution_count": 14,
     "metadata": {},
     "output_type": "execute_result"
    }
   ],
   "source": [
    "#length of dictionary\n",
    "\n",
    "len(d_samp) #returns number of key value pairs"
   ]
  },
  {
   "cell_type": "code",
   "execution_count": 26,
   "metadata": {},
   "outputs": [
    {
     "name": "stdout",
     "output_type": "stream",
     "text": [
      "{'Name': 'kamal', 'age': 23, 'salary': 1203463}\n",
      "{'Name': 'kamal', 'age': 23, 'salary': 973723}\n"
     ]
    }
   ],
   "source": [
    "#updating value in a key\n",
    "d_samp={'Name':'kamal','age':23,'salary':1203463}\n",
    "print(d_samp)\n",
    "d_samp['salary']=973723\n",
    "print(d_samp)\n",
    "\n",
    "#we see change in value of key 'salary'"
   ]
  },
  {
   "cell_type": "markdown",
   "metadata": {},
   "source": [
    "> one key : value pair in dictionary is considered as one element"
   ]
  },
  {
   "cell_type": "code",
   "execution_count": 30,
   "metadata": {},
   "outputs": [
    {
     "name": "stdout",
     "output_type": "stream",
     "text": [
      "{'Name': 'kamal', 'age': 23, 'salary': 973723}\n",
      "{'Name': 'kamal', 'age': 23, 'salary': 973723, 'city': 'Banglore'}\n"
     ]
    }
   ],
   "source": [
    "#adding new element\n",
    "\n",
    "print(d_samp)\n",
    "d_samp['city']='Banglore'\n",
    "print(d_samp)\n",
    "\n",
    "#compiler first checks if any key city is present or not,\n",
    "#if present updates the value with new value,otherwise adds a new key:value pair"
   ]
  },
  {
   "cell_type": "markdown",
   "metadata": {},
   "source": [
    "> new key:value pair can be added at any random place\n"
   ]
  },
  {
   "cell_type": "code",
   "execution_count": 31,
   "metadata": {},
   "outputs": [
    {
     "name": "stdout",
     "output_type": "stream",
     "text": [
      "{'Name': 'kamal', 'age': 23, 'salary': 973723, 'city': 'Banglore'}\n",
      "{'Name': 'kamal', 'age': 23, 'salary': 973723}\n"
     ]
    }
   ],
   "source": [
    "#deleting an element\n",
    "#del statement is used(uncommon)\n",
    "\n",
    "print(d_samp)\n",
    "del d_samp['city']\n",
    "print(d_samp)\n"
   ]
  },
  {
   "cell_type": "code",
   "execution_count": 32,
   "metadata": {},
   "outputs": [
    {
     "data": {
      "text/plain": [
       "False"
      ]
     },
     "execution_count": 32,
     "metadata": {},
     "output_type": "execute_result"
    }
   ],
   "source": [
    "#membership function\n",
    "#checks for keys\n",
    "\n",
    "'city' in d_samp"
   ]
  },
  {
   "cell_type": "code",
   "execution_count": 33,
   "metadata": {},
   "outputs": [
    {
     "data": {
      "text/plain": [
       "True"
      ]
     },
     "execution_count": 33,
     "metadata": {},
     "output_type": "execute_result"
    }
   ],
   "source": [
    "'name' not in d_samp"
   ]
  },
  {
   "cell_type": "code",
   "execution_count": 34,
   "metadata": {},
   "outputs": [
    {
     "data": {
      "text/plain": [
       "True"
      ]
     },
     "execution_count": 34,
     "metadata": {},
     "output_type": "execute_result"
    }
   ],
   "source": [
    "'Name' in d_samp"
   ]
  },
  {
   "cell_type": "code",
   "execution_count": 35,
   "metadata": {},
   "outputs": [
    {
     "data": {
      "text/plain": [
       "False"
      ]
     },
     "execution_count": 35,
     "metadata": {},
     "output_type": "execute_result"
    }
   ],
   "source": [
    "'gender' in d_samp"
   ]
  },
  {
   "cell_type": "markdown",
   "metadata": {},
   "source": [
    "> > All the keys should be unique inside dictionary but values can be anything."
   ]
  },
  {
   "cell_type": "markdown",
   "metadata": {},
   "source": [
    "## IMP: Rules for defining keys\n",
    "\n",
    "We can choose any type of datatype for Values it can be int, float, string, list,complex, tuples, dictionary, set, range,..anything.\n",
    "But keys folloe different rules which are as follows: "
   ]
  },
  {
   "cell_type": "markdown",
   "metadata": {},
   "source": [
    "### 1.Rule-1:\n",
    "\n",
    "> KEYS SHOULD BE UNIQUE:\n",
    "\n",
    "    Duplicate keys are no allowed. If we enter same key again,the old key will be overwritten and only new key will be vailable."
   ]
  },
  {
   "cell_type": "code",
   "execution_count": 37,
   "metadata": {},
   "outputs": [
    {
     "name": "stdout",
     "output_type": "stream",
     "text": [
      "{1: 'one', 2: 'Two', 3: 'Three', 4: 'Four'}\n",
      "{1: 'one', 2: 'Second', 3: 'Three', 4: 'Four'}\n"
     ]
    }
   ],
   "source": [
    "d={1:'one',2:'Two',3:'Three',4:'Four'}\n",
    "print(d)\n",
    "d[2]='Second'\n",
    "print(d)\n",
    "#we see change in value of key 2"
   ]
  },
  {
   "cell_type": "markdown",
   "metadata": {},
   "source": [
    "## 2.Rule-2:\n",
    "> Keys Should be Immutable: \n",
    "    \n",
    "    We can use numbers,strings,boolean values,tuples,etc as keys but we cannot use list,set or dictionaries as key because they are mutable.\n",
    "    \n"
   ]
  },
  {
   "cell_type": "code",
   "execution_count": 38,
   "metadata": {},
   "outputs": [
    {
     "name": "stdout",
     "output_type": "stream",
     "text": [
      "{2, 'kamal'}\n"
     ]
    }
   ],
   "source": [
    "d={2,'kamal'}\n",
    "print(d)"
   ]
  },
  {
   "cell_type": "code",
   "execution_count": 39,
   "metadata": {},
   "outputs": [
    {
     "name": "stdout",
     "output_type": "stream",
     "text": [
      "{(2+3j), 'complex'}\n"
     ]
    }
   ],
   "source": [
    "d={2+3j,'complex'}\n",
    "print(d)"
   ]
  },
  {
   "cell_type": "code",
   "execution_count": 41,
   "metadata": {},
   "outputs": [
    {
     "name": "stdout",
     "output_type": "stream",
     "text": [
      "{'kamal': 78.7838}\n"
     ]
    }
   ],
   "source": [
    "d={'kamal':78.7838} #string as key\n",
    "print(d)"
   ]
  },
  {
   "cell_type": "code",
   "execution_count": 42,
   "metadata": {},
   "outputs": [
    {
     "name": "stdout",
     "output_type": "stream",
     "text": [
      "{(63, 83, 93), (2, 3)}\n"
     ]
    }
   ],
   "source": [
    "d={(2,3),(63,83,93)} #tuple as key\n",
    "print(d)"
   ]
  },
  {
   "cell_type": "code",
   "execution_count": 44,
   "metadata": {},
   "outputs": [
    {
     "data": {
      "text/plain": [
       "{True: ['Boolean', 1, 'True']}"
      ]
     },
     "execution_count": 44,
     "metadata": {},
     "output_type": "execute_result"
    }
   ],
   "source": [
    "d={True:['Boolean',1,'True']} #boolean value as key\n",
    "d"
   ]
  },
  {
   "cell_type": "code",
   "execution_count": 46,
   "metadata": {},
   "outputs": [
    {
     "data": {
      "text/plain": [
       "{range(0, 10): 'range'}"
      ]
     },
     "execution_count": 46,
     "metadata": {},
     "output_type": "execute_result"
    }
   ],
   "source": [
    "d={range(10):'range'} #range object is also allowed as key\n",
    "d"
   ]
  },
  {
   "cell_type": "code",
   "execution_count": 47,
   "metadata": {},
   "outputs": [
    {
     "ename": "KeyError",
     "evalue": "range(0, 9)",
     "output_type": "error",
     "traceback": [
      "\u001b[1;31m---------------------------------------------------------------------------\u001b[0m",
      "\u001b[1;31mKeyError\u001b[0m                                  Traceback (most recent call last)",
      "\u001b[1;32m<ipython-input-47-e91452b18cb7>\u001b[0m in \u001b[0;36m<module>\u001b[1;34m\u001b[0m\n\u001b[1;32m----> 1\u001b[1;33m \u001b[0md\u001b[0m\u001b[1;33m[\u001b[0m\u001b[0mrange\u001b[0m\u001b[1;33m(\u001b[0m\u001b[1;36m9\u001b[0m\u001b[1;33m)\u001b[0m\u001b[1;33m]\u001b[0m\u001b[1;33m\u001b[0m\u001b[1;33m\u001b[0m\u001b[0m\n\u001b[0m",
      "\u001b[1;31mKeyError\u001b[0m: range(0, 9)"
     ]
    }
   ],
   "source": [
    "d[range(9)] #key is not present"
   ]
  },
  {
   "cell_type": "code",
   "execution_count": 50,
   "metadata": {},
   "outputs": [
    {
     "data": {
      "text/plain": [
       "'range'"
      ]
     },
     "execution_count": 50,
     "metadata": {},
     "output_type": "execute_result"
    }
   ],
   "source": [
    "d[range(10)]"
   ]
  },
  {
   "cell_type": "code",
   "execution_count": 53,
   "metadata": {},
   "outputs": [
    {
     "ename": "TypeError",
     "evalue": "unhashable type: 'list'",
     "output_type": "error",
     "traceback": [
      "\u001b[1;31m---------------------------------------------------------------------------\u001b[0m",
      "\u001b[1;31mTypeError\u001b[0m                                 Traceback (most recent call last)",
      "\u001b[1;32m<ipython-input-53-fc40938ccfcb>\u001b[0m in \u001b[0;36m<module>\u001b[1;34m\u001b[0m\n\u001b[1;32m----> 1\u001b[1;33m \u001b[0md\u001b[0m\u001b[1;33m=\u001b[0m\u001b[1;33m{\u001b[0m\u001b[1;33m[\u001b[0m\u001b[1;36m1\u001b[0m\u001b[1;33m,\u001b[0m\u001b[1;36m2\u001b[0m\u001b[1;33m]\u001b[0m\u001b[1;33m:\u001b[0m\u001b[1;34m'List'\u001b[0m\u001b[1;33m}\u001b[0m\u001b[1;33m\u001b[0m\u001b[1;33m\u001b[0m\u001b[0m\n\u001b[0m",
      "\u001b[1;31mTypeError\u001b[0m: unhashable type: 'list'"
     ]
    }
   ],
   "source": [
    "d={[1,2]:'List'}\n",
    "\n",
    "#list is not allowed as key"
   ]
  },
  {
   "cell_type": "code",
   "execution_count": 54,
   "metadata": {},
   "outputs": [
    {
     "ename": "SyntaxError",
     "evalue": "invalid syntax (<ipython-input-54-4a3938420f84>, line 1)",
     "output_type": "error",
     "traceback": [
      "\u001b[1;36m  File \u001b[1;32m\"<ipython-input-54-4a3938420f84>\"\u001b[1;36m, line \u001b[1;32m1\u001b[0m\n\u001b[1;33m    d={*:'special character'}\u001b[0m\n\u001b[1;37m        ^\u001b[0m\n\u001b[1;31mSyntaxError\u001b[0m\u001b[1;31m:\u001b[0m invalid syntax\n"
     ]
    }
   ],
   "source": [
    "d={*:'special character'}\n",
    "\n",
    "#special chacrs is not valid"
   ]
  },
  {
   "cell_type": "code",
   "execution_count": 55,
   "metadata": {},
   "outputs": [
    {
     "ename": "TypeError",
     "evalue": "unhashable type: 'set'",
     "output_type": "error",
     "traceback": [
      "\u001b[1;31m---------------------------------------------------------------------------\u001b[0m",
      "\u001b[1;31mTypeError\u001b[0m                                 Traceback (most recent call last)",
      "\u001b[1;32m<ipython-input-55-df3f2b06480c>\u001b[0m in \u001b[0;36m<module>\u001b[1;34m\u001b[0m\n\u001b[1;32m----> 1\u001b[1;33m \u001b[0md\u001b[0m\u001b[1;33m=\u001b[0m\u001b[1;33m{\u001b[0m\u001b[1;33m{\u001b[0m\u001b[1;36m2\u001b[0m\u001b[1;33m,\u001b[0m\u001b[1;36m3\u001b[0m\u001b[1;33m}\u001b[0m\u001b[1;33m,\u001b[0m\u001b[1;34m'set'\u001b[0m\u001b[1;33m}\u001b[0m\u001b[1;33m\u001b[0m\u001b[1;33m\u001b[0m\u001b[0m\n\u001b[0m\u001b[0;32m      2\u001b[0m \u001b[0md\u001b[0m\u001b[1;33m\u001b[0m\u001b[1;33m\u001b[0m\u001b[0m\n",
      "\u001b[1;31mTypeError\u001b[0m: unhashable type: 'set'"
     ]
    }
   ],
   "source": [
    "d={{2,3},'set'}  #set is not allowed as key\n",
    "d"
   ]
  },
  {
   "cell_type": "code",
   "execution_count": 56,
   "metadata": {},
   "outputs": [
    {
     "ename": "TypeError",
     "evalue": "unhashable type: 'dict'",
     "output_type": "error",
     "traceback": [
      "\u001b[1;31m---------------------------------------------------------------------------\u001b[0m",
      "\u001b[1;31mTypeError\u001b[0m                                 Traceback (most recent call last)",
      "\u001b[1;32m<ipython-input-56-ddc4e019becc>\u001b[0m in \u001b[0;36m<module>\u001b[1;34m\u001b[0m\n\u001b[1;32m----> 1\u001b[1;33m \u001b[0md\u001b[0m\u001b[1;33m=\u001b[0m\u001b[1;33m{\u001b[0m\u001b[1;33m{\u001b[0m\u001b[1;36m2\u001b[0m\u001b[1;33m:\u001b[0m\u001b[1;36m3\u001b[0m\u001b[1;33m}\u001b[0m\u001b[1;33m,\u001b[0m\u001b[1;34m'dictionary'\u001b[0m\u001b[1;33m}\u001b[0m\u001b[1;33m\u001b[0m\u001b[1;33m\u001b[0m\u001b[0m\n\u001b[0m\u001b[0;32m      2\u001b[0m \u001b[0md\u001b[0m\u001b[1;33m\u001b[0m\u001b[1;33m\u001b[0m\u001b[0m\n",
      "\u001b[1;31mTypeError\u001b[0m: unhashable type: 'dict'"
     ]
    }
   ],
   "source": [
    "d={{2:3},'dictionary'}  #dictionary is not allowed as key\n",
    "d"
   ]
  },
  {
   "cell_type": "code",
   "execution_count": 58,
   "metadata": {},
   "outputs": [
    {
     "name": "stdout",
     "output_type": "stream",
     "text": [
      "{'dict': {1, 2, 3, 4, 5, 6, 7}}\n"
     ]
    }
   ],
   "source": [
    "d={'dict':{1,2,3,4,5,5,5,6,6,7}}  #set as value\n",
    "print(d)\n",
    "\n",
    "#duplicates are automaticalyy eliminated."
   ]
  },
  {
   "cell_type": "code",
   "execution_count": 65,
   "metadata": {},
   "outputs": [
    {
     "name": "stdout",
     "output_type": "stream",
     "text": [
      "True\n",
      "dic[9829]:  [9, 8, 2, 9]\n",
      "dic[9829][1]:  8\n",
      "key1:  {2, 3, 4, 5, 6}\n"
     ]
    }
   ],
   "source": [
    "#COMLEX DICTIONARY\n",
    "\n",
    "dic={True:'True',34.67:'float',9829:[9,8,2,9],'key1':{2,3,4,5,6}}\n",
    "\n",
    "print(dic[True])\n",
    "print('dic[9829]: ',dic[9829])\n",
    "print('dic[9829][1]: ',dic[9829][1])\n",
    "print('key1: ',dic['key1'])"
   ]
  },
  {
   "cell_type": "markdown",
   "metadata": {},
   "source": [
    "#### Nested Dictionary"
   ]
  },
  {
   "cell_type": "code",
   "execution_count": 68,
   "metadata": {},
   "outputs": [
    {
     "name": "stdout",
     "output_type": "stream",
     "text": [
      "{True: 'True', 34.67: 'float', 9829: [9, 8, 2, 9], 'key1': {2, 3, 4, 5, 6}, 'key2': {'key21': 'kamal', 'key22': 'singh'}}\n"
     ]
    }
   ],
   "source": [
    "dic={True:'True',34.67:'float',9829:[9,8,2,9],'key1':{2,3,4,5,6},'key2':{'key21':'kamal','key22':'singh'}}\n",
    "print(dic)"
   ]
  },
  {
   "cell_type": "code",
   "execution_count": 70,
   "metadata": {},
   "outputs": [
    {
     "name": "stdout",
     "output_type": "stream",
     "text": [
      "[9, 8, 2, 9]\n",
      "d[9829][1]:  8\n",
      "d['key2']: {'key21': 'kamal', 'key22': 'singh'}\n",
      "d['key2']['key21']:  kamal\n",
      "d['key1']:  {2, 3, 4, 5, 6}\n"
     ]
    }
   ],
   "source": [
    "print(d[9829])\n",
    "print('d[9829][1]: ',d[9829][1])\n",
    "print(\"d['key2']:\",d['key2'])\n",
    "print(\"d['key2']['key21']: \",d['key2']['key21'])\n",
    "print(\"d['key1']: \",d['key1'])\n"
   ]
  },
  {
   "cell_type": "markdown",
   "metadata": {},
   "source": [
    " ## >IMP"
   ]
  },
  {
   "cell_type": "code",
   "execution_count": 72,
   "metadata": {},
   "outputs": [
    {
     "name": "stdout",
     "output_type": "stream",
     "text": [
      "nest:  {'key1': {'key11': {'key111': 'last-Value'}}}\n",
      "nest['key1']:  {'key11': {'key111': 'last-Value'}}\n",
      "nest['key1']['key11']: {'key111': 'last-Value'}\n",
      "nest['key1']['key11']['key111']:  last-Value\n"
     ]
    }
   ],
   "source": [
    "#complex\n",
    "\n",
    "nest={'key1':{'key11':{'key111':'last-Value'}}}\n",
    "\n",
    "print('nest: ',nest)\n",
    "print(\"nest['key1']: \",nest['key1'])\n",
    "print(\"nest['key1']['key11']:\",nest['key1']['key11'])\n",
    "print(\"nest['key1']['key11']['key111']: \",nest['key1']['key11']['key111'])"
   ]
  },
  {
   "cell_type": "markdown",
   "metadata": {},
   "source": [
    " "
   ]
  },
  {
   "cell_type": "code",
   "execution_count": 73,
   "metadata": {},
   "outputs": [
    {
     "name": "stdout",
     "output_type": "stream",
     "text": [
      "{'k1': 'kamal', 'k2': 'singh', 'k3': 'singh'}\n"
     ]
    }
   ],
   "source": [
    "#assigning values\n",
    "\n",
    "d1={'k1':'kamal','k2':'singh'}\n",
    "d1['k3']=d1['k2']\n",
    "print(d1)"
   ]
  },
  {
   "cell_type": "markdown",
   "metadata": {},
   "source": [
    "> if any key to is present it gets updated with the new value and if not a new key:value pair is added to the dictionary."
   ]
  },
  {
   "cell_type": "code",
   "execution_count": 77,
   "metadata": {},
   "outputs": [
    {
     "name": "stdout",
     "output_type": "stream",
     "text": [
      "{'Name': 'kamal', 'age': 23, 'salary': 973723, 'key4': [4, 2], 'key5': (2, 3)}\n"
     ]
    }
   ],
   "source": [
    "#iterating dictionary\n",
    "\n",
    "d_samp={'Name': 'kamal', 'age': 23, 'salary': 973723,'key4':[4,2],'key5':(2,3)}\n",
    "print(d_samp)"
   ]
  },
  {
   "cell_type": "code",
   "execution_count": 80,
   "metadata": {},
   "outputs": [
    {
     "name": "stdout",
     "output_type": "stream",
     "text": [
      "Name\n",
      "age\n",
      "salary\n",
      "key4\n",
      "key5\n"
     ]
    }
   ],
   "source": [
    "#iterating dictionary: \n",
    "\n",
    "for i in d_samp:   #prints key\n",
    "    print(i)"
   ]
  },
  {
   "cell_type": "code",
   "execution_count": 81,
   "metadata": {},
   "outputs": [
    {
     "name": "stdout",
     "output_type": "stream",
     "text": [
      "kamal\n",
      "23\n",
      "973723\n",
      "[4, 2]\n",
      "(2, 3)\n"
     ]
    }
   ],
   "source": [
    "for i in d_samp:\n",
    "    print( d_samp[ i ] )"
   ]
  },
  {
   "cell_type": "code",
   "execution_count": 83,
   "metadata": {},
   "outputs": [
    {
     "name": "stdout",
     "output_type": "stream",
     "text": [
      "Name : kamal\n",
      "age : 23\n",
      "salary : 973723\n",
      "key4 : [4, 2]\n",
      "key5 : (2, 3)\n"
     ]
    }
   ],
   "source": [
    "#printing keys and values\n",
    "for i in d_samp:\n",
    "    print('{} : {}'.format(i,d_samp[i]))"
   ]
  },
  {
   "cell_type": "code",
   "execution_count": 82,
   "metadata": {},
   "outputs": [
    {
     "name": "stdout",
     "output_type": "stream",
     "text": [
      "Name : kamal \n",
      "age : 23 \n",
      "salary : 973723 \n",
      "key4 : [4, 2] \n",
      "key5 : (2, 3) \n"
     ]
    }
   ],
   "source": [
    "#printing keys and values\n",
    "for keys,values in d_samp.items():\n",
    "    print('{} : {} '.format(keys,values))"
   ]
  },
  {
   "cell_type": "code",
   "execution_count": 135,
   "metadata": {},
   "outputs": [
    {
     "name": "stdout",
     "output_type": "stream",
     "text": [
      "enter the string: kamal\n",
      "{'k': 0, 'a': 0, 'm': 0, 'l': 0}\n"
     ]
    }
   ],
   "source": [
    "#converting string to dictionary\n",
    "string=input('enter the string: ')\n",
    "d={}\n",
    "d=d.fromkeys(string,0)\n",
    "print(d)"
   ]
  },
  {
   "cell_type": "markdown",
   "metadata": {},
   "source": [
    "## Built-In functions of Dictionary"
   ]
  },
  {
   "cell_type": "code",
   "execution_count": 88,
   "metadata": {},
   "outputs": [
    {
     "name": "stdout",
     "output_type": "stream",
     "text": [
      "dict_keys(['Name', 'age', 'salary', 'key4', 'key5'])\n",
      "TYPE:  <class 'dict_keys'>\n"
     ]
    }
   ],
   "source": [
    "print(d_samp.keys())\n",
    "print('TYPE: ',type(d_samp.keys()))\n",
    "\n",
    "#returns a \"list of keys\" of the dictionary"
   ]
  },
  {
   "cell_type": "code",
   "execution_count": 89,
   "metadata": {},
   "outputs": [
    {
     "name": "stdout",
     "output_type": "stream",
     "text": [
      "dict_values(['kamal', 23, 973723, [4, 2], (2, 3)])\n",
      "<class 'dict_values'>\n"
     ]
    }
   ],
   "source": [
    "print(d_samp.values())\n",
    "\n",
    "print(type(d_samp.values()))\n",
    "\n",
    "# returns a \"list of values of keys\" in the dictionary"
   ]
  },
  {
   "cell_type": "code",
   "execution_count": 91,
   "metadata": {},
   "outputs": [
    {
     "name": "stdout",
     "output_type": "stream",
     "text": [
      "dict_items([('Name', 'kamal'), ('age', 23), ('salary', 973723), ('key4', [4, 2]), ('key5', (2, 3))])\n"
     ]
    }
   ],
   "source": [
    "print(d_samp.items())\n",
    "\n",
    "#returns \"list of tuples of key value\" pair in dictionary\n",
    "\n",
    "#here we can see all the key value pair is shown as tuple which are enclosd within a list"
   ]
  },
  {
   "cell_type": "code",
   "execution_count": 94,
   "metadata": {},
   "outputs": [
    {
     "name": "stdout",
     "output_type": "stream",
     "text": [
      "d_samp:  {'Name': 'kamal', 'age': 23, 'salary': 973723, 'key4': [4, 2], 'key5': (2, 3)}\n",
      "\n",
      "d1:  {'Name': 'kamal', 'age': 23, 'salary': 973723, 'key4': [4, 2], 'key5': (2, 3)}\n"
     ]
    }
   ],
   "source": [
    "d1={}\n",
    "d1=d_samp.copy()\n",
    "\n",
    "print('d_samp: ',d_samp)\n",
    "print()\n",
    "print('d1: ',d1)\n",
    "# copy() copies all elements one dictionary to another makes a shallow copy of d_samp and copies it into d1"
   ]
  },
  {
   "cell_type": "code",
   "execution_count": 96,
   "metadata": {},
   "outputs": [
    {
     "name": "stdout",
     "output_type": "stream",
     "text": [
      "d1( before update):  {1: 'old', 2: 'dictionary'}\n",
      "d1(ater update: ):  {1: 'old', 2: 'dictionary', 'new': 'form update()'}\n",
      "{'new': 'form update()'}\n"
     ]
    }
   ],
   "source": [
    "x={'new':'form update()'}\n",
    "d1={1:'old',2:'dictionary'}\\\n",
    "\n",
    "#update()\n",
    "print('d1( before update): ',d1)\n",
    "d1.update(x)\n",
    "\n",
    "print('d1(ater update: ): ',d1)\n",
    "\n",
    "#this method copies and adds all the elements of 'x' to 'd1' and updates 'd1'"
   ]
  },
  {
   "cell_type": "code",
   "execution_count": 102,
   "metadata": {},
   "outputs": [
    {
     "name": "stdout",
     "output_type": "stream",
     "text": [
      "d1:  {1: 'old', 2: 'dictionary', 'new': 'form update()'}\n",
      "old\n",
      "-1\n",
      "None\n"
     ]
    }
   ],
   "source": [
    "#get() :   dict_name.get( key, default=None(it can be any number))\n",
    "\n",
    "#This method returns value for the key given,otherwise default\n",
    "\n",
    "print('d1: ',d1)\n",
    "\n",
    "print(d1.get(1))\n",
    "\n",
    "print(d1.get(3,-1)) #here key is not mentioned,it returns default=-1\n",
    "\n",
    "print(d1.get(4)) #key not mentioned neither default,by default None is default"
   ]
  },
  {
   "cell_type": "code",
   "execution_count": 111,
   "metadata": {},
   "outputs": [
    {
     "name": "stdout",
     "output_type": "stream",
     "text": [
      "{2: None, 3: None, 4: None}\n",
      "{2: 4, 3: 4, 4: 4}\n",
      "{1: [2, 5], 2: [2, 5], 'new': [2, 5]}\n",
      "{2: 5, 3: 5}\n",
      "{1: 6, 2: 6, 'new': 6}\n"
     ]
    }
   ],
   "source": [
    "#fromkeys(): dict_name.fromkeys( iterable,value=None)\n",
    "\n",
    "# Create a new dictionary with keys from iterable and values set to value.\n",
    "\n",
    "x=x.fromkeys([2,3,4]) #FIRST\n",
    "print(x)\n",
    "\n",
    "x=x.fromkeys([2,3,4],4) #second\n",
    "print(x)\n",
    "\n",
    "x=x.fromkeys(d1.keys(),[2,5]) #third\n",
    "print(x)\n",
    "\n",
    "x=x.fromkeys({2,3},5) #fourth\n",
    "print(x)\n",
    "\n",
    "x=x.fromkeys(d1,6) #fifth\n",
    "print(x)"
   ]
  },
  {
   "cell_type": "markdown",
   "metadata": {},
   "source": [
    "above,\n",
    "FIRST e.g.: iterable taken is a list, value is not given so bydefault it takesm it as None.\n",
    "\n",
    "SECOND: same iterable, but only 4 is given as value so it is aquired as a value by all thew keys\n",
    "\n",
    "THIRD: taken keys from d1 dict and provided a list as value\n",
    "\n",
    "FOURTH: passed set as an iterable\n",
    "\n",
    "FIFTH:  passeda dictionaryas iterable and the method take the keys from that dictionary and makes it keys of dictionary x\n",
    "\n"
   ]
  },
  {
   "cell_type": "code",
   "execution_count": 118,
   "metadata": {},
   "outputs": [],
   "source": [
    "d1={1: 6, 2: 6, 'new': 6}"
   ]
  },
  {
   "cell_type": "code",
   "execution_count": 119,
   "metadata": {},
   "outputs": [
    {
     "name": "stdout",
     "output_type": "stream",
     "text": [
      "{1: 6, 2: 6, 'new': 6}\n",
      "{1: 6, 'new': 6}\n"
     ]
    },
    {
     "ename": "KeyError",
     "evalue": "2",
     "output_type": "error",
     "traceback": [
      "\u001b[1;31m---------------------------------------------------------------------------\u001b[0m",
      "\u001b[1;31mKeyError\u001b[0m                                  Traceback (most recent call last)",
      "\u001b[1;32m<ipython-input-119-b6930dc5c32a>\u001b[0m in \u001b[0;36m<module>\u001b[1;34m\u001b[0m\n\u001b[0;32m      9\u001b[0m \u001b[1;31m#If key is not found, d is returned if given, otherwise KeyError is raised\u001b[0m\u001b[1;33m\u001b[0m\u001b[1;33m\u001b[0m\u001b[1;33m\u001b[0m\u001b[0m\n\u001b[0;32m     10\u001b[0m \u001b[1;33m\u001b[0m\u001b[0m\n\u001b[1;32m---> 11\u001b[1;33m \u001b[0md1\u001b[0m\u001b[1;33m.\u001b[0m\u001b[0mpop\u001b[0m\u001b[1;33m(\u001b[0m\u001b[1;36m2\u001b[0m\u001b[1;33m)\u001b[0m\u001b[1;33m\u001b[0m\u001b[1;33m\u001b[0m\u001b[0m\n\u001b[0m\u001b[0;32m     12\u001b[0m \u001b[0mprint\u001b[0m\u001b[1;33m(\u001b[0m\u001b[0md1\u001b[0m\u001b[1;33m)\u001b[0m\u001b[1;33m\u001b[0m\u001b[1;33m\u001b[0m\u001b[0m\n\u001b[0;32m     13\u001b[0m \u001b[1;33m\u001b[0m\u001b[0m\n",
      "\u001b[1;31mKeyError\u001b[0m: 2"
     ]
    }
   ],
   "source": [
    "#pop: dict_name.pop(k,[v])\n",
    "\n",
    "#remove specified key from dictionary and return the corresponding value.\n",
    "\n",
    "print(d1)\n",
    "d1.pop(2)\n",
    "print(d1)\n",
    "\n",
    "#If key is not found, d is returned if given, otherwise KeyError is raised\n",
    "\n",
    "d1.pop(2)\n",
    "print(d1)\n",
    "\n",
    "#key '2' is not in dictionary, keyErro is raised"
   ]
  },
  {
   "cell_type": "code",
   "execution_count": 127,
   "metadata": {},
   "outputs": [
    {
     "name": "stdout",
     "output_type": "stream",
     "text": [
      "{1: 6, 2: 6, 'new': 6}\n",
      "{1: 6, 2: 6, 'new': 6, 3: -1}\n",
      "{1: 6, 2: 6, 'new': 6, 3: -1, 4: None}\n"
     ]
    }
   ],
   "source": [
    "d1={1: 6, 2: 6, 'new': 6}\n",
    "\n",
    "\n",
    "#setdefault(): d1.setdefault(key, default=None, /)\n",
    "#If key is found returns the value,if key is not found,adds the key with value=default provided\n",
    "\n",
    "d1.setdefault(2)\n",
    "print(d1)\n",
    "\n",
    "d1.setdefault(3,-1) #adds element 3 as key and -1 as value\n",
    "print(d1)\n",
    "\n",
    "d1.setdefault(4) #adds element 4 as key and default= None as no default value given\n",
    "print(d1)\n"
   ]
  },
  {
   "cell_type": "markdown",
   "metadata": {},
   "source": [
    " "
   ]
  },
  {
   "cell_type": "markdown",
   "metadata": {},
   "source": [
    "#### Finding number of occurences of charcters in a string using dictionary"
   ]
  },
  {
   "cell_type": "code",
   "execution_count": 137,
   "metadata": {},
   "outputs": [
    {
     "name": "stdout",
     "output_type": "stream",
     "text": [
      "Enter the string: kamal\n",
      "k has 1 occurences\n",
      "a has 2 occurences\n",
      "m has 1 occurences\n",
      "l has 1 occurences\n"
     ]
    }
   ],
   "source": [
    "string=input('Enter the string: ')\n",
    "d_count={}\n",
    "for i in string:\n",
    "    d_count[i]=d_count.get(i,0)+1 \n",
    "    \n",
    "#we take string and get function,if key is not there it adds new element else updates the value\n",
    "\n",
    "#printing occurences\n",
    "for k,v in d_count.items():\n",
    "    print('{} has {} occurences'.format(k,v))\n",
    "    "
   ]
  },
  {
   "cell_type": "markdown",
   "metadata": {},
   "source": [
    "#### Converting Lists to Dictionary"
   ]
  },
  {
   "cell_type": "code",
   "execution_count": 148,
   "metadata": {},
   "outputs": [
    {
     "name": "stdout",
     "output_type": "stream",
     "text": [
      "<zip object at 0x000002BD9662AA48>\n",
      "1 I\n",
      "2 II\n",
      "3 III\n",
      "4 IV\n",
      "5 V\n"
     ]
    }
   ],
   "source": [
    "#Initializing Lists\n",
    "\n",
    "nums=[1,2,3,4,5]\n",
    "romans=['I','II','III','IV','V']\n",
    "\n",
    "#we use zip class object constructor zip() method to to combine two list\n",
    "\n",
    "z=zip(nums,romans)\n",
    "print(z) #sipped object is presented as object only\n",
    "\n",
    "#now converting zip object to dictionary\n",
    "\n",
    "d=dict(z)\n",
    "for i in d:\n",
    "    print(i,d[i])"
   ]
  },
  {
   "cell_type": "markdown",
   "metadata": {},
   "source": [
    "### Ordered Functions\n",
    "\n",
    "As elements in dictionary are not ordered so to store them in an ordered way we use ordered dictionaries.\n",
    "In ordered dictionaries, elements are stored and maintained in the same order.\n",
    "Todo so we use OrderedDict() method of collection module.\n"
   ]
  },
  {
   "cell_type": "code",
   "execution_count": 151,
   "metadata": {},
   "outputs": [
    {
     "ename": "SyntaxError",
     "evalue": "invalid syntax (<ipython-input-151-640d9283ac40>, line 1)",
     "output_type": "error",
     "traceback": [
      "\u001b[1;36m  File \u001b[1;32m\"<ipython-input-151-640d9283ac40>\"\u001b[1;36m, line \u001b[1;32m1\u001b[0m\n\u001b[1;33m    form collection import OrderedDict\u001b[0m\n\u001b[1;37m                  ^\u001b[0m\n\u001b[1;31mSyntaxError\u001b[0m\u001b[1;31m:\u001b[0m invalid syntax\n"
     ]
    }
   ],
   "source": [
    "form collection import OrderedDict\n",
    "\n",
    "d=OrderedDict()\n",
    "d[1]='I'\n",
    "d[2]='II'\n",
    "d[3]='III'\n",
    "d[4]='IV'\n",
    "print(d)"
   ]
  },
  {
   "cell_type": "markdown",
   "metadata": {},
   "source": [
    "## Dictionary Comprehension\n",
    "\n",
    "> creating a dictonary just one line of code using colon between key and value enitities."
   ]
  },
  {
   "cell_type": "code",
   "execution_count": 152,
   "metadata": {},
   "outputs": [
    {
     "name": "stdout",
     "output_type": "stream",
     "text": [
      "{1: 1, 2: 4, 3: 9, 4: 16, 5: 25, 6: 36, 7: 49, 8: 64, 9: 81, 10: 100}\n"
     ]
    }
   ],
   "source": [
    "# print key with its square upto 10\n",
    "\n",
    "d_sq={i:i**2 for i in range(1,11)}\n",
    "print(d_sq)"
   ]
  },
  {
   "cell_type": "code",
   "execution_count": 156,
   "metadata": {},
   "outputs": [
    {
     "data": {
      "text/plain": [
       "{'a': 97,\n",
       " 'b': 98,\n",
       " 'c': 99,\n",
       " 'd': 100,\n",
       " 'e': 101,\n",
       " 'f': 102,\n",
       " 'g': 103,\n",
       " 'h': 104,\n",
       " 'i': 105,\n",
       " 'j': 106}"
      ]
     },
     "execution_count": 156,
     "metadata": {},
     "output_type": "execute_result"
    }
   ],
   "source": [
    "#ascii value extraction\n",
    "d_ascii={i:ord(i) for i in 'abcdefghij'}\n",
    "d_ascii"
   ]
  },
  {
   "cell_type": "code",
   "execution_count": null,
   "metadata": {},
   "outputs": [],
   "source": []
  }
 ],
 "metadata": {
  "kernelspec": {
   "display_name": "Python 3",
   "language": "python",
   "name": "python3"
  },
  "language_info": {
   "codemirror_mode": {
    "name": "ipython",
    "version": 3
   },
   "file_extension": ".py",
   "mimetype": "text/x-python",
   "name": "python",
   "nbconvert_exporter": "python",
   "pygments_lexer": "ipython3",
   "version": "3.7.4"
  }
 },
 "nbformat": 4,
 "nbformat_minor": 2
}
