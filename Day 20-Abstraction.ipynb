{
 "cells": [
  {
   "cell_type": "markdown",
   "metadata": {},
   "source": [
    "# Abstraction "
   ]
  },
  {
   "cell_type": "markdown",
   "metadata": {},
   "source": [
    "we can make our instance variables and class as private, public, or protected and this is called abstraction.\n",
    "\n",
    "In python there is no such defined content present in python, rather it can be occurred implicitly ( using symbols ).\n",
    "\n",
    "no underscore means **public**\n",
    "\n",
    "one underscore means **protected** that means we can use that varibale within the class, within the child class nd within the packages but cannot be used outside of packages. If very necessary, then it is used otside the package. It can also be used by class instance methods.These variables are also called with one underscore only. If no underscore is used it gives errror."
   ]
  },
  {
   "cell_type": "code",
   "execution_count": 1,
   "metadata": {},
   "outputs": [
    {
     "name": "stdout",
     "output_type": "stream",
     "text": [
      "Alec Baldwin and was born 1958.\n",
      "{'_name': 'Alec', '_surname': 'Baldwin', '_year_of_birth': 1958}\n",
      "Baldwin \t\t  #with underscore\n"
     ]
    },
    {
     "ename": "AttributeError",
     "evalue": "'Person' object has no attribute 'surname'",
     "output_type": "error",
     "traceback": [
      "\u001b[1;31m---------------------------------------------------------------------------\u001b[0m",
      "\u001b[1;31mAttributeError\u001b[0m                            Traceback (most recent call last)",
      "\u001b[1;32m<ipython-input-1-8ffde608d7ce>\u001b[0m in \u001b[0;36m<module>\u001b[1;34m\u001b[0m\n\u001b[0;32m     16\u001b[0m \u001b[0mprint\u001b[0m\u001b[1;33m(\u001b[0m\u001b[0malec\u001b[0m\u001b[1;33m.\u001b[0m\u001b[0m__dict__\u001b[0m\u001b[1;33m)\u001b[0m\u001b[1;33m\u001b[0m\u001b[1;33m\u001b[0m\u001b[0m\n\u001b[0;32m     17\u001b[0m \u001b[0mprint\u001b[0m\u001b[1;33m(\u001b[0m\u001b[0malec\u001b[0m\u001b[1;33m.\u001b[0m\u001b[0m_surname\u001b[0m\u001b[1;33m,\u001b[0m\u001b[1;34m'\\t\\t'\u001b[0m\u001b[1;33m,\u001b[0m\u001b[1;34m' #with underscore'\u001b[0m\u001b[1;33m)\u001b[0m\u001b[1;33m\u001b[0m\u001b[1;33m\u001b[0m\u001b[0m\n\u001b[1;32m---> 18\u001b[1;33m \u001b[0mprint\u001b[0m\u001b[1;33m(\u001b[0m\u001b[0malec\u001b[0m\u001b[1;33m.\u001b[0m\u001b[0msurname\u001b[0m\u001b[1;33m)\u001b[0m   \u001b[1;31m#without underscore it doesn't work\u001b[0m\u001b[1;33m\u001b[0m\u001b[1;33m\u001b[0m\u001b[0m\n\u001b[0m\u001b[0;32m     19\u001b[0m \u001b[1;33m\u001b[0m\u001b[0m\n\u001b[0;32m     20\u001b[0m \u001b[1;31m#here we see only one underscore in dict but class name is not present\u001b[0m\u001b[1;33m\u001b[0m\u001b[1;33m\u001b[0m\u001b[1;33m\u001b[0m\u001b[0m\n",
      "\u001b[1;31mAttributeError\u001b[0m: 'Person' object has no attribute 'surname'"
     ]
    }
   ],
   "source": [
    "class Person:\n",
    "    def __init__(self, name, surname, year_of_birth):\n",
    "        self._name = name   #undercore is notation for protectd members\n",
    "        self._surname = surname\n",
    "        self._year_of_birth = year_of_birth\n",
    "    \n",
    "    def age(self, current_year):\n",
    "        return current_year - self._year_of_birth\n",
    "    \n",
    "    def __str__(self):\n",
    "        return \"%s %s and was born %d.\" \\\n",
    "                % (self._name, self._surname, self._year_of_birth)\n",
    "    \n",
    "alec = Person(\"Alec\", \"Baldwin\", 1958)\n",
    "print(alec)\n",
    "print(alec.__dict__)\n",
    "print(alec._surname,'\\t\\t',' #with underscore')\n",
    "print(alec.surname)   #without underscore it doesn't work\n",
    "\n",
    "#here we see only one underscore in dict but class name is not present"
   ]
  },
  {
   "cell_type": "markdown",
   "metadata": {},
   "source": [
    "two underscore means **private** that means which "
   ]
  },
  {
   "cell_type": "code",
   "execution_count": 2,
   "metadata": {},
   "outputs": [
    {
     "name": "stdout",
     "output_type": "stream",
     "text": [
      "{'_Person__name': 'Alec', '_Person__surname': 'Baldwin', '_Person__year_of_birth': 1958}\n",
      "Alec\n"
     ]
    }
   ],
   "source": [
    "class Person:\n",
    "    def __init__(self, name, surname, year_of_birth):\n",
    "        self.__name = name\n",
    "        self.__surname = surname\n",
    "        self.__year_of_birth = year_of_birth\n",
    "    \n",
    "    def age(self, current_year):\n",
    "        return current_year - self.__year_of_birth\n",
    "    \n",
    "    def __str__(self):\n",
    "        return \"%s %s and was born %d.\" \\\n",
    "                % (self.__name, self.__surname, self.__year_of_birth)\n",
    "    \n",
    "alec = Person(\"Alec\", \"Baldwin\", 1958)\n",
    "#print(alec.__name)   : this will give error\n",
    "#so we \n",
    "print(alec.__dict__)\n",
    "print(alec._Person__name)  #accesing private memeberr of class a they are stored in memory in that way only\n"
   ]
  },
  {
   "cell_type": "markdown",
   "metadata": {},
   "source": [
    "`__dict__` is a special attribute is a dictionary containing each attribute of an object. We can see that prepending two underscores every key has `_ClassName__` prepended.\n",
    "\n",
    "It represents a dictionary where instance variables with classname that are mapped with values\n",
    "\n",
    "This attribute also represents how instance varibales is stored inside the memory\n",
    ">"
   ]
  },
  {
   "cell_type": "markdown",
   "metadata": {},
   "source": [
    "## Concept of Abstact Class\n",
    "\n",
    "\n",
    "Let us take an example, we create a class which has a method calculate() which calculates the square of the number. But if we want to different objects to perform different tasks like to calculate square, square root and cube with the same method i.e. calculate() then the function processing will be dependent on the object being taken as if we are squaring a number we cannot perform sqaure root with the same function, and here we use the concept of Abstract classes.\n",
    "\n",
    "First We create a class in which we declare a method calculate() with no body( abstract method ) and this class is called *Abstract Class*.\n",
    "Secondly, we create subclasses for this class for different tasks, like sub1 for squaring the number, sub2 for squareroot, etc. and provide body( or implementation ) for calculate() method. So different subclasses will have different implementation for calculate() method, performing different tasks independently. \n",
    "\n",
    "    Hence we are no provding any body of the methods, no memory is allocated to the class and consequently PVM cannot create object of Abstract Class but we can create object of subclass with which we can access the methods of abstract class and can manipulate it.\n",
    ">Function with body is called *Concrete method*\n",
    "    \n",
    "**Abstract Methods**: *It is a method whose action is redefined in the subclass as per the requireent of the objects*. These are methods with no body which is later defined in the subclass. We use a decorator **@abstractmethod** to mark any method as abstract method. But it is possible to write abstract method with body also.\n",
    "\n",
    "**Abstract Class**: Certainly a class containing abstract methods. We cannot create objects of abstract class it it can be inherited. It contains abstract methods well as concrete methods. \n",
    "\n",
    "    To create abstract class we derive it from meta class ABC that belongs to 'abc(abstract base class)' module, as: \n",
    "                            class AbstractClass(ABC):\n",
    "A meta class is a class that defines behaviour of other classes. The meta class ABC defines that the class which is derived from it becomes the abstract class\n",
    "and for this we import this module to our program : \n",
    "        \n",
    "            form abc import ABC, absractmethod\n",
    "                           OR\n",
    "            from abc import *\n",
    "            \n",
    "   \n",
    "            \n",
    "            "
   ]
  },
  {
   "cell_type": "code",
   "execution_count": 6,
   "metadata": {},
   "outputs": [
    {
     "name": "stdout",
     "output_type": "stream",
     "text": [
      "Enter the number: 17\n",
      "Sqaure of 17 is: 289 \n",
      "Square root of 17 is: 4.123105625617661\n",
      "Cube of 17 is: 4913\n"
     ]
    }
   ],
   "source": [
    "#importing modules\n",
    "from abc import *\n",
    "import math\n",
    "#abstarct class\n",
    "class sampClass(ABC):   #inherited ABC to make sampClass as abstract class\n",
    "    @abstractmethod\n",
    "    def calculate(self,x):   #abstract method calculate()\n",
    "        pass      #no body\n",
    "    \n",
    "#subclasses with implementaion of abstract method claculate()    \n",
    "class square(sampClass):\n",
    "    def calculate(self,x):\n",
    "        print('Sqaure of {} is: {} '.format(x,x*x))\n",
    "        \n",
    "class sqroot(sampClass):\n",
    "    def calculate(self,x):\n",
    "        print('Square root of {} is: {}'.format(x,math.sqrt(x)))\n",
    "        \n",
    "class cube(sampClass):\n",
    "    def calculate(self,x):\n",
    "        print('Cube of {} is: {}'.format(x,x**3))\n",
    "\n",
    "num=int(input('Enter the number: '))\n",
    "#creating instances of subclasses and performing tasks\n",
    "\n",
    "ob1=square()\n",
    "ob1.calculate(num)\n",
    "\n",
    "ob2=sqroot()\n",
    "ob2.calculate(num)\n",
    "\n",
    "ob3=cube()\n",
    "ob3.calculate(num)\n",
    "    "
   ]
  },
  {
   "cell_type": "markdown",
   "metadata": {},
   "source": [
    "Taking example of Car, and defining differrnt subclasses for different cars defining different features and functionalities. "
   ]
  },
  {
   "cell_type": "code",
   "execution_count": 9,
   "metadata": {},
   "outputs": [
    {
     "name": "stdout",
     "output_type": "stream",
     "text": [
      "Dzire uses Manual Steering\n",
      "Drive the car\n",
      "\n",
      "Dzire uses Hydraulic Brakes\n",
      "Apply brakes and stop it\n",
      "===================================\n",
      "Santro uses Power Steering\n",
      "Drive the car\n",
      "\n",
      "Santro uses gas brakes\n",
      "Apply brakes and stop it\n"
     ]
    }
   ],
   "source": [
    "#importing modules\n",
    "from abc import *\n",
    "import math\n",
    "#abstarct class\n",
    "class Car(ABC):\n",
    "    def __init__(self,regno):\n",
    "        self.regno=regno        #initializing car's registration number\n",
    "    def openTank(self):\n",
    "        print('Fill the fuel into tank')\n",
    "        print('For the car with Regno: ',self.regno)\n",
    "    #abstract methods\n",
    "    #implementations of these two methods are defined when defining the subclasses\n",
    "    @abstractmethod\n",
    "    def steering(self):\n",
    "        pass\n",
    "    @abstractmethod\n",
    "    def braking(self):\n",
    "        pass\n",
    "\n",
    "#subclasses\n",
    "\n",
    "class Dzire(Car):\n",
    "    def steering(self):\n",
    "        print('Dzire uses Manual Steering')\n",
    "        print('Drive the car')\n",
    "    def braking(self):\n",
    "        print('Dzire uses Hydraulic Brakes')\n",
    "        print('Apply brakes and stop it')\n",
    "\n",
    "class Santro(Car):\n",
    "    def steering(self):\n",
    "        print('Santro uses Power Steering')\n",
    "        print('Drive the car')\n",
    "    def braking(self):\n",
    "        print('Santro uses gas brakes')\n",
    "        print('Apply brakes and stop it')\n",
    "\n",
    "#creating instances\n",
    "d=Dzire(6282)\n",
    "d.steering()\n",
    "print()\n",
    "d.braking()\n",
    "print('===================================')\n",
    "\n",
    "s=Santro(7878)\n",
    "s.steering()\n",
    "print()\n",
    "s.braking()"
   ]
  },
  {
   "cell_type": "markdown",
   "metadata": {},
   "source": [
    "Hence, we see ordinary classes are used when we have to fulfil a common perspective but when we have fulfil individual requirement then we use abstract classes. Abstarct classes are more flexible to use. \n"
   ]
  },
  {
   "cell_type": "markdown",
   "metadata": {},
   "source": [
    "## Interfaces in Pyhton\n",
    "\n",
    "Interfaces can be defined as a abstract class with no concrete functions. None of the methods in an interface will have body, only method headers are present. Their implementation is given in the subclasses which inherit the interface. Unlike Java, Concept of Interfaces is not explicitly present in Python, hence we have to use abstract class as interface.\n",
    "\n",
    ">It is not possible to create object of interface.\n",
    "\n",
    "Using an Interfaces is comparatively a flexible option rather than using a class. For e.g., *money* is class, but *credit card* is interface., another example can be database vendor case where inspite of specifying implementation of one database, we can simply create an interface of the functioning and create different implementations for different kinds of databases. Implementation is provided by the third party vendor which is written in the subclass( database user chooses ).\n",
    "What kind of database is required, that implementation of database is executed and used.\n",
    "\n",
    "> Subclasses for the interfaces are provided by Third Party Vendors\n",
    "\n",
    "> API documentaion which contains description about class and its members helps the vednor to write implementation of methods of interfacein subclass.\n",
    "\n",
    "> Different subclasses provide different implementation of the methods of interface."
   ]
  },
  {
   "cell_type": "code",
   "execution_count": 20,
   "metadata": {},
   "outputs": [],
   "source": [
    "#interface\n",
    "from abc import *\n",
    "class myClass(ABC):\n",
    "    @abstractmethod\n",
    "    def connect(self):\n",
    "        pass\n",
    "    @abstractmethod\n",
    "    def disconnect(self):\n",
    "        pass\n",
    "\n",
    "#implementation of subclass oracle\n",
    "class oracle(myClass):\n",
    "    def connect(self):\n",
    "        print('Connection established with Oracle')\n",
    "    def disconnect(self):\n",
    "        print('Connection Closed')\n",
    "\n",
    "class sybase(myClass):\n",
    "    def connect(self):\n",
    "        print('Connection established with Sybase')\n",
    "    def disconnect(self):\n",
    "        print('Connection Closed')"
   ]
  },
  {
   "cell_type": "markdown",
   "metadata": {},
   "source": [
    "Programmer who develops interface dosen't know about possible names of the subclasses as it is developed by future vendor. So in the main program, programmer is responsible to create objects to the subclasses knowing there names. This is done using a built-in function globals() which returns dictionary containing current global names and globals()[str] returns name of the class that is in 'str'. "
   ]
  },
  {
   "cell_type": "code",
   "execution_count": 22,
   "metadata": {},
   "outputs": [
    {
     "name": "stdout",
     "output_type": "stream",
     "text": [
      "Enter name of Database: sybase\n",
      "Connection established with Sybase\n",
      "Connection Closed\n"
     ]
    }
   ],
   "source": [
    "class Database:\n",
    "    #taking name of database\n",
    "    dname=input('Enter name of Database: ')\n",
    "    \n",
    "    #converting string to classame\n",
    "    classname=globals()[dname]\n",
    "    \n",
    "    #creating instance \n",
    "    d=classname()\n",
    "    \n",
    "    #calling methods\n",
    "    d.connect()\n",
    "    d.disconnect()"
   ]
  },
  {
   "cell_type": "code",
   "execution_count": null,
   "metadata": {},
   "outputs": [],
   "source": []
  },
  {
   "cell_type": "code",
   "execution_count": null,
   "metadata": {},
   "outputs": [],
   "source": []
  }
 ],
 "metadata": {
  "kernelspec": {
   "display_name": "Python 3",
   "language": "python",
   "name": "python3"
  },
  "language_info": {
   "codemirror_mode": {
    "name": "ipython",
    "version": 3
   },
   "file_extension": ".py",
   "mimetype": "text/x-python",
   "name": "python",
   "nbconvert_exporter": "python",
   "pygments_lexer": "ipython3",
   "version": "3.7.4"
  }
 },
 "nbformat": 4,
 "nbformat_minor": 2
}
