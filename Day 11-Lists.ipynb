{
 "cells": [
  {
   "cell_type": "code",
   "execution_count": 47,
   "metadata": {},
   "outputs": [
    {
     "name": "stdout",
     "output_type": "stream",
     "text": [
      "[[0, 0, 0], [0, 0, 0], [0, 0, 0]]\n"
     ]
    }
   ],
   "source": [
    "## PINNED_CODE: \n",
    "\n",
    "mat3=[3*[0] for x in range(3)]\n",
    "print(mat3)\n"
   ]
  },
  {
   "cell_type": "markdown",
   "metadata": {},
   "source": [
    "# LIST\n",
    "\n",
    "List is a type of sequence which is quite similiar to array but unlike array it can store only one kind of data,list can store multiple types of data object.\n",
    "\n",
    "List are more versatile than array.\n",
    "\n",
    "type of List collection is 'list'\n",
    "\n",
    "elements in the list are enclosed between [ ] square brackets"
   ]
  },
  {
   "cell_type": "code",
   "execution_count": null,
   "metadata": {},
   "outputs": [],
   "source": []
  },
  {
   "cell_type": "code",
   "execution_count": 14,
   "metadata": {},
   "outputs": [
    {
     "name": "stdout",
     "output_type": "stream",
     "text": [
      "[1, 43, 'kamal']\n"
     ]
    }
   ],
   "source": [
    "#list\n",
    "lst=[1,43,'kamal']\n",
    "print(lst)\n",
    "#here we can see multiple tupe of elements are stored in ine sequence."
   ]
  },
  {
   "cell_type": "code",
   "execution_count": 15,
   "metadata": {},
   "outputs": [
    {
     "data": {
      "text/plain": [
       "list"
      ]
     },
     "execution_count": 15,
     "metadata": {},
     "output_type": "execute_result"
    }
   ],
   "source": [
    "type(lst)"
   ]
  },
  {
   "cell_type": "markdown",
   "metadata": {},
   "source": [
    "#### List Creation"
   ]
  },
  {
   "cell_type": "code",
   "execution_count": 16,
   "metadata": {},
   "outputs": [
    {
     "name": "stdout",
     "output_type": "stream",
     "text": [
      "[13, 14, 'kamal']\n"
     ]
    }
   ],
   "source": [
    "#one  way\n",
    "lst=[]  #empty list\n",
    "lst=lst+[13]     #conactenation between list and list only\n",
    "lst=lst+[14]\n",
    "lst=lst+['kamal']\n",
    "print(lst)\n",
    "#like this we can add elements using concatenation. We can also add elements using append() function"
   ]
  },
  {
   "cell_type": "code",
   "execution_count": 17,
   "metadata": {},
   "outputs": [
    {
     "name": "stdout",
     "output_type": "stream",
     "text": [
      "[1, 2, 'kamal', 2.84]\n"
     ]
    }
   ],
   "source": [
    "#another way\n",
    "lst=list([1,2,'kamal',2.84])\n",
    "print(lst)"
   ]
  },
  {
   "cell_type": "code",
   "execution_count": 86,
   "metadata": {},
   "outputs": [
    {
     "name": "stdout",
     "output_type": "stream",
     "text": [
      "['k', 'a', 'm', 'a', 'l']\n"
     ]
    }
   ],
   "source": [
    "chars=list('kamal') #list function always takes iterable objects.\n",
    "print(chars)"
   ]
  },
  {
   "cell_type": "code",
   "execution_count": 18,
   "metadata": {},
   "outputs": [
    {
     "data": {
      "text/plain": [
       "4"
      ]
     },
     "execution_count": 18,
     "metadata": {},
     "output_type": "execute_result"
    }
   ],
   "source": [
    "#length of list\n",
    "len(lst)"
   ]
  },
  {
   "cell_type": "code",
   "execution_count": 23,
   "metadata": {},
   "outputs": [
    {
     "name": "stdout",
     "output_type": "stream",
     "text": [
      "[0, 1, 2, 3, 4, 5, 6, 7, 8, 9]\n",
      "[2, 3, 4, 5, 6, 7, 8]\n",
      "[2, 4, 6, 8]\n"
     ]
    }
   ],
   "source": [
    "#creating list using range() function function we create a list with all integers\n",
    "#using range()\n",
    "\n",
    "ran=range(10) #here by default beginning=0\n",
    "lst=list(ran)\n",
    "print(lst)\n",
    "\n",
    "#we can define limit for range()\n",
    "ran=range(2,9)\n",
    "lst=list(ran)\n",
    "print(lst)\n",
    "\n",
    "#we can also put step size also\n",
    "ran=range(2,9,2) #here stepsize=2\n",
    "lst=list(ran)\n",
    "print(lst)\n"
   ]
  },
  {
   "cell_type": "markdown",
   "metadata": {},
   "source": [
    "#### Inexing and Slicing\n",
    "\n",
    "Indexing and slicing is same as string in python."
   ]
  },
  {
   "cell_type": "code",
   "execution_count": 62,
   "metadata": {},
   "outputs": [],
   "source": [
    "lst=[2.87,39,'kaml','singh',2+6j,82,'hdinf']\n"
   ]
  },
  {
   "cell_type": "code",
   "execution_count": 63,
   "metadata": {},
   "outputs": [
    {
     "name": "stdout",
     "output_type": "stream",
     "text": [
      "7\n"
     ]
    }
   ],
   "source": [
    "print(len(lst))"
   ]
  },
  {
   "cell_type": "code",
   "execution_count": 64,
   "metadata": {},
   "outputs": [
    {
     "name": "stdout",
     "output_type": "stream",
     "text": [
      "kaml\n"
     ]
    }
   ],
   "source": [
    "print(lst[2])"
   ]
  },
  {
   "cell_type": "code",
   "execution_count": 65,
   "metadata": {},
   "outputs": [
    {
     "name": "stdout",
     "output_type": "stream",
     "text": [
      "2.87\n"
     ]
    }
   ],
   "source": [
    "print(lst[0])"
   ]
  },
  {
   "cell_type": "code",
   "execution_count": 66,
   "metadata": {},
   "outputs": [
    {
     "name": "stdout",
     "output_type": "stream",
     "text": [
      "hdinf\n"
     ]
    }
   ],
   "source": [
    "print(lst[-1])"
   ]
  },
  {
   "cell_type": "code",
   "execution_count": 67,
   "metadata": {},
   "outputs": [
    {
     "name": "stdout",
     "output_type": "stream",
     "text": [
      "(2+6j)\n"
     ]
    }
   ],
   "source": [
    "print(lst[-3])"
   ]
  },
  {
   "cell_type": "code",
   "execution_count": 68,
   "metadata": {},
   "outputs": [
    {
     "name": "stdout",
     "output_type": "stream",
     "text": [
      "[2.87, 39, 'kaml', 'singh', (2+6j), 82, 'hdinf']\n"
     ]
    }
   ],
   "source": [
    "#slicing\n",
    "\n",
    "print(lst[:]) #all elements"
   ]
  },
  {
   "cell_type": "code",
   "execution_count": 69,
   "metadata": {},
   "outputs": [
    {
     "name": "stdout",
     "output_type": "stream",
     "text": [
      "['kaml', 'singh', (2+6j), 82, 'hdinf']\n"
     ]
    }
   ],
   "source": [
    "print(lst[2:]) #elements from 2 to last"
   ]
  },
  {
   "cell_type": "code",
   "execution_count": 70,
   "metadata": {},
   "outputs": [
    {
     "name": "stdout",
     "output_type": "stream",
     "text": [
      "[2.87, 39, 'kaml', 'singh']\n"
     ]
    }
   ],
   "source": [
    "print(lst[:4]) #index 0 to index 3"
   ]
  },
  {
   "cell_type": "code",
   "execution_count": 71,
   "metadata": {},
   "outputs": [
    {
     "name": "stdout",
     "output_type": "stream",
     "text": [
      "[2.87, 'kaml', (2+6j), 'hdinf']\n"
     ]
    }
   ],
   "source": [
    "print(lst[::2]) # all elements at a jump of 2"
   ]
  },
  {
   "cell_type": "code",
   "execution_count": 72,
   "metadata": {},
   "outputs": [
    {
     "name": "stdout",
     "output_type": "stream",
     "text": [
      "['hdinf', 82, (2+6j), 'singh', 'kaml', 39, 2.87]\n"
     ]
    }
   ],
   "source": [
    "print(lst[::-1]) #reverse direction"
   ]
  },
  {
   "cell_type": "code",
   "execution_count": 73,
   "metadata": {},
   "outputs": [
    {
     "name": "stdout",
     "output_type": "stream",
     "text": [
      "[]\n"
     ]
    }
   ],
   "source": [
    "print(lst[2:6:-1]) #opp. direction"
   ]
  },
  {
   "cell_type": "code",
   "execution_count": 74,
   "metadata": {},
   "outputs": [
    {
     "name": "stdout",
     "output_type": "stream",
     "text": [
      "['hdinf', 82, (2+6j), 'singh']\n"
     ]
    }
   ],
   "source": [
    "print(lst[6:2:-1])"
   ]
  },
  {
   "cell_type": "code",
   "execution_count": 75,
   "metadata": {},
   "outputs": [
    {
     "name": "stdout",
     "output_type": "stream",
     "text": [
      "['hdinf', (2+6j), 'kaml', 2.87]\n"
     ]
    }
   ],
   "source": [
    "print(lst[6::-2]) #stepsize of 2 in reverse direction"
   ]
  },
  {
   "cell_type": "code",
   "execution_count": 76,
   "metadata": {},
   "outputs": [
    {
     "data": {
      "text/plain": [
       "False"
      ]
     },
     "execution_count": 76,
     "metadata": {},
     "output_type": "execute_result"
    }
   ],
   "source": [
    "#membership functions\n",
    "\n",
    "2 in lst"
   ]
  },
  {
   "cell_type": "code",
   "execution_count": 77,
   "metadata": {},
   "outputs": [
    {
     "data": {
      "text/plain": [
       "True"
      ]
     },
     "execution_count": 77,
     "metadata": {},
     "output_type": "execute_result"
    }
   ],
   "source": [
    "2.87 in lst"
   ]
  },
  {
   "cell_type": "code",
   "execution_count": 78,
   "metadata": {},
   "outputs": [
    {
     "data": {
      "text/plain": [
       "True"
      ]
     },
     "execution_count": 78,
     "metadata": {},
     "output_type": "execute_result"
    }
   ],
   "source": [
    "2 not in lst"
   ]
  },
  {
   "cell_type": "markdown",
   "metadata": {},
   "source": [
    "#### Iterating list\n",
    "\n",
    "Iterating is done using loop\n"
   ]
  },
  {
   "cell_type": "code",
   "execution_count": 79,
   "metadata": {},
   "outputs": [
    {
     "name": "stdout",
     "output_type": "stream",
     "text": [
      "2.87\n",
      "39\n",
      "kaml\n",
      "singh\n",
      "(2+6j)\n",
      "82\n",
      "hdinf\n"
     ]
    }
   ],
   "source": [
    "for i in lst:\n",
    "    print(i)"
   ]
  },
  {
   "cell_type": "code",
   "execution_count": 80,
   "metadata": {},
   "outputs": [
    {
     "name": "stdout",
     "output_type": "stream",
     "text": [
      "lst[0] 2.87\n",
      "lst[1] 39\n",
      "lst[2] kaml\n",
      "lst[3] singh\n",
      "lst[4] (2+6j)\n",
      "lst[5] 82\n",
      "lst[6] hdinf\n"
     ]
    }
   ],
   "source": [
    "for i in range(len(lst)):\n",
    "    print('lst[%d]'%(i),lst[i])"
   ]
  },
  {
   "cell_type": "code",
   "execution_count": 81,
   "metadata": {},
   "outputs": [
    {
     "name": "stdout",
     "output_type": "stream",
     "text": [
      "2.87\n",
      "39\n",
      "kaml\n",
      "singh\n",
      "(2+6j)\n",
      "82\n",
      "hdinf\n"
     ]
    }
   ],
   "source": [
    "i=0\n",
    "while i<len(lst):\n",
    "    print(lst[i])\n",
    "    i+=1"
   ]
  },
  {
   "cell_type": "code",
   "execution_count": 82,
   "metadata": {},
   "outputs": [
    {
     "name": "stdout",
     "output_type": "stream",
     "text": [
      "[2.87, 39, 'kaml', 'singh', (2+6j), 82, 'hdinf']\n",
      "[5.83, 39, 'kaml', 'singh', (2+6j), 82, 'hdinf']\n"
     ]
    }
   ],
   "source": [
    "#updating elements of list\n",
    "print(lst)\n",
    "lst[0]=5.83\n",
    "print(lst)"
   ]
  },
  {
   "cell_type": "code",
   "execution_count": 84,
   "metadata": {},
   "outputs": [
    {
     "name": "stdout",
     "output_type": "stream",
     "text": [
      "[5.83, 39, 'angad', 'singh', (2+6j), 82, 'hdinf']\n",
      "[5.83, 39, 'kamal', 'singh', (2+6j), 82, 'hdinf']\n"
     ]
    }
   ],
   "source": [
    "print(lst)\n",
    "lst[2:4]=['kamal','singh']\n",
    "print(lst)"
   ]
  },
  {
   "cell_type": "code",
   "execution_count": null,
   "metadata": {},
   "outputs": [],
   "source": [
    "#updating series of elements\n",
    "\n",
    "print(lst)\n",
    "lst[2:4]=[x for x in input().split(',')]\n",
    "print(lst)"
   ]
  },
  {
   "cell_type": "code",
   "execution_count": 87,
   "metadata": {},
   "outputs": [
    {
     "name": "stdout",
     "output_type": "stream",
     "text": [
      "[1, 2, 3, 4, 5, 6]\n"
     ]
    }
   ],
   "source": [
    "#concatenation: only occurs between list and list type objects\n",
    "\n",
    "l1=[1,2,3]\n",
    "l2=[4,5,6]\n",
    "print(l1+l2)"
   ]
  },
  {
   "cell_type": "code",
   "execution_count": 88,
   "metadata": {},
   "outputs": [
    {
     "ename": "TypeError",
     "evalue": "can only concatenate list (not \"str\") to list",
     "output_type": "error",
     "traceback": [
      "\u001b[1;31m---------------------------------------------------------------------------\u001b[0m",
      "\u001b[1;31mTypeError\u001b[0m                                 Traceback (most recent call last)",
      "\u001b[1;32m<ipython-input-88-1be396868823>\u001b[0m in \u001b[0;36m<module>\u001b[1;34m\u001b[0m\n\u001b[1;32m----> 1\u001b[1;33m \u001b[0ml1\u001b[0m\u001b[1;33m+\u001b[0m\u001b[1;34m'string'\u001b[0m\u001b[1;33m\u001b[0m\u001b[1;33m\u001b[0m\u001b[0m\n\u001b[0m",
      "\u001b[1;31mTypeError\u001b[0m: can only concatenate list (not \"str\") to list"
     ]
    }
   ],
   "source": [
    "l1+'string'"
   ]
  },
  {
   "cell_type": "code",
   "execution_count": 89,
   "metadata": {},
   "outputs": [
    {
     "data": {
      "text/plain": [
       "[1, 2, 3, 1, 2, 3, 1, 2, 3]"
      ]
     },
     "execution_count": 89,
     "metadata": {},
     "output_type": "execute_result"
    }
   ],
   "source": [
    "#repition\n",
    "l1*3\n"
   ]
  },
  {
   "cell_type": "markdown",
   "metadata": {},
   "source": [
    "#### Aliasing Lists\n",
    "\n",
    "Giving a new name to the lsit is called aliasing."
   ]
  },
  {
   "cell_type": "code",
   "execution_count": 96,
   "metadata": {},
   "outputs": [],
   "source": [
    "x=[1,4,4,3,52,9]"
   ]
  },
  {
   "cell_type": "code",
   "execution_count": 97,
   "metadata": {},
   "outputs": [],
   "source": [
    "y=x  #aliasing\n"
   ]
  },
  {
   "cell_type": "code",
   "execution_count": 98,
   "metadata": {},
   "outputs": [
    {
     "name": "stdout",
     "output_type": "stream",
     "text": [
      "x=  [1, 4, 4, 3, 52, 9]\n",
      "y= [1, 4, 4, 3, 52, 9]\n"
     ]
    }
   ],
   "source": [
    "print('x= ',x)\n",
    "print('y=',y)"
   ]
  },
  {
   "cell_type": "markdown",
   "metadata": {},
   "source": [
    "> In aliasing if we change values to the alias it gets reflected on the main list and vice-versa"
   ]
  },
  {
   "cell_type": "code",
   "execution_count": 99,
   "metadata": {},
   "outputs": [
    {
     "name": "stdout",
     "output_type": "stream",
     "text": [
      "old x:  [1, 4, 4, 3, 52, 9]\n",
      "old y:  [1, 4, 4, 3, 52, 9]\n",
      "Updated y:  [1, 4, 25, 3, 52, 9]\n",
      "updated x:  [1, 4, 25, 3, 52, 9]\n"
     ]
    }
   ],
   "source": [
    "print('old x: ',x)\n",
    "print('old y: ',y)\n",
    "y[2]=25\n",
    "print('Updated y: ',y)\n",
    "print('updated x: ',x)\n",
    "\n",
    "#we can observe change in x also"
   ]
  },
  {
   "cell_type": "markdown",
   "metadata": {},
   "source": [
    "if we want to have two independent lists we should do 'Cloning' or 'Copying'.\n",
    "\n",
    "#### Cloning: \n",
    "\n",
    "Cloning is when we create an exact copy of an existing list(object)."
   ]
  },
  {
   "cell_type": "code",
   "execution_count": 103,
   "metadata": {},
   "outputs": [
    {
     "name": "stdout",
     "output_type": "stream",
     "text": [
      "old x:  [2, 5, 92, 34, 21]\n",
      "old y:  [2, 5, 92, 34, 21]\n",
      "updated x:  [2, 50, 92, 34, 21]\n",
      "y= [2, 5, 92, 34, 21]\n"
     ]
    }
   ],
   "source": [
    "x=[2,5,92,34,21]\n",
    "y=x[:]  #cloning i.e. sepearte copy of x is being assigned to y\n",
    "\n",
    "print('old x: ',x)\n",
    "print('old y: ',y)\n",
    "\n",
    "x[1]=50\n",
    "print('updated x: ',x)\n",
    "print('y=',y )\n",
    "#we observe no change in x"
   ]
  },
  {
   "cell_type": "code",
   "execution_count": 107,
   "metadata": {},
   "outputs": [
    {
     "name": "stdout",
     "output_type": "stream",
     "text": [
      "[50, 92]\n"
     ]
    }
   ],
   "source": [
    "#we can also clone some part of existing list too\n",
    "y=x[1:3]\n",
    "print(y)"
   ]
  },
  {
   "cell_type": "markdown",
   "metadata": {},
   "source": [
    " similiar process can be done by copying too using copy( ) function"
   ]
  },
  {
   "cell_type": "code",
   "execution_count": 108,
   "metadata": {},
   "outputs": [
    {
     "name": "stdout",
     "output_type": "stream",
     "text": [
      "[2, 8, 2, 4]\n",
      "[2, 8, 2, 4]\n"
     ]
    }
   ],
   "source": [
    "x=[2,8,2,4]\n",
    "y=x.copy()\n",
    "print(x)\n",
    "print(y)\n"
   ]
  },
  {
   "cell_type": "code",
   "execution_count": 110,
   "metadata": {},
   "outputs": [
    {
     "name": "stdout",
     "output_type": "stream",
     "text": [
      "updated x:  [2, 80, 2, 4]\n",
      "y= [2, 8, 2, 4]\n"
     ]
    }
   ],
   "source": [
    "x[1]=80\n",
    "print('updated x: ',x)\n",
    "print('y=',y)"
   ]
  },
  {
   "cell_type": "markdown",
   "metadata": {},
   "source": [
    "### Nested Lists"
   ]
  },
  {
   "cell_type": "code",
   "execution_count": 111,
   "metadata": {},
   "outputs": [],
   "source": [
    "lst=[1,'kamal',92.4,'hehe',[2,5,'jj']]\n"
   ]
  },
  {
   "cell_type": "code",
   "execution_count": 112,
   "metadata": {},
   "outputs": [
    {
     "name": "stdout",
     "output_type": "stream",
     "text": [
      "[1, 'kamal', 92.4, 'hehe', [2, 5, 'jj']]\n"
     ]
    }
   ],
   "source": [
    "print(lst)"
   ]
  },
  {
   "cell_type": "code",
   "execution_count": 113,
   "metadata": {},
   "outputs": [
    {
     "name": "stdout",
     "output_type": "stream",
     "text": [
      "1\n",
      "kamal\n",
      "92.4\n",
      "hehe\n",
      "[2, 5, 'jj']\n"
     ]
    }
   ],
   "source": [
    "#iterating list\n",
    "\n",
    "for i in lst:\n",
    "    print(i)"
   ]
  },
  {
   "cell_type": "code",
   "execution_count": 115,
   "metadata": {},
   "outputs": [
    {
     "name": "stdout",
     "output_type": "stream",
     "text": [
      "1\n",
      "kamal\n",
      "92.4\n",
      "hehe\n",
      "[2, 5, 'jj']\n",
      "2\n",
      "5\n",
      "jj\n"
     ]
    }
   ],
   "source": [
    "#extracting inside list elements\n",
    "\n",
    "for i in lst:\n",
    "    if type(i)==list:\n",
    "        for x in i:\n",
    "            print(x)\n",
    "        continue\n",
    "    print(i)\n",
    "        "
   ]
  },
  {
   "cell_type": "code",
   "execution_count": 118,
   "metadata": {},
   "outputs": [
    {
     "name": "stdout",
     "output_type": "stream",
     "text": [
      "[1, 'kamal', 92.4, 'hehe', [2, 5, 'jj']]\n",
      "2\n",
      "jj\n"
     ]
    }
   ],
   "source": [
    "#accesing elements\n",
    "print(lst)\n",
    "print(lst[4][0])\n",
    "print(lst[4][2])"
   ]
  },
  {
   "cell_type": "code",
   "execution_count": 126,
   "metadata": {},
   "outputs": [],
   "source": [
    "# nested lists as matrix\n",
    "\n",
    "mat=[[1,2,3],[4,5,6],[7,8,9]]"
   ]
  },
  {
   "cell_type": "code",
   "execution_count": 127,
   "metadata": {},
   "outputs": [
    {
     "name": "stdout",
     "output_type": "stream",
     "text": [
      "[[1, 2, 3], [4, 5, 6], [7, 8, 9]]\n"
     ]
    }
   ],
   "source": [
    "print(mat)"
   ]
  },
  {
   "cell_type": "code",
   "execution_count": 128,
   "metadata": {},
   "outputs": [
    {
     "name": "stdout",
     "output_type": "stream",
     "text": [
      "[1, 2, 3]\n",
      "[4, 5, 6]\n",
      "[7, 8, 9]\n"
     ]
    }
   ],
   "source": [
    "for i in mat:\n",
    "    print(i)"
   ]
  },
  {
   "cell_type": "code",
   "execution_count": 129,
   "metadata": {},
   "outputs": [
    {
     "name": "stdout",
     "output_type": "stream",
     "text": [
      "1 2 3 \n",
      "4 5 6 \n",
      "7 8 9 \n"
     ]
    }
   ],
   "source": [
    "#elements of matrix wise iteration\n",
    "for i in mat:\n",
    "    for j in i:\n",
    "        print(j,end=' ')\n",
    "    print()"
   ]
  },
  {
   "cell_type": "code",
   "execution_count": 132,
   "metadata": {},
   "outputs": [
    {
     "data": {
      "text/plain": [
       "3"
      ]
     },
     "execution_count": 132,
     "metadata": {},
     "output_type": "execute_result"
    }
   ],
   "source": [
    "len(mat)"
   ]
  },
  {
   "cell_type": "code",
   "execution_count": 133,
   "metadata": {},
   "outputs": [
    {
     "name": "stdout",
     "output_type": "stream",
     "text": [
      "1 2 3 \n",
      "4 5 6 \n",
      "7 8 9 \n"
     ]
    }
   ],
   "source": [
    "#iterating using index values\n",
    "\n",
    "for i in range(len(mat)):\n",
    "    for j in range(len(mat[i])):\n",
    "        print('%d'%mat[i][j],end=' ')\n",
    "    print()"
   ]
  },
  {
   "cell_type": "code",
   "execution_count": 136,
   "metadata": {},
   "outputs": [
    {
     "name": "stdout",
     "output_type": "stream",
     "text": [
      "[[8, 10, 12], [8, 10, 12], [8, 10, 12]]\n"
     ]
    }
   ],
   "source": [
    "#ading two matrices\n",
    "mat1=[[1,2,3],[4,5,6],[7,8,9]]\n",
    "mat2=[[7,8,9],[4,5,6],[1,2,3]]\n",
    "mat3=[3*[0] for x in range(3)] #creating three nested lists in  mat3[]\n",
    "for i in range(len(mat1)):\n",
    "    for j in range(len(mat[i])):\n",
    "        mat3[i][j]=mat1[i][j]+mat2[i][j]\n",
    "print(mat3)\n"
   ]
  },
  {
   "cell_type": "markdown",
   "metadata": {},
   "source": [
    " "
   ]
  },
  {
   "cell_type": "markdown",
   "metadata": {},
   "source": [
    "## Basic List Built-In methods"
   ]
  },
  {
   "cell_type": "code",
   "execution_count": 178,
   "metadata": {},
   "outputs": [],
   "source": [
    "lst=[2.87,39,'kaml','singh',2+6j,82,'hdinf']"
   ]
  },
  {
   "cell_type": "code",
   "execution_count": 179,
   "metadata": {},
   "outputs": [
    {
     "name": "stdout",
     "output_type": "stream",
     "text": [
      "[2.87, 39, 'kaml', 'singh', (2+6j), 82, 'hdinf', 96]\n"
     ]
    }
   ],
   "source": [
    "#append(): used to add new data objects to the end of the list\n",
    "lst.append(96)\n",
    "print(lst)"
   ]
  },
  {
   "cell_type": "code",
   "execution_count": 180,
   "metadata": {},
   "outputs": [
    {
     "name": "stdout",
     "output_type": "stream",
     "text": [
      "[2.87, 39, 'kaml', 'singh', (2+6j), 82, 'hdinf', 96, [1, 2, 'Sam']]\n"
     ]
    }
   ],
   "source": [
    "lst.append([1,2,'Sam'])\n",
    "print(lst)"
   ]
  },
  {
   "cell_type": "code",
   "execution_count": 181,
   "metadata": {},
   "outputs": [
    {
     "name": "stdout",
     "output_type": "stream",
     "text": [
      "[2.87, 39, 'kaml', 'singh', (2+6j), 82, 'hdinf', 96, [1, 2, 'Sam'], 'kamal']\n"
     ]
    }
   ],
   "source": [
    "#extend(): Extend list by appending elements from the iterable.\n",
    "lst.extend(['kamal'])\n",
    "print(lst)"
   ]
  },
  {
   "cell_type": "markdown",
   "metadata": {},
   "source": [
    "#### Difference Between append( ) extend( ) and '+'\n",
    "\n",
    "> append( ) adds the iterable object as it is but extend( ) adds the each and every element from the iterable on by one."
   ]
  },
  {
   "cell_type": "code",
   "execution_count": 182,
   "metadata": {},
   "outputs": [
    {
     "name": "stdout",
     "output_type": "stream",
     "text": [
      "[2, 5, [1, 6, 4]]\n"
     ]
    }
   ],
   "source": [
    "samp=[2,5]\n",
    "samp.append([1,6,4]) #append adds list as it is\n",
    "print(samp)"
   ]
  },
  {
   "cell_type": "code",
   "execution_count": 183,
   "metadata": {},
   "outputs": [
    {
     "name": "stdout",
     "output_type": "stream",
     "text": [
      "[2, 5, 1, 6, 4]\n"
     ]
    }
   ],
   "source": [
    "samp=[2,5]\n",
    "samp.extend([1,6,4]) #iterates the iterable object and adds one by one\n",
    "print(samp)"
   ]
  },
  {
   "cell_type": "code",
   "execution_count": 184,
   "metadata": {},
   "outputs": [
    {
     "name": "stdout",
     "output_type": "stream",
     "text": [
      "with append:  [2, 5, 1, 6, 4, 'kamal']\n",
      "with extend:  [2, 5, 1, 6, 4, 'kamal', 'k', 'a', 'm', 'a', 'l']\n"
     ]
    }
   ],
   "source": [
    "samp.append('kamal')\n",
    "print('with append: ',samp)\n",
    "samp.extend('kamal')\n",
    "print('with extend: ',samp)"
   ]
  },
  {
   "cell_type": "code",
   "execution_count": 185,
   "metadata": {},
   "outputs": [
    {
     "name": "stdout",
     "output_type": "stream",
     "text": [
      "[2, 6, 'kamal']\n"
     ]
    }
   ],
   "source": [
    "#to add the iterable as it is with extend \n",
    "\n",
    "samp=[2,6]\n",
    "samp.extend(['kamal'])\n",
    "print(samp)"
   ]
  },
  {
   "cell_type": "code",
   "execution_count": 186,
   "metadata": {},
   "outputs": [
    {
     "name": "stdout",
     "output_type": "stream",
     "text": [
      "[2, 7, 'kamal']\n"
     ]
    }
   ],
   "source": [
    "samp=[2,7]\n",
    "samp=samp+['kamal']\n",
    "print(samp) #'+' is same as append"
   ]
  },
  {
   "cell_type": "code",
   "execution_count": 187,
   "metadata": {},
   "outputs": [
    {
     "data": {
      "text/plain": [
       "[2.87, 39, 'kaml', 'singh', (2+6j), 82, 'hdinf', 96, [1, 2, 'Sam'], 'kamal']"
      ]
     },
     "execution_count": 187,
     "metadata": {},
     "output_type": "execute_result"
    }
   ],
   "source": [
    "lst"
   ]
  },
  {
   "cell_type": "code",
   "execution_count": 188,
   "metadata": {},
   "outputs": [
    {
     "data": {
      "text/plain": [
       "1"
      ]
     },
     "execution_count": 188,
     "metadata": {},
     "output_type": "execute_result"
    }
   ],
   "source": [
    "#count(): counts the number of occurences of an object in the list\n",
    "lst.count(39)"
   ]
  },
  {
   "cell_type": "code",
   "execution_count": 189,
   "metadata": {},
   "outputs": [
    {
     "data": {
      "text/plain": [
       "2"
      ]
     },
     "execution_count": 189,
     "metadata": {},
     "output_type": "execute_result"
    }
   ],
   "source": [
    "#index(): Return first index of value\n",
    "lst.index('kaml')"
   ]
  },
  {
   "cell_type": "markdown",
   "metadata": {},
   "source": [
    "index function only tells the first occurence"
   ]
  },
  {
   "cell_type": "code",
   "execution_count": 190,
   "metadata": {},
   "outputs": [
    {
     "name": "stdout",
     "output_type": "stream",
     "text": [
      "0\n"
     ]
    }
   ],
   "source": [
    "samp=[1,2,1]\n",
    "print(samp.index(1)) #ignore 1 at index 2"
   ]
  },
  {
   "cell_type": "code",
   "execution_count": 191,
   "metadata": {},
   "outputs": [
    {
     "name": "stdout",
     "output_type": "stream",
     "text": [
      "[2.87, 39, 'kaml', 'singh', (2+6j), 82, 'hdinf', 96, [1, 2, 'Sam']]\n"
     ]
    }
   ],
   "source": [
    "#pop: deletes last element of the list by default and return the popped element\n",
    "lst.pop()\n",
    "print(lst)"
   ]
  },
  {
   "cell_type": "code",
   "execution_count": 192,
   "metadata": {},
   "outputs": [
    {
     "name": "stdout",
     "output_type": "stream",
     "text": [
      "[2.87, 39, 'singh', (2+6j), 82, 'hdinf', 96, [1, 2, 'Sam']]\n"
     ]
    }
   ],
   "source": [
    "#it also removes eleemnt at an index\n",
    "lst.pop(2)\n",
    "print(lst) #pops element at index 2"
   ]
  },
  {
   "cell_type": "code",
   "execution_count": 193,
   "metadata": {},
   "outputs": [
    {
     "name": "stdout",
     "output_type": "stream",
     "text": [
      "[2.87, 39, 'singh', (2+6j), 82, 'hdinf', 96]\n"
     ]
    }
   ],
   "source": [
    "#remove() : Remove first occurrence of value.i.e. it takes the value to be deleted from the list\n",
    "lst.remove([1,2,'Sam'])\n",
    "print(lst)\n",
    "\n",
    "#remove() function is case-senstive "
   ]
  },
  {
   "cell_type": "code",
   "execution_count": 199,
   "metadata": {},
   "outputs": [
    {
     "name": "stdout",
     "output_type": "stream",
     "text": [
      "ascending order:  [0, 2, 29, 37, 65, 82, 91]\n",
      "descending order:  [91, 82, 65, 37, 29, 2, 0]\n"
     ]
    }
   ],
   "source": [
    "#sort(): Stable sort *IN PLACE* \n",
    "samp=[29,0,82,65,91,2,37]\n",
    "samp.sort()\n",
    "print('ascending order: ',samp)\n",
    "\n",
    "#for descending order\n",
    "\n",
    "samp.sort(reverse=True)\n",
    "print('descending order: ',samp)"
   ]
  },
  {
   "cell_type": "code",
   "execution_count": 196,
   "metadata": {},
   "outputs": [
    {
     "ename": "TypeError",
     "evalue": "'<' not supported between instances of 'str' and 'int'",
     "output_type": "error",
     "traceback": [
      "\u001b[1;31m---------------------------------------------------------------------------\u001b[0m",
      "\u001b[1;31mTypeError\u001b[0m                                 Traceback (most recent call last)",
      "\u001b[1;32m<ipython-input-196-24ba60acc583>\u001b[0m in \u001b[0;36m<module>\u001b[1;34m\u001b[0m\n\u001b[1;32m----> 1\u001b[1;33m \u001b[0mlst\u001b[0m\u001b[1;33m.\u001b[0m\u001b[0msort\u001b[0m\u001b[1;33m(\u001b[0m\u001b[1;33m)\u001b[0m\u001b[1;33m\u001b[0m\u001b[1;33m\u001b[0m\u001b[0m\n\u001b[0m\u001b[0;32m      2\u001b[0m \u001b[0mprint\u001b[0m\u001b[1;33m(\u001b[0m\u001b[0mlst\u001b[0m\u001b[1;33m)\u001b[0m\u001b[1;33m\u001b[0m\u001b[1;33m\u001b[0m\u001b[0m\n",
      "\u001b[1;31mTypeError\u001b[0m: '<' not supported between instances of 'str' and 'int'"
     ]
    }
   ],
   "source": [
    "lst.sort()\n",
    "print(lst)\n",
    "#as list elements are of different types,hence not comparable so no sort() function applies."
   ]
  },
  {
   "cell_type": "code",
   "execution_count": 5,
   "metadata": {},
   "outputs": [
    {
     "name": "stdout",
     "output_type": "stream",
     "text": [
      "[[2, 8, 42, 92], [3, 43, 78, 82]]\n",
      "[['angad', 'hen', 'kamal'], ['Ox', 'Yawn', 'cat', 'owl']]\n",
      "['L', 'M', 'a', 'a', 'k']\n"
     ]
    }
   ],
   "source": [
    "#sorting within nested string\n",
    "\n",
    "samp=[[8,2,92,42],[78,3,82,43]]\n",
    "for i in samp:\n",
    "    i.sort()\n",
    "print(samp)\n",
    "\n",
    "samp=[['kamal','angad','hen'],['Yawn','Ox','cat','owl']] #lowercase comes later,upper comes first\n",
    "for i in samp:\n",
    "    i.sort()\n",
    "print(samp)\n",
    "\n",
    "\n",
    "samp=list('kaMaL')\n",
    "samp.sort()\n",
    "print(samp) #uppercase comes first"
   ]
  },
  {
   "cell_type": "code",
   "execution_count": 5,
   "metadata": {},
   "outputs": [
    {
     "name": "stdout",
     "output_type": "stream",
     "text": [
      "enter '\\ '\\ seperated numbers: 23 81 9 54 35 2\n",
      "[2, 9, 23, 35, 54, 81]\n"
     ]
    }
   ],
   "source": [
    "#sorting list without using sort() function\n",
    "\n",
    "nums=[int(x) for x in input(\"enter '\\ '\\ seperated numbers: \").split(' ')]\n",
    "i=0\n",
    "temp=0\n",
    "while i<len(nums):\n",
    "    for j in range(0,len(nums)-i-1):\n",
    "        if nums[j]>nums[j+1]:\n",
    "                temp=nums[j]\n",
    "                nums[j]=nums[j+1]\n",
    "                nums[j+1]=temp\n",
    "    i+=1\n",
    "print(nums)\n",
    "    \n"
   ]
  },
  {
   "cell_type": "code",
   "execution_count": 4,
   "metadata": {},
   "outputs": [
    {
     "name": "stdout",
     "output_type": "stream",
     "text": [
      "enter '\\ '\\ seperated numbers: 23 81 9 54 35 2\n",
      "[23, 9, 2, 35, 54, 81]\n"
     ]
    }
   ],
   "source": []
  },
  {
   "cell_type": "code",
   "execution_count": 200,
   "metadata": {},
   "outputs": [
    {
     "name": "stdout",
     "output_type": "stream",
     "text": [
      "[]\n"
     ]
    }
   ],
   "source": [
    "#clear(): clears the whole list object\n",
    "lst.clear()\n",
    "print(lst)"
   ]
  },
  {
   "cell_type": "markdown",
   "metadata": {},
   "source": [
    " "
   ]
  },
  {
   "cell_type": "markdown",
   "metadata": {},
   "source": [
    "## List Comprehension\n",
    "\n",
    "List comprehension represents the creation of a list from iterable objects(like list, set, tuple, dictionary, or range) usually in a given single line statement that satisfy the given condition.\n",
    "\n",
    "> Compact way to write list generation code."
   ]
  },
  {
   "cell_type": "code",
   "execution_count": 6,
   "metadata": {},
   "outputs": [
    {
     "name": "stdout",
     "output_type": "stream",
     "text": [
      "[1, 4, 9, 16, 25, 36, 49, 64, 81, 100]\n"
     ]
    }
   ],
   "source": [
    "#printing squares from 1 to 10\n",
    "\n",
    "squares=[ x**2 for x in range(1,11)]\n",
    "print(squares)"
   ]
  },
  {
   "cell_type": "code",
   "execution_count": 8,
   "metadata": {},
   "outputs": [
    {
     "name": "stdout",
     "output_type": "stream",
     "text": [
      "[4, 16, 36, 64, 100]\n"
     ]
    }
   ],
   "source": [
    "#list comprehension using condition\n",
    "\n",
    "sq_con=[x**2 for x in range(1,11) if x%2==0]\n",
    "print(sq_con)"
   ]
  },
  {
   "cell_type": "markdown",
   "metadata": {},
   "source": [
    "### NOTE: \n",
    "\n",
    "> while dealing with list comprehension, the pointer goes from \" right to left \" i.e. first condition then loops the assigbnment"
   ]
  },
  {
   "cell_type": "code",
   "execution_count": 9,
   "metadata": {},
   "outputs": [
    {
     "name": "stdout",
     "output_type": "stream",
     "text": [
      "[2, 12, 6, 5, 30, 15, 9, 54, 27]\n"
     ]
    }
   ],
   "source": [
    "#multiple loop taking elements from loop\n",
    "\n",
    "product=[ x*y for x in (2,5,9) for y in (1,6,3)] #multiplying one to three\n",
    "print(product)"
   ]
  },
  {
   "cell_type": "code",
   "execution_count": 13,
   "metadata": {},
   "outputs": [
    {
     "name": "stdout",
     "output_type": "stream",
     "text": [
      "[2, 30, 27]\n"
     ]
    }
   ],
   "source": [
    "#multiplying corresponding elements of two sequences using condition\n",
    "t1=(2,5,9)\n",
    "t2=(1,6,3)\n",
    "cor_pro=[ x*y for x in t1 for y in t2 if t1.index(x)==t2.index(y) ] \n",
    "print(cor_pro)"
   ]
  },
  {
   "cell_type": "code",
   "execution_count": 24,
   "metadata": {},
   "outputs": [
    {
     "name": "stdout",
     "output_type": "stream",
     "text": [
      "[4, 7, 9]\n"
     ]
    }
   ],
   "source": [
    "#creating a list fromm dictionary\n",
    "d={'kamal':4,'agam':9,'hemen':7}\n",
    "values=[d[i] for i in dic]\n",
    "values.sort()\n",
    "print(values)"
   ]
  },
  {
   "cell_type": "code",
   "execution_count": 25,
   "metadata": {},
   "outputs": [
    {
     "name": "stdout",
     "output_type": "stream",
     "text": [
      "['XR', 'XS', 'YR', 'YS', 'ZR', 'ZS']\n"
     ]
    }
   ],
   "source": [
    "#dealing with strings\n",
    "\n",
    "rel=[i+j for i in'XYZ' for j in 'RS']\n",
    "print(rel)"
   ]
  },
  {
   "cell_type": "code",
   "execution_count": 29,
   "metadata": {},
   "outputs": [
    {
     "name": "stdout",
     "output_type": "stream",
     "text": [
      "[2, 9]\n"
     ]
    }
   ],
   "source": [
    "#creating ia new string n extracting elements that is in num1 but not in num2\n",
    "num1=[5,2,9,1]\n",
    "num2=[8,6,5,4,1]\n",
    "num3=[i for i in num1 if i not in num2]\n",
    "print(num3)"
   ]
  },
  {
   "cell_type": "code",
   "execution_count": 30,
   "metadata": {},
   "outputs": [
    {
     "name": "stdout",
     "output_type": "stream",
     "text": [
      "[5, 1]\n"
     ]
    }
   ],
   "source": [
    "#extracting common elements\n",
    "num1=[5,2,9,1]\n",
    "num2=[8,6,5,4,1]\n",
    "num3=[i for i in num1 if i in num2]\n",
    "print(num3)"
   ]
  },
  {
   "cell_type": "code",
   "execution_count": null,
   "metadata": {},
   "outputs": [],
   "source": [
    "#printing table form 1 to 10 using list comprehension\n",
    "nums=list(range(1,11))\n",
    "mul=list(range(1,11))\n",
    "tab=[i*j for i in nums for j in mul]\n",
    "x=0\n",
    "while x<len(tab):\n",
    "    print(tab[x],'\\t',end=' ')\n",
    "    if (x+1)%10==0:\n",
    "        print()\n",
    "    x=x+1\n",
    "    "
   ]
  },
  {
   "cell_type": "markdown",
   "metadata": {},
   "source": [
    "#### Dealing with matrices using list comprehension"
   ]
  },
  {
   "cell_type": "code",
   "execution_count": 32,
   "metadata": {},
   "outputs": [
    {
     "name": "stdout",
     "output_type": "stream",
     "text": [
      "[[1, 2, 3], [4, 5, 6], [7, 8, 9]]\n"
     ]
    }
   ],
   "source": [
    "mat=[[1,2,3],[4,5,6],[7,8,9]]\n",
    "print(mat)"
   ]
  },
  {
   "cell_type": "code",
   "execution_count": 35,
   "metadata": {},
   "outputs": [
    {
     "name": "stdout",
     "output_type": "stream",
     "text": [
      "1 2 3 \n",
      "4 5 6 \n",
      "7 8 9 \n"
     ]
    }
   ],
   "source": [
    "for i in range(len(mat)):\n",
    "    for j in range(len(mat[i])):\n",
    "        print(mat[i][j],end=' ')\n",
    "    print()"
   ]
  },
  {
   "cell_type": "code",
   "execution_count": 37,
   "metadata": {},
   "outputs": [
    {
     "name": "stdout",
     "output_type": "stream",
     "text": [
      "[1, 4, 7]\n"
     ]
    }
   ],
   "source": [
    "#print  first colum elements\n",
    "\n",
    "col=[i[0] for i in mat]\n",
    "print(col)"
   ]
  },
  {
   "cell_type": "code",
   "execution_count": 40,
   "metadata": {},
   "outputs": [
    {
     "name": "stdout",
     "output_type": "stream",
     "text": [
      "[[1, 4, 7], [2, 5, 8], [3, 6, 9]]\n"
     ]
    }
   ],
   "source": [
    "#printing columnwise elements\n",
    "for i in range(len(mat)):\n",
    "    col[i]=[x[i] for x in mat]\n",
    "print(col)"
   ]
  },
  {
   "cell_type": "code",
   "execution_count": 42,
   "metadata": {},
   "outputs": [
    {
     "name": "stdout",
     "output_type": "stream",
     "text": [
      "[1, 5, 9]\n"
     ]
    }
   ],
   "source": [
    "#printing diagonal elements\n",
    "dig=[mat[x][i] for x in range(len(mat)) for i in range(len(mat[x])) if x==i ]\n",
    "print(dig)"
   ]
  },
  {
   "cell_type": "markdown",
   "metadata": {},
   "source": [
    " "
   ]
  },
  {
   "cell_type": "markdown",
   "metadata": {},
   "source": [
    "#### some more functions"
   ]
  },
  {
   "cell_type": "code",
   "execution_count": 50,
   "metadata": {},
   "outputs": [
    {
     "name": "stdout",
     "output_type": "stream",
     "text": [
      "sum: 1057\n",
      "Max: 892\n",
      "Min: 1\n"
     ]
    }
   ],
   "source": [
    "lst=[1,74,54,3,892,33]\n",
    "print('sum:',sum(lst))\n",
    "print('Max:',max(lst))\n",
    "print('Min:',min(lst))"
   ]
  },
  {
   "cell_type": "code",
   "execution_count": null,
   "metadata": {},
   "outputs": [],
   "source": []
  }
 ],
 "metadata": {
  "kernelspec": {
   "display_name": "Python 3",
   "language": "python",
   "name": "python3"
  },
  "language_info": {
   "codemirror_mode": {
    "name": "ipython",
    "version": 3
   },
   "file_extension": ".py",
   "mimetype": "text/x-python",
   "name": "python",
   "nbconvert_exporter": "python",
   "pygments_lexer": "ipython3",
   "version": "3.7.4"
  }
 },
 "nbformat": 4,
 "nbformat_minor": 2
}
