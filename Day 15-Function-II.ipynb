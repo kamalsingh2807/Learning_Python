{
 "cells": [
  {
   "cell_type": "markdown",
   "metadata": {},
   "source": [
    "    Function continued.."
   ]
  },
  {
   "cell_type": "markdown",
   "metadata": {},
   "source": [
    "## Anonymous Functions or Lmabda Function\n",
    "\n",
    "Anonymous functions are functions without name and are defined without 'def' keyword. They are defined using *lambda* keyword hence they are called Lambda function.\n",
    "\n",
    "FORMAT: \n",
    "            \n",
    "            lambda argument_list : expression(body)\n",
    "            "
   ]
  },
  {
   "cell_type": "code",
   "execution_count": 1,
   "metadata": {},
   "outputs": [],
   "source": [
    "#normal function\n",
    "\n",
    "def square(x):\n",
    "    return x*x"
   ]
  },
  {
   "cell_type": "code",
   "execution_count": 3,
   "metadata": {},
   "outputs": [
    {
     "data": {
      "text/plain": [
       "<function __main__.<lambda>(x)>"
      ]
     },
     "execution_count": 3,
     "metadata": {},
     "output_type": "execute_result"
    }
   ],
   "source": [
    "#lambda function\n",
    "\n",
    "lambda x: x*x   #no function name"
   ]
  },
  {
   "cell_type": "markdown",
   "metadata": {},
   "source": [
    "Above we observe lambda keyword. Also, x after lamda is the parameter,there can be number of parameters, colon ( : ) defines the start of the function body and later part is the body of the function. \n",
    "\n",
    ">Lambda function contains only one experession and they return results explicitly. Hence, there is no return statement for lambda function. \n",
    "\n",
    ">The lambda function returns a function and hence they are assigned to a function."
   ]
  },
  {
   "cell_type": "code",
   "execution_count": 4,
   "metadata": {},
   "outputs": [],
   "source": [
    "f=lambda x: x*x\n",
    "\n",
    "#f is function name to which lambda espresion is  assigned"
   ]
  },
  {
   "cell_type": "code",
   "execution_count": 5,
   "metadata": {},
   "outputs": [],
   "source": [
    "#calling a lambda function we call f\n",
    "\n",
    "sq_value=f(5)"
   ]
  },
  {
   "cell_type": "code",
   "execution_count": 7,
   "metadata": {},
   "outputs": [
    {
     "name": "stdout",
     "output_type": "stream",
     "text": [
      "Enter the number: 4\n",
      "square of 4: 16\n"
     ]
    }
   ],
   "source": [
    "#program to square the value of number\n",
    "\n",
    "f=lambda x: x*x\n",
    "x=int(input('Enter the number: '))\n",
    "sq_value=f(x)\n",
    "print('square of {}:'.format(x),sq_value)"
   ]
  },
  {
   "cell_type": "code",
   "execution_count": 11,
   "metadata": {},
   "outputs": [
    {
     "name": "stdout",
     "output_type": "stream",
     "text": [
      "sum:  577.1935\n"
     ]
    }
   ],
   "source": [
    "#program to find sum of two numbers\n",
    "\n",
    "f=lambda x,y : (x+y)\n",
    "sum=f(573.3,3.8935)\n",
    "print(\"sum: \",sum)"
   ]
  },
  {
   "cell_type": "code",
   "execution_count": 12,
   "metadata": {},
   "outputs": [
    {
     "name": "stdout",
     "output_type": "stream",
     "text": [
      "x: 3\n",
      "y: 6\n",
      "greater:  6\n"
     ]
    }
   ],
   "source": [
    "#finding biggest among two numbers\n",
    "\n",
    "f=lambda x,y: x if x>y else y\n",
    "x=int(input('x: '))\n",
    "y=int(input('y: '))\n",
    "bigger=f(x,y)\n",
    "print('greater: ',bigger)"
   ]
  },
  {
   "cell_type": "code",
   "execution_count": 48,
   "metadata": {},
   "outputs": [
    {
     "name": "stdout",
     "output_type": "stream",
     "text": [
      "[10, 18, 28]\n"
     ]
    }
   ],
   "source": [
    "#returning multiple elements from lambda function\n",
    "\n",
    "f=lambda x,y,z: (x*2,y*3,z*4)\n",
    "lst=list(f(5,6,7))\n",
    "print(lst)\n"
   ]
  },
  {
   "cell_type": "code",
   "execution_count": 56,
   "metadata": {},
   "outputs": [
    {
     "name": "stdout",
     "output_type": "stream",
     "text": [
      "{2, 3, 4, 5, 6}\n"
     ]
    }
   ],
   "source": [
    "#printng union of two sets using lambda function\n",
    "\n",
    "f=(lambda x,y: x.union(y))\n",
    "ss=set(f({2,3,4},{5,6,2}))\n",
    "print(ss)"
   ]
  },
  {
   "cell_type": "code",
   "execution_count": 57,
   "metadata": {},
   "outputs": [
    {
     "ename": "TypeError",
     "evalue": "'tuple' object is not callable",
     "output_type": "error",
     "traceback": [
      "\u001b[1;31m---------------------------------------------------------------------------\u001b[0m",
      "\u001b[1;31mTypeError\u001b[0m                                 Traceback (most recent call last)",
      "\u001b[1;32m<ipython-input-57-bcbcc9312be5>\u001b[0m in \u001b[0;36m<module>\u001b[1;34m\u001b[0m\n\u001b[0;32m      4\u001b[0m \u001b[1;33m\u001b[0m\u001b[0m\n\u001b[0;32m      5\u001b[0m \u001b[0mlst\u001b[0m\u001b[1;33m=\u001b[0m\u001b[1;33m[\u001b[0m\u001b[1;36m1\u001b[0m\u001b[1;33m,\u001b[0m\u001b[1;36m2\u001b[0m\u001b[1;33m,\u001b[0m\u001b[1;36m3\u001b[0m\u001b[1;33m,\u001b[0m\u001b[1;36m4\u001b[0m\u001b[1;33m,\u001b[0m\u001b[1;36m5\u001b[0m\u001b[1;33m]\u001b[0m\u001b[1;33m\u001b[0m\u001b[1;33m\u001b[0m\u001b[0m\n\u001b[1;32m----> 6\u001b[1;33m \u001b[0mlst_sq\u001b[0m\u001b[1;33m=\u001b[0m\u001b[0mf\u001b[0m\u001b[1;33m(\u001b[0m\u001b[0mlst\u001b[0m\u001b[1;33m)\u001b[0m\u001b[1;33m\u001b[0m\u001b[1;33m\u001b[0m\u001b[0m\n\u001b[0m\u001b[0;32m      7\u001b[0m \u001b[0mprint\u001b[0m\u001b[1;33m(\u001b[0m\u001b[0mlst_sq\u001b[0m\u001b[1;33m)\u001b[0m\u001b[1;33m\u001b[0m\u001b[1;33m\u001b[0m\u001b[0m\n",
      "\u001b[1;31mTypeError\u001b[0m: 'tuple' object is not callable"
     ]
    }
   ],
   "source": [
    "#printing squares of list elemnts\n",
    "\n",
    "f=lambda x: x**2, lst\n",
    "\n",
    "lst=[1,2,3,4,5]\n",
    "lst_sq=f(lst)\n",
    "print(lst_sq)"
   ]
  },
  {
   "cell_type": "markdown",
   "metadata": {},
   "source": [
    "above we can see that data processing of huge data seems difficult. Soto solve thta,t we can pass lambda function to another function which makes data processing much easier we use some functions for this.\n",
    "\n"
   ]
  },
  {
   "cell_type": "markdown",
   "metadata": {},
   "source": [
    "### 1. Using lambdas with *filter()* function\n",
    "\n",
    ">The filter function helps eliminating or filtering out the elements of ta sequence dependiong on the results of a function.\n",
    "We supply a function and a sequence to the function.\n",
    "\n",
    "    filter(function,sequence)\n",
    "\n",
    "The function given representsa function name which return either TRUE or FALSE and function is applied to every element of the sequence, if it return True elemnt is extracted else ignored.\n"
   ]
  },
  {
   "cell_type": "code",
   "execution_count": 31,
   "metadata": {},
   "outputs": [
    {
     "name": "stdout",
     "output_type": "stream",
     "text": [
      "<filter object at 0x000002133780ED88>\n",
      "<class 'filter'>\n",
      "<class 'list'>\n",
      "[4, 12]\n"
     ]
    }
   ],
   "source": [
    "#finding if number is even or not using filter function and lambda\n",
    "\n",
    "#function works as selector\n",
    "def check(x):\n",
    "    if x%2==0:\n",
    "        return True\n",
    "    else:\n",
    "        return False\n",
    "    \n",
    "#taking sequenc- sequence can be list,tuple,string\n",
    "lst=[7,4,9,12,93.57]\n",
    "\n",
    "#obtained numbers are pased in another list:\n",
    "\n",
    "lst_res=filter(check,lst)\n",
    "print(lst_res)\n",
    "print(type(lst_res))\n",
    "# we get a filter object which contains elements so we have to convert it to list.\n",
    "\n",
    "lst_res=list(filter(check,lst))\n",
    "print(type(lst_res))\n",
    "print(lst_res)\n"
   ]
  },
  {
   "cell_type": "code",
   "execution_count": 32,
   "metadata": {},
   "outputs": [
    {
     "name": "stdout",
     "output_type": "stream",
     "text": [
      "[4, 12]\n"
     ]
    }
   ],
   "source": [
    "#above prob using lambda funtion: \n",
    "\n",
    "lst=[7,4,9,12,93.57]\n",
    "lst_res=list(filter(lambda x: True if x%2==0 else False,lst))\n",
    "print(lst_res)"
   ]
  },
  {
   "cell_type": "code",
   "execution_count": 33,
   "metadata": {},
   "outputs": [
    {
     "name": "stdout",
     "output_type": "stream",
     "text": [
      "(87, 75, 64)\n"
     ]
    }
   ],
   "source": [
    "# checking if student has passed or not\n",
    "\n",
    "def grade_check(x):\n",
    "    if x>=34:\n",
    "        return True\n",
    "    else:\n",
    "        return False\n",
    "tup=87,23,75,14,64\n",
    "\n",
    "passed=tuple(filter(grade_check,tup))\n",
    "print(passed)\n"
   ]
  },
  {
   "cell_type": "code",
   "execution_count": 34,
   "metadata": {},
   "outputs": [
    {
     "name": "stdout",
     "output_type": "stream",
     "text": [
      "(87, 75, 64)\n"
     ]
    }
   ],
   "source": [
    "#above prob using lambda funtion: \n",
    "\n",
    "tup=87,23,75,14,64\n",
    "\n",
    "passed=tuple(filter((lambda x: True if x>=34 else False),tup))\n",
    "print(passed)"
   ]
  },
  {
   "cell_type": "code",
   "execution_count": 35,
   "metadata": {},
   "outputs": [
    {
     "name": "stdout",
     "output_type": "stream",
     "text": [
      "[1, 2, 3, 4]\n"
     ]
    }
   ],
   "source": [
    "#squaring numbers\n",
    "\n",
    "def square(x):\n",
    "    return x**2\n",
    "lst=[1,2,3,4]\n",
    "squares=list(filter(square,lst))\n",
    "print(squares)\n",
    "\n",
    "#non functioning for arithematic operations"
   ]
  },
  {
   "cell_type": "markdown",
   "metadata": {},
   "source": [
    "    above we can see that the output remains same as input this is beacuse square() function returns squared value which is not zero and filter function takes it as True value and extracts the number from the list.\n",
    "So: \n",
    "> filter() function only understands Boolean values it cannot be used for returning any arithematic operationed output. To get rid of this we use map( ) function"
   ]
  },
  {
   "cell_type": "markdown",
   "metadata": {},
   "source": [
    "### 2. Using Lambdas with *map()* function\n",
    "\n",
    "The map() function works similiar to filter() function but it acts on each element of sequence and perhps changes the element.\n",
    "It can also be sued to perform arithematic operations and retrieving processed data.\n",
    "\n",
    "    map(function,sequence)\n",
    "\n",
    "> This function performs **Specific Operation** on all the elements of the sequene and modified elements are returned which can be stored in another sequence."
   ]
  },
  {
   "cell_type": "code",
   "execution_count": 36,
   "metadata": {},
   "outputs": [
    {
     "name": "stdout",
     "output_type": "stream",
     "text": [
      "[1, 4, 9, 16]\n"
     ]
    }
   ],
   "source": [
    "#squaring number of a sequence\n",
    "\n",
    "#squaring numbers\n",
    "\n",
    "def square(x):\n",
    "    return x**2\n",
    "lst=[1,2,3,4]\n",
    "squares=list(map(square,lst))\n",
    "print(squares)\n"
   ]
  },
  {
   "cell_type": "code",
   "execution_count": 46,
   "metadata": {},
   "outputs": [
    {
     "name": "stdout",
     "output_type": "stream",
     "text": [
      "(1, 4, 9, 16, 25)\n",
      "((1, 1), (2, 4), (3, 9), (4, 16), (5, 25))\n"
     ]
    }
   ],
   "source": [
    "#we can use lambda function also INT\n",
    "\n",
    "tup=1,2,3,4,5\n",
    "squares=tuple(map(lambda x: x*x,tup)) #printing squares\n",
    "print(squares)\n",
    "squares=tuple(map(lambda x: (x,x*x),tup)) #printing squares as well as numbers\n",
    "print(squares)"
   ]
  },
  {
   "cell_type": "code",
   "execution_count": 44,
   "metadata": {},
   "outputs": [
    {
     "name": "stdout",
     "output_type": "stream",
     "text": [
      "['I', 'II', 'III']\n",
      "[(1, 'I'), (2, 'II'), (3, 'III')]\n"
     ]
    }
   ],
   "source": [
    "#passing dictionary and extracting values\n",
    "\n",
    "d={1:'I',2:'II',3:'III'}\n",
    "lst=list(map(lambda x: d[x],d)) #returning values\n",
    "print(lst)\n",
    "lst=list(map(lambda x: (x,d[x]),d)) #returning key as well as value\n",
    "print(lst)"
   ]
  },
  {
   "cell_type": "markdown",
   "metadata": {},
   "source": [
    "It is possible to use map() function with more than one list if **the lists are of same length**."
   ]
  },
  {
   "cell_type": "code",
   "execution_count": 61,
   "metadata": {},
   "outputs": [
    {
     "name": "stdout",
     "output_type": "stream",
     "text": [
      "[3, 8, 15, 24, 35]\n",
      "(10, 18, 28, 40)\n",
      "[12, 24, 30, 24, 0]\n"
     ]
    }
   ],
   "source": [
    "#multiplying corresponding elements of two sequences\n",
    "pro_lst=list( map ( lambda x,y : (x*y) , [1,2,3,4,5] , [3,4,5,6,7] ) )\n",
    "print(pro_lst)\n",
    "\n",
    "pro_tup=tuple( map ( lambda x,y: x*y, (2,3,4,5) , (5,6,7,8) ) )\n",
    "print(pro_tup)\n",
    "\n",
    "pro_lst=list( map ( lambda x,y,z : (x*y*z) , [1,2,3,4,5] , [3,4,5,6,7] , [4,3,2,1,0] ) ) #using three sequences\n",
    "print(pro_lst)"
   ]
  },
  {
   "cell_type": "markdown",
   "metadata": {},
   "source": [
    "\n",
    "\n",
    "### 3. Using lambdas with *reduce()* function\n",
    "\n",
    "The reduce() function reduces the sequence elements to a single vale by processing elements according a function. This function also works on each element of the sequence.\n",
    "    \n",
    "    reduce(function,sequence)\n",
    "reduce() function reduces the list to the final value as indicated by the lambda function\n",
    "> reduce( ) function belongs to *functools* module so we have to import that module to use this function."
   ]
  },
  {
   "cell_type": "code",
   "execution_count": 65,
   "metadata": {},
   "outputs": [
    {
     "name": "stdout",
     "output_type": "stream",
     "text": [
      "28\n"
     ]
    }
   ],
   "source": [
    "from functools import reduce   #importing module\n",
    "#sum of all elements of sequence\n",
    "\n",
    "sum=reduce( lambda x,y: x+y , [1,2,3,4,5,6,7])\n",
    "print(sum)"
   ]
  },
  {
   "cell_type": "code",
   "execution_count": 66,
   "metadata": {},
   "outputs": [
    {
     "name": "stdout",
     "output_type": "stream",
     "text": [
      "5040\n"
     ]
    }
   ],
   "source": [
    "#product of all the lements in a sequence\n",
    "\n",
    "pro=reduce( lambda x,y: x*y , (1,2,3,4,5,6,7))\n",
    "print(pro)"
   ]
  },
  {
   "cell_type": "markdown",
   "metadata": {},
   "source": [
    "## Generator Function\n",
    "\n",
    "    Generators are function that returns a sequence of values. A generator function is written same as normal function rather it  uses 'yield' statement in place of return.\n",
    "yield statement is useful to return the value.\n",
    "\n",
    "range is kind of generator function"
   ]
  },
  {
   "cell_type": "code",
   "execution_count": 71,
   "metadata": {},
   "outputs": [
    {
     "name": "stdout",
     "output_type": "stream",
     "text": [
      "<generator object mygen at 0x0000021337804848>\n",
      "5 6 7 8 9 10 11 12 13 14 15 16 17 18 19 20 "
     ]
    }
   ],
   "source": [
    "#creating a generator function between two numbers\n",
    "\n",
    "def mygen(x,y):   #generator function mygen()\n",
    "    while(x<=y):\n",
    "        yield x   #returns value of x\n",
    "        x+=1\n",
    "g=mygen(5,20)  #this gives generator function that contains numbers\n",
    "print(g)\n",
    "#to get values generated we iterate the generator object\n",
    "for i in g:\n",
    "    print(i,end=' ')"
   ]
  },
  {
   "cell_type": "markdown",
   "metadata": {},
   "source": [
    "once a generator object is created that contains sequence of numbers,we can cast it into different data object."
   ]
  },
  {
   "cell_type": "code",
   "execution_count": 75,
   "metadata": {},
   "outputs": [
    {
     "name": "stdout",
     "output_type": "stream",
     "text": [
      "[5, 6, 7, 8, 9, 10, 11, 12, 13, 14, 15, 16, 17, 18, 19, 20]\n",
      "<class 'list'>\n"
     ]
    }
   ],
   "source": [
    "lst=list(mygen(5,20))\n",
    "print(lst)\n",
    "print(type(lst))"
   ]
  },
  {
   "cell_type": "code",
   "execution_count": 77,
   "metadata": {},
   "outputs": [
    {
     "name": "stdout",
     "output_type": "stream",
     "text": [
      "(5, 6, 7, 8, 9, 10, 11, 12, 13, 14, 15, 16, 17, 18, 19, 20)\n",
      "<class 'tuple'>\n"
     ]
    }
   ],
   "source": [
    "tup=tuple(mygen(5,20))\n",
    "print(tup)\n",
    "print(type(tup))"
   ]
  },
  {
   "cell_type": "code",
   "execution_count": 78,
   "metadata": {},
   "outputs": [
    {
     "name": "stdout",
     "output_type": "stream",
     "text": [
      "{5, 6, 7, 8, 9, 10, 11, 12, 13, 14, 15}\n",
      "<class 'set'>\n"
     ]
    }
   ],
   "source": [
    "ss=set(mygen(5,15))\n",
    "print(ss)\n",
    "print(type(ss))"
   ]
  },
  {
   "cell_type": "code",
   "execution_count": 79,
   "metadata": {},
   "outputs": [
    {
     "ename": "TypeError",
     "evalue": "cannot convert dictionary update sequence element #0 to a sequence",
     "output_type": "error",
     "traceback": [
      "\u001b[1;31m---------------------------------------------------------------------------\u001b[0m",
      "\u001b[1;31mTypeError\u001b[0m                                 Traceback (most recent call last)",
      "\u001b[1;32m<ipython-input-79-41cb9454a7e2>\u001b[0m in \u001b[0;36m<module>\u001b[1;34m\u001b[0m\n\u001b[1;32m----> 1\u001b[1;33m \u001b[0md\u001b[0m\u001b[1;33m=\u001b[0m\u001b[0mdict\u001b[0m\u001b[1;33m(\u001b[0m\u001b[0mmygen\u001b[0m\u001b[1;33m(\u001b[0m\u001b[1;36m5\u001b[0m\u001b[1;33m,\u001b[0m\u001b[1;36m15\u001b[0m\u001b[1;33m)\u001b[0m\u001b[1;33m)\u001b[0m\u001b[1;33m\u001b[0m\u001b[1;33m\u001b[0m\u001b[0m\n\u001b[0m\u001b[0;32m      2\u001b[0m \u001b[0mprint\u001b[0m\u001b[1;33m(\u001b[0m\u001b[0md\u001b[0m\u001b[1;33m)\u001b[0m\u001b[1;33m\u001b[0m\u001b[1;33m\u001b[0m\u001b[0m\n\u001b[0;32m      3\u001b[0m \u001b[0mprint\u001b[0m\u001b[1;33m(\u001b[0m\u001b[0mtype\u001b[0m\u001b[1;33m(\u001b[0m\u001b[0md\u001b[0m\u001b[1;33m)\u001b[0m\u001b[1;33m)\u001b[0m\u001b[1;33m\u001b[0m\u001b[1;33m\u001b[0m\u001b[0m\n",
      "\u001b[1;31mTypeError\u001b[0m: cannot convert dictionary update sequence element #0 to a sequence"
     ]
    }
   ],
   "source": [
    "d=dict(mygen(5,15))\n",
    "print(d)\n",
    "print(type(d))\n",
    "\n",
    "#generator object cannt be converted to dictionary object"
   ]
  },
  {
   "cell_type": "code",
   "execution_count": 81,
   "metadata": {},
   "outputs": [
    {
     "ename": "TypeError",
     "evalue": "object of type 'generator' has no len()",
     "output_type": "error",
     "traceback": [
      "\u001b[1;31m---------------------------------------------------------------------------\u001b[0m",
      "\u001b[1;31mTypeError\u001b[0m                                 Traceback (most recent call last)",
      "\u001b[1;32m<ipython-input-81-e11489b30620>\u001b[0m in \u001b[0;36m<module>\u001b[1;34m\u001b[0m\n\u001b[1;32m----> 1\u001b[1;33m \u001b[0mlen\u001b[0m\u001b[1;33m(\u001b[0m\u001b[0mmygen\u001b[0m\u001b[1;33m(\u001b[0m\u001b[1;36m5\u001b[0m\u001b[1;33m,\u001b[0m\u001b[1;36m10\u001b[0m\u001b[1;33m)\u001b[0m\u001b[1;33m)\u001b[0m\u001b[1;33m\u001b[0m\u001b[1;33m\u001b[0m\u001b[0m\n\u001b[0m",
      "\u001b[1;31mTypeError\u001b[0m: object of type 'generator' has no len()"
     ]
    }
   ],
   "source": [
    "len(mygen(5,10))\n",
    "\n",
    "#len() function doesn't work on generator object"
   ]
  },
  {
   "cell_type": "markdown",
   "metadata": {},
   "source": [
    "# >>\n",
    "if we want to retrieve element by element from generator object we can use next() function\n",
    "\n",
    "    when we call next() function first time it displays first elemnt,then iofwe call it next time it returns second eleemnt and so on."
   ]
  },
  {
   "cell_type": "code",
   "execution_count": 86,
   "metadata": {},
   "outputs": [
    {
     "name": "stdout",
     "output_type": "stream",
     "text": [
      "A\n",
      "B\n",
      "C\n"
     ]
    },
    {
     "ename": "StopIteration",
     "evalue": "",
     "output_type": "error",
     "traceback": [
      "\u001b[1;31m---------------------------------------------------------------------------\u001b[0m",
      "\u001b[1;31mStopIteration\u001b[0m                             Traceback (most recent call last)",
      "\u001b[1;32m<ipython-input-86-fd29cc2ec0dd>\u001b[0m in \u001b[0;36m<module>\u001b[1;34m\u001b[0m\n\u001b[0;32m      7\u001b[0m \u001b[0mprint\u001b[0m\u001b[1;33m(\u001b[0m\u001b[0mnext\u001b[0m\u001b[1;33m(\u001b[0m\u001b[0mg\u001b[0m\u001b[1;33m)\u001b[0m\u001b[1;33m)\u001b[0m \u001b[1;31m#prints B\u001b[0m\u001b[1;33m\u001b[0m\u001b[1;33m\u001b[0m\u001b[0m\n\u001b[0;32m      8\u001b[0m \u001b[0mprint\u001b[0m\u001b[1;33m(\u001b[0m\u001b[0mnext\u001b[0m\u001b[1;33m(\u001b[0m\u001b[0mg\u001b[0m\u001b[1;33m)\u001b[0m\u001b[1;33m)\u001b[0m \u001b[1;31m#prints C\u001b[0m\u001b[1;33m\u001b[0m\u001b[1;33m\u001b[0m\u001b[0m\n\u001b[1;32m----> 9\u001b[1;33m \u001b[0mprint\u001b[0m\u001b[1;33m(\u001b[0m\u001b[0mnext\u001b[0m\u001b[1;33m(\u001b[0m\u001b[0mg\u001b[0m\u001b[1;33m)\u001b[0m\u001b[1;33m)\u001b[0m \u001b[1;31m#gives error as no element found\u001b[0m\u001b[1;33m\u001b[0m\u001b[1;33m\u001b[0m\u001b[0m\n\u001b[0m",
      "\u001b[1;31mStopIteration\u001b[0m: "
     ]
    }
   ],
   "source": [
    "def mygen2():\n",
    "    yield 'A'\n",
    "    yield 'B'\n",
    "    yield 'C'\n",
    "g=mygen2()\n",
    "print(next(g)) #prints A\n",
    "print(next(g)) #prints B\n",
    "print(next(g)) #prints C\n",
    "print(next(g)) #gives error as no element found"
   ]
  },
  {
   "cell_type": "markdown",
   "metadata": {},
   "source": [
    "## Sorting nested tuples using lambda function : \n",
    "\n",
    "if we have tuple of tuples and we have to sort the tuple according to element in the element tuples we can do it using lambda function: \n"
   ]
  },
  {
   "cell_type": "code",
   "execution_count": 4,
   "metadata": {},
   "outputs": [
    {
     "name": "stdout",
     "output_type": "stream",
     "text": [
      "[(9, 'kk', 997237.93), (10, 'Vijay', 9474.034), (54, 'kamal', 8837.95), (81, 'Khulbe', 185399.83)]\n",
      "[(81, 'Khulbe', 185399.83), (10, 'Vijay', 9474.034), (54, 'kamal', 8837.95), (9, 'kk', 997237.93)]\n",
      "[(54, 'kamal', 8837.95), (10, 'Vijay', 9474.034), (81, 'Khulbe', 185399.83), (9, 'kk', 997237.93)]\n"
     ]
    }
   ],
   "source": [
    "# taking tuple\n",
    "\n",
    "emp=((10,'Vijay',9474.034),(54,'kamal',8837.95),(9,'kk',997237.93),(81,'Khulbe',185399.83))\n",
    "\n",
    "#sorting using lambda function \n",
    "print( sorted ( emp, key=lambda x: x[0] ) )  #ascending order\n",
    "print( sorted ( emp, key=lambda x: x[1] ) )  #ascending order\n",
    "print( sorted ( emp, key=lambda x: x[2] ) )  #ascending order\n"
   ]
  },
  {
   "cell_type": "markdown",
   "metadata": {},
   "source": [
    "## Sorting dictionary using lambda function :\n",
    "\n",
    "sorting dictionary by key or value using lambda function: \n",
    "\n"
   ]
  },
  {
   "cell_type": "code",
   "execution_count": 8,
   "metadata": {},
   "outputs": [
    {
     "name": "stdout",
     "output_type": "stream",
     "text": [
      "[(10, 'Red'), (25, 'Blue'), (35, 'Green')]\n",
      "[(25, 'Blue'), (35, 'Green'), (10, 'Red')]\n"
     ]
    }
   ],
   "source": [
    "#taking dictionary\n",
    "colors={10: 'Red',35: 'Green', 25: 'Blue'}\n",
    "\n",
    "#sorting dictionary by keys\n",
    "\n",
    "c1=sorted(colors.items(), key=lambda t: t[0])\n",
    "print(c1)\n",
    "\n",
    "#sorting dictionary by values\n",
    "c2=sorted(colors.items(), key=lambda t: t[1])\n",
    "print(c2)"
   ]
  },
  {
   "cell_type": "code",
   "execution_count": null,
   "metadata": {},
   "outputs": [],
   "source": [
    "                                                                        "
   ]
  }
 ],
 "metadata": {
  "kernelspec": {
   "display_name": "Python 3",
   "language": "python",
   "name": "python3"
  },
  "language_info": {
   "codemirror_mode": {
    "name": "ipython",
    "version": 3
   },
   "file_extension": ".py",
   "mimetype": "text/x-python",
   "name": "python",
   "nbconvert_exporter": "python",
   "pygments_lexer": "ipython3",
   "version": "3.7.4"
  }
 },
 "nbformat": 4,
 "nbformat_minor": 2
}
