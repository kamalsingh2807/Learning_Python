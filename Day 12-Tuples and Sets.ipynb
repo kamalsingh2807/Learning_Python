{
 "cells": [
  {
   "cell_type": "markdown",
   "metadata": {},
   "source": [
    "# Tuple\n",
    "\n",
    "A kind of collection similiar to list, which can store any kind of dataset,but are immutable and elements are seperated by comma ( , ) enclosed between parenthesis.\n",
    "\n",
    "> We use TUPLE dataset when we do not want our data to get altered,such as such as days of week or dates on a calendarand for secure transmission and storing of the data like paswords that cannot be manipulated."
   ]
  },
  {
   "cell_type": "code",
   "execution_count": 1,
   "metadata": {},
   "outputs": [
    {
     "name": "stdout",
     "output_type": "stream",
     "text": [
      "()\n",
      "<class 'tuple'>\n"
     ]
    }
   ],
   "source": [
    "#empty tuple\n",
    "\n",
    "tup=()\n",
    "print(tup)\n",
    "print(type(tup))"
   ]
  },
  {
   "cell_type": "code",
   "execution_count": 2,
   "metadata": {},
   "outputs": [
    {
     "name": "stdout",
     "output_type": "stream",
     "text": [
      "(20,)\n"
     ]
    }
   ],
   "source": [
    "#tuple with one element\n",
    "\n",
    "tup=(20,)  #we use comma after the element\n",
    "print(tup)"
   ]
  },
  {
   "cell_type": "code",
   "execution_count": 5,
   "metadata": {},
   "outputs": [
    {
     "name": "stdout",
     "output_type": "stream",
     "text": [
      "(3, 4, 5, 6, 7)\n"
     ]
    }
   ],
   "source": [
    "#tuple with integers using range\n",
    "\n",
    "tup=tuple(range(3,8)) #range object converted to tuple object\n",
    "print(tup)"
   ]
  },
  {
   "cell_type": "code",
   "execution_count": 6,
   "metadata": {},
   "outputs": [
    {
     "name": "stdout",
     "output_type": "stream",
     "text": [
      "(55, (2+3j), 8.72, 'kamal', 'pandey', -32)\n"
     ]
    }
   ],
   "source": [
    "#tuple with multiple types of elements\\\n",
    "\n",
    "tup=(55,2+3j,8.72,'kamal','pandey',-32)\n",
    "print(tup)"
   ]
  },
  {
   "cell_type": "markdown",
   "metadata": {},
   "source": [
    "### NOTE:\n",
    "> If we do not mention parenthesis while defining tuple,  by default it is considered as tuple\n"
   ]
  },
  {
   "cell_type": "code",
   "execution_count": 8,
   "metadata": {},
   "outputs": [
    {
     "name": "stdout",
     "output_type": "stream",
     "text": [
      "(1, 2, 3, 4)\n",
      "<class 'tuple'>\n"
     ]
    }
   ],
   "source": [
    "t= 1,2,3,4\n",
    "print(t)\n",
    "print(type(t))"
   ]
  },
  {
   "cell_type": "code",
   "execution_count": 52,
   "metadata": {},
   "outputs": [
    {
     "name": "stdout",
     "output_type": "stream",
     "text": [
      "t <class 'tuple'>  :  (1, 2, 3, 4)\n",
      "l <class 'list'> [1, 2, 3, 4]\n"
     ]
    }
   ],
   "source": [
    "#crearting tuple from list\n",
    "\n",
    "lst=[1,2,3,4]\n",
    "t=tuple(lst)\n",
    "print('t',type(t),\" : \",t)\n",
    "\n",
    "#converting list to tuple\n",
    "\n",
    "l=list(t)\n",
    "print('l',type(l),l)"
   ]
  },
  {
   "cell_type": "code",
   "execution_count": 16,
   "metadata": {},
   "outputs": [
    {
     "name": "stdout",
     "output_type": "stream",
     "text": [
      "<class 'tuple'>  :  ('kamal', 'agam', 'hemen')\n",
      "<class 'tuple'>  :  (4, 9, 7)\n"
     ]
    }
   ],
   "source": [
    "#creting tuple from dictionary\n",
    "\n",
    "d={'kamal':4,'agam':9,'hemen':7}\n",
    "t=tuple(d)\n",
    "t1=tuple(d.values())\n",
    "print(type(t),\" : \",t)\n",
    "print(type(t1),\" : \",t1)"
   ]
  },
  {
   "cell_type": "code",
   "execution_count": 9,
   "metadata": {},
   "outputs": [
    {
     "name": "stdout",
     "output_type": "stream",
     "text": [
      "(55, (2+3j), 8.72, 'kamal', 'pandey', -32, [1, 2, 3])\n"
     ]
    }
   ],
   "source": [
    "#list inside tuple\n",
    "\n",
    "tup=(55,2+3j,8.72,'kamal','pandey',-32,[1,2,3]) \n",
    "print( tup)"
   ]
  },
  {
   "cell_type": "code",
   "execution_count": 11,
   "metadata": {},
   "outputs": [
    {
     "name": "stdout",
     "output_type": "stream",
     "text": [
      "(55, (2+3j), 8.72, 'kamal', 'pandey', -32, (3, 2, 3))\n"
     ]
    }
   ],
   "source": [
    "#tuple inside tuple\n",
    "\n",
    "tup=(55,2+3j,8.72,'kamal','pandey',-32,(3,2,3))\n",
    "print(tup)"
   ]
  },
  {
   "cell_type": "markdown",
   "metadata": {},
   "source": [
    "    Indexing and Slicing in tuple are same as list"
   ]
  },
  {
   "cell_type": "code",
   "execution_count": 19,
   "metadata": {},
   "outputs": [
    {
     "name": "stdout",
     "output_type": "stream",
     "text": [
      "(55, (2+3j), 8.72, 'kamal', 'pandey', -32, (3, 2, 3))\n",
      "55\n",
      "8.72\n",
      "(3, 2, 3)\n",
      "(3, 2, 3)\n",
      "kamal\n"
     ]
    }
   ],
   "source": [
    "#indexing\n",
    "\n",
    "print(tup)\n",
    "print(tup[0])\n",
    "print(tup[2])\n",
    "print(tup[6])\n",
    "print(tup[-1])\n",
    "print(tup[-4])"
   ]
  },
  {
   "cell_type": "code",
   "execution_count": 30,
   "metadata": {},
   "outputs": [
    {
     "name": "stdout",
     "output_type": "stream",
     "text": [
      "((2+3j), 8.72, 'kamal')\n",
      "((3, 2, 3), -32, 'pandey', 'kamal', 8.72, (2+3j), 55)\n",
      "((3, 2, 3), 'pandey', 8.72)\n",
      "('kamal', 'pandey', -32)\n"
     ]
    }
   ],
   "source": [
    "#slicing\n",
    "\n",
    "print(tup[1:4])\n",
    "print(tup[::-1]) #reverse\n",
    "print(tup[-1:-6:-2]) #with step size\n",
    "print(tup[-4:-1])"
   ]
  },
  {
   "cell_type": "code",
   "execution_count": 28,
   "metadata": {},
   "outputs": [
    {
     "name": "stdout",
     "output_type": "stream",
     "text": [
      "(2+3j) 8.72\n"
     ]
    }
   ],
   "source": [
    "e1,e2=tup[1:3]\n",
    "print(e1,e2)"
   ]
  },
  {
   "cell_type": "markdown",
   "metadata": {},
   "source": [
    "### Basic operations on Tuples\n"
   ]
  },
  {
   "cell_type": "code",
   "execution_count": 31,
   "metadata": {},
   "outputs": [
    {
     "name": "stdout",
     "output_type": "stream",
     "text": [
      "(1, 4, 6, 'kamal')\n"
     ]
    }
   ],
   "source": [
    "t=(1,4,6,'kamal')\n",
    "print(t)"
   ]
  },
  {
   "cell_type": "code",
   "execution_count": 32,
   "metadata": {},
   "outputs": [
    {
     "data": {
      "text/plain": [
       "(1, 4, 6, 'kamal', 1, 4, 6, 'kamal', 1, 4, 6, 'kamal')"
      ]
     },
     "execution_count": 32,
     "metadata": {},
     "output_type": "execute_result"
    }
   ],
   "source": [
    "t*3 #reptition"
   ]
  },
  {
   "cell_type": "code",
   "execution_count": 33,
   "metadata": {},
   "outputs": [
    {
     "data": {
      "text/plain": [
       "(1, 4, 6, 'kamal', 7, 'singh')"
      ]
     },
     "execution_count": 33,
     "metadata": {},
     "output_type": "execute_result"
    }
   ],
   "source": [
    "t+(7,'singh') #concatenation"
   ]
  },
  {
   "cell_type": "code",
   "execution_count": 34,
   "metadata": {},
   "outputs": [
    {
     "data": {
      "text/plain": [
       "4"
      ]
     },
     "execution_count": 34,
     "metadata": {},
     "output_type": "execute_result"
    }
   ],
   "source": [
    "len(t)"
   ]
  },
  {
   "cell_type": "code",
   "execution_count": 35,
   "metadata": {},
   "outputs": [
    {
     "data": {
      "text/plain": [
       "True"
      ]
     },
     "execution_count": 35,
     "metadata": {},
     "output_type": "execute_result"
    }
   ],
   "source": [
    "#memebership\n",
    "4 in t"
   ]
  },
  {
   "cell_type": "code",
   "execution_count": 36,
   "metadata": {},
   "outputs": [
    {
     "data": {
      "text/plain": [
       "False"
      ]
     },
     "execution_count": 36,
     "metadata": {},
     "output_type": "execute_result"
    }
   ],
   "source": [
    "5 in t"
   ]
  },
  {
   "cell_type": "code",
   "execution_count": 38,
   "metadata": {},
   "outputs": [
    {
     "data": {
      "text/plain": [
       "True"
      ]
     },
     "execution_count": 38,
     "metadata": {},
     "output_type": "execute_result"
    }
   ],
   "source": [
    "5 not in t"
   ]
  },
  {
   "cell_type": "code",
   "execution_count": 40,
   "metadata": {},
   "outputs": [
    {
     "name": "stdout",
     "output_type": "stream",
     "text": [
      "1\n",
      "4\n",
      "6\n",
      "kamal\n"
     ]
    }
   ],
   "source": [
    "#iteration\n",
    "\n",
    "for i in t:\n",
    "    print(i)"
   ]
  },
  {
   "cell_type": "code",
   "execution_count": 43,
   "metadata": {},
   "outputs": [
    {
     "name": "stdout",
     "output_type": "stream",
     "text": [
      "55\n",
      "(2+3j)\n",
      "8.72\n",
      "kamal\n",
      "pandey\n",
      "-32\n",
      "(3, 2, 3)\n"
     ]
    }
   ],
   "source": [
    "i=0\n",
    "while i<len(tup):\n",
    "    print(tup[i])\n",
    "    i+=1"
   ]
  },
  {
   "cell_type": "code",
   "execution_count": 44,
   "metadata": {},
   "outputs": [
    {
     "name": "stdout",
     "output_type": "stream",
     "text": [
      "sum: 180\n",
      "max: 92\n",
      "min:  4\n"
     ]
    }
   ],
   "source": [
    "t=(4,92,63,9,12)\n",
    "print('sum:',sum(t))\n",
    "print('max:',max(t))\n",
    "print('min: ',min(t))"
   ]
  },
  {
   "cell_type": "markdown",
   "metadata": {},
   "source": [
    "#### Immutability\n",
    "\n",
    "> Tuples are immutable ,means that any value at any index cannot be updated or changed.\n",
    "\n",
    ">Strings are primitive immutable datatype whereas tuple is a collection that contains multiple kind of data which is immutable."
   ]
  },
  {
   "cell_type": "code",
   "execution_count": 49,
   "metadata": {},
   "outputs": [
    {
     "name": "stdout",
     "output_type": "stream",
     "text": [
      "[1, 2, 3, 4]\n",
      "[1, 2, 'kamal', 4]\n",
      "(1, 2, 3, 4)\n"
     ]
    },
    {
     "ename": "TypeError",
     "evalue": "'tuple' object does not support item assignment",
     "output_type": "error",
     "traceback": [
      "\u001b[1;31m---------------------------------------------------------------------------\u001b[0m",
      "\u001b[1;31mTypeError\u001b[0m                                 Traceback (most recent call last)",
      "\u001b[1;32m<ipython-input-49-388ecc0c87ee>\u001b[0m in \u001b[0;36m<module>\u001b[1;34m\u001b[0m\n\u001b[0;32m      7\u001b[0m \u001b[0mt\u001b[0m\u001b[1;33m=\u001b[0m\u001b[1;33m(\u001b[0m\u001b[1;36m1\u001b[0m\u001b[1;33m,\u001b[0m\u001b[1;36m2\u001b[0m\u001b[1;33m,\u001b[0m\u001b[1;36m3\u001b[0m\u001b[1;33m,\u001b[0m\u001b[1;36m4\u001b[0m\u001b[1;33m)\u001b[0m\u001b[1;33m\u001b[0m\u001b[1;33m\u001b[0m\u001b[0m\n\u001b[0;32m      8\u001b[0m \u001b[0mprint\u001b[0m\u001b[1;33m(\u001b[0m\u001b[0mt\u001b[0m\u001b[1;33m)\u001b[0m\u001b[1;33m\u001b[0m\u001b[1;33m\u001b[0m\u001b[0m\n\u001b[1;32m----> 9\u001b[1;33m \u001b[0mt\u001b[0m\u001b[1;33m[\u001b[0m\u001b[1;36m2\u001b[0m\u001b[1;33m]\u001b[0m\u001b[1;33m=\u001b[0m\u001b[1;36m3\u001b[0m\u001b[1;33m+\u001b[0m\u001b[1;36m2j\u001b[0m \u001b[1;31m#gives error as tuple are immutable\u001b[0m\u001b[1;33m\u001b[0m\u001b[1;33m\u001b[0m\u001b[0m\n\u001b[0m\u001b[0;32m     10\u001b[0m \u001b[0mprint\u001b[0m\u001b[1;33m(\u001b[0m\u001b[0mt\u001b[0m\u001b[1;33m)\u001b[0m\u001b[1;33m\u001b[0m\u001b[1;33m\u001b[0m\u001b[0m\n",
      "\u001b[1;31mTypeError\u001b[0m: 'tuple' object does not support item assignment"
     ]
    }
   ],
   "source": [
    "lst=[1,2,3,4]\n",
    "print(lst)\n",
    "lst[2]='kamal'\n",
    "print(lst)\n",
    "#lista are mutable\n",
    "\n",
    "t=(1,2,3,4)\n",
    "print(t)\n",
    "t[2]=3+2j #gives error as tuple are immutable\n",
    "print(t)"
   ]
  },
  {
   "cell_type": "code",
   "execution_count": 58,
   "metadata": {},
   "outputs": [
    {
     "name": "stdout",
     "output_type": "stream",
     "text": [
      "index:  1\n"
     ]
    }
   ],
   "source": [
    "#finding index\n",
    "\n",
    "t=2,6,3\n",
    "print('index: ',t.index(6)) #prints index of the element\n"
   ]
  },
  {
   "cell_type": "code",
   "execution_count": 54,
   "metadata": {},
   "outputs": [],
   "source": [
    "tup=(55, (2+3j), 8.72, 'kamal', 'pandey', -32, [3, 2, 3])"
   ]
  },
  {
   "cell_type": "code",
   "execution_count": 63,
   "metadata": {},
   "outputs": [
    {
     "name": "stdout",
     "output_type": "stream",
     "text": [
      "(55, (2+3j), 8.72, 'kamal', 'pandey', -32, [1, 2, 3])\n"
     ]
    },
    {
     "ename": "TypeError",
     "evalue": "'tuple' object does not support item assignment",
     "output_type": "error",
     "traceback": [
      "\u001b[1;31m---------------------------------------------------------------------------\u001b[0m",
      "\u001b[1;31mTypeError\u001b[0m                                 Traceback (most recent call last)",
      "\u001b[1;32m<ipython-input-63-ba801ce34d50>\u001b[0m in \u001b[0;36m<module>\u001b[1;34m\u001b[0m\n\u001b[0;32m      6\u001b[0m         \u001b[1;32mbreak\u001b[0m\u001b[1;33m\u001b[0m\u001b[1;33m\u001b[0m\u001b[0m\n\u001b[0;32m      7\u001b[0m \u001b[0mprint\u001b[0m\u001b[1;33m(\u001b[0m\u001b[0mtup\u001b[0m\u001b[1;33m)\u001b[0m\u001b[1;33m\u001b[0m\u001b[1;33m\u001b[0m\u001b[0m\n\u001b[1;32m----> 8\u001b[1;33m \u001b[0mtup\u001b[0m\u001b[1;33m[\u001b[0m\u001b[0mi\u001b[0m\u001b[1;33m]\u001b[0m\u001b[1;33m=\u001b[0m\u001b[1;33m[\u001b[0m\u001b[1;36m3\u001b[0m\u001b[1;33m,\u001b[0m\u001b[1;36m2\u001b[0m\u001b[1;33m,\u001b[0m\u001b[1;36m1\u001b[0m\u001b[1;33m,\u001b[0m\u001b[1;36m1\u001b[0m\u001b[1;33m]\u001b[0m \u001b[1;31m#this will give error\u001b[0m\u001b[1;33m\u001b[0m\u001b[1;33m\u001b[0m\u001b[0m\n\u001b[0m",
      "\u001b[1;31mTypeError\u001b[0m: 'tuple' object does not support item assignment"
     ]
    }
   ],
   "source": [
    "#manipulating list in tuple\n",
    "\n",
    "for i in tup:\n",
    "    if type(i)==list:\n",
    "        i[0]=1 #we can see change in the list p[resent in the tuple given\n",
    "        break\n",
    "print(tup)\n",
    "tup[i]=[3,2,1,1] #this will give error"
   ]
  },
  {
   "cell_type": "code",
   "execution_count": 7,
   "metadata": {},
   "outputs": [
    {
     "name": "stdout",
     "output_type": "stream",
     "text": [
      "Enter the tuple inside ()1,2,3,4,5,6\n",
      "(1, 2, 3, 4, 5, 6)\n",
      "21\n",
      "3.5\n"
     ]
    }
   ],
   "source": [
    "#taking tuple from console\n",
    "\n",
    "seq=eval(input('Enter the tuple inside ()'))  #we can also input without parenthesis\n",
    "print(seq)\n",
    "print(sum(seq))\n",
    "print(sum(seq)/len(seq))"
   ]
  },
  {
   "cell_type": "markdown",
   "metadata": {},
   "source": [
    "#### NOTE\n",
    "\n",
    "eval ( ) function takes the input as it is and can differentiate betweeen listand tuple, as if it encounters [ ] the it considers the sdequence as list otherwise tuple."
   ]
  },
  {
   "cell_type": "markdown",
   "metadata": {},
   "source": [
    "### Built_in Functions"
   ]
  },
  {
   "cell_type": "code",
   "execution_count": 10,
   "metadata": {},
   "outputs": [],
   "source": [
    "tup=(55,2+3j,8.72,'kamal','pandey',-32,(3,2,3))"
   ]
  },
  {
   "cell_type": "code",
   "execution_count": 14,
   "metadata": {},
   "outputs": [
    {
     "data": {
      "text/plain": [
       "1"
      ]
     },
     "execution_count": 14,
     "metadata": {},
     "output_type": "execute_result"
    }
   ],
   "source": [
    "tup.count(55) #creturns the number of occurenece of the element"
   ]
  },
  {
   "cell_type": "code",
   "execution_count": 15,
   "metadata": {},
   "outputs": [
    {
     "data": {
      "text/plain": [
       "2"
      ]
     },
     "execution_count": 15,
     "metadata": {},
     "output_type": "execute_result"
    }
   ],
   "source": [
    "tup.index(8.72) #return the index of first occurence"
   ]
  },
  {
   "cell_type": "code",
   "execution_count": 21,
   "metadata": {},
   "outputs": [
    {
     "name": "stdout",
     "output_type": "stream",
     "text": [
      "[2, 4, 5, 8]\n"
     ]
    },
    {
     "data": {
      "text/plain": [
       "(2, 4, 5, 8)"
      ]
     },
     "execution_count": 21,
     "metadata": {},
     "output_type": "execute_result"
    }
   ],
   "source": [
    "t=(4,8,2,5)\n",
    "print(sorted(t)) #return in the form of list\n",
    "tuple(sorted(t)) #converting obtined list to tuple"
   ]
  },
  {
   "cell_type": "markdown",
   "metadata": {},
   "source": [
    " "
   ]
  },
  {
   "cell_type": "code",
   "execution_count": 15,
   "metadata": {},
   "outputs": [
    {
     "name": "stdout",
     "output_type": "stream",
     "text": [
      "Enter the position: 2\n",
      "enter the element to be added: 222\n",
      "0\n",
      "2\n",
      "(55, 222, (2+3j), 8.72, 'kamal', 'pandey', -32, (3, 2, 3))\n"
     ]
    }
   ],
   "source": [
    "## Adding element to tuple\n",
    "tup=(55,2+3j,8.72,'kamal','pandey',-32,(3,2,3))\n",
    "n=int(input('Enter the position: '))\n",
    "temp=()\n",
    "try:\n",
    "    num=eval(input('enter the element to be added: '))\n",
    "    if n==1:\n",
    "        temp=temp+(num,)\n",
    "        for i in range(0,len(tup)):\n",
    "            temp=temp+(tup[i],)\n",
    "    else:        \n",
    "        for i in range(0,n-1):\n",
    "            temp=temp+(tup[i],)\n",
    "        temp=temp+(num,)\n",
    "        for i in range(n-1,len(tup)):\n",
    "            temp=temp+(tup[i],)\n",
    "    tup=temp\n",
    "    print(tup)\n",
    "except IndexError:\n",
    "    print('Try valid position')\n"
   ]
  },
  {
   "cell_type": "code",
   "execution_count": 8,
   "metadata": {},
   "outputs": [
    {
     "name": "stdout",
     "output_type": "stream",
     "text": [
      "Enter the position: 4\n",
      "enter the new elememnt: 33\n",
      "(55, (2+3j), 8.72, 33, 'pandey', -32, (3, 2, 3))\n"
     ]
    }
   ],
   "source": [
    "#modifying element in tuple\n",
    "\n",
    "tup=(55,2+3j,8.72,'kamal','pandey',-32,(3,2,3))\n",
    "n=int(input('Enter the position: '))\n",
    "temp=()\n",
    "try:\n",
    "    num=eval(input('enter the new elememnt: '))\n",
    "    if n==1:\n",
    "        temp=temp+(num,)\n",
    "        for i in range(1,len(tup)):\n",
    "            temp=temp+(tup[i],)\n",
    "    else:        \n",
    "        for i in range(0,n-1):\n",
    "            temp=temp+(tup[i],)\n",
    "        temp=temp+(num,)\n",
    "        for i in range(n,len(tup)):\n",
    "            temp=temp+(tup[i],)\n",
    "    tup=temp\n",
    "    print(tup)\n",
    "except IndexError:\n",
    "    print('Try valid position')\n"
   ]
  },
  {
   "cell_type": "code",
   "execution_count": 23,
   "metadata": {},
   "outputs": [
    {
     "name": "stdout",
     "output_type": "stream",
     "text": [
      "Enter the element: 8.72\n"
     ]
    },
    {
     "ename": "ValueError",
     "evalue": "invalid literal for int() with base 10: '8.72'",
     "output_type": "error",
     "traceback": [
      "\u001b[1;31m---------------------------------------------------------------------------\u001b[0m",
      "\u001b[1;31mValueError\u001b[0m                                Traceback (most recent call last)",
      "\u001b[1;32m<ipython-input-23-dc094d68ae52>\u001b[0m in \u001b[0;36m<module>\u001b[1;34m\u001b[0m\n\u001b[0;32m      3\u001b[0m \u001b[0mn\u001b[0m\u001b[1;33m=\u001b[0m\u001b[1;36m0\u001b[0m\u001b[1;33m\u001b[0m\u001b[1;33m\u001b[0m\u001b[0m\n\u001b[0;32m      4\u001b[0m \u001b[0mtup\u001b[0m\u001b[1;33m=\u001b[0m\u001b[1;33m(\u001b[0m\u001b[1;36m55\u001b[0m\u001b[1;33m,\u001b[0m\u001b[1;36m2\u001b[0m\u001b[1;33m+\u001b[0m\u001b[1;36m3j\u001b[0m\u001b[1;33m,\u001b[0m\u001b[1;36m8.72\u001b[0m\u001b[1;33m,\u001b[0m\u001b[1;34m'kamal'\u001b[0m\u001b[1;33m,\u001b[0m\u001b[1;34m'pandey'\u001b[0m\u001b[1;33m,\u001b[0m\u001b[1;33m-\u001b[0m\u001b[1;36m32\u001b[0m\u001b[1;33m,\u001b[0m\u001b[1;33m(\u001b[0m\u001b[1;36m3\u001b[0m\u001b[1;33m,\u001b[0m\u001b[1;36m2\u001b[0m\u001b[1;33m,\u001b[0m\u001b[1;36m3\u001b[0m\u001b[1;33m)\u001b[0m\u001b[1;33m)\u001b[0m\u001b[1;33m\u001b[0m\u001b[1;33m\u001b[0m\u001b[0m\n\u001b[1;32m----> 5\u001b[1;33m \u001b[0mnum\u001b[0m\u001b[1;33m=\u001b[0m\u001b[0mint\u001b[0m\u001b[1;33m(\u001b[0m\u001b[0minput\u001b[0m\u001b[1;33m(\u001b[0m\u001b[1;34m'Enter the element: '\u001b[0m\u001b[1;33m)\u001b[0m\u001b[1;33m)\u001b[0m\u001b[1;33m\u001b[0m\u001b[1;33m\u001b[0m\u001b[0m\n\u001b[0m\u001b[0;32m      6\u001b[0m \u001b[0mtemp\u001b[0m\u001b[1;33m=\u001b[0m\u001b[1;33m(\u001b[0m\u001b[1;33m)\u001b[0m\u001b[1;33m\u001b[0m\u001b[1;33m\u001b[0m\u001b[0m\n\u001b[0;32m      7\u001b[0m \u001b[1;32mfor\u001b[0m \u001b[0mi\u001b[0m \u001b[1;32min\u001b[0m \u001b[0mtup\u001b[0m\u001b[1;33m:\u001b[0m\u001b[1;33m\u001b[0m\u001b[1;33m\u001b[0m\u001b[0m\n",
      "\u001b[1;31mValueError\u001b[0m: invalid literal for int() with base 10: '8.72'"
     ]
    }
   ],
   "source": [
    "#deleting element in tuple  #try with index position\n",
    "\n",
    "n=0\n",
    "tup=(55,2+3j,8.72,'kamal','pandey',-32,(3,2,3))\n",
    "num=input('Enter the element: ') #glitch\n",
    "temp=()\n",
    "for i in tup:\n",
    "    if i==num:\n",
    "        n=tup.index(i)\n",
    "if n==0:\n",
    "    for i in range(1,len(tup)):\n",
    "        temp=temp+(tup[i],)\n",
    "else:\n",
    "    for i in range(0,n):\n",
    "        temp=temp+(tup[i],)\n",
    "    for i in range(n+1,len(tup)):\n",
    "        temp=temp+(tup[i],)\n",
    "tup=temp\n",
    "print(tup)\n"
   ]
  },
  {
   "cell_type": "markdown",
   "metadata": {},
   "source": [
    " "
   ]
  },
  {
   "cell_type": "markdown",
   "metadata": {},
   "source": [
    " "
   ]
  },
  {
   "cell_type": "markdown",
   "metadata": {},
   "source": [
    "# Set\n",
    "\n",
    "A Set is an unordered and unindexed collection of 'unique' elements ecnlosed between curly braces { } which can be constructed using the set() function.\n",
    "\n",
    "> Here unordered means no indexing follows in sets and unique represent that duplicate elements are not allowed.\n",
    "\n",
    "> Set always holds an unique element"
   ]
  },
  {
   "cell_type": "code",
   "execution_count": 1,
   "metadata": {},
   "outputs": [
    {
     "name": "stdout",
     "output_type": "stream",
     "text": [
      "set()\n",
      "<class 'set'>\n"
     ]
    }
   ],
   "source": [
    "#set creation\n",
    "s=set()\n",
    "print(s)\n",
    "print(type(s))"
   ]
  },
  {
   "cell_type": "code",
   "execution_count": 2,
   "metadata": {},
   "outputs": [
    {
     "ename": "TypeError",
     "evalue": "set expected at most 1 arguments, got 3",
     "output_type": "error",
     "traceback": [
      "\u001b[1;31m---------------------------------------------------------------------------\u001b[0m",
      "\u001b[1;31mTypeError\u001b[0m                                 Traceback (most recent call last)",
      "\u001b[1;32m<ipython-input-2-8e92a7383efd>\u001b[0m in \u001b[0;36m<module>\u001b[1;34m\u001b[0m\n\u001b[1;32m----> 1\u001b[1;33m \u001b[0ms\u001b[0m\u001b[1;33m=\u001b[0m\u001b[0mset\u001b[0m\u001b[1;33m(\u001b[0m\u001b[1;36m2\u001b[0m\u001b[1;33m,\u001b[0m\u001b[1;36m3\u001b[0m\u001b[1;33m,\u001b[0m\u001b[1;36m4\u001b[0m\u001b[1;33m)\u001b[0m\u001b[1;33m\u001b[0m\u001b[1;33m\u001b[0m\u001b[0m\n\u001b[0m\u001b[0;32m      2\u001b[0m \u001b[0mprint\u001b[0m\u001b[1;33m(\u001b[0m\u001b[0ms\u001b[0m\u001b[1;33m)\u001b[0m\u001b[1;33m\u001b[0m\u001b[1;33m\u001b[0m\u001b[0m\n",
      "\u001b[1;31mTypeError\u001b[0m: set expected at most 1 arguments, got 3"
     ]
    }
   ],
   "source": [
    "s=set(2,3,4)\n",
    "print(s) #gives error as set() function only takes iterable elements"
   ]
  },
  {
   "cell_type": "code",
   "execution_count": 7,
   "metadata": {},
   "outputs": [
    {
     "ename": "TypeError",
     "evalue": "'int' object is not iterable",
     "output_type": "error",
     "traceback": [
      "\u001b[1;31m---------------------------------------------------------------------------\u001b[0m",
      "\u001b[1;31mTypeError\u001b[0m                                 Traceback (most recent call last)",
      "\u001b[1;32m<ipython-input-7-da7aa7ff7951>\u001b[0m in \u001b[0;36m<module>\u001b[1;34m\u001b[0m\n\u001b[1;32m----> 1\u001b[1;33m \u001b[0mset\u001b[0m\u001b[1;33m(\u001b[0m\u001b[1;36m2\u001b[0m\u001b[1;33m)\u001b[0m\u001b[1;33m\u001b[0m\u001b[1;33m\u001b[0m\u001b[0m\n\u001b[0m",
      "\u001b[1;31mTypeError\u001b[0m: 'int' object is not iterable"
     ]
    }
   ],
   "source": [
    "set(2) #integer object is not iterable"
   ]
  },
  {
   "cell_type": "markdown",
   "metadata": {},
   "source": [
    "## NOTE\n",
    "> set( ) function only takes iterable elements like tuple,list,dictionary,range,string"
   ]
  },
  {
   "cell_type": "code",
   "execution_count": 6,
   "metadata": {},
   "outputs": [
    {
     "name": "stdout",
     "output_type": "stream",
     "text": [
      "from tuple:  {1, 2, 3}\n",
      "from lst:  {1, 2, 3}\n",
      "from string:  {'a', 'k', 'm', 'l'}\n",
      "from dictionary:  {'name', 'age'}\n",
      "from range:  {0, 1, 2, 3, 4, 5, 6, 7, 8, 9}\n"
     ]
    }
   ],
   "source": [
    "t=(1,2,3)\n",
    "lst=[3,2,1]\n",
    "string='kamal'\n",
    "d={'name':'kamal','age':23} #prints key values as set\n",
    "print('from tuple: ',set(t))\n",
    "print('from lst: ',set(lst))\n",
    "print('from string: ',set(string))\n",
    "print('from dictionary: ',set(d))\n",
    "print('from range: ',set(range(10)))"
   ]
  },
  {
   "cell_type": "markdown",
   "metadata": {},
   "source": [
    "> set( ) function always return unique single value from multiple values present in iterable"
   ]
  },
  {
   "cell_type": "code",
   "execution_count": 8,
   "metadata": {},
   "outputs": [
    {
     "data": {
      "text/plain": [
       "{'a', 'k', 'l', 'm'}"
      ]
     },
     "execution_count": 8,
     "metadata": {},
     "output_type": "execute_result"
    }
   ],
   "source": [
    "set('kamal') # 'a' is printed single time"
   ]
  },
  {
   "cell_type": "code",
   "execution_count": 9,
   "metadata": {},
   "outputs": [
    {
     "data": {
      "text/plain": [
       "{1, 2, 3, 4, 6, 7}"
      ]
     },
     "execution_count": 9,
     "metadata": {},
     "output_type": "execute_result"
    }
   ],
   "source": [
    "set([1,2,3,3,3,4,6,6,7])"
   ]
  },
  {
   "cell_type": "code",
   "execution_count": 11,
   "metadata": {},
   "outputs": [
    {
     "data": {
      "text/plain": [
       "{(2+4j), 28, 4.82, True, 'hjhj'}"
      ]
     },
     "execution_count": 11,
     "metadata": {},
     "output_type": "execute_result"
    }
   ],
   "source": [
    "#set can have heterogeneous values\n",
    "\n",
    "set(['hjhj',28,4.82,True,2+4j])"
   ]
  },
  {
   "cell_type": "code",
   "execution_count": 13,
   "metadata": {},
   "outputs": [
    {
     "data": {
      "text/plain": [
       "{(1, 2), (3, 4)}"
      ]
     },
     "execution_count": 13,
     "metadata": {},
     "output_type": "execute_result"
    }
   ],
   "source": [
    "#nested set\n",
    "set(((1,2),(3,4))) #Tuple on set"
   ]
  },
  {
   "cell_type": "code",
   "execution_count": 14,
   "metadata": {},
   "outputs": [
    {
     "data": {
      "text/plain": [
       "{(1, 2)}"
      ]
     },
     "execution_count": 14,
     "metadata": {},
     "output_type": "execute_result"
    }
   ],
   "source": [
    "set(((1,2),(1,2))) #eliminates duplicate element"
   ]
  },
  {
   "cell_type": "markdown",
   "metadata": {},
   "source": [
    "> set( ) function doesn't allow list asits element because it is mutable and can be altered,comprmising the uniquness of the set"
   ]
  },
  {
   "cell_type": "code",
   "execution_count": 15,
   "metadata": {},
   "outputs": [
    {
     "ename": "TypeError",
     "evalue": "unhashable type: 'list'",
     "output_type": "error",
     "traceback": [
      "\u001b[1;31m---------------------------------------------------------------------------\u001b[0m",
      "\u001b[1;31mTypeError\u001b[0m                                 Traceback (most recent call last)",
      "\u001b[1;32m<ipython-input-15-a1904ed3d0c1>\u001b[0m in \u001b[0;36m<module>\u001b[1;34m\u001b[0m\n\u001b[1;32m----> 1\u001b[1;33m \u001b[0mset\u001b[0m\u001b[1;33m(\u001b[0m\u001b[1;33m[\u001b[0m\u001b[1;33m[\u001b[0m\u001b[1;36m1\u001b[0m\u001b[1;33m,\u001b[0m\u001b[1;36m2\u001b[0m\u001b[1;33m]\u001b[0m\u001b[1;33m,\u001b[0m\u001b[1;33m[\u001b[0m\u001b[1;36m3\u001b[0m\u001b[1;33m,\u001b[0m\u001b[1;36m4\u001b[0m\u001b[1;33m]\u001b[0m\u001b[1;33m]\u001b[0m\u001b[1;33m)\u001b[0m\u001b[1;33m\u001b[0m\u001b[1;33m\u001b[0m\u001b[0m\n\u001b[0m",
      "\u001b[1;31mTypeError\u001b[0m: unhashable type: 'list'"
     ]
    }
   ],
   "source": [
    "set([[1,2],[3,4]])"
   ]
  },
  {
   "cell_type": "code",
   "execution_count": 17,
   "metadata": {},
   "outputs": [
    {
     "data": {
      "text/plain": [
       "{(1, 2), (3, 4)}"
      ]
     },
     "execution_count": 17,
     "metadata": {},
     "output_type": "execute_result"
    }
   ],
   "source": [
    "#tuples are allowed inside list\n",
    "set( [ (1,2) , (3,4) ] ) #here iterabe object is list and elements are tuple"
   ]
  },
  {
   "cell_type": "code",
   "execution_count": 20,
   "metadata": {},
   "outputs": [
    {
     "data": {
      "text/plain": [
       "{1, 45, 5, 82, 'fsfs', 'sudh'}"
      ]
     },
     "execution_count": 20,
     "metadata": {},
     "output_type": "execute_result"
    }
   ],
   "source": [
    " #converting set to another data objects\n",
    "    \n",
    "s={1, 45, 5, 82, 'fsfs', 'sudh'}\n",
    "s"
   ]
  },
  {
   "cell_type": "code",
   "execution_count": 21,
   "metadata": {},
   "outputs": [
    {
     "data": {
      "text/plain": [
       "[1, 'fsfs', 5, 45, 82, 'sudh']"
      ]
     },
     "execution_count": 21,
     "metadata": {},
     "output_type": "execute_result"
    }
   ],
   "source": [
    "list(s)"
   ]
  },
  {
   "cell_type": "code",
   "execution_count": 23,
   "metadata": {},
   "outputs": [
    {
     "data": {
      "text/plain": [
       "(1, 'fsfs', 5, 45, 82, 'sudh')"
      ]
     },
     "execution_count": 23,
     "metadata": {},
     "output_type": "execute_result"
    }
   ],
   "source": [
    "tuple(s)"
   ]
  },
  {
   "cell_type": "code",
   "execution_count": 24,
   "metadata": {},
   "outputs": [
    {
     "ename": "TypeError",
     "evalue": "cannot convert dictionary update sequence element #0 to a sequence",
     "output_type": "error",
     "traceback": [
      "\u001b[1;31m---------------------------------------------------------------------------\u001b[0m",
      "\u001b[1;31mTypeError\u001b[0m                                 Traceback (most recent call last)",
      "\u001b[1;32m<ipython-input-24-592f42a061b0>\u001b[0m in \u001b[0;36m<module>\u001b[1;34m\u001b[0m\n\u001b[1;32m----> 1\u001b[1;33m \u001b[0mdict\u001b[0m\u001b[1;33m(\u001b[0m\u001b[0ms\u001b[0m\u001b[1;33m)\u001b[0m\u001b[1;33m\u001b[0m\u001b[1;33m\u001b[0m\u001b[0m\n\u001b[0m",
      "\u001b[1;31mTypeError\u001b[0m: cannot convert dictionary update sequence element #0 to a sequence"
     ]
    }
   ],
   "source": [
    "dict(s) #set cannot be converted to dictionary"
   ]
  },
  {
   "cell_type": "markdown",
   "metadata": {},
   "source": [
    "## IMP:\n",
    "> Dictionary and list are not allowed to set function when passed as elements\n",
    "\n",
    "> Once a set is created, we cannot change its items but we can add new items."
   ]
  },
  {
   "cell_type": "markdown",
   "metadata": {},
   "source": [
    "### Acessing elements\n",
    "\n",
    "Indexing and Slicing is not allowed in set.\n",
    "\n",
    "We can access set elements by iterating through loop."
   ]
  },
  {
   "cell_type": "code",
   "execution_count": 28,
   "metadata": {},
   "outputs": [
    {
     "name": "stdout",
     "output_type": "stream",
     "text": [
      "1\n",
      "fsfs\n",
      "5\n",
      "45\n",
      "82\n",
      "sudh\n"
     ]
    }
   ],
   "source": [
    "#iterating set\n",
    "\n",
    "for i in s:\n",
    "    print(i)"
   ]
  },
  {
   "cell_type": "code",
   "execution_count": 52,
   "metadata": {},
   "outputs": [
    {
     "name": "stdout",
     "output_type": "stream",
     "text": [
      "{True, 2, 2.89, (7, 8, 'tuple'), range(0, 10), 'kamal', (3-2j)}\n"
     ]
    }
   ],
   "source": [
    "samp_set=set([2,2.89,3-2j,True,'kamal',(7,8,'tuple'),range(10)])\n",
    "print(samp_set)"
   ]
  },
  {
   "cell_type": "markdown",
   "metadata": {},
   "source": [
    " "
   ]
  },
  {
   "cell_type": "markdown",
   "metadata": {},
   "source": [
    "### Built-In methods in Set"
   ]
  },
  {
   "cell_type": "code",
   "execution_count": 34,
   "metadata": {},
   "outputs": [
    {
     "data": {
      "text/plain": [
       "{(3-2j), (7, 8, 'tuple'), 2, 2.89, True, 'kamal', range(0, 10)}"
      ]
     },
     "execution_count": 34,
     "metadata": {},
     "output_type": "execute_result"
    }
   ],
   "source": [
    "samp_set"
   ]
  },
  {
   "cell_type": "code",
   "execution_count": 37,
   "metadata": {},
   "outputs": [
    {
     "name": "stdout",
     "output_type": "stream",
     "text": [
      "{True, 2, 2.89, (7, 8, 'tuple'), range(0, 10), 23, 'kamal', (3-2j)}\n"
     ]
    }
   ],
   "source": [
    "samp_set.add(23) \n",
    "#Add an element to a set.\n",
    "#takes only one dataobject value\n",
    "#no effect if the element is present in the set\n",
    "print(samp_set)"
   ]
  },
  {
   "cell_type": "code",
   "execution_count": 40,
   "metadata": {},
   "outputs": [
    {
     "name": "stdout",
     "output_type": "stream",
     "text": [
      "{True, 2, 2.89, (7, 8, 'tuple'), range(0, 10), 23, 'kamal', (3-2j)}\n"
     ]
    }
   ],
   "source": [
    "set_copy=samp_set.copy()\n",
    "#Return a shallow copy of a set\n",
    "print(set_copy)"
   ]
  },
  {
   "cell_type": "code",
   "execution_count": 41,
   "metadata": {},
   "outputs": [],
   "source": [
    "s={2,6,3.82,'kamal',(2,4)}"
   ]
  },
  {
   "cell_type": "code",
   "execution_count": 44,
   "metadata": {},
   "outputs": [
    {
     "data": {
      "text/plain": [
       "{(3-2j), (7, 8, 'tuple'), 2.89, 23, True, range(0, 10)}"
      ]
     },
     "execution_count": 44,
     "metadata": {},
     "output_type": "execute_result"
    }
   ],
   "source": [
    "samp_set.difference(s)\n",
    "#Return the difference of two or more sets as a new set i.e. returns elements which are present in samp_set but not in s"
   ]
  },
  {
   "cell_type": "code",
   "execution_count": 51,
   "metadata": {},
   "outputs": [
    {
     "name": "stdout",
     "output_type": "stream",
     "text": [
      "{True, 2, 2.89, (7, 8, 'tuple'), range(0, 10), 'kamal', (3-2j)}\n",
      "s:  {2, 3.82, 6, 'kamal', (2, 4)}\n",
      "samp_set:  {True, 2.89, (7, 8, 'tuple'), range(0, 10), (3-2j)}\n"
     ]
    }
   ],
   "source": [
    "print(samp_set)\n",
    "samp_set.difference_update(s)\n",
    "#Remove all elements of another set from this set i.e removes elements of samp_set which are present in s\n",
    "print('s: ',s)\n",
    "print('samp_set: ',samp_set)\n",
    "#we can see 'kamal' and 2 are removed from samp_set"
   ]
  },
  {
   "cell_type": "markdown",
   "metadata": {},
   "source": [
    " "
   ]
  },
  {
   "cell_type": "markdown",
   "metadata": {},
   "source": [
    " "
   ]
  },
  {
   "cell_type": "markdown",
   "metadata": {},
   "source": [
    " "
   ]
  },
  {
   "cell_type": "code",
   "execution_count": 61,
   "metadata": {},
   "outputs": [],
   "source": [
    "samp_set=set([2,2.89,3-2j,True,'kamal',(7,8,'tuple'),range(10)])"
   ]
  },
  {
   "cell_type": "code",
   "execution_count": 62,
   "metadata": {},
   "outputs": [
    {
     "name": "stdout",
     "output_type": "stream",
     "text": [
      "{True, 2, 2.89, (7, 8, 'tuple'), range(0, 10), 'kamal', (3-2j)}\n",
      "{2, 3.82, 6, 'kamal', (2, 4)}\n"
     ]
    },
    {
     "data": {
      "text/plain": [
       "{2, 'kamal'}"
      ]
     },
     "execution_count": 62,
     "metadata": {},
     "output_type": "execute_result"
    }
   ],
   "source": [
    "samp_set=set([2,2.89,3-2j,True,'kamal',(7,8,'tuple'),range(10)])\n",
    "print(samp_set)\n",
    "print(s)\n",
    "samp_set.intersection(s)\n",
    "\n",
    "#returns intersection of two sets i.e common elements "
   ]
  },
  {
   "cell_type": "markdown",
   "metadata": {},
   "source": [
    " "
   ]
  },
  {
   "cell_type": "markdown",
   "metadata": {},
   "source": [
    " "
   ]
  },
  {
   "cell_type": "code",
   "execution_count": 87,
   "metadata": {},
   "outputs": [
    {
     "data": {
      "text/plain": [
       "{(2, 4),\n",
       " (3-2j),\n",
       " (7, 8, 'tuple'),\n",
       " 2,\n",
       " 2.89,\n",
       " 3.82,\n",
       " 6,\n",
       " True,\n",
       " 'kamal',\n",
       " range(0, 10)}"
      ]
     },
     "execution_count": 87,
     "metadata": {},
     "output_type": "execute_result"
    }
   ],
   "source": [
    "samp_set=set([2,2.89,3-2j,True,'kamal',(7,8,'tuple'),range(10)])\n",
    "\n",
    "samp_set.union(s)\n",
    "\n",
    "#returns a set of union of two sets i.e. union of samp_set and s\n",
    "\n",
    "#union method removes the duplicate elemnts"
   ]
  },
  {
   "cell_type": "code",
   "execution_count": 90,
   "metadata": {},
   "outputs": [
    {
     "name": "stdout",
     "output_type": "stream",
     "text": [
      "{True, 2, 2.89, (7, 8, 'tuple'), range(0, 10), 'kamal', (3-2j)} \n",
      "\n",
      "{True, 2, 2.89, 3.82, 6, (7, 8, 'tuple'), range(0, 10), (2, 4), 'kamal', (3-2j)}\n"
     ]
    }
   ],
   "source": [
    "samp_set=set([2,2.89,3-2j,True,'kamal',(7,8,'tuple'),range(10)])\n",
    "s={2, 3.82, 6, 'kamal', (2, 4)}\n",
    "\n",
    "print(samp_set,\"\\n\")\n",
    "samp_set.update(s)\n",
    "#Update the set with the union of this set and others i.e. updates samp_set with union odf samp_set and s\n",
    "\n",
    "print(samp_set)"
   ]
  },
  {
   "cell_type": "markdown",
   "metadata": {},
   "source": [
    " "
   ]
  },
  {
   "cell_type": "markdown",
   "metadata": {},
   "source": [
    " "
   ]
  },
  {
   "cell_type": "code",
   "execution_count": 69,
   "metadata": {},
   "outputs": [
    {
     "name": "stdout",
     "output_type": "stream",
     "text": [
      "{True, 2, 2.89, (7, 8, 'tuple'), range(0, 10), 'kamal', (3-2j)}\n",
      "{2, 'kamal'}\n",
      "{2, 3.82, 6, 'kamal', (2, 4)}\n"
     ]
    }
   ],
   "source": [
    "samp_set=set([2,2.89,3-2j,True,'kamal',(7,8,'tuple'),range(10)])\n",
    "print(samp_set)\n",
    "samp_set.intersection_update(s)\n",
    "\n",
    "#Update a set with the intersection of itself and another i.e. samp_set will be updated with the common elements \n",
    "#between samp_set and s\n",
    "print(samp_set)\n",
    "print(s)"
   ]
  },
  {
   "cell_type": "markdown",
   "metadata": {},
   "source": [
    " "
   ]
  },
  {
   "cell_type": "markdown",
   "metadata": {},
   "source": [
    " "
   ]
  },
  {
   "cell_type": "code",
   "execution_count": 79,
   "metadata": {},
   "outputs": [
    {
     "name": "stdout",
     "output_type": "stream",
     "text": [
      "{True, 2, 2.89, (7, 8, 'tuple'), range(0, 10), 'kamal', (3-2j)}\n"
     ]
    },
    {
     "data": {
      "text/plain": [
       "True"
      ]
     },
     "execution_count": 79,
     "metadata": {},
     "output_type": "execute_result"
    }
   ],
   "source": [
    "samp_set=set([2,2.89,3-2j,True,'kamal',(7,8,'tuple'),range(10)])\n",
    "print(samp_set)\n",
    "samp_set.pop()\n",
    "#Remove and return an arbitrary set element.\n",
    "#Raises KeyError if the set is empty.\n",
    "print(samp_set)"
   ]
  },
  {
   "cell_type": "markdown",
   "metadata": {},
   "source": [
    " "
   ]
  },
  {
   "cell_type": "markdown",
   "metadata": {},
   "source": [
    " "
   ]
  },
  {
   "cell_type": "code",
   "execution_count": 82,
   "metadata": {},
   "outputs": [
    {
     "name": "stdout",
     "output_type": "stream",
     "text": [
      "{True, 2.89, (7, 8, 'tuple'), range(0, 10), 'kamal', (3-2j)}\n"
     ]
    },
    {
     "ename": "KeyError",
     "evalue": "3",
     "output_type": "error",
     "traceback": [
      "\u001b[1;31m---------------------------------------------------------------------------\u001b[0m",
      "\u001b[1;31mKeyError\u001b[0m                                  Traceback (most recent call last)",
      "\u001b[1;32m<ipython-input-82-280a1d24de9d>\u001b[0m in \u001b[0;36m<module>\u001b[1;34m\u001b[0m\n\u001b[0;32m      3\u001b[0m \u001b[0msamp_set\u001b[0m\u001b[1;33m.\u001b[0m\u001b[0mremove\u001b[0m\u001b[1;33m(\u001b[0m\u001b[1;36m2\u001b[0m\u001b[1;33m)\u001b[0m\u001b[1;33m\u001b[0m\u001b[1;33m\u001b[0m\u001b[0m\n\u001b[0;32m      4\u001b[0m \u001b[0mprint\u001b[0m\u001b[1;33m(\u001b[0m\u001b[0msamp_set\u001b[0m\u001b[1;33m)\u001b[0m\u001b[1;33m\u001b[0m\u001b[1;33m\u001b[0m\u001b[0m\n\u001b[1;32m----> 5\u001b[1;33m \u001b[0msamp_set\u001b[0m\u001b[1;33m.\u001b[0m\u001b[0mremove\u001b[0m\u001b[1;33m(\u001b[0m\u001b[1;36m3\u001b[0m\u001b[1;33m)\u001b[0m \u001b[1;31m#element not available\u001b[0m\u001b[1;33m\u001b[0m\u001b[1;33m\u001b[0m\u001b[0m\n\u001b[0m",
      "\u001b[1;31mKeyError\u001b[0m: 3"
     ]
    }
   ],
   "source": [
    "#Remove an element from a set; it must be a member,otherwise gives keyerror\n",
    "samp_set=set([2,2.89,3-2j,True,'kamal',(7,8,'tuple'),range(10)])\n",
    "samp_set.remove(2)\n",
    "print(samp_set)\n",
    "samp_set.remove(3) #element not available"
   ]
  },
  {
   "cell_type": "markdown",
   "metadata": {},
   "source": [
    " "
   ]
  },
  {
   "cell_type": "markdown",
   "metadata": {},
   "source": [
    " "
   ]
  },
  {
   "cell_type": "code",
   "execution_count": 83,
   "metadata": {},
   "outputs": [
    {
     "name": "stdout",
     "output_type": "stream",
     "text": [
      "{True, 2, 2.89, (7, 8, 'tuple'), range(0, 10), 'kamal', (3-2j)}\n",
      "{True, 2.89, (7, 8, 'tuple'), range(0, 10), 'kamal', (3-2j)}\n"
     ]
    }
   ],
   "source": [
    "samp_set=set([2,2.89,3-2j,True,'kamal',(7,8,'tuple'),range(10)])\n",
    "print(samp_set)\n",
    "samp_set.discard(2)\n",
    "\n",
    "#removes the element from set if it is memeber,otherwise do nothing\n",
    "print(samp_set)\n",
    "\n",
    "#we can see 2 has been removed from samp set"
   ]
  },
  {
   "cell_type": "markdown",
   "metadata": {},
   "source": [
    "  "
   ]
  },
  {
   "cell_type": "markdown",
   "metadata": {},
   "source": [
    " "
   ]
  },
  {
   "cell_type": "code",
   "execution_count": 88,
   "metadata": {},
   "outputs": [
    {
     "name": "stdout",
     "output_type": "stream",
     "text": [
      "set()\n"
     ]
    }
   ],
   "source": [
    "samp_set=set([2,2.89,3-2j,True,'kamal',(7,8,'tuple'),range(10)])\n",
    "\n",
    "samp_set.clear()\n",
    "\n",
    "#it clears the whole set\n",
    "print(samp_set) #we observe an empty set"
   ]
  },
  {
   "cell_type": "markdown",
   "metadata": {},
   "source": [
    " "
   ]
  },
  {
   "cell_type": "markdown",
   "metadata": {},
   "source": [
    "### >>\n",
    "remove( ) function raises an error when element not present but discard() function won't.\n",
    "\n",
    "pop() function removes an element at random as in set there is no order but returns that element"
   ]
  },
  {
   "cell_type": "markdown",
   "metadata": {},
   "source": [
    "#### Other functions: \n",
    "    isdisjoint(), issubset(), issuperset()\n"
   ]
  },
  {
   "cell_type": "code",
   "execution_count": null,
   "metadata": {},
   "outputs": [],
   "source": [
    "    "
   ]
  }
 ],
 "metadata": {
  "kernelspec": {
   "display_name": "Python 3",
   "language": "python",
   "name": "python3"
  },
  "language_info": {
   "codemirror_mode": {
    "name": "ipython",
    "version": 3
   },
   "file_extension": ".py",
   "mimetype": "text/x-python",
   "name": "python",
   "nbconvert_exporter": "python",
   "pygments_lexer": "ipython3",
   "version": "3.7.4"
  }
 },
 "nbformat": 4,
 "nbformat_minor": 2
}
