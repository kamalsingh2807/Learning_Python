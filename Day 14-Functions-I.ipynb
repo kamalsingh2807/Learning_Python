{
 "cells": [
  {
   "cell_type": "markdown",
   "metadata": {},
   "source": [
    "# Functions\n",
    "\n",
    "Functions can be defined as a group of statements that are intended to perform specific task. If there are several tasks to be performed we use diiferent functions in the program.\n",
    "\n",
    "It is a kind of predefined entity or kind of custom entity that that is called inisde a program to perform some kind of actions.\n",
    "\n",
    "It serves as building blocks of code in large programs.\n",
    "\n",
    "Allows different parameters to get passsed into the function as input and may or may not produce output.\n",
    "\n",
    "There are two types of functions that exist: \n",
    "\n",
    "BUILT-IN FUNCTONS- These are pre-defined functions defined in the compiler and can be used by programmer. E.g., print( ),sqrt() power(), etc\n",
    "\n",
    "USER-DEFINED FUCNTIONS: These are user made functions specific to the requirements of the program."
   ]
  },
  {
   "cell_type": "markdown",
   "metadata": {},
   "source": [
    "### Advantages of using functions: \n",
    "\n",
    "> PERFORMING SPECIFIC TASK:  Functions can be made to perfom any kind of task like calculations, printing data,collecting data,etc\n",
    "\n",
    "> CODE REUSABILITY: Using functions we can use that functions many times if same task appears again and again. Hence reducing code redundancy( writing code again and again) also increases code reusability.\n",
    "\n",
    "> MODULARITY:  Modularity means dividing the code into several parts. Using functions the main task is divided into sub tasks which in turn can be called anytime into the main program. \n",
    "    \n",
    "        Modularity makes programming easy and increases performance.\n",
    "> EASY CODE MAINTANENCE:  Functions helps in addinng new functionality of feature into the program.If we want to add new feature, we write a function and the call it in the program. If not needed, that specific code is commented.\n",
    "\n",
    "> EASY ERROR DETECTION: With functions we can find the error in the concerned module, without even disturbing the other functions. This enhances easy code handling and debugging.\n",
    "\n",
    "> REDUCES CODE COMPLEXITY AND LENGTH.\n",
    "\n",
    "    "
   ]
  },
  {
   "cell_type": "markdown",
   "metadata": {},
   "source": [
    "### Difference between Function and method: \n",
    "\n",
    "Function is group of statements and is called using its name. But when a function is written inside a class it is called 'METHOD'. Function and method are almost similiar but vary in their calling and placements. A method is called using class name or object name as:\n",
    "\n",
    "    object_name.method_name( )\n",
    "    class_name.method_name( )"
   ]
  },
  {
   "cell_type": "markdown",
   "metadata": {},
   "source": [
    "### Creating and Defining a function\n",
    "\n",
    "Function id defind using ' def ' keyword followed by the function_name and parenthesis( ) which may contain the parameters. Paranthesis are necessary as they defines difference betwen a variable and a function. Function can be defined with or without parameters as required in the function.\n",
    "\n",
    "Parameters are the values that recives data from outside the functionas and those could be used inside the function.\n",
    "\n",
    "colon( : ) after the parenthesis represents the begining of the function body.\n",
    "\n",
    "FORMAT: \n",
    "                      \n",
    "           def function_name ( parameters,... ) : \n",
    "                \"\"\" function docstring \"\"\"\n",
    "                function statements\n",
    "           \n",
    " Function docstring gives information about the function which is enclosed either between single triple quotes or single double quotes. It is optional. During API documentation the docstring gives details about the function.\n",
    " \n",
    " Function docstring and statements are written in proper indentation.\n",
    "           \n",
    "           \n"
   ]
  },
  {
   "cell_type": "markdown",
   "metadata": {},
   "source": [
    " "
   ]
  },
  {
   "cell_type": "markdown",
   "metadata": {},
   "source": [
    "### Calling a function\n",
    "\n",
    "To run the program we have to call the function.\n",
    ">Function calling is done using function name with necessary parameters to the function.\n",
    "\n",
    "We pass the values in the function calling according to the parameters in the function definition. The values passed to the function are called Arguments which in turn are processed and the result is generated.\n"
   ]
  },
  {
   "cell_type": "markdown",
   "metadata": {},
   "source": [
    "> function name can be anyname,preffered to be in camelcase\n",
    "\n",
    "> argument can be of any number,and are optiional.\n",
    "\n",
    "> no curley braces condition is required,indentaion is used which is must.\n",
    "\n",
    "> while writing function try to maintain body of the function\n",
    "\n",
    ">statements after : (colon) is function body"
   ]
  },
  {
   "cell_type": "code",
   "execution_count": 15,
   "metadata": {},
   "outputs": [
    {
     "ename": "SyntaxError",
     "evalue": "unexpected EOF while parsing (<ipython-input-15-9873bc519466>, line 1)",
     "output_type": "error",
     "traceback": [
      "\u001b[1;36m  File \u001b[1;32m\"<ipython-input-15-9873bc519466>\"\u001b[1;36m, line \u001b[1;32m1\u001b[0m\n\u001b[1;33m    def test():\u001b[0m\n\u001b[1;37m               ^\u001b[0m\n\u001b[1;31mSyntaxError\u001b[0m\u001b[1;31m:\u001b[0m unexpected EOF while parsing\n"
     ]
    }
   ],
   "source": [
    "def test():  #function body is necessary"
   ]
  },
  {
   "cell_type": "code",
   "execution_count": 17,
   "metadata": {},
   "outputs": [],
   "source": [
    "def test():  #we can use pas to ignore\n",
    "    pass"
   ]
  },
  {
   "cell_type": "code",
   "execution_count": 4,
   "metadata": {},
   "outputs": [
    {
     "name": "stdout",
     "output_type": "stream",
     "text": [
      "Sum of 10 and 18 is:  28\n"
     ]
    }
   ],
   "source": [
    "#function to sum two values\n",
    "\n",
    "def sum_num(a,b): #function definition\n",
    "    #function body\n",
    "    c=a+b     \n",
    "    print('Sum of {} and {} is: '.format(a,b),c)\n",
    "    \n",
    "sum_num(10,18)"
   ]
  },
  {
   "cell_type": "code",
   "execution_count": 5,
   "metadata": {},
   "outputs": [
    {
     "name": "stdout",
     "output_type": "stream",
     "text": [
      "Sum of 1.5 and 7.25 is:  8.75\n"
     ]
    }
   ],
   "source": [
    "sum(1.5,7.25) #code reusability"
   ]
  },
  {
   "cell_type": "markdown",
   "metadata": {},
   "source": [
    ">>signature of the function calling and definition has to be same,meaning argument related issues.\n",
    "\n"
   ]
  },
  {
   "cell_type": "markdown",
   "metadata": {},
   "source": [
    "### Returning values from function\n",
    "\n",
    "We can return the result or output of the function using 'return' statement. If nothing to return,we do not use return statement.\n",
    "\n",
    ">> we need not to define the return type of the function in python, compiler automatically understands the datatype.\n",
    "\n",
    "\n",
    "return statement can return anything "
   ]
  },
  {
   "cell_type": "code",
   "execution_count": 7,
   "metadata": {},
   "outputs": [
    {
     "name": "stdout",
     "output_type": "stream",
     "text": [
      "sum:  92\n"
     ]
    }
   ],
   "source": [
    "#adding two numbers and returning the value\n",
    "\n",
    "def sum_num(a,b):\n",
    "    c=a+b\n",
    "    return c\n",
    "sum=sum_num(10,82)\n",
    "print('sum: ',sum)"
   ]
  },
  {
   "cell_type": "code",
   "execution_count": 8,
   "metadata": {},
   "outputs": [
    {
     "data": {
      "text/plain": [
       "97.53999999999999"
      ]
     },
     "execution_count": 8,
     "metadata": {},
     "output_type": "execute_result"
    }
   ],
   "source": [
    "sum_num(5.24,92.3)"
   ]
  },
  {
   "cell_type": "code",
   "execution_count": 10,
   "metadata": {},
   "outputs": [
    {
     "data": {
      "text/plain": [
       "'kamal'"
      ]
     },
     "execution_count": 10,
     "metadata": {},
     "output_type": "execute_result"
    }
   ],
   "source": [
    "sum_num('kam','al') #for this + works as concatenation operator"
   ]
  },
  {
   "cell_type": "code",
   "execution_count": 20,
   "metadata": {},
   "outputs": [
    {
     "ename": "TypeError",
     "evalue": "sum_num() missing 2 required positional arguments: 'a' and 'b'",
     "output_type": "error",
     "traceback": [
      "\u001b[1;31m---------------------------------------------------------------------------\u001b[0m",
      "\u001b[1;31mTypeError\u001b[0m                                 Traceback (most recent call last)",
      "\u001b[1;32m<ipython-input-20-8e1abb6be299>\u001b[0m in \u001b[0;36m<module>\u001b[1;34m\u001b[0m\n\u001b[0;32m      1\u001b[0m \u001b[1;31m#if we call function without appropriate arguments it gives error\u001b[0m\u001b[1;33m\u001b[0m\u001b[1;33m\u001b[0m\u001b[1;33m\u001b[0m\u001b[0m\n\u001b[0;32m      2\u001b[0m \u001b[1;33m\u001b[0m\u001b[0m\n\u001b[1;32m----> 3\u001b[1;33m \u001b[0msum_num\u001b[0m\u001b[1;33m(\u001b[0m\u001b[1;33m)\u001b[0m  \u001b[1;31m#eror:  argument missing\u001b[0m\u001b[1;33m\u001b[0m\u001b[1;33m\u001b[0m\u001b[0m\n\u001b[0m",
      "\u001b[1;31mTypeError\u001b[0m: sum_num() missing 2 required positional arguments: 'a' and 'b'"
     ]
    }
   ],
   "source": [
    "#if we call function without appropriate arguments it gives error\n",
    "\n",
    "sum_num()  #eror:  argument missing"
   ]
  },
  {
   "cell_type": "code",
   "execution_count": 13,
   "metadata": {},
   "outputs": [
    {
     "name": "stdout",
     "output_type": "stream",
     "text": [
      "enter the number: 3654\n",
      "even\n"
     ]
    }
   ],
   "source": [
    "# function to check if num,ber is even or odd\n",
    "def evcheck(num):\n",
    "    if num%2==0:\n",
    "        print('even')\n",
    "    else:\n",
    "        print('odd')\n",
    "\n",
    "num=int(input('enter the number: '))\n",
    "evcheck(num)"
   ]
  },
  {
   "cell_type": "markdown",
   "metadata": {},
   "source": [
    "> multiple return statememnt can be written inthe program, but only one of them will return the value"
   ]
  },
  {
   "cell_type": "code",
   "execution_count": 3,
   "metadata": {},
   "outputs": [
    {
     "name": "stdout",
     "output_type": "stream",
     "text": [
      "enter the number: 444\n",
      "even\n"
     ]
    }
   ],
   "source": [
    "def evcheck(num):\n",
    "    if num%2==0:\n",
    "        return 'even'\n",
    "    else:\n",
    "        return 'odd'\n",
    "    return 0\n",
    "\n",
    "num=int(input('enter the number: '))  #out of three only on returns value\n",
    "print(evcheck(num))"
   ]
  },
  {
   "cell_type": "code",
   "execution_count": 1,
   "metadata": {},
   "outputs": [
    {
     "name": "stdout",
     "output_type": "stream",
     "text": [
      "enter the number: 4\n",
      "24\n"
     ]
    }
   ],
   "source": [
    "#finding factorial\n",
    "\n",
    "def fact(num):\n",
    "    fac=1\n",
    "    while num>=1:\n",
    "        fac*=num\n",
    "        num-=1\n",
    "    return fac\n",
    "num=int(input('enter the number: '))\n",
    "if num==0: print(1)\n",
    "else: print(fact(num))"
   ]
  },
  {
   "cell_type": "code",
   "execution_count": 3,
   "metadata": {},
   "outputs": [
    {
     "name": "stdout",
     "output_type": "stream",
     "text": [
      "Factorial of 1 is: 1\n",
      "Factorial of 2 is: 2\n",
      "Factorial of 3 is: 6\n",
      "Factorial of 4 is: 24\n",
      "Factorial of 5 is: 120\n",
      "Factorial of 6 is: 720\n",
      "Factorial of 7 is: 5040\n",
      "Factorial of 8 is: 40320\n",
      "Factorial of 9 is: 362880\n",
      "Factorial of 10 is: 3628800\n"
     ]
    }
   ],
   "source": [
    "#finding fact between a range\n",
    "\n",
    "for i in range(1,11):\n",
    "    print('Factorial of {} is:'.format(i),fact(i))"
   ]
  },
  {
   "cell_type": "code",
   "execution_count": 31,
   "metadata": {},
   "outputs": [
    {
     "name": "stdout",
     "output_type": "stream",
     "text": [
      "enter the number: 44\n",
      "None\n",
      "<class 'NoneType'>\n"
     ]
    }
   ],
   "source": [
    "# checking for prime number: \n",
    "def prime_check(num):\n",
    "    samp=num\n",
    "    flag=1 \n",
    "    for i in range(2,num):  #glitch,need improvement\n",
    "        if (num%i)==0:\n",
    "            flag=0\n",
    "            break\n",
    "        else:\n",
    "            flag=1\n",
    "    if flag==1:\n",
    "        return samp\n",
    "\n",
    "num=int(input('enter the number: '))\n",
    "if num==0: print('NOT PRIME')\n",
    "elif num==1: print('CO PRIME')\n",
    "else: \n",
    "    ans=prime_check(num)\n",
    "\n",
    "if ans:\n",
    "    print('Prime')"
   ]
  },
  {
   "cell_type": "code",
   "execution_count": 32,
   "metadata": {},
   "outputs": [
    {
     "data": {
      "text/plain": [
       "'for x in range(3,94):\\n    res=prime_check(x)\\n    print(res)\\nprint(type(x))'"
      ]
     },
     "execution_count": 32,
     "metadata": {},
     "output_type": "execute_result"
    }
   ],
   "source": [
    "#prime numbers in range\n",
    "'''for x in range(3,94):\n",
    "    res=prime_check(x)\n",
    "    print(res)\n",
    "print(type(x))'''"
   ]
  },
  {
   "cell_type": "markdown",
   "metadata": {},
   "source": [
    "### Returning multiple values from a function\n",
    "\n",
    "Unlike Java and C, a function in python can return multiple values similiarly. as: \n",
    "\n",
    "    return value1,value2,....\n",
    "    \n",
    "These values are returned by the function in the form of tuples.\n",
    "\n",
    "NOTE: Number of values returning and number of values recieving must be equal in number, and in case ofsequences they must of same species.\n"
   ]
  },
  {
   "cell_type": "code",
   "execution_count": 33,
   "metadata": {},
   "outputs": [
    {
     "data": {
      "text/plain": [
       "(9, 3)"
      ]
     },
     "execution_count": 33,
     "metadata": {},
     "output_type": "execute_result"
    }
   ],
   "source": [
    "#function that sum and substracts two values\n",
    "\n",
    "def add_sub(num1,num2):\n",
    "    add=num1+num2\n",
    "    sub=num1-num2\n",
    "    return add,sub\n",
    "\n",
    "add_sub(6,3) #we see it is returned as tuple"
   ]
  },
  {
   "cell_type": "code",
   "execution_count": 34,
   "metadata": {},
   "outputs": [
    {
     "name": "stdout",
     "output_type": "stream",
     "text": [
      "sum: 23 \t difference: -5\n"
     ]
    }
   ],
   "source": [
    "a,b=add_sub(9,14)\n",
    "print('sum: {} \\t difference: {}'.format(a,b))"
   ]
  },
  {
   "cell_type": "code",
   "execution_count": 36,
   "metadata": {},
   "outputs": [
    {
     "name": "stdout",
     "output_type": "stream",
     "text": [
      "130\n"
     ]
    }
   ],
   "source": [
    "#passing list and adding its elements\n",
    "\n",
    "def lst_sum(lst):\n",
    "    sum=0\n",
    "    for i in lst:\n",
    "        sum+=i\n",
    "    return sum\n",
    "lst=list(range(4,17))\n",
    "print(lst_sum(lst))"
   ]
  },
  {
   "cell_type": "code",
   "execution_count": 38,
   "metadata": {},
   "outputs": [],
   "source": [
    "def test(x):\n",
    "    return x*3,x+x"
   ]
  },
  {
   "cell_type": "code",
   "execution_count": 40,
   "metadata": {},
   "outputs": [
    {
     "name": "stdout",
     "output_type": "stream",
     "text": [
      "15 10\n"
     ]
    }
   ],
   "source": [
    "a,b=test(5)\n",
    "print(a,b)"
   ]
  },
  {
   "cell_type": "code",
   "execution_count": 45,
   "metadata": {},
   "outputs": [
    {
     "name": "stdout",
     "output_type": "stream",
     "text": [
      "15\n",
      "10\n"
     ]
    }
   ],
   "source": [
    "#we can placeholder when we don't want to store data in a variable\n",
    "a, _=test(5)\n",
    "print(a)\n",
    "print(_) #we can see value stored in _"
   ]
  },
  {
   "cell_type": "code",
   "execution_count": 46,
   "metadata": {},
   "outputs": [
    {
     "data": {
      "text/plain": [
       "10"
      ]
     },
     "execution_count": 46,
     "metadata": {},
     "output_type": "execute_result"
    }
   ],
   "source": [
    "_"
   ]
  },
  {
   "cell_type": "code",
   "execution_count": 49,
   "metadata": {},
   "outputs": [],
   "source": [
    "_=a #updating value"
   ]
  },
  {
   "cell_type": "code",
   "execution_count": 48,
   "metadata": {},
   "outputs": [
    {
     "data": {
      "text/plain": [
       "15"
      ]
     },
     "execution_count": 48,
     "metadata": {},
     "output_type": "execute_result"
    }
   ],
   "source": [
    "_"
   ]
  },
  {
   "cell_type": "code",
   "execution_count": 52,
   "metadata": {},
   "outputs": [
    {
     "name": "stdout",
     "output_type": "stream",
     "text": [
      "10 10\n"
     ]
    }
   ],
   "source": [
    "#but taking two undescores causes confusion\n",
    "_,_=test(5)\n",
    "print(_,_) #no assurance\n",
    "\n",
    "#recommended only _ placeholder can be taken"
   ]
  },
  {
   "cell_type": "code",
   "execution_count": 53,
   "metadata": {},
   "outputs": [],
   "source": [
    "#retrning multiple different types of value\n",
    "def test():\n",
    "    return  [1,2,3,4],{1:'one',2:'two'},{2,3,5},(36,'jjss')\n"
   ]
  },
  {
   "cell_type": "code",
   "execution_count": 54,
   "metadata": {},
   "outputs": [
    {
     "data": {
      "text/plain": [
       "([1, 2, 3, 4], {1: 'one', 2: 'two'}, {2, 3, 5}, (36, 'jjss'))"
      ]
     },
     "execution_count": 54,
     "metadata": {},
     "output_type": "execute_result"
    }
   ],
   "source": [
    "test() #all values areb printed as tuple"
   ]
  },
  {
   "cell_type": "code",
   "execution_count": 57,
   "metadata": {},
   "outputs": [
    {
     "name": "stdout",
     "output_type": "stream",
     "text": [
      "23\n",
      "jwsjwjw\n",
      "344\n"
     ]
    },
    {
     "data": {
      "text/plain": [
       "['23', 'jwsjwjw', '344']"
      ]
     },
     "execution_count": 57,
     "metadata": {},
     "output_type": "execute_result"
    }
   ],
   "source": [
    "#we can aslo take input fropm function and return it too\n",
    "\n",
    "def test():\n",
    "    l=[]\n",
    "    for i in range(3):\n",
    "        l.append(input())\n",
    "    return(l)\n",
    "test()"
   ]
  },
  {
   "cell_type": "code",
   "execution_count": 58,
   "metadata": {},
   "outputs": [],
   "source": [
    "#passing default value as argument\n",
    "\n",
    "def test(a,b='singh'):\n",
    "    return a+b"
   ]
  },
  {
   "cell_type": "code",
   "execution_count": 60,
   "metadata": {},
   "outputs": [
    {
     "data": {
      "text/plain": [
       "'kamalsingh'"
      ]
     },
     "execution_count": 60,
     "metadata": {},
     "output_type": "execute_result"
    }
   ],
   "source": [
    "test('kamal')\n",
    "\n",
    "#if no value is passed while calling,it takes default value"
   ]
  },
  {
   "cell_type": "code",
   "execution_count": 61,
   "metadata": {},
   "outputs": [
    {
     "data": {
      "text/plain": [
       "'kamalkumar'"
      ]
     },
     "execution_count": 61,
     "metadata": {},
     "output_type": "execute_result"
    }
   ],
   "source": [
    "test('kamal','kumar')\n",
    "#when we give value while calling it overrides defaultvalue"
   ]
  },
  {
   "cell_type": "code",
   "execution_count": 62,
   "metadata": {},
   "outputs": [],
   "source": [
    "#greeting function\n",
    "def greet(name):\n",
    "    print('Hello %s'%name) #here we used string format identifier it can take numerals"
   ]
  },
  {
   "cell_type": "code",
   "execution_count": 63,
   "metadata": {},
   "outputs": [
    {
     "name": "stdout",
     "output_type": "stream",
     "text": [
      "Hello kamal\n"
     ]
    }
   ],
   "source": [
    "greet('kamal')"
   ]
  },
  {
   "cell_type": "code",
   "execution_count": 64,
   "metadata": {},
   "outputs": [
    {
     "name": "stdout",
     "output_type": "stream",
     "text": [
      "Hello 34\n"
     ]
    }
   ],
   "source": [
    "greet(34)"
   ]
  },
  {
   "cell_type": "code",
   "execution_count": 68,
   "metadata": {},
   "outputs": [],
   "source": [
    "#if e define intger format identifier,it doesn't take strings\n",
    "def greet(num):\n",
    "    print('Hello %d'%num)"
   ]
  },
  {
   "cell_type": "code",
   "execution_count": 69,
   "metadata": {},
   "outputs": [
    {
     "name": "stdout",
     "output_type": "stream",
     "text": [
      "Hello 23\n"
     ]
    }
   ],
   "source": [
    "greet(23)"
   ]
  },
  {
   "cell_type": "code",
   "execution_count": 70,
   "metadata": {},
   "outputs": [
    {
     "ename": "TypeError",
     "evalue": "%d format: a number is required, not str",
     "output_type": "error",
     "traceback": [
      "\u001b[1;31m---------------------------------------------------------------------------\u001b[0m",
      "\u001b[1;31mTypeError\u001b[0m                                 Traceback (most recent call last)",
      "\u001b[1;32m<ipython-input-70-939bdc9be386>\u001b[0m in \u001b[0;36m<module>\u001b[1;34m\u001b[0m\n\u001b[1;32m----> 1\u001b[1;33m \u001b[0mgreet\u001b[0m\u001b[1;33m(\u001b[0m\u001b[1;34m'kamal'\u001b[0m\u001b[1;33m)\u001b[0m\u001b[1;33m\u001b[0m\u001b[1;33m\u001b[0m\u001b[0m\n\u001b[0m",
      "\u001b[1;32m<ipython-input-68-9b6af3a21af8>\u001b[0m in \u001b[0;36mgreet\u001b[1;34m(num)\u001b[0m\n\u001b[0;32m      1\u001b[0m \u001b[1;31m#if e define intger format identifier,it doesn't take strings\u001b[0m\u001b[1;33m\u001b[0m\u001b[1;33m\u001b[0m\u001b[1;33m\u001b[0m\u001b[0m\n\u001b[0;32m      2\u001b[0m \u001b[1;32mdef\u001b[0m \u001b[0mgreet\u001b[0m\u001b[1;33m(\u001b[0m\u001b[0mnum\u001b[0m\u001b[1;33m)\u001b[0m\u001b[1;33m:\u001b[0m\u001b[1;33m\u001b[0m\u001b[1;33m\u001b[0m\u001b[0m\n\u001b[1;32m----> 3\u001b[1;33m     \u001b[0mprint\u001b[0m\u001b[1;33m(\u001b[0m\u001b[1;34m'Hello %d'\u001b[0m\u001b[1;33m%\u001b[0m\u001b[0mnum\u001b[0m\u001b[1;33m)\u001b[0m\u001b[1;33m\u001b[0m\u001b[1;33m\u001b[0m\u001b[0m\n\u001b[0m",
      "\u001b[1;31mTypeError\u001b[0m: %d format: a number is required, not str"
     ]
    }
   ],
   "source": [
    "greet('kamal')"
   ]
  },
  {
   "cell_type": "markdown",
   "metadata": {},
   "source": [
    " "
   ]
  },
  {
   "cell_type": "markdown",
   "metadata": {},
   "source": [
    "## *Functions are first class objects*-- IMP Topic\n",
    "\n",
    "\n"
   ]
  },
  {
   "cell_type": "markdown",
   "metadata": {},
   "source": [
    "In python, everything is considered as object. So whenever we create a function an object of the function is created internally. As a result, we can easily pass that function as parameter to another function or we can return the function quite similiar to returning a function.\n",
    "\n",
    "Possibilities are: \n",
    "\n",
    "1. assigning function to a variable.\n",
    "2. defining one function inside other function.\n",
    "3. passing a function as parameter to another function.\n",
    "4. possible that a function is returned by another function."
   ]
  },
  {
   "cell_type": "markdown",
   "metadata": {},
   "source": [
    "#### CASE-01 :  Assigning function to a variable"
   ]
  },
  {
   "cell_type": "code",
   "execution_count": 2,
   "metadata": {},
   "outputs": [
    {
     "name": "stdout",
     "output_type": "stream",
     "text": [
      "4.6\n"
     ]
    }
   ],
   "source": [
    "def find_mean(lst):\n",
    "    sum=0\n",
    "    for i in lst:\n",
    "        sum+=i\n",
    "    return (sum/len(lst))\n",
    "lst=[3,5,7,2,6]\n",
    "mean=find_mean(lst)  #assigning function to variable mean\n",
    "print(mean)"
   ]
  },
  {
   "cell_type": "markdown",
   "metadata": {},
   "source": [
    "####  CASE-02 : Defining a fiunction inside another function\n",
    "\n",
    "Below we define message( ) function isnide desplay( ) which is called in the program"
   ]
  },
  {
   "cell_type": "code",
   "execution_count": 7,
   "metadata": {},
   "outputs": [
    {
     "name": "stdout",
     "output_type": "stream",
     "text": [
      "enter your name: 88\n"
     ]
    },
    {
     "ename": "AttributeError",
     "evalue": "'NoneType' object has no attribute 'message'",
     "output_type": "error",
     "traceback": [
      "\u001b[1;31m---------------------------------------------------------------------------\u001b[0m",
      "\u001b[1;31mAttributeError\u001b[0m                            Traceback (most recent call last)",
      "\u001b[1;32m<ipython-input-7-14ce21cea9da>\u001b[0m in \u001b[0;36m<module>\u001b[1;34m\u001b[0m\n\u001b[0;32m      6\u001b[0m \u001b[1;33m\u001b[0m\u001b[0m\n\u001b[0;32m      7\u001b[0m \u001b[0mname\u001b[0m\u001b[1;33m=\u001b[0m\u001b[0minput\u001b[0m\u001b[1;33m(\u001b[0m\u001b[1;34m'enter your name: '\u001b[0m\u001b[1;33m)\u001b[0m\u001b[1;33m\u001b[0m\u001b[1;33m\u001b[0m\u001b[0m\n\u001b[1;32m----> 8\u001b[1;33m \u001b[0mdisplay\u001b[0m\u001b[1;33m(\u001b[0m\u001b[0mname\u001b[0m\u001b[1;33m)\u001b[0m\u001b[1;33m.\u001b[0m\u001b[0mmessage\u001b[0m\u001b[1;33m(\u001b[0m\u001b[1;33m)\u001b[0m\u001b[1;33m\u001b[0m\u001b[1;33m\u001b[0m\u001b[0m\n\u001b[0m\u001b[0;32m      9\u001b[0m \u001b[1;31m#print(display(name))\u001b[0m\u001b[1;33m\u001b[0m\u001b[1;33m\u001b[0m\u001b[1;33m\u001b[0m\u001b[0m\n\u001b[0;32m     10\u001b[0m \u001b[1;33m\u001b[0m\u001b[0m\n",
      "\u001b[1;31mAttributeError\u001b[0m: 'NoneType' object has no attribute 'message'"
     ]
    }
   ],
   "source": [
    "def display(nm):\n",
    "    def message():\n",
    "        #message function body\n",
    "        return 'How are you doing??'\n",
    "    \n",
    "\n",
    "name=input('enter your name: ')\n",
    "message()\n",
    "#print(display(name))\n",
    "\n",
    "#we can see message is defined in display and outside display()it is not accessible."
   ]
  },
  {
   "cell_type": "code",
   "execution_count": 9,
   "metadata": {},
   "outputs": [
    {
     "ename": "AttributeError",
     "evalue": "'NoneType' object has no attribute 'message'",
     "output_type": "error",
     "traceback": [
      "\u001b[1;31m---------------------------------------------------------------------------\u001b[0m",
      "\u001b[1;31mAttributeError\u001b[0m                            Traceback (most recent call last)",
      "\u001b[1;32m<ipython-input-9-15d170f427d6>\u001b[0m in \u001b[0;36m<module>\u001b[1;34m\u001b[0m\n\u001b[1;32m----> 1\u001b[1;33m \u001b[0mdisplay\u001b[0m\u001b[1;33m(\u001b[0m\u001b[0mname\u001b[0m\u001b[1;33m)\u001b[0m\u001b[1;33m.\u001b[0m\u001b[0mmessage\u001b[0m\u001b[1;33m(\u001b[0m\u001b[1;33m)\u001b[0m\u001b[1;33m\u001b[0m\u001b[1;33m\u001b[0m\u001b[0m\n\u001b[0m",
      "\u001b[1;31mAttributeError\u001b[0m: 'NoneType' object has no attribute 'message'"
     ]
    }
   ],
   "source": [
    "display(name).message() #it cannot be called outside"
   ]
  },
  {
   "cell_type": "code",
   "execution_count": 11,
   "metadata": {},
   "outputs": [
    {
     "name": "stdout",
     "output_type": "stream",
     "text": [
      "enter your name: kamal\\\n",
      "How are you doing?? kamal\\\n"
     ]
    }
   ],
   "source": [
    "#hence meesage can only be called inside display function.\n",
    "\n",
    "def display(nm):\n",
    "    #bodyof display()\n",
    "    def message():\n",
    "        #message function body\n",
    "        return 'How are you doing?? '\n",
    "    greet=message()+nm   #messasge is defined and called inside display\n",
    "    return greet\n",
    "\n",
    "name=input('enter your name: ')\n",
    "print(display(name))  #display is called and if message() is called inside display() it also gets executed."
   ]
  },
  {
   "cell_type": "markdown",
   "metadata": {},
   "source": [
    "#### CASE-03: Passing a function as a paramter to another function\n",
    "\n",
    "we are passing message( ) function as a parameter and argument to display( ) function"
   ]
  },
  {
   "cell_type": "code",
   "execution_count": 13,
   "metadata": {},
   "outputs": [
    {
     "name": "stdout",
     "output_type": "stream",
     "text": [
      "hello How are you?\n"
     ]
    }
   ],
   "source": [
    "def display(fun_mes):\n",
    "    return 'hello '+fun_mes\n",
    "\n",
    "def message():    #here message is defined outside desplay,can be accessed globally\n",
    "    return 'How are you?'\n",
    "\n",
    "print( display ( message( ) ) ) \n",
    "\n",
    "#here first message() is called which returns the data to display as argument through which display is called and executed\n",
    "#and final output is generated.\n"
   ]
  },
  {
   "cell_type": "code",
   "execution_count": 15,
   "metadata": {},
   "outputs": [
    {
     "name": "stdout",
     "output_type": "stream",
     "text": [
      "Enter the stringGjhKW\n",
      "GJHKW\n"
     ]
    }
   ],
   "source": [
    "def uppercase(fun_ret):\n",
    "    return fun_ret.upper()\n",
    "def lowercase(string):\n",
    "    return string.lower()\n",
    "\n",
    "string=input('Enter the string')\n",
    "print(uppercase(lowercase(string)))"
   ]
  },
  {
   "cell_type": "markdown",
   "metadata": {},
   "source": [
    "#### CASE-04 : Function returning another function\n",
    "\n",
    "we are creating a message() function isnide display() and display function returns message( ) function. The returned message( ) is referenced by a variable fun_val"
   ]
  },
  {
   "cell_type": "code",
   "execution_count": 17,
   "metadata": {},
   "outputs": [
    {
     "name": "stdout",
     "output_type": "stream",
     "text": [
      "enter the name: kamal\n",
      "Heykamal\n"
     ]
    }
   ],
   "source": [
    "def display(nm):\n",
    "    def message():\n",
    "        return 'Hey'+nm\n",
    "    return message   #returning function message() from display()\n",
    "name=input('enter the name: ')\n",
    "#important part-key point\n",
    "\n",
    "fun_val=display(name) #returned message name is referenced by fun_val\n",
    "print(fun_val()) #we have call fun_val as function"
   ]
  },
  {
   "cell_type": "markdown",
   "metadata": {},
   "source": [
    " "
   ]
  },
  {
   "cell_type": "markdown",
   "metadata": {},
   "source": [
    "## *Passing Objects* -- IMP. Topic"
   ]
  },
  {
   "cell_type": "markdown",
   "metadata": {},
   "source": [
    "In languages like C and Java, a memory location is created with the variable name and the value is stored in that box. But in pyhton , object is considered as a memory block created in the heap memory for which a name( variable name ) is atteched to it.\n",
    "The variable name is a reference to that object through whichh the object is accessed.\n",
    "In laguages like java and C where passing values to function is done in two ways, Pass by value and pass by reference. \n",
    "> But in Pyhton, the values are sent to functions by means of object reference.\n",
    "\n",
    "#see below with example \n",
    "we are defining modify( ) function where in we are passing some object and see the value change\n"
   ]
  },
  {
   "cell_type": "code",
   "execution_count": 19,
   "metadata": {},
   "outputs": [
    {
     "name": "stdout",
     "output_type": "stream",
     "text": [
      "Before modify():  10 140706186109616\n",
      "Inside modify():  15 140706186109776\n",
      "after modify():  10 140706186109616\n"
     ]
    }
   ],
   "source": [
    "def modify(x):\n",
    "    x=15   #reassigning value to the variable\n",
    "    print('Inside modify(): ',x,id(x))\n",
    "\n",
    "x=10\n",
    "print('Before modify(): ',x,id(x))  #id() function is used for knowing object memory location\n",
    "modify(x)\n",
    "print('after modify(): ',x,id(x))"
   ]
  },
  {
   "cell_type": "code",
   "execution_count": 20,
   "metadata": {},
   "outputs": [
    {
     "name": "stdout",
     "output_type": "stream",
     "text": [
      "Before modify():  kamal 2971349772976\n",
      "Inside modify():  agam 2971349771632\n",
      "after modify():  kamal 2971349772976\n"
     ]
    }
   ],
   "source": [
    "#with string\n",
    "def modify(x):\n",
    "    x='agam'   #reassigning value to the variable\n",
    "    print('Inside modify(): ',x,id(x))\n",
    "\n",
    "x='kamal'\n",
    "print('Before modify(): ',x,id(x))  #id() function is used for knowing object memory location\n",
    "modify(x)\n",
    "print('after modify(): ',x,id(x))"
   ]
  },
  {
   "cell_type": "code",
   "execution_count": 21,
   "metadata": {},
   "outputs": [
    {
     "name": "stdout",
     "output_type": "stream",
     "text": [
      "Before modify():  (1, 2, 3, 4) 2971343158072\n",
      "Inside modify():  (4, 3, 2, 1) 2971343119928\n",
      "after modify():  (1, 2, 3, 4) 2971343158072\n"
     ]
    }
   ],
   "source": [
    "#with tuple\n",
    "def modify(x):\n",
    "    x=4,3,2,1   #reassigning value to the variable\n",
    "    print('Inside modify(): ',x,id(x))\n",
    "\n",
    "x=1,2,3,4\n",
    "print('Before modify(): ',x,id(x))  #id() function is used for knowing object memory location\n",
    "modify(x)\n",
    "print('after modify(): ',x,id(x))"
   ]
  },
  {
   "cell_type": "markdown",
   "metadata": {},
   "source": [
    "    above we observe that inside function the value is updated and a new memory location is observed signifies that a new object of 15 value is created in the heap. We should remember that we are passing object reference means the new object is referenced by 'x' but after coming out of function x again refers to 10.\n",
    "    \n",
    " > We observe that all the above datatypes didn't get changed and new objects are created at new memory location. As int, string, tuple are immutable object, we cannot pass those objects, we pass reference of those objects becomes local for that function and refers rto the object created  in heap memory, outside function refernce remains same.\n",
    " \n",
    "    But when we take the case of list and dictionaries, which are mutable data objects, in which if we make changes in their data, the same object gets modified and no new object is created."
   ]
  },
  {
   "cell_type": "code",
   "execution_count": 24,
   "metadata": {},
   "outputs": [
    {
     "name": "stdout",
     "output_type": "stream",
     "text": [
      "Before modify():  [1, 2, 3, 4] 2971348623944\n",
      "Inside modify():  [1, 2, 3, 4, 9] 2971348623944\n",
      "after modify():  [1, 2, 3, 4, 9] 2971348623944\n"
     ]
    }
   ],
   "source": [
    "#with list\n",
    "\n",
    "def modify(x):\n",
    "    x.append(9)   #reassigning value to the variable\n",
    "    print('Inside modify(): ',x,id(x))\n",
    "\n",
    "x=[1,2,3,4]\n",
    "print('Before modify(): ',x,id(x))  #id() function is used for knowing object memory location\n",
    "modify(x)\n",
    "print('after modify(): ',x,id(x))"
   ]
  },
  {
   "cell_type": "markdown",
   "metadata": {},
   "source": [
    "    Here above we observe we get same memory location on modifying the list object."
   ]
  },
  {
   "cell_type": "markdown",
   "metadata": {},
   "source": [
    "### FINAL NOTE: \n",
    "\n",
    ">In python values are passed to functions by object refrences. If the object is immutable, the modified value is not available outside of the function. But if the object is mutable, the modified version is avialble outside the function.\n",
    "\n",
    "> If we create a new object inside the function it will not be available outside the function.  ( #below )"
   ]
  },
  {
   "cell_type": "code",
   "execution_count": 27,
   "metadata": {},
   "outputs": [
    {
     "name": "stdout",
     "output_type": "stream",
     "text": [
      "New added list:  [10, 12, 13] 2971344157256\n",
      "outside function:  [1, 2, 3] 2971348591304\n"
     ]
    }
   ],
   "source": [
    "def modify(x):\n",
    "    x=[10,12,13]\n",
    "    print('New added list: ',x,id(x))\n",
    "x=[1,2,3]\n",
    "modify(x)\n",
    "print('outside function: ',x,id(x)) #new list is not available outside function in which it is defined."
   ]
  },
  {
   "cell_type": "markdown",
   "metadata": {},
   "source": [
    "## Fromal Argument and Actual Arguments\n",
    "\n",
    "The parametrs that recieves values from outside of the function are called  ' Formal Argumenrts '.\n",
    "\n",
    "When we call function,the values that are passed are called  ' Actual Arguments '\n",
    "\n",
    "Actual arguments are of 4 types: \n",
    "\n",
    "    1. Positional Arguments\n",
    "    2. Keyword Arguments\n",
    "    3. Default Arguments\n",
    "    4. Variable Length Arguments\n",
    "    \n",
    " \n",
    "#### 1.Positional Arguments\n",
    "> These are arguments passed to a function in correct positional order. Hence, number of arguments and their position in the func definition should match exactly with arguments in function call."
   ]
  },
  {
   "cell_type": "code",
   "execution_count": 29,
   "metadata": {},
   "outputs": [
    {
     "data": {
      "text/plain": [
       "'NewDelhi'"
      ]
     },
     "execution_count": 29,
     "metadata": {},
     "output_type": "execute_result"
    }
   ],
   "source": [
    "def con(s1,s2):\n",
    "    return s1+s2\n",
    "con('New','Delhi') \n",
    "#same number of formal and actual arguments"
   ]
  },
  {
   "cell_type": "code",
   "execution_count": 30,
   "metadata": {},
   "outputs": [
    {
     "ename": "TypeError",
     "evalue": "con() takes 2 positional arguments but 3 were given",
     "output_type": "error",
     "traceback": [
      "\u001b[1;31m---------------------------------------------------------------------------\u001b[0m",
      "\u001b[1;31mTypeError\u001b[0m                                 Traceback (most recent call last)",
      "\u001b[1;32m<ipython-input-30-bb35920ea147>\u001b[0m in \u001b[0;36m<module>\u001b[1;34m\u001b[0m\n\u001b[0;32m      1\u001b[0m \u001b[1;31m#if we change number of argumnts, it gives error\u001b[0m\u001b[1;33m\u001b[0m\u001b[1;33m\u001b[0m\u001b[1;33m\u001b[0m\u001b[0m\n\u001b[1;32m----> 2\u001b[1;33m \u001b[0mcon\u001b[0m\u001b[1;33m(\u001b[0m\u001b[1;34m'New'\u001b[0m\u001b[1;33m,\u001b[0m\u001b[1;34m'York'\u001b[0m\u001b[1;33m,\u001b[0m\u001b[1;34m'City'\u001b[0m\u001b[1;33m)\u001b[0m\u001b[1;33m\u001b[0m\u001b[1;33m\u001b[0m\u001b[0m\n\u001b[0m",
      "\u001b[1;31mTypeError\u001b[0m: con() takes 2 positional arguments but 3 were given"
     ]
    }
   ],
   "source": [
    "#if we change number of argumnts, it gives error\n",
    "con('New','York','City')"
   ]
  },
  {
   "cell_type": "code",
   "execution_count": 32,
   "metadata": {},
   "outputs": [
    {
     "ename": "TypeError",
     "evalue": "con() missing 1 required positional argument: 's3'",
     "output_type": "error",
     "traceback": [
      "\u001b[1;31m---------------------------------------------------------------------------\u001b[0m",
      "\u001b[1;31mTypeError\u001b[0m                                 Traceback (most recent call last)",
      "\u001b[1;32m<ipython-input-32-a8aa5ec4d0b7>\u001b[0m in \u001b[0;36m<module>\u001b[1;34m\u001b[0m\n\u001b[0;32m      1\u001b[0m \u001b[1;32mdef\u001b[0m \u001b[0mcon\u001b[0m\u001b[1;33m(\u001b[0m\u001b[0ms1\u001b[0m\u001b[1;33m,\u001b[0m\u001b[0ms2\u001b[0m\u001b[1;33m,\u001b[0m\u001b[0ms3\u001b[0m\u001b[1;33m)\u001b[0m\u001b[1;33m:\u001b[0m\u001b[1;33m\u001b[0m\u001b[1;33m\u001b[0m\u001b[0m\n\u001b[0;32m      2\u001b[0m     \u001b[1;32mreturn\u001b[0m \u001b[0ms1\u001b[0m\u001b[1;33m+\u001b[0m\u001b[0ms2\u001b[0m\u001b[1;33m+\u001b[0m\u001b[0ms3\u001b[0m\u001b[1;33m\u001b[0m\u001b[1;33m\u001b[0m\u001b[0m\n\u001b[1;32m----> 3\u001b[1;33m \u001b[0mcon\u001b[0m\u001b[1;33m(\u001b[0m\u001b[1;34m'New'\u001b[0m\u001b[1;33m,\u001b[0m\u001b[1;34m'Delhi'\u001b[0m\u001b[1;33m)\u001b[0m \u001b[1;31m# for s3 value missing, gives error\u001b[0m\u001b[1;33m\u001b[0m\u001b[1;33m\u001b[0m\u001b[0m\n\u001b[0m",
      "\u001b[1;31mTypeError\u001b[0m: con() missing 1 required positional argument: 's3'"
     ]
    }
   ],
   "source": [
    "def con(s1,s2,s3):\n",
    "    return s1+s2+s3\n",
    "con('New','Delhi') # for s3 value missing, gives error"
   ]
  },
  {
   "cell_type": "markdown",
   "metadata": {},
   "source": [
    "#### 2.Keyword Argument\n",
    ">Arguments that identify the parameters by their names, i.e. we give parameter names with their values while calling."
   ]
  },
  {
   "cell_type": "code",
   "execution_count": 40,
   "metadata": {},
   "outputs": [
    {
     "name": "stdout",
     "output_type": "stream",
     "text": [
      "OIL costs Rs. 110\n"
     ]
    }
   ],
   "source": [
    "def show(item,price):\n",
    "    print('{} costs Rs. {}'.format(item,price))\n",
    "show(item='OIL',price=110)  # parametrs are identified by their names"
   ]
  },
  {
   "cell_type": "code",
   "execution_count": 41,
   "metadata": {},
   "outputs": [
    {
     "name": "stdout",
     "output_type": "stream",
     "text": [
      "Jacket costs Rs. 9723\n"
     ]
    }
   ],
   "source": [
    " #we can change the order while calling\n",
    "    \n",
    "def show(item,price):\n",
    "    print('{} costs Rs. {}'.format(item,price))\n",
    "show(price=9723, item='Jacket') #order change, but it works on names on parameters"
   ]
  },
  {
   "cell_type": "markdown",
   "metadata": {},
   "source": [
    "#### 3. Default Arguments\n",
    "> It is an argument that assumes a defualt value if any value is not provided for that paramter while function call."
   ]
  },
  {
   "cell_type": "code",
   "execution_count": 43,
   "metadata": {},
   "outputs": [
    {
     "name": "stdout",
     "output_type": "stream",
     "text": [
      "45 costs Rs. 65.83\n"
     ]
    }
   ],
   "source": [
    "def show(item,price=65.83):   #here we mentioned default value\n",
    "    print('{} costs Rs. {}'.format(item,price))\n",
    "show(45)  #no argument, default value comes into action."
   ]
  },
  {
   "cell_type": "code",
   "execution_count": 44,
   "metadata": {},
   "outputs": [
    {
     "name": "stdout",
     "output_type": "stream",
     "text": [
      "OIL costs Rs. 89.33\n"
     ]
    }
   ],
   "source": [
    "#if we give argument,the default value is overridden\n",
    "show('OIL',89.33)"
   ]
  },
  {
   "cell_type": "markdown",
   "metadata": {},
   "source": [
    "#### 4. Variable Length Arguments\n",
    "\n",
    "These are the arguments that are used when programmere wants to enter n numebr of argument. the variable length argument is writtem with a ' * ' symbol before it in function definition.\n",
    "\n",
    "    def func_name( farg, *args): \n",
    "    \n",
    "where farg is the formal argumemnt and *args represents variable length argument.\n",
    "> We can pass 1 or more than value *args and it stores them all in tuple."
   ]
  },
  {
   "cell_type": "code",
   "execution_count": 49,
   "metadata": {},
   "outputs": [
    {
     "name": "stdout",
     "output_type": "stream",
     "text": [
      "formal argument:  2\n",
      "Variable Length argument: (3, 4, 5, 6, 7) <class 'tuple'>\n",
      "sum:  27\n"
     ]
    }
   ],
   "source": [
    "# adding any number of values\n",
    "\n",
    "def add(farg,*args):\n",
    "    sum=0\n",
    "    print('formal argument: ',farg)\n",
    "    print('Variable Length argument:',args,type(args))\n",
    "    for i in args:\n",
    "        sum+=i\n",
    "    return (sum+farg)\n",
    "\n",
    "print('sum: ',add(2,3,4,5,6,7))"
   ]
  },
  {
   "cell_type": "markdown",
   "metadata": {},
   "source": [
    "#### > keyword variable length argument\n",
    "> This is kind of argument which take any number of values in the format of key and values. to denote it we use ' **kwargs '\n",
    "    \n",
    "    def func_name(farg,**kwargs)\n",
    "    \n",
    "**kwargs is called keyword keyword argument and internally represents dictionary object.\n"
   ]
  },
  {
   "cell_type": "code",
   "execution_count": 50,
   "metadata": {},
   "outputs": [],
   "source": [
    "#  display(5, rno=10)\n",
    "\n",
    "#here farg=5 in kwargs, rno is 'key' and 10 is 'value' for that key"
   ]
  },
  {
   "cell_type": "code",
   "execution_count": 54,
   "metadata": {},
   "outputs": [
    {
     "name": "stdout",
     "output_type": "stream",
     "text": [
      "formal argument:  5\n",
      "elements of kwargs: \n",
      "<class 'dict'>\n",
      "key: rno \tvalue: 10 \n"
     ]
    }
   ],
   "source": [
    "def display(farg,**kwargs):\n",
    "    print('formal argument: ',farg)\n",
    "    print('elements of kwargs: ')\n",
    "    print(type(kwargs))\n",
    "    for k,v in kwargs.items():\n",
    "        print('key: {} \\tvalue: {} '.format(k,v))\n",
    "display(5,rno=10)\n"
   ]
  },
  {
   "cell_type": "code",
   "execution_count": 55,
   "metadata": {},
   "outputs": [
    {
     "name": "stdout",
     "output_type": "stream",
     "text": [
      "formal argument:  1\n",
      "elements of kwargs: \n",
      "<class 'dict'>\n",
      "key: rno \tvalue: 15 \n",
      "key: name \tvalue: akmal \n",
      "key: age \tvalue: 17 \n",
      "key: city \tvalue: karachi \n"
     ]
    }
   ],
   "source": [
    "display(1,rno=15,name='akmal',age=17,city='karachi')"
   ]
  },
  {
   "cell_type": "markdown",
   "metadata": {},
   "source": [
    "## Local and Global Variable\n",
    "\n",
    "Variable whene defined within a function is called Local Variable. Local variable has its scope withn that function only in which it is defined i.e. outside function it is not accesible. Once we come out of the function local variable is removed from the memory.\n"
   ]
  },
  {
   "cell_type": "code",
   "execution_count": 58,
   "metadata": {},
   "outputs": [
    {
     "name": "stdout",
     "output_type": "stream",
     "text": [
      "inside function:  10\n"
     ]
    },
    {
     "ename": "NameError",
     "evalue": "name 't' is not defined",
     "output_type": "error",
     "traceback": [
      "\u001b[1;31m---------------------------------------------------------------------------\u001b[0m",
      "\u001b[1;31mNameError\u001b[0m                                 Traceback (most recent call last)",
      "\u001b[1;32m<ipython-input-58-3733747330e1>\u001b[0m in \u001b[0;36m<module>\u001b[1;34m\u001b[0m\n\u001b[0;32m      3\u001b[0m     \u001b[0mprint\u001b[0m\u001b[1;33m(\u001b[0m\u001b[1;34m'inside function: '\u001b[0m\u001b[1;33m,\u001b[0m\u001b[0mt\u001b[0m\u001b[1;33m)\u001b[0m\u001b[1;33m\u001b[0m\u001b[1;33m\u001b[0m\u001b[0m\n\u001b[0;32m      4\u001b[0m \u001b[0mtest\u001b[0m\u001b[1;33m(\u001b[0m\u001b[1;33m)\u001b[0m\u001b[1;33m\u001b[0m\u001b[1;33m\u001b[0m\u001b[0m\n\u001b[1;32m----> 5\u001b[1;33m \u001b[0mprint\u001b[0m\u001b[1;33m(\u001b[0m\u001b[0mt\u001b[0m\u001b[1;33m)\u001b[0m \u001b[1;31m#outside we are getting wrror\u001b[0m\u001b[1;33m\u001b[0m\u001b[1;33m\u001b[0m\u001b[0m\n\u001b[0m",
      "\u001b[1;31mNameError\u001b[0m: name 't' is not defined"
     ]
    }
   ],
   "source": [
    "def test():\n",
    "    t=10\n",
    "    print('inside function: ',t)\n",
    "test()\n",
    "print(t) #outside we are getting error on accesing x"
   ]
  },
  {
   "cell_type": "markdown",
   "metadata": {},
   "source": [
    "when a variable is declared above a function,it becomes global. such variables are available for use to all the functions written aftr it and outside them."
   ]
  },
  {
   "cell_type": "code",
   "execution_count": 60,
   "metadata": {},
   "outputs": [
    {
     "name": "stdout",
     "output_type": "stream",
     "text": [
      "a=  25.7\n",
      "b=  2\n",
      "outside function: \n",
      "a=  25.7\n"
     ]
    },
    {
     "ename": "NameError",
     "evalue": "name 'b' is not defined",
     "output_type": "error",
     "traceback": [
      "\u001b[1;31m---------------------------------------------------------------------------\u001b[0m",
      "\u001b[1;31mNameError\u001b[0m                                 Traceback (most recent call last)",
      "\u001b[1;32m<ipython-input-60-ae21ed745d2d>\u001b[0m in \u001b[0;36m<module>\u001b[1;34m\u001b[0m\n\u001b[0;32m      7\u001b[0m \u001b[0mprint\u001b[0m\u001b[1;33m(\u001b[0m\u001b[1;34m'outside function: '\u001b[0m\u001b[1;33m)\u001b[0m\u001b[1;33m\u001b[0m\u001b[1;33m\u001b[0m\u001b[0m\n\u001b[0;32m      8\u001b[0m \u001b[0mprint\u001b[0m\u001b[1;33m(\u001b[0m\u001b[1;34m'a= '\u001b[0m\u001b[1;33m,\u001b[0m\u001b[0ma\u001b[0m\u001b[1;33m)\u001b[0m  \u001b[1;31m#available, as it is global\u001b[0m\u001b[1;33m\u001b[0m\u001b[1;33m\u001b[0m\u001b[0m\n\u001b[1;32m----> 9\u001b[1;33m \u001b[0mprint\u001b[0m\u001b[1;33m(\u001b[0m\u001b[1;34m'b= '\u001b[0m\u001b[1;33m,\u001b[0m\u001b[0mb\u001b[0m\u001b[1;33m)\u001b[0m  \u001b[1;31m#error, it was local for test()\u001b[0m\u001b[1;33m\u001b[0m\u001b[1;33m\u001b[0m\u001b[0m\n\u001b[0m",
      "\u001b[1;31mNameError\u001b[0m: name 'b' is not defined"
     ]
    }
   ],
   "source": [
    "a=25.7  #global variable\n",
    "def test():\n",
    "    b=2  # local variable\n",
    "    print('a= ',a)\n",
    "    print('b= ',b)\n",
    "test()\n",
    "print('outside function: ')\n",
    "print('a= ',a)  #available, as it is global\n",
    "print('b= ',b)  #error, it was local for test()"
   ]
  },
  {
   "cell_type": "markdown",
   "metadata": {},
   "source": [
    "### Global Keyword\n",
    "\n",
    "We face problems when global and local variable have same names."
   ]
  },
  {
   "cell_type": "code",
   "execution_count": 62,
   "metadata": {},
   "outputs": [
    {
     "name": "stdout",
     "output_type": "stream",
     "text": [
      "a=  2\n",
      "a=  1\n"
     ]
    }
   ],
   "source": [
    "a=1\n",
    "def test():\n",
    "    a=2   #local var a\n",
    "    print('a= ',a)  #diplays local a\n",
    "test()\n",
    "print('a= ',a) #displays global var"
   ]
  },
  {
   "cell_type": "markdown",
   "metadata": {},
   "source": [
    "> If gloabl and local variable has same name , then by default local variable is preferred over global and global variable is not accesiblem within function but is accessible outside of it.\n",
    "\n",
    "    But if we want use global function inside function we use 'global' keyword before the variable in the begining of the function"
   ]
  },
  {
   "cell_type": "code",
   "execution_count": 65,
   "metadata": {},
   "outputs": [
    {
     "name": "stdout",
     "output_type": "stream",
     "text": [
      "global a=  [1, 2, 3]\n",
      "modified a=  2\n",
      "outside function=  2\n"
     ]
    }
   ],
   "source": [
    "#accessing global variable inside a function\n",
    "\n",
    "a=1\n",
    "def test():\n",
    "    global a\n",
    "    #  x=global a  (not possible) \n",
    "    print('global a= ',x)\n",
    "    a=2 #updating the value\n",
    "    print('modified a= ',a)\n",
    "test()\n",
    "print('outside function= ',a)"
   ]
  },
  {
   "cell_type": "markdown",
   "metadata": {},
   "source": [
    "above we observe that after modifying in function, the global value of a changes n we get a=2 outside the function, also above we cannot work with global and local variable simultaneously. to solve this we use ' globals() ' function\n",
    "\n",
    "    globals() is a builtin function which returns a table of current global variable in the form of dictionary.Using this we refer tovalue of a as : globals()['a'] and this value is assigned to another variable, say x and we can easily work with taht value"
   ]
  },
  {
   "cell_type": "code",
   "execution_count": 2,
   "metadata": {},
   "outputs": [
    {
     "name": "stdout",
     "output_type": "stream",
     "text": [
      "global var(inside function):  1\n",
      "local var:  2\n",
      "global var(outside function):  1\n"
     ]
    }
   ],
   "source": [
    "#dealing with global and local variable simultanseously\n",
    "a=1\n",
    "def test():\n",
    "    x=globals()['a']\n",
    "    a=2\n",
    "    print('global var(inside function): ',x)\n",
    "    print('local var: ',a)\n",
    "test()\n",
    "print('global var(outside function): ',a)"
   ]
  },
  {
   "cell_type": "code",
   "execution_count": null,
   "metadata": {},
   "outputs": [],
   "source": []
  }
 ],
 "metadata": {
  "kernelspec": {
   "display_name": "Python 3",
   "language": "python",
   "name": "python3"
  },
  "language_info": {
   "codemirror_mode": {
    "name": "ipython",
    "version": 3
   },
   "file_extension": ".py",
   "mimetype": "text/x-python",
   "name": "python",
   "nbconvert_exporter": "python",
   "pygments_lexer": "ipython3",
   "version": "3.7.4"
  }
 },
 "nbformat": 4,
 "nbformat_minor": 2
}
