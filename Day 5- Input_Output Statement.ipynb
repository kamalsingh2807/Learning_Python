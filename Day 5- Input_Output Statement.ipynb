{
 "cells": [
  {
   "cell_type": "markdown",
   "metadata": {},
   "source": [
    "# Output Statement"
   ]
  },
  {
   "cell_type": "markdown",
   "metadata": {},
   "source": [
    "To display output on the screen we use output statements.\n",
    "\n",
    "Python provides print() function for printing output on the screen.\n"
   ]
  },
  {
   "cell_type": "markdown",
   "metadata": {},
   "source": [
    "### Blank print()"
   ]
  },
  {
   "cell_type": "code",
   "execution_count": 1,
   "metadata": {},
   "outputs": [
    {
     "name": "stdout",
     "output_type": "stream",
     "text": [
      "\n"
     ]
    }
   ],
   "source": [
    "#blank print()\n",
    "#also called as simply,throws cursor on the newn line.\n",
    "print() "
   ]
  },
  {
   "cell_type": "code",
   "execution_count": 2,
   "metadata": {},
   "outputs": [
    {
     "name": "stdout",
     "output_type": "stream",
     "text": [
      "\n",
      "None\n"
     ]
    }
   ],
   "source": [
    "#if we print the print() funcition it returns Nonetype object\n",
    "print(print())"
   ]
  },
  {
   "cell_type": "markdown",
   "metadata": {},
   "source": [
    "print() function always returns an object of NoneType"
   ]
  },
  {
   "cell_type": "code",
   "execution_count": 3,
   "metadata": {},
   "outputs": [
    {
     "name": "stdout",
     "output_type": "stream",
     "text": [
      "2\n",
      "None\n"
     ]
    }
   ],
   "source": [
    "print(print(2))"
   ]
  },
  {
   "cell_type": "code",
   "execution_count": 4,
   "metadata": {},
   "outputs": [
    {
     "name": "stdout",
     "output_type": "stream",
     "text": [
      "kamal\n",
      "None\n"
     ]
    }
   ],
   "source": [
    "print(print('kamal'))"
   ]
  },
  {
   "cell_type": "markdown",
   "metadata": {},
   "source": [
    "### print('string')"
   ]
  },
  {
   "cell_type": "markdown",
   "metadata": {},
   "source": [
    "any string passed to the print() function prints as it is on the console.\n"
   ]
  },
  {
   "cell_type": "code",
   "execution_count": 5,
   "metadata": {},
   "outputs": [
    {
     "name": "stdout",
     "output_type": "stream",
     "text": [
      "kamal\n"
     ]
    }
   ],
   "source": [
    "print('kamal')"
   ]
  },
  {
   "cell_type": "code",
   "execution_count": 6,
   "metadata": {},
   "outputs": [
    {
     "name": "stdout",
     "output_type": "stream",
     "text": [
      "hello\tKamal!\n"
     ]
    }
   ],
   "source": [
    "#putting escape characters\n",
    "print('hello\\tKamal!')"
   ]
  },
  {
   "cell_type": "markdown",
   "metadata": {},
   "source": [
    "We can also include escape characters in the string as"
   ]
  },
  {
   "cell_type": "code",
   "execution_count": 7,
   "metadata": {},
   "outputs": [
    {
     "name": "stdout",
     "output_type": "stream",
     "text": [
      "hello\\tkamal\n",
      "hello\\nkamal\n",
      "hello\\\\kamal\n"
     ]
    }
   ],
   "source": [
    "print(r'hello\\tkamal')\n",
    "print(r'hello\\nkamal')\n",
    "print(r'hello\\\\kamal')"
   ]
  },
  {
   "cell_type": "code",
   "execution_count": 8,
   "metadata": {},
   "outputs": [
    {
     "name": "stdout",
     "output_type": "stream",
     "text": [
      "hello\\tkamal\n",
      "hello\\nkamal\n",
      "hello\\kamal\n"
     ]
    }
   ],
   "source": [
    "#another way is to include backslash(\\)\n",
    "print('hello\\\\tkamal')\n",
    "print('hello\\\\nkamal')\n",
    "print('hello\\\\kamal')"
   ]
  },
  {
   "cell_type": "code",
   "execution_count": 9,
   "metadata": {},
   "outputs": [
    {
     "name": "stdout",
     "output_type": "stream",
     "text": [
      "hellohellohello\n"
     ]
    }
   ],
   "source": [
    "#using repition operator\n",
    "print(3*'hello')"
   ]
  },
  {
   "cell_type": "code",
   "execution_count": 10,
   "metadata": {},
   "outputs": [
    {
     "name": "stdout",
     "output_type": "stream",
     "text": [
      "hellokamal\n"
     ]
    }
   ],
   "source": [
    "#using addition operator\n",
    "print('hello'+'kamal') #concatenation of strings"
   ]
  },
  {
   "cell_type": "code",
   "execution_count": 11,
   "metadata": {},
   "outputs": [
    {
     "name": "stdout",
     "output_type": "stream",
     "text": [
      "City= Hyderabad\n"
     ]
    }
   ],
   "source": [
    "#using comma \n",
    "print(\"City=\",'Hyderabad') #comma puts a space"
   ]
  },
  {
   "cell_type": "markdown",
   "metadata": {},
   "source": [
    "### print('variable-list')"
   ]
  },
  {
   "cell_type": "code",
   "execution_count": 12,
   "metadata": {},
   "outputs": [],
   "source": [
    "a,b,c=2,7.6,'kamal'"
   ]
  },
  {
   "cell_type": "code",
   "execution_count": 13,
   "metadata": {},
   "outputs": [
    {
     "name": "stdout",
     "output_type": "stream",
     "text": [
      "2 7.6 kamal\n"
     ]
    }
   ],
   "source": [
    "print(a,b,c)"
   ]
  },
  {
   "cell_type": "markdown",
   "metadata": {},
   "source": [
    "#### use of 'sep' attribute\n",
    "\n",
    "By default values are seperated by space,but to sepearte variable with any other character we use 'sep'(sepeartor) attribute.It works with any number of characters.FORMAT:\n",
    "\n",
    ">print(variable-list,sep='characters')\n"
   ]
  },
  {
   "cell_type": "code",
   "execution_count": 14,
   "metadata": {},
   "outputs": [
    {
     "name": "stdout",
     "output_type": "stream",
     "text": [
      "27.6\n"
     ]
    }
   ],
   "source": [
    "print(a,b,sep='') #no space in between"
   ]
  },
  {
   "cell_type": "code",
   "execution_count": 15,
   "metadata": {},
   "outputs": [
    {
     "name": "stdout",
     "output_type": "stream",
     "text": [
      "2,7.6,kamal\n"
     ]
    }
   ],
   "source": [
    "print(a,b,c,sep=',')"
   ]
  },
  {
   "cell_type": "code",
   "execution_count": 16,
   "metadata": {},
   "outputs": [
    {
     "name": "stdout",
     "output_type": "stream",
     "text": [
      "2----7.6----kamal\n"
     ]
    }
   ],
   "source": [
    "print(a,b,c,sep='----')"
   ]
  },
  {
   "cell_type": "markdown",
   "metadata": {},
   "source": [
    "#### use of 'end' attribute\n",
    "\n",
    "To get multiple print() function output in one single line with specified charcters in between we use 'end'  attribute.FORMAT\n",
    "\n",
    "> print(content,end='characters')\\\n",
    "\n",
    "character represents ending character of the line.\n",
    "Anything we put inside end attribute is printed after each line.\n",
    "\n",
    "end attribute has '\\n' as its default value"
   ]
  },
  {
   "cell_type": "code",
   "execution_count": 17,
   "metadata": {},
   "outputs": [
    {
     "name": "stdout",
     "output_type": "stream",
     "text": [
      "hello\n",
      "Kamal\n",
      "How are you?\n"
     ]
    }
   ],
   "source": [
    "#without end attribute\n",
    "print('hello')\n",
    "print('Kamal')\n",
    "print('How are you?')"
   ]
  },
  {
   "cell_type": "code",
   "execution_count": 18,
   "metadata": {},
   "outputs": [
    {
     "name": "stdout",
     "output_type": "stream",
     "text": [
      "hellokamalhow are you?"
     ]
    }
   ],
   "source": [
    "#using end attribute\n",
    "print('hello',end='')\n",
    "print('kamal',end='')\n",
    "print('how are you?',end='')"
   ]
  },
  {
   "cell_type": "code",
   "execution_count": 19,
   "metadata": {},
   "outputs": [
    {
     "name": "stdout",
     "output_type": "stream",
     "text": [
      "hello**kamal**how are you?**\n",
      "hello**kamal**How are you?\n"
     ]
    }
   ],
   "source": [
    "print('hello',end='**')\n",
    "print('kamal',end='**')\n",
    "print('how are you?',end='**')\n",
    "\n",
    "print()\n",
    "\n",
    "#above code can be done as follows but we observe a difference::\n",
    "\n",
    "print('hello','kamal','How are you?',sep='**')"
   ]
  },
  {
   "cell_type": "markdown",
   "metadata": {},
   "source": [
    "### print(object)\n",
    "\n",
    "we can pass objects like lists,tuples,dictionaries or any other object to print() function elements in the object.\n",
    "\n",
    "elements of the objects like range,bytes,bytearray cannot be directly printed using print() function,they can be accessd only by using for loop"
   ]
  },
  {
   "cell_type": "code",
   "execution_count": 20,
   "metadata": {},
   "outputs": [
    {
     "name": "stdout",
     "output_type": "stream",
     "text": [
      "[1, 2.7, 'kamal']\n",
      "(1, 2.7, 'kamal')\n",
      "{1: 1, 2: 2.7, 3: 'kamal'}\n"
     ]
    }
   ],
   "source": [
    "l1=[1,2.7,'kamal'] #list\n",
    "t1=(1,2.7,'kamal') #tuple\n",
    "d1={1:1,2:2.7,3:'kamal'} #dictionary\n",
    "print(l1,t1,d1,sep='\\n')\n",
    "#accesing elements"
   ]
  },
  {
   "cell_type": "code",
   "execution_count": 21,
   "metadata": {},
   "outputs": [
    {
     "name": "stdout",
     "output_type": "stream",
     "text": [
      "range(0, 10)\n",
      "b'\\x00\\x00\\x00\\x00\\x00\\x00\\x00\\x00\\x00\\x00'\n",
      "bytearray(b'\\x00\\x00\\x00\\x00\\x00\\x00\\x00\\x00\\x00\\x00')\n"
     ]
    }
   ],
   "source": [
    "r=range(10) #range\n",
    "b=bytes(10) #bytes\n",
    "ba=bytearray(10) #bytearray\n",
    "print(r,b,ba,sep='\\n')\n",
    "#not able to  access elements"
   ]
  },
  {
   "cell_type": "markdown",
   "metadata": {},
   "source": [
    "### print('string',variable-list)\n",
    "\n",
    "using print() function to display strings and data in variables alongside\n"
   ]
  },
  {
   "cell_type": "code",
   "execution_count": 22,
   "metadata": {},
   "outputs": [
    {
     "name": "stdout",
     "output_type": "stream",
     "text": [
      "number= 5\n",
      "\n",
      "all the aove elements:   5  7.82  gwwggww  [1, 5.8, (2+3j)]\n"
     ]
    }
   ],
   "source": [
    "a,b,c,d=5,7.82,'gwwggww',[1,5.8,2+3j]\n",
    "print('number=',a)\n",
    "print()\n",
    "print('all the aove elements: ',a,b,c,d,sep='  ')"
   ]
  },
  {
   "cell_type": "markdown",
   "metadata": {},
   "source": [
    "### print(formatted string)\n",
    "\n",
    "Formatted output is displayed as per user's choice.A special character % (percent)  is used for the special purpose.\n",
    "\n",
    "It joins a string with a variable or a value. FORMAT:: \n",
    "\n",
    "> print(\"Formatted string\" % (variable-list))\n",
    "\n"
   ]
  },
  {
   "cell_type": "markdown",
   "metadata": {},
   "source": [
    "   Type specifier \n",
    "   \n",
    "       %i or %d= integer |  %f= float\n",
    "        %s= string  |  %c=charcter"
   ]
  },
  {
   "cell_type": "code",
   "execution_count": 23,
   "metadata": {},
   "outputs": [
    {
     "name": "stdout",
     "output_type": "stream",
     "text": [
      "number: 73837838\n",
      "number: 73837838\n"
     ]
    }
   ],
   "source": [
    "num1=73837838\n",
    "print('number: %i'%num1)\n",
    "print('number: %2i'%num1)"
   ]
  },
  {
   "cell_type": "code",
   "execution_count": null,
   "metadata": {},
   "outputs": [],
   "source": []
  },
  {
   "cell_type": "code",
   "execution_count": 24,
   "metadata": {},
   "outputs": [
    {
     "name": "stdout",
     "output_type": "stream",
     "text": [
      "x= 10 y=16.340000\n"
     ]
    }
   ],
   "source": [
    "x,y=10,16.34\n",
    "print('x= %i y=%f'%(x,y))"
   ]
  },
  {
   "cell_type": "code",
   "execution_count": 25,
   "metadata": {},
   "outputs": [
    {
     "name": "stdout",
     "output_type": "stream",
     "text": [
      "My name is kamal\n"
     ]
    }
   ],
   "source": [
    "name='kamal'\n",
    "print('My name is %s'%name)"
   ]
  },
  {
   "cell_type": "code",
   "execution_count": 26,
   "metadata": {},
   "outputs": [
    {
     "name": "stdout",
     "output_type": "stream",
     "text": [
      "HIi k a \n",
      "hii kam\n"
     ]
    }
   ],
   "source": [
    "#printing character\n",
    "print('HIi %c %c '%(name[0],name[1]))\n",
    "print('hii %s'%(name[0:3])) #printing sliced string"
   ]
  },
  {
   "cell_type": "code",
   "execution_count": 27,
   "metadata": {},
   "outputs": [
    {
     "name": "stdout",
     "output_type": "stream",
     "text": [
      "num= 1284.567890\n",
      "num=    1284.57\n"
     ]
    }
   ],
   "source": [
    "#dealing float\n",
    "\n",
    "num=1284.56789\n",
    "print(\"num= %f\"%num)\n",
    "\n",
    "print(\"num= %10.2f\"%num) \n",
    "#8 represents 8 blocks before decimal and 2 represents printing upto two digits after decimal"
   ]
  },
  {
   "cell_type": "markdown",
   "metadata": {},
   "source": [
    "We can also use replacement fields enclosed by pair of curly braces.\n",
    "\n",
    "We can mention names or indexes in replacement fields which represents order of the values.\n",
    "\n",
    "FORMAT: \n",
    "\n",
    "> print( 'formatted string with replacement fields' . format(values/variables))"
   ]
  },
  {
   "cell_type": "code",
   "execution_count": 28,
   "metadata": {},
   "outputs": [],
   "source": [
    "a,b,c,d=5,7.82,'gwwggww',[1,5.8,2+3j]\n",
    "n1,n2,n3=4,7,2"
   ]
  },
  {
   "cell_type": "code",
   "execution_count": 29,
   "metadata": {},
   "outputs": [
    {
     "name": "stdout",
     "output_type": "stream",
     "text": [
      "a=5 b=7.82 c=gwwggww d=[1, 5.8, (2+3j)]\n"
     ]
    }
   ],
   "source": [
    "print('a={0} b={1} c={2} d={3}'.format(a,b,c,d))"
   ]
  },
  {
   "cell_type": "code",
   "execution_count": 30,
   "metadata": {},
   "outputs": [
    {
     "name": "stdout",
     "output_type": "stream",
     "text": [
      "n1=4 n2=7 n3=2\n"
     ]
    }
   ],
   "source": [
    "# we if we do not give the indexes,compiler automatically considers it\n",
    "\n",
    "print('n1={} n2={} n3={}'.format(n1,n2,n3))"
   ]
  },
  {
   "cell_type": "code",
   "execution_count": 31,
   "metadata": {},
   "outputs": [
    {
     "name": "stdout",
     "output_type": "stream",
     "text": [
      "n1=2 n2=7 n3=4\n"
     ]
    }
   ],
   "source": [
    "#we can interchange the indesex to interchange values\n",
    "print('n1={2} n2={1} n3={0}'.format(n1,n2,n3)) "
   ]
  },
  {
   "cell_type": "code",
   "execution_count": 32,
   "metadata": {},
   "outputs": [
    {
     "name": "stdout",
     "output_type": "stream",
     "text": [
      "a=5 b=7.82 c=gwwggww d=[1, 5.8, (2+3j)]\n"
     ]
    }
   ],
   "source": [
    "# we can also provide a name to the values and can use it as indexes\n",
    "print('a={one} b={two} c={three} d={four}'.format(one=a,two=b,three=c,four=d))\n"
   ]
  },
  {
   "cell_type": "code",
   "execution_count": 33,
   "metadata": {},
   "outputs": [
    {
     "name": "stdout",
     "output_type": "stream",
     "text": [
      "Kamal has salary of 78000 with an experience of 5 years: \n"
     ]
    }
   ],
   "source": [
    "name,salary,exp='Kamal',78000,5\n",
    "print('{0} has salary of {1} with an experience of {2} years: '.format((name),salary,exp))"
   ]
  },
  {
   "cell_type": "code",
   "execution_count": 34,
   "metadata": {},
   "outputs": [
    {
     "name": "stdout",
     "output_type": "stream",
     "text": [
      "KamalKamalKamal has salary of 78000 with an experience of 5 years: \n"
     ]
    }
   ],
   "source": [
    "# we can use repition operator on the values\n",
    "name,salary,exp='Kamal',78000,5\n",
    "print('{0} has salary of {1} with an experience of {2} years: '.format((3*name),salary,exp))"
   ]
  },
  {
   "cell_type": "code",
   "execution_count": 35,
   "metadata": {},
   "outputs": [
    {
     "name": "stdout",
     "output_type": "stream",
     "text": [
      "Kamal has salary of 6084000000 with an experience of 5 years: \n"
     ]
    }
   ],
   "source": [
    "#we can aslo apply any arithematic opeartor on the value\n",
    "name,salary,exp='Kamal',78000,5\n",
    "print('{0} has salary of {1} with an experience of {2} years: '.format((name),(salary**2),exp))"
   ]
  },
  {
   "cell_type": "markdown",
   "metadata": {},
   "source": [
    " "
   ]
  },
  {
   "cell_type": "markdown",
   "metadata": {},
   "source": [
    " "
   ]
  },
  {
   "cell_type": "markdown",
   "metadata": {},
   "source": [
    "# Input Statememt"
   ]
  },
  {
   "cell_type": "markdown",
   "metadata": {},
   "source": [
    "Python provides input statement to take input from keyboard usinf input() function.\n",
    "\n",
    ">input() function takes value from the keyboard and returns it as string"
   ]
  },
  {
   "cell_type": "code",
   "execution_count": null,
   "metadata": {},
   "outputs": [],
   "source": [
    "str1=input()\n",
    "print(\"output: \",str1)"
   ]
  },
  {
   "cell_type": "code",
   "execution_count": null,
   "metadata": {},
   "outputs": [],
   "source": [
    "#taking input as a message: \n",
    "str1=input(\"Enter input: \")\n",
    "print(\"output: \",str1)"
   ]
  },
  {
   "cell_type": "code",
   "execution_count": null,
   "metadata": {},
   "outputs": [],
   "source": [
    "#taking integer input\n",
    "str1=input('Enter the number: ')\n",
    "x=int(str1) #typecasting\n",
    "print(\"number: \",x)\n",
    "\n",
    "#another way: \n",
    "x=int(input('enter Number: '))\n",
    "print('number: ',x)"
   ]
  },
  {
   "cell_type": "code",
   "execution_count": null,
   "metadata": {},
   "outputs": [],
   "source": [
    "#taking float input\n",
    "x=float(input(\"Enter the number: \"))\n",
    "print('number: ',x)"
   ]
  },
  {
   "cell_type": "code",
   "execution_count": 1,
   "metadata": {},
   "outputs": [
    {
     "name": "stdout",
     "output_type": "stream",
     "text": [
      "Enter the string: Kamal singh\n",
      "U entered:  Kamal singh\n"
     ]
    }
   ],
   "source": [
    "#taking string input\n",
    "str1=input(\"Enter the string: \")\n",
    "print(\"U entered: \",str1)"
   ]
  },
  {
   "cell_type": "code",
   "execution_count": 4,
   "metadata": {},
   "outputs": [
    {
     "name": "stdout",
     "output_type": "stream",
     "text": [
      "Enter the character: h\n",
      "U entered:  h\n",
      "Enter the character: abcd\n",
      "U entered:  c\n"
     ]
    }
   ],
   "source": [
    "#taking character input\n",
    "ch=input(\"Enter the character: \")\n",
    "print(\"U entered: \",ch)\n",
    "\n",
    "ch=input(\"Enter the character: \")\n",
    "print(\"U entered: \",ch[2])"
   ]
  },
  {
   "cell_type": "code",
   "execution_count": 8,
   "metadata": {},
   "outputs": [
    {
     "name": "stdout",
     "output_type": "stream",
     "text": [
      "Enter first number: 6\n",
      "Enter second number: 3\n",
      "U enterded: 6 3 \n",
      "sum:  9\n",
      "difference:  3\n",
      "multiply:  18\n",
      "division:  2.0\n",
      "exponential:  216\n"
     ]
    }
   ],
   "source": [
    "#accepting two numebers then opearting them\n",
    "\n",
    "x=int(input(\"Enter first number: \"))\n",
    "y=int(input(\"Enter second number: \"))\n",
    "print(\"U enterded: {} {} \".format(x,y))\n",
    "print(\"sum: \",(x+y))\n",
    "print(\"difference: \",(x-y))\n",
    "print(\"multiply: \",(x*y))\n",
    "print(\"division: \",(x/y))\n",
    "print(\"exponential: \",(x**y))"
   ]
  },
  {
   "cell_type": "markdown",
   "metadata": {},
   "source": [
    "####  >>IMPORTANT: \n",
    "\n",
    "To accept multiple inputs in the same line,we use afor loop along with input() function enclosed within [] square brackets which indicates that the input accepted as elements of list.\n",
    "\n",
    "inputs are taken as string divided wherever space is found by split method.strings are contained in a list which further converted into required datatype.FORMAT: \n",
    "\n",
    ">split() method take the character by which the inputs are splitted when taking input. By default it is ''. split() method by default splits values where a space is found."
   ]
  },
  {
   "cell_type": "code",
   "execution_count": 13,
   "metadata": {},
   "outputs": [
    {
     "name": "stdout",
     "output_type": "stream",
     "text": [
      "enter the integers: 1 2 3\n",
      "Sum:  14\n"
     ]
    }
   ],
   "source": [
    "#taking 3 space seperated integer values in a single line and adding them\n",
    "\n",
    "n1,n2,n3=[int(x)**2 for x in input(\"enter the integers: \").split()]\n",
    "print(\"Sum: \",(n1+n2+n3))\n"
   ]
  },
  {
   "cell_type": "code",
   "execution_count": 4,
   "metadata": {},
   "outputs": [
    {
     "name": "stdout",
     "output_type": "stream",
     "text": [
      "Enter the three names: kamal,shivam,anubhav\n",
      "['kamal', 'shivam', 'anubhav']\n",
      "3\n"
     ]
    }
   ],
   "source": [
    "#taking 3 comma seperated string elements and string them into a list\n",
    "\n",
    "lst=[x for x in input(\"Enter the three names: \").split(',')]\n",
    "print(lst)\n",
    "print(len(lst))"
   ]
  },
  {
   "cell_type": "markdown",
   "metadata": {},
   "source": [
    "#### eval() function\n",
    "\n",
    ">eval() function takes a string and evaluates the result of the string by taking it as a python expression.\n"
   ]
  },
  {
   "cell_type": "code",
   "execution_count": 9,
   "metadata": {},
   "outputs": [
    {
     "name": "stdout",
     "output_type": "stream",
     "text": [
      "11\n",
      "11.0\n",
      "(11+0j)\n"
     ]
    }
   ],
   "source": [
    "a,b=5,10\n",
    "result=eval('a+b-4')\n",
    "result_f=float(eval('a+b-4'))\n",
    "result_c=complex(eval('a+b-4'))\n",
    "print(result)\n",
    "print(result_f)\n",
    "print(result_c)"
   ]
  },
  {
   "cell_type": "code",
   "execution_count": 11,
   "metadata": {},
   "outputs": [
    {
     "name": "stdout",
     "output_type": "stream",
     "text": [
      "kamalkamalkamal\n"
     ]
    }
   ],
   "source": [
    "#eval() function on string\n",
    "string='kamal'\n",
    "result=eval('3*string')\n",
    "print(result)"
   ]
  },
  {
   "cell_type": "code",
   "execution_count": 18,
   "metadata": {},
   "outputs": [
    {
     "name": "stdout",
     "output_type": "stream",
     "text": [
      "Enter the list: [1,2,3,4]\n",
      "List:  [1, 2, 3, 4]\n",
      "<class 'list'>\n",
      "4\n"
     ]
    }
   ],
   "source": [
    "#combination of eval() and input() to accept list from keyboard: \n",
    "\n",
    "lst=eval(input(\"Enter the list: \"))\n",
    "print(\"List: \",lst)\n",
    "print(type(lst))\n",
    "print(len(lst))"
   ]
  },
  {
   "cell_type": "code",
   "execution_count": 20,
   "metadata": {},
   "outputs": [
    {
     "name": "stdout",
     "output_type": "stream",
     "text": [
      "Enter the list: 1,2,3,4\n",
      "List:  (1, 2, 3, 4)\n",
      "<class 'tuple'>\n",
      "4\n"
     ]
    }
   ],
   "source": [
    "# if we give inputs without square brackets it elements will be enclosed in a tuple \n",
    "\n",
    "\n",
    "lst=eval(input(\"Enter the list: \"))\n",
    "print(\"List: \",lst)\n",
    "print(type(lst))\n",
    "print(len(lst))\n"
   ]
  },
  {
   "cell_type": "code",
   "execution_count": null,
   "metadata": {},
   "outputs": [],
   "source": []
  }
 ],
 "metadata": {
  "kernelspec": {
   "display_name": "Python 3",
   "language": "python",
   "name": "python3"
  },
  "language_info": {
   "codemirror_mode": {
    "name": "ipython",
    "version": 3
   },
   "file_extension": ".py",
   "mimetype": "text/x-python",
   "name": "python",
   "nbconvert_exporter": "python",
   "pygments_lexer": "ipython3",
   "version": "3.7.4"
  }
 },
 "nbformat": 4,
 "nbformat_minor": 2
}
